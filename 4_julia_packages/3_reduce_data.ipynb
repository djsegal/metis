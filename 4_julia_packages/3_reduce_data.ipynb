{
 "cells": [
  {
   "cell_type": "code",
   "execution_count": 3,
   "metadata": {},
   "outputs": [],
   "source": [
    "from merge_packages import merge_packages\n",
    "\n",
    "import numpy as np\n",
    "import pandas as pd\n",
    "\n",
    "from tqdm.auto import tqdm\n",
    "from collections import OrderedDict\n",
    "\n",
    "import matplotlib.pyplot as plt\n",
    "from clean_text import clean_text\n"
   ]
  },
  {
   "cell_type": "code",
   "execution_count": 4,
   "metadata": {},
   "outputs": [],
   "source": [
    "cur_packages = merge_packages()\n"
   ]
  },
  {
   "cell_type": "code",
   "execution_count": 5,
   "metadata": {},
   "outputs": [],
   "source": [
    "def get_bad_packages(word_threshold=12):\n",
    "    bad_packages = []\n",
    "\n",
    "    for cur_package in cur_packages.name:\n",
    "        cur_readme = open(f\"tmp/text_readmes/{cur_package}.txt\").read()\n",
    "        \n",
    "        cur_split = clean_text(cur_readme).split()\n",
    "\n",
    "        if len(set(cur_split)) < word_threshold :\n",
    "            bad_packages.append(cur_package)\n",
    "            continue\n",
    "            \n",
    "    return bad_packages\n",
    "    "
   ]
  },
  {
   "cell_type": "code",
   "execution_count": 6,
   "metadata": {},
   "outputs": [
    {
     "data": {
      "application/vnd.jupyter.widget-view+json": {
       "model_id": "37df981d0453474d8258f974370ae569",
       "version_major": 2,
       "version_minor": 0
      },
      "text/plain": [
       "HBox(children=(IntProgress(value=0, max=40), HTML(value='')))"
      ]
     },
     "metadata": {},
     "output_type": "display_data"
    },
    {
     "name": "stdout",
     "output_type": "stream",
     "text": [
      "\n"
     ]
    }
   ],
   "source": [
    "bad_dict = OrderedDict()\n",
    "\n",
    "for cur_threshold in tqdm(range(40)):\n",
    "    bad_dict[cur_threshold] = get_bad_packages(cur_threshold)\n",
    "    "
   ]
  },
  {
   "cell_type": "code",
   "execution_count": 31,
   "metadata": {},
   "outputs": [
    {
     "data": {
      "text/plain": [
       "[<matplotlib.lines.Line2D at 0x123a35550>]"
      ]
     },
     "execution_count": 31,
     "metadata": {},
     "output_type": "execute_result"
    },
    {
     "data": {
      "image/png": "[encoded data removed]",
      "text/plain": [
       "<Figure size 576x432 with 1 Axes>"
      ]
     },
     "metadata": {
      "needs_background": "light"
     },
     "output_type": "display_data"
    }
   ],
   "source": [
    "cur_keys = []\n",
    "cur_values = []\n",
    "other_values = []\n",
    "\n",
    "plt.figure(figsize=(8,6))\n",
    "for cur_key, cur_value in bad_dict.items():\n",
    "    cur_keys.append(cur_key)\n",
    "    cur_values.append(len(cur_value))\n",
    "    \n",
    "    cur_count = 0\n",
    "    \n",
    "    tmp_packages = cur_packages[cur_packages.name.isin(cur_value) & (cur_packages.type == \"decibans\")]\n",
    "    other_values.append(len(tmp_packages))\n",
    "\n",
    "plt.scatter(cur_keys, 1 - np.array(cur_values) / len(cur_packages))\n",
    "plt.scatter(cur_keys, 1 - np.array(other_values) / len(cur_packages))\n",
    "plt.ylim(0.5,1.05)\n",
    "plt.grid(True)\n",
    "\n",
    "plt.xlabel(\"Min Words\")\n",
    "plt.ylabel(\"Document Fraction\")\n",
    "plt.title(\"Selecting Document Length\")\n",
    "plt.legend([\"All\", \"Julia.jl\"])\n",
    "plt.plot([15,15],[0,1.5],alpha=0.5,c=\"green\", linestyle=\"dashed\", linewidth=3)"
   ]
  },
  {
   "cell_type": "code",
   "execution_count": 8,
   "metadata": {},
   "outputs": [
    {
     "name": "stdout",
     "output_type": "stream",
     "text": [
      "12 [15.  9.]\n",
      "13 [15.  9.]\n",
      "14 [17. 10.]\n",
      "15 [18. 10.]\n",
      "16 [19. 10.]\n",
      "17 [20. 11.]\n",
      "18 [20. 11.]\n",
      "19 [21. 11.]\n"
     ]
    }
   ],
   "source": [
    "for ii in range(12, 20):\n",
    "    print(ii, np.round( 100 * np.array([cur_values[ii], other_values[ii]]) / len(cur_packages) ))\n"
   ]
  },
  {
   "cell_type": "code",
   "execution_count": 15,
   "metadata": {},
   "outputs": [],
   "source": [
    "used_threshold = 15\n"
   ]
  },
  {
   "cell_type": "code",
   "execution_count": 16,
   "metadata": {},
   "outputs": [],
   "source": [
    "sub_packages = cur_packages[~cur_packages.name.isin(bad_dict[used_threshold])].copy()\n"
   ]
  },
  {
   "cell_type": "code",
   "execution_count": 17,
   "metadata": {},
   "outputs": [],
   "source": [
    "sub_packages.to_pickle(\"./data/sub_packages.pkl\")\n"
   ]
  },
  {
   "cell_type": "code",
   "execution_count": 22,
   "metadata": {},
   "outputs": [],
   "source": [
    "for cur_package in sub_packages.name:\n",
    "    input_file = f\"tmp/text_readmes/{cur_package}.txt\"\n",
    "    output_file = f\"tmp/clean_readmes/{cur_package}.txt\"\n",
    "    \n",
    "    cur_readme = open(input_file).read()\n",
    "    \n",
    "    with open(output_file, \"w\") as cur_file:\n",
    "        cur_file.write(clean_text(cur_readme))\n"
   ]
  }
 ],
 "metadata": {
  "kernelspec": {
   "display_name": "Python 3",
   "language": "python",
   "name": "python3"
  },
  "language_info": {
   "codemirror_mode": {
    "name": "ipython",
    "version": 3
   },
   "file_extension": ".py",
   "mimetype": "text/x-python",
   "name": "python",
   "nbconvert_exporter": "python",
   "pygments_lexer": "ipython3",
   "version": "3.7.4"
  }
 },
 "nbformat": 4,
 "nbformat_minor": 2
}
