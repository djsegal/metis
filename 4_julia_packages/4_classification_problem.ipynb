{
 "cells": [
  {
   "cell_type": "code",
   "execution_count": 1,
   "metadata": {
    "scrolled": true
   },
   "outputs": [
    {
     "name": "stderr",
     "output_type": "stream",
     "text": [
      "Using TensorFlow backend.\n"
     ]
    }
   ],
   "source": [
    "from sklearn.feature_extraction.text import CountVectorizer, TfidfTransformer\n",
    "from sklearn.model_selection import train_test_split\n",
    "from sklearn.naive_bayes import MultinomialNB\n",
    "from sklearn import linear_model\n",
    "\n",
    "from clean_text import clean_text\n",
    "from custom_tokenizer import custom_tokenizer\n",
    "\n",
    "from make_decibans import make_decibans\n",
    "from make_barh import make_barh\n",
    "\n",
    "import pandas as pd\n",
    "import numpy as np\n",
    "\n",
    "import matplotlib.pyplot as plt\n",
    "\n",
    "from imblearn.pipeline import make_pipeline\n",
    "from imblearn.over_sampling import SMOTE, ADASYN\n",
    "\n",
    "from sklearn.ensemble import RandomForestClassifier\n"
   ]
  },
  {
   "cell_type": "code",
   "execution_count": 2,
   "metadata": {},
   "outputs": [],
   "source": [
    "sub_packages = pd.read_pickle(\"./data/sub_packages.pkl\")\n"
   ]
  },
  {
   "cell_type": "code",
   "execution_count": 3,
   "metadata": {},
   "outputs": [],
   "source": [
    "cur_decibans = make_decibans()\n",
    "\n",
    "cur_decibans.loc[cur_decibans.sub_category.str.lower() == \"math\", \"sub_category\"] = \"Mathematics\"\n",
    "\n",
    "cur_decibans = cur_decibans[cur_decibans.name.isin(sub_packages.name)]"
   ]
  },
  {
   "cell_type": "code",
   "execution_count": 4,
   "metadata": {},
   "outputs": [],
   "source": [
    "unique_names = cur_decibans.name.unique()\n",
    "\n",
    "cur_readme_data = pd.DataFrame(\n",
    "    index=unique_names,\n",
    "    data=list(map(lambda package_name: clean_text(open(f\"tmp/text_readmes/{package_name}.txt\").read()), unique_names)),\n",
    "    columns=[\"readme\"]\n",
    ")\n"
   ]
  },
  {
   "cell_type": "code",
   "execution_count": 5,
   "metadata": {},
   "outputs": [
    {
     "data": {
      "text/html": [
       "<div>\n",
       "<style scoped>\n",
       "    .dataframe tbody tr th:only-of-type {\n",
       "        vertical-align: middle;\n",
       "    }\n",
       "\n",
       "    .dataframe tbody tr th {\n",
       "        vertical-align: top;\n",
       "    }\n",
       "\n",
       "    .dataframe thead th {\n",
       "        text-align: right;\n",
       "    }\n",
       "</style>\n",
       "<table border=\"1\" class=\"dataframe\">\n",
       "  <thead>\n",
       "    <tr style=\"text-align: right;\">\n",
       "      <th></th>\n",
       "      <th>readme</th>\n",
       "    </tr>\n",
       "  </thead>\n",
       "  <tbody>\n",
       "    <tr>\n",
       "      <td>AAM</td>\n",
       "      <td>active appearance models port luca vezzaros ic...</td>\n",
       "    </tr>\n",
       "    <tr>\n",
       "      <td>ABCDistances</td>\n",
       "      <td>abcdistances pacakge contains approximate baye...</td>\n",
       "    </tr>\n",
       "    <tr>\n",
       "      <td>AbstractTensors</td>\n",
       "      <td>abstracttensors tensoralgebra abstract type in...</td>\n",
       "    </tr>\n",
       "    <tr>\n",
       "      <td>AbstractTrees</td>\n",
       "      <td>abstracttrees package provides utilities worki...</td>\n",
       "    </tr>\n",
       "    <tr>\n",
       "      <td>Accumulo</td>\n",
       "      <td>accumulo apache accumulo database based google...</td>\n",
       "    </tr>\n",
       "    <tr>\n",
       "      <td>...</td>\n",
       "      <td>...</td>\n",
       "    </tr>\n",
       "    <tr>\n",
       "      <td>Z3</td>\n",
       "      <td>julia interface high performance theorem prove...</td>\n",
       "    </tr>\n",
       "    <tr>\n",
       "      <td>ZChop</td>\n",
       "      <td>zchop replace small numbers zero linux osx win...</td>\n",
       "    </tr>\n",
       "    <tr>\n",
       "      <td>Zlib</td>\n",
       "      <td>zlib zlib bindings julia note library currentl...</td>\n",
       "    </tr>\n",
       "    <tr>\n",
       "      <td>ZMQ</td>\n",
       "      <td>zmq julia interface zeromq documentation build...</td>\n",
       "    </tr>\n",
       "    <tr>\n",
       "      <td>ZVSimulator</td>\n",
       "      <td>zvsimulator package provides framework assessi...</td>\n",
       "    </tr>\n",
       "  </tbody>\n",
       "</table>\n",
       "<p>1392 rows × 1 columns</p>\n",
       "</div>"
      ],
      "text/plain": [
       "                                                            readme\n",
       "AAM              active appearance models port luca vezzaros ic...\n",
       "ABCDistances     abcdistances pacakge contains approximate baye...\n",
       "AbstractTensors  abstracttensors tensoralgebra abstract type in...\n",
       "AbstractTrees    abstracttrees package provides utilities worki...\n",
       "Accumulo         accumulo apache accumulo database based google...\n",
       "...                                                            ...\n",
       "Z3               julia interface high performance theorem prove...\n",
       "ZChop            zchop replace small numbers zero linux osx win...\n",
       "Zlib             zlib zlib bindings julia note library currentl...\n",
       "ZMQ              zmq julia interface zeromq documentation build...\n",
       "ZVSimulator      zvsimulator package provides framework assessi...\n",
       "\n",
       "[1392 rows x 1 columns]"
      ]
     },
     "execution_count": 5,
     "metadata": {},
     "output_type": "execute_result"
    }
   ],
   "source": [
    "cur_readme_data"
   ]
  },
  {
   "cell_type": "code",
   "execution_count": 6,
   "metadata": {},
   "outputs": [],
   "source": [
    "def reset_target(package_threshold):\n",
    "    cur_decibans[\"target\"] = cur_decibans.category\n",
    "    \n",
    "    for cur_category, this_value in cur_decibans.category.value_counts().iteritems():\n",
    "        if this_value < package_threshold :\n",
    "            cur_decibans.loc[cur_decibans.category == cur_category, \"target\"] = \"\"\n",
    "            continue\n",
    "            \n",
    "        for cur_sub_category, that_value in cur_decibans.sub_category.value_counts().iteritems():\n",
    "            if that_value < package_threshold : continue\n",
    "            if this_value - that_value < package_threshold : continue\n",
    "                \n",
    "            this_value -= that_value\n",
    "            cur_decibans.loc[cur_decibans.sub_category == cur_sub_category, \"target\"] = cur_sub_category\n",
    "      \n",
    "    "
   ]
  },
  {
   "cell_type": "code",
   "execution_count": 7,
   "metadata": {},
   "outputs": [],
   "source": [
    "package_thresholds = list(range(50+1))\n",
    "target_counts = []\n",
    "found_counts = []\n",
    "\n",
    "for package_threshold in package_thresholds:\n",
    "    reset_target(package_threshold)\n",
    "    target_counts.append(len(set(cur_decibans[\"target\"])))\n",
    "    found_counts.append(np.sum(cur_decibans[\"target\"] != \"\"))\n",
    "    "
   ]
  },
  {
   "cell_type": "code",
   "execution_count": 8,
   "metadata": {},
   "outputs": [
    {
     "data": {
      "image/png": "[encoded data removed]",
      "text/plain": [
       "<Figure size 432x288 with 2 Axes>"
      ]
     },
     "metadata": {
      "needs_background": "light"
     },
     "output_type": "display_data"
    }
   ],
   "source": [
    "\n",
    "plt.subplot(2,1,1)\n",
    "plt.plot(package_thresholds,found_counts/found_counts[0])\n",
    "plt.grid(True)\n",
    "\n",
    "plt.subplot(2,1,2)\n",
    "plt.plot(package_thresholds,target_counts)\n",
    "# plt.yscale('log')\n",
    "# plt.ylim(1, 1000)\n",
    "plt.grid(True)\n"
   ]
  },
  {
   "cell_type": "code",
   "execution_count": 9,
   "metadata": {},
   "outputs": [
    {
     "name": "stdout",
     "output_type": "stream",
     "text": [
      "22\n"
     ]
    },
    {
     "data": {
      "text/plain": [
       "<matplotlib.axes._subplots.AxesSubplot at 0x124e91b90>"
      ]
     },
     "execution_count": 9,
     "metadata": {},
     "output_type": "execute_result"
    },
    {
     "data": {
      "image/png": "[encoded data removed]",
      "text/plain": [
       "<Figure size 432x288 with 1 Axes>"
      ]
     },
     "metadata": {
      "needs_background": "light"
     },
     "output_type": "display_data"
    }
   ],
   "source": [
    "chosen_threshold = 24\n",
    "print(target_counts[chosen_threshold])\n",
    "reset_target(chosen_threshold)\n",
    "\n",
    "make_barh(cur_decibans[\"target\"], 32)"
   ]
  },
  {
   "cell_type": "code",
   "execution_count": 10,
   "metadata": {},
   "outputs": [],
   "source": [
    "cur_decibans = cur_decibans[cur_decibans[\"target\"] != \"\"]"
   ]
  },
  {
   "cell_type": "code",
   "execution_count": 11,
   "metadata": {},
   "outputs": [
    {
     "data": {
      "text/html": [
       "<div>\n",
       "<style scoped>\n",
       "    .dataframe tbody tr th:only-of-type {\n",
       "        vertical-align: middle;\n",
       "    }\n",
       "\n",
       "    .dataframe tbody tr th {\n",
       "        vertical-align: top;\n",
       "    }\n",
       "\n",
       "    .dataframe thead th {\n",
       "        text-align: right;\n",
       "    }\n",
       "</style>\n",
       "<table border=\"1\" class=\"dataframe\">\n",
       "  <thead>\n",
       "    <tr style=\"text-align: right;\">\n",
       "      <th></th>\n",
       "      <th>name</th>\n",
       "      <th>url</th>\n",
       "      <th>category</th>\n",
       "      <th>sub_category</th>\n",
       "      <th>target</th>\n",
       "    </tr>\n",
       "  </thead>\n",
       "  <tbody>\n",
       "    <tr>\n",
       "      <td>0</td>\n",
       "      <td>AAM</td>\n",
       "      <td>https://github.com/dfdx/AAM.jl</td>\n",
       "      <td>Graphics</td>\n",
       "      <td>Graphics</td>\n",
       "      <td>Graphics</td>\n",
       "    </tr>\n",
       "    <tr>\n",
       "      <td>1</td>\n",
       "      <td>ABCDistances</td>\n",
       "      <td>https://github.com/dennisprangle/ABCDistances.jl</td>\n",
       "      <td>Statistics</td>\n",
       "      <td>Bayesian</td>\n",
       "      <td>Statistics</td>\n",
       "    </tr>\n",
       "    <tr>\n",
       "      <td>2</td>\n",
       "      <td>AbstractTensors</td>\n",
       "      <td>https://github.com/chakravala/AbstractTensors.jl</td>\n",
       "      <td>Mathematics</td>\n",
       "      <td>Geometry</td>\n",
       "      <td>Mathematics</td>\n",
       "    </tr>\n",
       "    <tr>\n",
       "      <td>3</td>\n",
       "      <td>AbstractTrees</td>\n",
       "      <td>https://github.com/Keno/AbstractTrees.jl</td>\n",
       "      <td>Mathematics</td>\n",
       "      <td>GraphTheory</td>\n",
       "      <td>GraphTheory</td>\n",
       "    </tr>\n",
       "    <tr>\n",
       "      <td>5</td>\n",
       "      <td>Accumulo</td>\n",
       "      <td>https://github.com/JuliaDB/Accumulo.jl</td>\n",
       "      <td>Database</td>\n",
       "      <td>Distributed</td>\n",
       "      <td>Database</td>\n",
       "    </tr>\n",
       "    <tr>\n",
       "      <td>...</td>\n",
       "      <td>...</td>\n",
       "      <td>...</td>\n",
       "      <td>...</td>\n",
       "      <td>...</td>\n",
       "      <td>...</td>\n",
       "    </tr>\n",
       "    <tr>\n",
       "      <td>1903</td>\n",
       "      <td>YT</td>\n",
       "      <td>https://github.com/jzuhone/YT.jl</td>\n",
       "      <td>Graphics</td>\n",
       "      <td>GraphicalPlotting</td>\n",
       "      <td>Graphics</td>\n",
       "    </tr>\n",
       "    <tr>\n",
       "      <td>1905</td>\n",
       "      <td>ZChop</td>\n",
       "      <td>https://github.com/jlapeyre/ZChop.jl</td>\n",
       "      <td>Mathematics</td>\n",
       "      <td>DISCRETEMATH</td>\n",
       "      <td>Mathematics</td>\n",
       "    </tr>\n",
       "    <tr>\n",
       "      <td>1908</td>\n",
       "      <td>Zlib</td>\n",
       "      <td>https://github.com/dcjones/Zlib.jl</td>\n",
       "      <td>Utilities</td>\n",
       "      <td>FileCompression</td>\n",
       "      <td>Utilities</td>\n",
       "    </tr>\n",
       "    <tr>\n",
       "      <td>1909</td>\n",
       "      <td>ZMQ</td>\n",
       "      <td>https://github.com/JuliaLang/ZMQ.jl</td>\n",
       "      <td>Server</td>\n",
       "      <td>Middleware</td>\n",
       "      <td>Server</td>\n",
       "    </tr>\n",
       "    <tr>\n",
       "      <td>1910</td>\n",
       "      <td>ZVSimulator</td>\n",
       "      <td>https://github.com/scidom/ZVSimulator.jl</td>\n",
       "      <td>Statistics</td>\n",
       "      <td>Finance</td>\n",
       "      <td>Statistics</td>\n",
       "    </tr>\n",
       "  </tbody>\n",
       "</table>\n",
       "<p>1400 rows × 5 columns</p>\n",
       "</div>"
      ],
      "text/plain": [
       "                 name                                               url  \\\n",
       "0                 AAM                    https://github.com/dfdx/AAM.jl   \n",
       "1        ABCDistances  https://github.com/dennisprangle/ABCDistances.jl   \n",
       "2     AbstractTensors  https://github.com/chakravala/AbstractTensors.jl   \n",
       "3       AbstractTrees          https://github.com/Keno/AbstractTrees.jl   \n",
       "5            Accumulo            https://github.com/JuliaDB/Accumulo.jl   \n",
       "...               ...                                               ...   \n",
       "1903               YT                  https://github.com/jzuhone/YT.jl   \n",
       "1905            ZChop              https://github.com/jlapeyre/ZChop.jl   \n",
       "1908             Zlib                https://github.com/dcjones/Zlib.jl   \n",
       "1909              ZMQ               https://github.com/JuliaLang/ZMQ.jl   \n",
       "1910      ZVSimulator          https://github.com/scidom/ZVSimulator.jl   \n",
       "\n",
       "         category       sub_category       target  \n",
       "0        Graphics           Graphics     Graphics  \n",
       "1      Statistics           Bayesian   Statistics  \n",
       "2     Mathematics           Geometry  Mathematics  \n",
       "3     Mathematics        GraphTheory  GraphTheory  \n",
       "5        Database        Distributed     Database  \n",
       "...           ...                ...          ...  \n",
       "1903     Graphics  GraphicalPlotting     Graphics  \n",
       "1905  Mathematics       DISCRETEMATH  Mathematics  \n",
       "1908    Utilities    FileCompression    Utilities  \n",
       "1909       Server         Middleware       Server  \n",
       "1910   Statistics            Finance   Statistics  \n",
       "\n",
       "[1400 rows x 5 columns]"
      ]
     },
     "execution_count": 11,
     "metadata": {},
     "output_type": "execute_result"
    }
   ],
   "source": [
    "cur_decibans"
   ]
  },
  {
   "cell_type": "code",
   "execution_count": 12,
   "metadata": {},
   "outputs": [],
   "source": [
    "from sklearn.svm import LinearSVC\n",
    "from sklearn.svm import SVC\n",
    "from sklearn.calibration import CalibratedClassifierCV\n",
    "from sklearn.linear_model import SGDClassifier\n",
    "from mlxtend.classifier import EnsembleVoteClassifier\n",
    "import xgboost as xgb\n"
   ]
  },
  {
   "cell_type": "code",
   "execution_count": 13,
   "metadata": {},
   "outputs": [],
   "source": [
    "\n",
    "cur_names = cur_decibans.name.reset_index(drop=True)\n",
    "y = cur_decibans[\"target\"].reset_index(drop=True)\n",
    "X = cur_readme_data.loc[cur_names][\"readme\"].reset_index(drop=True)\n",
    "\n",
    "X_train, X_test, y_train, y_test = train_test_split(X, y, test_size=0.2, stratify=y)\n"
   ]
  },
  {
   "cell_type": "code",
   "execution_count": 14,
   "metadata": {},
   "outputs": [
    {
     "name": "stderr",
     "output_type": "stream",
     "text": [
      "/usr/local/lib/python3.7/site-packages/sklearn/calibration.py:392: RuntimeWarning: invalid value encountered in true_divide\n",
      "  proba /= np.sum(proba, axis=1)[:, np.newaxis]\n",
      "/usr/local/lib/python3.7/site-packages/sklearn/calibration.py:392: RuntimeWarning: invalid value encountered in true_divide\n",
      "  proba /= np.sum(proba, axis=1)[:, np.newaxis]\n"
     ]
    },
    {
     "data": {
      "text/plain": [
       "0.55"
      ]
     },
     "execution_count": 14,
     "metadata": {},
     "output_type": "execute_result"
    }
   ],
   "source": [
    "cur_count_vectorizer = CountVectorizer(\n",
    "  strip_accents='unicode', \n",
    "  max_df=1/10, \n",
    "  min_df=2,\n",
    "  ngram_range=(1, 3),\n",
    "  tokenizer=custom_tokenizer,\n",
    "  max_features=2**14\n",
    ")\n",
    "\n",
    "cur_classifiers = [\n",
    "#     xgb.XGBClassifier(max_depth=7, n_estimators=200, colsample_bytree=0.8, nthread=-1),\n",
    "    CalibratedClassifierCV(base_estimator=SGDClassifier(loss='modified_huber'), cv=3, method='isotonic'),\n",
    "    MultinomialNB(fit_prior=False),\n",
    "    RandomForestClassifier(n_jobs=-1, n_estimators=1000)\n",
    "]\n",
    "\n",
    "cur_clfs = []\n",
    "\n",
    "for cur_classifier in cur_classifiers:\n",
    "    cur_clfs.append(cur_classifier)\n",
    "\n",
    "cur_ensemble = EnsembleVoteClassifier(clfs=cur_clfs, voting='soft')\n",
    "\n",
    "cur_steps = [\n",
    "    cur_count_vectorizer,\n",
    "    TfidfTransformer(),\n",
    "    ADASYN(),\n",
    "    cur_ensemble\n",
    "]\n",
    "\n",
    "cur_pipeline = make_pipeline(*cur_steps)\n",
    "\n",
    "cur_pipeline.fit(X_train, y_train)\n",
    "\n",
    "cur_pipeline.score(X_test, y_test)\n"
   ]
  },
  {
   "cell_type": "code",
   "execution_count": 15,
   "metadata": {
    "scrolled": false
   },
   "outputs": [
    {
     "name": "stderr",
     "output_type": "stream",
     "text": [
      "/usr/local/lib/python3.7/site-packages/sklearn/calibration.py:392: RuntimeWarning: invalid value encountered in true_divide\n",
      "  proba /= np.sum(proba, axis=1)[:, np.newaxis]\n",
      "/usr/local/lib/python3.7/site-packages/sklearn/calibration.py:392: RuntimeWarning: invalid value encountered in true_divide\n",
      "  proba /= np.sum(proba, axis=1)[:, np.newaxis]\n"
     ]
    },
    {
     "name": "stdout",
     "output_type": "stream",
     "text": [
      "DecisionTree  -  MACHINELEARNING  -  MACHINELEARNING\n",
      "ParallelAccelerator  -  Super-Computing  -  Super-Computing\n",
      "TimeModels  -  Statistics  -  Statistics\n",
      "SGEArrays  -  Super-Computing  -  Super-Computing\n",
      "Measurements  -  Physics  -  Mathematics\n",
      "Xpress  -  MathematicalOptimization  -  MathematicalOptimization\n",
      "FANN  -  AI  -  AI\n",
      "ASTInterpreter2  -  Programming-Paradigms  -  DesktopApplications\n",
      "GraphVisualize  -  Graphics  -  Graphics\n",
      "IntervalTrees  -  FileIO  -  Biology\n",
      "PlotlyJS  -  API  -  API\n",
      "IniFile  -  ['Utilities', 'FileIO']  -  Programming-Paradigms\n",
      "FunHPC  -  Super-Computing  -  Super-Computing\n",
      "JuMP  -  MathematicalOptimization  -  MathematicalOptimization\n",
      "Redis  -  Database  -  Database\n",
      "MLDatasets  -  MACHINELEARNING  -  MACHINELEARNING\n",
      "ParquetFiles  -  FileIO  -  FileIO\n",
      "Earth  -  Statistics  -  Statistics\n",
      "JointMoments  -  Statistics  -  Mathematics\n",
      "SparseVectors  -  Mathematics  -  Mathematics\n",
      "ScikitLearnBase  -  MACHINELEARNING  -  MACHINELEARNING\n",
      "Blink  -  Server  -  DesktopApplications\n",
      "Flow  -  Programming-Paradigms  -  GraphTheory\n",
      "VideoIO  -  ['Machines', 'Graphics']  -  FileIO\n",
      "LinearMaps  -  Mathematics  -  Mathematics\n",
      "Romeo  -  Server  -  Graphics\n",
      "Netpbm  -  FileIO  -  FileIO\n",
      "Octo  -  Database  -  Database\n",
      "RegERMs  -  ['MACHINELEARNING', 'Statistics']  -  MACHINELEARNING\n",
      "ChainedVectors  -  Super-Computing  -  FileIO\n",
      "HPAT  -  Super-Computing  -  Super-Computing\n",
      "VersionParsing  -  DevOps  -  FileIO\n",
      "SampledSignals  -  Machines  -  Machines\n",
      "Rotations  -  Earth-Science  -  MatrixTheory\n"
     ]
    }
   ],
   "source": [
    "for cur_index, cur_row, cur_yy in zip(X_test.index, cur_pipeline.predict_proba(X_test), y_test):\n",
    "    cur_indices = list(reversed(np.argsort(cur_row)))\n",
    "    \n",
    "    if cur_row[cur_indices[0]] + cur_row[cur_indices[1]] < 0.7 : continue\n",
    "    \n",
    "    if cur_row[cur_indices[0]] > 2 * cur_row[cur_indices[1]] :\n",
    "        print(cur_names.iloc[cur_index], \" - \", cur_pipeline.classes_[np.argmax(cur_row)] , \" - \", cur_yy)\n",
    "    else: \n",
    "        print(cur_names.iloc[cur_index], \" - \", [\n",
    "        cur_pipeline.classes_[cur_indices[0]], cur_pipeline.classes_[cur_indices[1]]\n",
    "        ] , \" - \", cur_yy)\n",
    "#     if cur_row[]\n",
    "#     print(, cur_row[cur_indices[0]], cur_row[cur_indices[1]])\n",
    "#     if np.max(cur_row) < 1/2 : continue"
   ]
  },
  {
   "cell_type": "code",
   "execution_count": null,
   "metadata": {},
   "outputs": [],
   "source": []
  },
  {
   "cell_type": "code",
   "execution_count": null,
   "metadata": {},
   "outputs": [],
   "source": []
  }
 ],
 "metadata": {
  "kernelspec": {
   "display_name": "Python 3",
   "language": "python",
   "name": "python3"
  },
  "language_info": {
   "codemirror_mode": {
    "name": "ipython",
    "version": 3
   },
   "file_extension": ".py",
   "mimetype": "text/x-python",
   "name": "python",
   "nbconvert_exporter": "python",
   "pygments_lexer": "ipython3",
   "version": "3.7.4"
  }
 },
 "nbformat": 4,
 "nbformat_minor": 2
}
