{
 "cells": [
  {
   "cell_type": "code",
   "execution_count": 251,
   "metadata": {},
   "outputs": [
    {
     "data": {
      "text/plain": [
       "<module 'geolocate' from '/Users/dan/code/metis_projects/1_airbnb_pricing/geolocate.py'>"
      ]
     },
     "execution_count": 251,
     "metadata": {},
     "output_type": "execute_result"
    }
   ],
   "source": [
    "import pandas as pd\n",
    "from ast import literal_eval\n",
    "import numpy as np\n",
    "import re\n",
    "\n",
    "import geolocate\n",
    "\n",
    "from importlib import reload\n",
    "reload(geolocate)"
   ]
  },
  {
   "cell_type": "code",
   "execution_count": 177,
   "metadata": {},
   "outputs": [],
   "source": [
    "bodega_data = pd.read_csv(\"./data/bodegas.csv\")\n",
    "\n",
    "bodega_data.columns = bodega_data.columns.str.replace(\" \", \"_\").str.lower().str.strip()\n",
    "\n",
    "bodega_data.city = bodega_data.city.str.replace(\"#\",\"\").str.lower().str.strip()\n",
    "\n",
    "bodega_data.drop(columns=[\n",
    "    \"square_footage\", \"county\", \"state\",\n",
    "    \"license_number\", \"counties\", \"new_york_zip_codes\",\n",
    "    \"address_line_2\", \"address_line_3\"\n",
    "], inplace=True)\n"
   ]
  },
  {
   "cell_type": "code",
   "execution_count": 178,
   "metadata": {},
   "outputs": [],
   "source": [
    "bodega_data.loc[bodega_data.city == \"brookyln\", \"city\"] = \"brooklyn\"\n",
    "bodega_data.loc[bodega_data.city == \"new york\", \"city\"] = \"manhattan\"\n",
    "bodega_data.loc[bodega_data.city == \"new york city\", \"city\"] = \"manhattan\"\n",
    "\n",
    "bodega_data = bodega_data[\n",
    "    ( bodega_data.city == \"brooklyn\") | \n",
    "    ( bodega_data.city == \"manhattan\" )\n",
    "]\n"
   ]
  },
  {
   "cell_type": "code",
   "execution_count": 179,
   "metadata": {},
   "outputs": [
    {
     "data": {
      "text/plain": [
       "29"
      ]
     },
     "execution_count": 179,
     "metadata": {},
     "output_type": "execute_result"
    }
   ],
   "source": [
    "len(bodega_data[bodega_data.location.isnull()])\n"
   ]
  },
  {
   "cell_type": "code",
   "execution_count": 180,
   "metadata": {},
   "outputs": [
    {
     "data": {
      "text/plain": [
       "0"
      ]
     },
     "execution_count": 180,
     "metadata": {},
     "output_type": "execute_result"
    }
   ],
   "source": [
    "bodega_data.dropna(subset=[\"location\"], inplace = True)\n",
    "len(bodega_data[bodega_data.location.isnull()])\n"
   ]
  },
  {
   "cell_type": "code",
   "execution_count": 229,
   "metadata": {},
   "outputs": [
    {
     "data": {
      "text/plain": [
       "nan"
      ]
     },
     "execution_count": 229,
     "metadata": {},
     "output_type": "execute_result"
    }
   ],
   "source": [
    "np.nan"
   ]
  },
  {
   "cell_type": "code",
   "execution_count": 231,
   "metadata": {},
   "outputs": [
    {
     "data": {
      "text/plain": [
       "False"
      ]
     },
     "execution_count": 231,
     "metadata": {},
     "output_type": "execute_result"
    }
   ],
   "source": [
    "np.isnan(1)"
   ]
  },
  {
   "cell_type": "code",
   "execution_count": 300,
   "metadata": {},
   "outputs": [],
   "source": [
    "work_latitudes = []\n",
    "work_longitudes = []\n",
    "\n",
    "work_addresses = []\n",
    "\n",
    "for cur_row in bodega_data.itertuples():\n",
    "    work_dict = literal_eval(cur_row.location)\n",
    "    \n",
    "    work_latitude = np.nan\n",
    "    work_longitude = np.nan\n",
    "    \n",
    "    if \"latitude\" in work_dict and \"longitude\" in work_dict:\n",
    "        work_latitude = float(work_dict[\"latitude\"])\n",
    "        work_longitude = float(work_dict[\"longitude\"])\n",
    "        \n",
    "    if not ( np.isnan(work_latitude) or np.isnan(work_longitude) ):\n",
    "        work_latitudes.append(work_latitude)\n",
    "        work_longitudes.append(work_longitude)\n",
    "        continue\n",
    "    \n",
    "    work_latitudes.append( np.nan )\n",
    "    work_longitudes.append( np.nan )\n",
    "\n",
    "    work_address = f\"{cur_row.street_number} {cur_row.street_name} {cur_row.city}, new york {cur_row.zip_code}\"\n",
    "    work_address = re.sub(r'\\s+', \" \", work_address.strip()).title()\n",
    "\n",
    "    work_addresses.append(work_address)\n",
    "        "
   ]
  },
  {
   "cell_type": "code",
   "execution_count": 264,
   "metadata": {
    "scrolled": false
   },
   "outputs": [
    {
     "name": "stdout",
     "output_type": "stream",
     "text": [
      "geocoded: 1201 Ave U Brooklyn, New York 11229 (bing - 0.6s)\n",
      "geocoded: 4209 Avenue D Brooklyn, New York 11203 (openmapquest - 0.5s)\n",
      "geocoded: 3043 Avenue V Brooklyn, New York 11229 (nominatim - 0.7s)\n",
      "geocoded: 7818 New Utrecht Brooklyn, New York 11214 (bing - 0.5s)\n",
      "geocoded: 105-04 Flatlands Ave Brooklyn, New York 11236 (nominatim - 0.8s)\n",
      "geocoded: 1237 Avenue U Brooklyn, New York 11229 (nominatim - 0.7s)\n",
      "geocoded: 104-04 Flatlands Ave Brooklyn, New York 11236 (nominatim - 0.8s)\n",
      "geocoded: 2972 Avenue X Brooklyn, New York 11235 (nominatim - 0.8s)\n",
      "geocoded: 730 Avenue U Brooklyn, New York 11223 (nominatim - 0.7s)\n",
      "geocoded: 4624 Avenue D Brooklyn, New York 11203 (openmapquest - 0.3s)\n",
      "geocoded: 1066 Rutland Rd Store Frt 1 Brooklyn, New York 11212 (arcgis - 0.5s)\n",
      "geocoded: 357 Avenue X Brooklyn, New York 11223 (openmapquest - 0.5s)\n",
      "geocoded: 4513 Ave D Brooklyn, New York 11203 (arcgis - 0.4s)\n",
      "geocoded: 1624 Avenue M Brooklyn, New York 11230 (openmapquest - 0.9s)\n",
      "geocoded: 195-197 Havermeyer Brooklyn, New York 11211 (bing - 0.5s)\n",
      "geocoded: 104 Ross St (End Of Rodney St) Brooklyn, New York 11249 (bing - 0.5s)\n",
      "geocoded: 4902 Avenue D Brooklyn, New York 11203 (arcgis - 0.4s)\n",
      "geocoded: 77-15 13Th Ave Brooklyn, New York 11228 (bing - 0.5s)\n",
      "geocoded: 1310 Avenue J Brooklyn, New York 11230 (bing - 0.5s)\n",
      "geocoded: 108-04 Flatlands Ave Brooklyn, New York 11236 (nominatim - 0.8s)\n",
      "geocoded: 1817 Ave M Brooklyn, New York 11230 (openmapquest - 0.9s)\n",
      "geocoded: 67 35St Unit 5-1C Brooklyn, New York 11232 (bing - 0.6s)\n",
      "geocoded: 4206 Avenue D Brooklyn, New York 11203 (openmapquest - 0.3s)\n",
      "geocoded: 93-12 Avenue L Brooklyn, New York 11236 (bing - 0.5s)\n",
      "geocoded: 1781-1783 Broadway Brooklyn, New York 11207 (nominatim - 0.8s)\n",
      "geocoded: 5215 Avenue D Brooklyn, New York 11203 (arcgis - 0.4s)\n",
      "geocoded: 4013 Avenue T Brooklyn, New York 11234 (arcgis - 1.2s)\n",
      "geocoded: 2815 Avenue U Brooklyn, New York 11229 (nominatim - 0.7s)\n",
      "geocoded: 1504 Avenue J Brooklyn, New York 11230 (bing - 0.5s)\n",
      "geocoded: 320 Avenue U Brooklyn, New York 11223 (bing - 0.5s)\n",
      "geocoded: 4602 Avenue D Brooklyn, New York 11203 (arcgis - 0.4s)\n",
      "geocoded: 4202 Avenue D Brooklyn, New York 11203 (arcgis - 0.4s)\n",
      "geocoded: 4323 Avenue D Brooklyn, New York 11203 (bing - 0.5s)\n",
      "geocoded: 1202 Avenue Z Brooklyn, New York 11235 (openmapquest - 0.4s)\n",
      "geocoded: 5215 Avenue D Brooklyn, New York 11203 (bing - 0.5s)\n",
      "geocoded: 104-24 Flatlands Ave Brooklyn, New York 11236 (openmapquest - 0.8s)\n",
      "geocoded: 111-10 Flatlands Ave Brooklyn, New York 11207 (openmapquest - 0.3s)\n",
      "geocoded: 935-941 E 107Th St Brooklyn, New York 11236 (bing - 0.5s)\n",
      "geocoded: 204 Avenue U Brooklyn, New York 11223 (bing - 0.5s)\n",
      "geocoded: 1205 Avenue M Brooklyn, New York 11230 (arcgis - 0.4s)\n",
      "geocoded: 247 Avenue X Brooklyn, New York 11223 (nominatim - 0.7s)\n",
      "geocoded: 175 Ste 324 Van Dyke Brooklyn, New York 11231 (arcgis - 0.4s)\n",
      "geocoded: 2950 Avenue U Brooklyn, New York 11229 (arcgis - 1.2s)\n",
      "geocoded: 65-01 Bay Pkwy Grd 1B Brooklyn, New York 11204 (bing - 0.5s)\n",
      "geocoded: 2611 Avenue U Brooklyn, New York 11229 (bing - 0.5s)\n",
      "geocoded: 442 Marcus Blvd Brooklyn, New York 11216 (bing - 0.5s)\n",
      "geocoded: 7614-16 17Th Ave Brooklyn, New York 11214 (openmapquest - 0.6s)\n",
      "geocoded: 1614 Avenue H Brooklyn, New York 11230 (openmapquest - 0.6s)\n",
      "geocoded: 111-20 Flatlands Ave Brooklyn, New York 11207 (openmapquest - 0.6s)\n",
      "geocoded: 104-01 Glenwood Road Brooklyn, New York 11236 (openmapquest - 0.9s)\n",
      "geocoded: 111-24 Flatlands Ave Brooklyn, New York 11207 (arcgis - 0.4s)\n",
      "geocoded: 1906 Avenue M Brooklyn, New York 11230 (nominatim - 0.7s)\n",
      "geocoded: 1301 Avenue U Brooklyn, New York 11229 (openmapquest - 0.7s)\n",
      "geocoded: 2105-2107 Avenue Z Brooklyn, New York 11235 (arcgis - 0.4s)\n",
      "geocoded: 100-06 4Th Ave Brooklyn, New York 11209 (openmapquest - 0.8s)\n",
      "geocoded: 2818 Ave U Brooklyn, New York 11229 (nominatim - 0.7s)\n",
      "geocoded: 4107 Avenue D Brooklyn, New York 11203 (arcgis - 0.4s)\n",
      "geocoded: 805 Avenue U Brooklyn, New York 11223 (arcgis - 0.4s)\n",
      "geocoded: 1252 Avenue U Brooklyn, New York 11229 (nominatim - 0.7s)\n",
      "geocoded: 1507 Avenue U Brooklyn, New York 11229 (bing - 0.5s)\n",
      "geocoded: 1920 Avenue M Brooklyn, New York 11230 (openmapquest - 0.8s)\n",
      "geocoded: 1321 Avenue J Brooklyn, New York 11230 (bing - 0.5s)\n",
      "geocoded: 315 Avenue M Brooklyn, New York 11230 (arcgis - 0.4s)\n",
      "geocoded: 723 Avenue U Brooklyn, New York 11223 (openmapquest - 0.7s)\n",
      "geocoded: 1510 Sheepshead Bay Brooklyn, New York 11235 (openmapquest - 0.4s)\n",
      "geocoded: 1606 Avenue H Brooklyn, New York 11230 (nominatim - 0.7s)\n",
      "geocoded: 7813-7817 15Th Ave Brooklyn, New York 11228 (openmapquest - 0.5s)\n",
      "geocoded: 1323B Ave U Brooklyn, New York 11229 (nominatim - 2.5s)\n",
      "geocoded: 1720 Avenue M Brooklyn, New York 11230 (nominatim - 0.7s)\n",
      "geocoded: 2518 Avenue U Brooklyn, New York 11229 (openmapquest - 0.3s)\n",
      "geocoded: 181 St Nicholas Ave Brooklyn, New York 11237 (nominatim - 0.7s)\n",
      "geocoded: 30 Avenue O Brooklyn, New York 11204 (openmapquest - 0.8s)\n",
      "geocoded: 17 Avenue F Brooklyn, New York 11218 (arcgis - 0.4s)\n",
      "geocoded: 211 Avenue U Brooklyn, New York 11223 (openmapquest - 0.3s)\n",
      "geocoded: 80 58Th St Unit 303 Brooklyn, New York 11220 (arcgis - 0.4s)\n",
      "geocoded: 34 35Th St 6Th Avenue Brooklyn, New York 11232 (arcgis - 0.5s)\n",
      "geocoded: 424 Avenue M Brooklyn, New York 11230 (bing - 0.5s)\n",
      "geocoded: 57-24 8Th Ave Brooklyn, New York 11220 (bing - 0.5s)\n",
      "geocoded: 1710 Avenue Y Brooklyn, New York 11235 (bing - 0.5s)\n",
      "geocoded: 27-41 Pitkin Ave Brooklyn, New York 11208 (nominatim - 0.7s)\n",
      "geocoded: 104-21-23 Glenwood Rd Brooklyn, New York 11236 (bing - 0.5s)\n",
      "geocoded: 1710 Avenue Y Brooklyn, New York 11235 (nominatim - 0.7s)\n",
      "geocoded: 1214 Avenue U Brooklyn, New York 11229 (nominatim - 0.7s)\n",
      "geocoded: 445 Gold St Brooklyn, New York 11201 (nominatim - 0.7s)\n",
      "geocoded: 1322 Ave M Brooklyn, New York 11230 (nominatim - 0.7s)\n",
      "geocoded: 2307 Avenue U Brooklyn, New York 11229 (bing - 0.5s)\n",
      "geocoded: 80 58Th Street Brooklyn, New York 11220 (bing - 0.5s)\n",
      "geocoded: 119 Avenue U Brooklyn, New York 11223 (arcgis - 0.4s)\n",
      "geocoded: 445 Gold St Suite C-020 Brooklyn, New York 11201 (arcgis - 0.4s)\n",
      "geocoded: 1201 Avenue U Brooklyn, New York 11229 (openmapquest - 0.6s)\n",
      "geocoded: 4 Metrotehc Cntr Brooklyn, New York 11201 (arcgis - 0.4s)\n",
      "geocoded: 383-385 Avenue X Brooklyn, New York 11223 (arcgis - 0.4s)\n",
      "geocoded: 315 Avenue M Brooklyn, New York 11230 (openmapquest - 0.3s)\n",
      "geocoded: 4104 Avenue D Brooklyn, New York 11203 (nominatim - 0.7s)\n",
      "geocoded: 781 St Nicholas Ave Manhattan, New York 10031 (openmapquest - 0.8s)\n",
      "geocoded: 1081 St Nicholas Ave Manhattan, New York 10032 (arcgis - 0.4s)\n",
      "geocoded: 2185 Adam Cl Pow Jr Blvd Manhattan, New York 10027 (arcgis - 0.5s)\n",
      "geocoded: 2594 Adam Clyton Powell Blvd Manhattan, New York 10039 (arcgis - 1.0s)\n",
      "geocoded: 1196 Ave Of The Americas Bsm Manhattan, New York 10036 (bing - 0.5s)\n",
      "geocoded: 1251 Avenue Of The Americas Manhattan, New York 10020 (arcgis - 0.5s)\n",
      "geocoded: 741 St Nicholas Ave Manhattan, New York 10031 (bing - 0.5s)\n",
      "geocoded: 2143 Adam Clayton Powell Jr Manhattan, New York 10027 (bing - 0.5s)\n",
      "geocoded: 159-03 Harlem River Dr Manhattan, New York 10039 (arcgis - 0.4s)\n",
      "geocoded: 2069 E 86Th St Manhattan, New York 10028 (nominatim - 0.7s)\n",
      "geocoded: 240 Murray St Manhattan, New York 10282 (arcgis - 0.4s)\n",
      "geocoded: 32 Avenue B Manhattan, New York 10009 (openmapquest - 0.4s)\n",
      "geocoded: 4261-9 Broadway Manhattan, New York 10033 (bing - 0.5s)\n",
      "geocoded: 1331 St Nicholas Ave Manhattan, New York 10033 (openmapquest - 0.6s)\n",
      "geocoded: 110 Green Street Ground Floor # Manhattan, New York 10012 (arcgis - 0.4s)\n",
      "geocoded: 11 Times Square Ground Floor West Manhattan, New York 10036 (arcgis - 1.0s)\n",
      "geocoded: 1017 Avenue Of The Americas Manhattan, New York 10018 (arcgis - 1.0s)\n",
      "geocoded: 645 W 184 St Wadsworth Ave Manhattan, New York 10033 (bing - 0.9s)\n",
      "geocoded: 58 Carmine St/37A Bedford St Manhattan, New York 10014 (bing - 0.5s)\n",
      "geocoded: 20 Old Broadway Manhattan, New York 10027 (arcgis - 0.4s)\n",
      "geocoded: 71-75 Avenue D Manhattan, New York 10009 (nominatim - 0.7s)\n",
      "geocoded: 4918-26 Broadway Manhattan, New York 10034 (bing - 0.5s)\n",
      "geocoded: 578-580 3Rd Ave @ 38Th St # Manhattan, New York 10016 (arcgis - 0.4s)\n",
      "geocoded: 966 1St Ave At 53Rd St Manhattan, New York 10022 (bing - 0.5s)\n"
     ]
    },
    {
     "name": "stdout",
     "output_type": "stream",
     "text": [
      "geocoded: 498 Ave Of The Americas Manhattan, New York 10011 (arcgis - 0.5s)\n",
      "geocoded: 600-602 W 207Th St Manhattan, New York 10034 (openmapquest - 0.4s)\n",
      "geocoded: 1370 Avenue Of The Americas Manhattan, New York 10019 (bing - 0.7s)\n",
      "geocoded: 2520-2526 Broadway Manhattan, New York 10025 (arcgis - 0.4s)\n",
      "geocoded: 2 Penn Plz Manhattan, New York 10119 (arcgis - 0.4s)\n",
      "geocoded: 2760-62 Broadway Manhattan, New York 10025 (bing - 0.5s)\n",
      "geocoded: 125-133 3Rd Ave Manhattan, New York 10003 (openmapquest - 0.3s)\n",
      "geocoded: 1251 Avenue Of The Americans Manhattan, New York 10020 (bing - 0.5s)\n",
      "geocoded: 250 W 57Th St Manhattan, New York 10019 (bing - 0.5s)\n",
      "geocoded: 1052-1056 1St Ave Manhattan, New York 10022 (openmapquest - 0.3s)\n",
      "geocoded: 1627-1629 Broadway Manhattan, New York 10019 (bing - 0.5s)\n",
      "geocoded: 4 World Trade Center Manhattan, New York 10007 (nominatim - 0.7s)\n",
      "geocoded: 1321 St Nicholas Ave Manhattan, New York 10033 (nominatim - 0.7s)\n",
      "geocoded: 10 Hudson Sq /160 Varick Street Manhattan, New York 10013 (bing - 0.5s)\n",
      "geocoded: 41 St Nicholas Terr Manhattan, New York 10027 (bing - 0.5s)\n",
      "geocoded: 2516 Adam C Powell Blvd Manhattan, New York 10039 (bing - 0.5s)\n",
      "geocoded: 32 Old Slip Manhattan, New York 10005 (nominatim - 0.7s)\n",
      "geocoded: 218 1St Ave & 13Th St Manhattan, New York 10009 (arcgis - 0.5s)\n",
      "geocoded: 10 Columbus Circle Sta Suite 101# Manhattan, New York 10019 (arcgis - 0.4s)\n",
      "geocoded: 52 W 50Th St/30 Rock Plaza Manhattan, New York 10020 (arcgis - 0.7s)\n",
      "geocoded: 4415-4417 Broadway Manhattan, New York 10040 (arcgis - 0.4s)\n",
      "geocoded: 1245 Park Ave Manhattan, New York 10128 (bing - 0.5s)\n",
      "geocoded: 4037 Broadway 170Th St Manhattan, New York 10032 (arcgis - 0.6s)\n",
      "geocoded: 500 Columbus Ave 84Th St Manhattan, New York 10024 (arcgis - 0.4s)\n",
      "geocoded: 355 1St Ave/20Th St Manhattan, New York 10010 (bing - 0.8s)\n",
      "geocoded: 2610 Fdr Dr&Waterside Manhattan, New York 10010 (arcgis - 0.4s)\n",
      "geocoded: 1644 York Ave Manhattan, New York 10128 (arcgis - 1.2s)\n",
      "geocoded: 3 Sheridan Sq W 4Th St Manhattan, New York 10014 (bing - 0.5s)\n",
      "geocoded: 3890-3896 Broadway #3A Manhattan, New York 10032 (arcgis - 0.4s)\n",
      "geocoded: 21 St Mark Pl Manhattan, New York 10003 (bing - 0.5s)\n",
      "geocoded: 4740-44 Broadway Manhattan, New York 10040 (bing - 0.9s)\n",
      "geocoded: 5Th Ave & 53Rd St Downtown P Manhattan, New York 10022 (arcgis - 0.5s)\n",
      "geocoded: 1091 St Nicholas Ave Manhattan, New York 10032 (arcgis - 1.1s)\n",
      "geocoded: 596 Jx 99 Cents Nyc Inc Manhattan, New York 10037 (bing - 0.5s)\n",
      "geocoded: 250 W 34Th St Manhattan, New York 10119 (openmapquest - 0.8s)\n",
      "geocoded: 439 Malcolm X Blvd/Lenox Ave Manhattan, New York 10037 (bing - 0.5s)\n",
      "geocoded: 324 Grand Central, Stall#24 # Manhattan, New York 10017 (bing - 0.5s)\n",
      "geocoded: 2322 Acp Jr Blvd Manhattan, New York 10030 (bing - 0.5s)\n",
      "geocoded: 200 Vesey St Manhattan, New York 10285 (bing - 0.5s)\n",
      "geocoded: 101 E 125Th & 1818 Park Ave Manhattan, New York 10035 (arcgis - 0.4s)\n",
      "geocoded: 2449 Adam Clayton Blvd Manhattan, New York 10030 (bing - 0.5s)\n",
      "geocoded: 1391 St Nicholas Ave Manhattan, New York 10033 (arcgis - 0.4s)\n",
      "geocoded: 129 Ave D Manhattan, New York 10009 (arcgis - 1.1s)\n",
      "geocoded: 1000 S 8Th Avenue, Suite 24 Manhattan, New York 10019 (arcgis - 0.5s)\n",
      "geocoded: 159-08 Harlem River Dr Manhattan, New York 10039 (bing - 0.5s)\n",
      "geocoded: 14 St Union Sq Green Market Manhattan, New York 10003 (arcgis - 0.6s)\n",
      "geocoded: 3903-3905 Broadway Manhattan, New York 10032 (bing - 0.5s)\n",
      "geocoded: 765 Avenue Of The Americas Manhattan, New York 10010 (nominatim - 0.7s)\n",
      "geocoded: 610-614 11Th Avenue Manhattan, New York 10036 (bing - 0.5s)\n",
      "geocoded: 1245 Park Ave Manhattan, New York 10128 (arcgis - 0.4s)\n",
      "geocoded: 140 W 57St (In Morton Williams) Manhattan, New York 10019 (bing - 0.5s)\n",
      "geocoded: 1290 Lexington Ave Manhattan, New York 10028 (arcgis - 0.4s)\n",
      "geocoded: 1000 8Th Ave Manhattan, New York 10019 (arcgis - 0.4s)\n",
      "geocoded: 1311 St Nicholas Ave Manhattan, New York 10033 (openmapquest - 0.4s)\n",
      "geocoded: 4067 1/2 Broadway Manhattan, New York 10032 (bing - 0.5s)\n",
      "geocoded: 1000 S 8Th Ave Kiosk A1 C/ Manhattan, New York 10019 (bing - 0.8s)\n",
      "geocoded: 94 Street Manhattan, New York 10025 (nominatim - 0.7s)\n",
      "geocoded: 1225 Broadway 30Th St Manhattan, New York 10001 (bing - 0.5s)\n"
     ]
    }
   ],
   "source": [
    "fixed_latitudes = []\n",
    "fixed_longitudes = []\n",
    "\n",
    "for work_address in work_addresses:\n",
    "    fixed_latitude, fixed_longitude = geolocate.gc(work_address)\n",
    "    \n",
    "    fixed_latitudes.append(fixed_latitude)\n",
    "    fixed_longitudes.append(fixed_longitude)\n"
   ]
  },
  {
   "cell_type": "code",
   "execution_count": 320,
   "metadata": {},
   "outputs": [],
   "source": [
    "nan_latitudes = list(np.where(np.isnan(work_latitudes))[0])\n",
    "nan_longitudes = list(np.where(np.isnan(work_longitudes))[0])\n",
    "\n",
    "assert nan_latitudes == nan_longitudes\n",
    "\n",
    "assert len(nan_latitudes) == len(work_addresses)\n",
    "assert len(nan_longitudes) == len(work_addresses)\n",
    "\n",
    "assert len(fixed_latitudes) == len(work_addresses)\n",
    "assert len(fixed_longitudes) == len(work_addresses)\n",
    "\n",
    "for fixed_index, nan_index in enumerate(nan_latitudes):\n",
    "    work_latitudes[nan_index] = fixed_latitudes[fixed_index]\n",
    "    work_longitudes[nan_index] = fixed_longitudes[fixed_index]\n"
   ]
  },
  {
   "cell_type": "code",
   "execution_count": 337,
   "metadata": {},
   "outputs": [],
   "source": [
    "bodega_data[\"latitude\"] = work_latitudes\n",
    "bodega_data[\"longitude\"] = work_longitudes\n",
    "\n",
    "bodega_data.entity_name = bodega_data.entity_name.str.title()\n",
    "bodega_data.city = bodega_data.city.str.title()\n",
    "\n",
    "bodega_data.sort_values(by=[\"city\", \"entity_name\"], inplace=True)\n",
    "\n",
    "bodega_data.drop(columns=[\n",
    "    \"location\", \"street_number\", \"street_name\", \"zip_code\", \"dba_name\", \"operation_type\"\n",
    "], inplace=True)\n"
   ]
  },
  {
   "cell_type": "code",
   "execution_count": 367,
   "metadata": {},
   "outputs": [],
   "source": [
    "bodega_data = bodega_data[bodega_data.latitude > 40]\n",
    "bodega_data = bodega_data[bodega_data.latitude < 40.9]\n"
   ]
  },
  {
   "cell_type": "code",
   "execution_count": 364,
   "metadata": {},
   "outputs": [],
   "source": [
    "import matplotlib.pyplot as plt"
   ]
  },
  {
   "cell_type": "code",
   "execution_count": 366,
   "metadata": {},
   "outputs": [
    {
     "data": {
      "text/html": [
       "<div>\n",
       "<style scoped>\n",
       "    .dataframe tbody tr th:only-of-type {\n",
       "        vertical-align: middle;\n",
       "    }\n",
       "\n",
       "    .dataframe tbody tr th {\n",
       "        vertical-align: top;\n",
       "    }\n",
       "\n",
       "    .dataframe thead th {\n",
       "        text-align: right;\n",
       "    }\n",
       "</style>\n",
       "<table border=\"1\" class=\"dataframe\">\n",
       "  <thead>\n",
       "    <tr style=\"text-align: right;\">\n",
       "      <th></th>\n",
       "      <th>establishment_type</th>\n",
       "      <th>entity_name</th>\n",
       "      <th>city</th>\n",
       "      <th>latitude</th>\n",
       "      <th>longitude</th>\n",
       "    </tr>\n",
       "  </thead>\n",
       "  <tbody>\n",
       "    <tr>\n",
       "      <td>15069</td>\n",
       "      <td>JAC</td>\n",
       "      <td>Zuniga Luis Enrique&amp;Suquinagua Ca</td>\n",
       "      <td>Manhattan</td>\n",
       "      <td>40.908252</td>\n",
       "      <td>-73.848811</td>\n",
       "    </tr>\n",
       "  </tbody>\n",
       "</table>\n",
       "</div>"
      ],
      "text/plain": [
       "      establishment_type                        entity_name       city  \\\n",
       "15069             JAC     Zuniga Luis Enrique&Suquinagua Ca  Manhattan   \n",
       "\n",
       "        latitude  longitude  \n",
       "15069  40.908252 -73.848811  "
      ]
     },
     "execution_count": 366,
     "metadata": {},
     "output_type": "execute_result"
    }
   ],
   "source": [
    "bodega_data[bodega_data.latitude > 40.9]"
   ]
  },
  {
   "cell_type": "code",
   "execution_count": 368,
   "metadata": {},
   "outputs": [
    {
     "data": {
      "text/plain": [
       "<matplotlib.collections.PathCollection at 0x126f4c450>"
      ]
     },
     "execution_count": 368,
     "metadata": {},
     "output_type": "execute_result"
    },
    {
     "data": {
      "image/png": "[encoded data removed]",
      "text/plain": [
       "<Figure size 432x288 with 1 Axes>"
      ]
     },
     "metadata": {
      "needs_background": "light"
     },
     "output_type": "display_data"
    }
   ],
   "source": [
    "plt.scatter(bodega_data.longitude, bodega_data.latitude)"
   ]
  },
  {
   "cell_type": "code",
   "execution_count": 371,
   "metadata": {},
   "outputs": [
    {
     "data": {
      "text/plain": [
       "7806"
      ]
     },
     "execution_count": 371,
     "metadata": {},
     "output_type": "execute_result"
    }
   ],
   "source": [
    "len(bodega_data)"
   ]
  },
  {
   "cell_type": "code",
   "execution_count": 372,
   "metadata": {},
   "outputs": [],
   "source": [
    "bodega_data.to_pickle(\"./data/pickles/bodega_data.pkl\")\n"
   ]
  },
  {
   "cell_type": "code",
   "execution_count": null,
   "metadata": {},
   "outputs": [],
   "source": []
  }
 ],
 "metadata": {
  "kernelspec": {
   "display_name": "Python 3",
   "language": "python",
   "name": "python3"
  },
  "language_info": {
   "codemirror_mode": {
    "name": "ipython",
    "version": 3
   },
   "file_extension": ".py",
   "mimetype": "text/x-python",
   "name": "python",
   "nbconvert_exporter": "python",
   "pygments_lexer": "ipython3",
   "version": "3.7.4"
  }
 },
 "nbformat": 4,
 "nbformat_minor": 2
}
