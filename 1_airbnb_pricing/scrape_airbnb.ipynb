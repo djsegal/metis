{
 "cells": [
  {
   "cell_type": "markdown",
   "metadata": {},
   "source": [
    "## Airbnb Scraper\n",
    "Author: Dan Segal ([@djsegal](https://github.com/djsegal))"
   ]
  },
  {
   "cell_type": "markdown",
   "metadata": {},
   "source": [
    "#### Import needed functionality "
   ]
  },
  {
   "cell_type": "code",
   "execution_count": null,
   "metadata": {},
   "outputs": [],
   "source": [
    "import requests\n",
    "import datetime\n",
    "import gzip\n",
    "import os\n",
    "\n",
    "import pandas as pd\n",
    "\n",
    "from bs4 import BeautifulSoup\n",
    "from tqdm.auto import tqdm\n",
    "\n",
    "import clean_data\n",
    "\n",
    "from importlib import reload\n",
    "reload(clean_data)\n",
    "\n",
    "import time\n",
    "import re\n",
    "\n",
    "import numpy as np\n",
    "\n",
    "import matplotlib.pyplot as plt\n",
    "\n",
    "from ipywidgets import interact, interactive, fixed, interact_manual\n",
    "import ipywidgets as widgets\n"
   ]
  },
  {
   "cell_type": "markdown",
   "metadata": {},
   "source": [
    "#### Download zipped folders"
   ]
  },
  {
   "cell_type": "code",
   "execution_count": null,
   "metadata": {},
   "outputs": [],
   "source": [
    "soup = BeautifulSoup(open(\"data/airbnb/airbnb.html\"), \"html.parser\")\n",
    "\n",
    "rentals_table = soup.find(\"table\", {\"id\": \"js-detailed-table\"})\n",
    "rental_rows = rentals_table.find(\"tbody\").find_all(\"tr\")\n",
    "\n",
    "for row in tqdm(rental_rows):\n",
    "    cols = row.find_all(\"td\")\n",
    "    row_date, row_link = cols[0].text, cols[1].find(\"a\")[\"href\"]\n",
    "\n",
    "    work_date = datetime.datetime.strptime(row_date, '%d %B, %Y')\n",
    "    date_string = work_date.strftime(\"%Y_%m_%d\")\n",
    "    \n",
    "    file_name, file_type = row_link.split(\"/\")[-1].split(\".\",1)\n",
    "    cur_file = f\"{file_name}_{date_string}.{file_type}\"\n",
    "     \n",
    "    abs_file_path = f'data/airbnb/zipped_data/{cur_file}'\n",
    "    if os.path.exists(abs_file_path): continue\n",
    "        \n",
    "    cur_request = requests.get(row_link, allow_redirects=True)\n",
    "    open(abs_file_path, 'wb').write(cur_request.content)\n",
    "    "
   ]
  },
  {
   "cell_type": "markdown",
   "metadata": {},
   "source": [
    "#### Prune rental files"
   ]
  },
  {
   "cell_type": "code",
   "execution_count": null,
   "metadata": {},
   "outputs": [],
   "source": [
    "for filename in tqdm(sorted(os.listdir(\"data/airbnb/zipped_data\"))):\n",
    "    if not filename.endswith(\".csv.gz\"): continue \n",
    "    \n",
    "    cur_file = f'data/airbnb/zipped_data/{filename}'\n",
    "    with gzip.open(cur_file, 'rb') as f:\n",
    "        file_data = pd.read_csv(cur_file, low_memory=False);\n",
    "        file_data = clean_data.clean_airbnb_data(file_data)\n",
    "        \n",
    "        work_date = datetime.datetime.strptime(\n",
    "            re.search(\"\\d{4}_\\d{2}_\\d{2}\", filename)[0], '%Y_%m_%d'\n",
    "        ).replace(day=1)\n",
    "        \n",
    "        if work_date.month == 1:\n",
    "            work_date = work_date.replace(month=12, year=work_date.year-1)\n",
    "        else:\n",
    "            work_date = work_date.replace(month=work_date.month-1)\n",
    "          \n",
    "        file_data[\"date\"] = work_date\n",
    "        file_data[\"month\"] = work_date.month\n",
    "        file_data[\"year\"] = work_date.year\n",
    "\n",
    "        csv_file = f'data/airbnb/csv_data/{filename.replace(\".gz\", \"\")}'\n",
    "        file_data.to_csv(csv_file, index=False)\n",
    "        "
   ]
  },
  {
   "cell_type": "markdown",
   "metadata": {},
   "source": [
    "#### Compile airbnb database"
   ]
  },
  {
   "cell_type": "code",
   "execution_count": null,
   "metadata": {},
   "outputs": [],
   "source": [
    "airbnb_data = None\n",
    "\n",
    "for filename in tqdm(sorted(os.listdir(\"data/airbnb/csv_data\"))):\n",
    "    if not filename.endswith(\".csv\"): continue \n",
    "    \n",
    "    cur_file = f'data/airbnb/csv_data/{filename}'\n",
    "    work_data = pd.read_csv(cur_file, low_memory=False)\n",
    "    \n",
    "    if airbnb_data is None:\n",
    "        airbnb_data = work_data\n",
    "    else:\n",
    "        airbnb_data = airbnb_data.append(work_data)\n",
    "\n",
    "airbnb_data.sort_values([\"neighbourhood_group\", \"id\", \"date\"], ascending=False, inplace=True)\n",
    "\n",
    "backup_data_1 = airbnb_data.copy()\n"
   ]
  },
  {
   "cell_type": "markdown",
   "metadata": {},
   "source": [
    "#### Test database uniformity"
   ]
  },
  {
   "cell_type": "code",
   "execution_count": null,
   "metadata": {},
   "outputs": [],
   "source": [
    "test_columns = [\n",
    "    'id', 'neighbourhood', 'neighbourhood_group',\n",
    "    'latitude', 'longitude', 'property_type',\n",
    "    'accommodates', 'bathrooms', 'bedrooms',\n",
    "    'beds', 'price', 'number_of_reviews',\n",
    "    'review_scores_rating', 'date', 'month', 'year'\n",
    "]\n",
    "\n",
    "assert list(airbnb_data.columns) == test_columns\n",
    "\n",
    "airbnb_data"
   ]
  },
  {
   "cell_type": "markdown",
   "metadata": {},
   "source": [
    "#### Remove bad data"
   ]
  },
  {
   "cell_type": "code",
   "execution_count": null,
   "metadata": {},
   "outputs": [],
   "source": [
    "airbnb_data = backup_data_1.copy()\n"
   ]
  },
  {
   "cell_type": "code",
   "execution_count": null,
   "metadata": {},
   "outputs": [],
   "source": [
    "unique_ids = sorted(airbnb_data.id.unique())\n",
    "\n",
    "novice_ids = []\n",
    "unreviewed_ids = []\n",
    "bad_ids = []\n",
    "moved_ids = []    \n",
    "slow_ids = []\n",
    "geo_ids = []\n",
    "\n",
    "for unique_id in tqdm(unique_ids):\n",
    "    sub_data = airbnb_data[airbnb_data.id == unique_id]\n",
    "    \n",
    "    if len(sub_data) < 3: novice_ids.append(unique_id)\n",
    "    if len(sub_data.neighbourhood_group.unique()) > 1: moved_ids.append(unique_id)\n",
    "        \n",
    "    if sub_data.review_scores_rating.iloc[0] < 50: bad_ids.append(unique_id)\n",
    "    if sub_data.number_of_reviews.max() < 5: unreviewed_ids.append(unique_id)\n",
    "        \n",
    "    max_reviews = sub_data.number_of_reviews.max()\n",
    "    min_reviews = sub_data.number_of_reviews.min()\n",
    "\n",
    "    cur_rate = ( max_reviews - min_reviews ) / len(sub_data)\n",
    "    if cur_rate < 0.16: slow_ids.append(unique_ids)\n",
    "   \n",
    "    lat_err = (1-sub_data[\"latitude\"]/sub_data[\"latitude\"].mean()).abs().max()\n",
    "    if lat_err > 1e-5: \n",
    "        geo_ids.append(unique_id)\n",
    "        continue\n",
    "        \n",
    "    lon_err = (1-sub_data[\"longitude\"]/sub_data[\"longitude\"].mean()).abs().max()\n",
    "    if lon_err > 5e-5: \n",
    "        geo_ids.append(unique_id)\n",
    "        continue\n",
    "\n",
    "old_count = len(airbnb_data)\n",
    "airbnb_data = airbnb_data[~airbnb_data.id.isin(novice_ids)]\n",
    "airbnb_data = airbnb_data[~airbnb_data.id.isin(unreviewed_ids)]\n",
    "airbnb_data = airbnb_data[~airbnb_data.id.isin(bad_ids)]\n",
    "airbnb_data = airbnb_data[~airbnb_data.id.isin(moved_ids)]\n",
    "airbnb_data = airbnb_data[~airbnb_data.id.isin(slow_ids)]\n",
    "airbnb_data = airbnb_data[~airbnb_data.id.isin(geo_ids)]\n",
    "new_count = len(airbnb_data)\n",
    "\n",
    "time.sleep(0.5)\n",
    "\n",
    "print(f\"beg: {old_count}\")\n",
    "print(f\"novice: {len(novice_ids)}\")\n",
    "print(f\"unreviewed: {len(unreviewed_ids)}\")\n",
    "print(f\"bad: {len(bad_ids)}\")\n",
    "print(f\"moved: {len(moved_ids)}\")\n",
    "print(f\"slow: {len(slow_ids)}\")\n",
    "print(f\"geo: {len(geo_ids)}\")\n",
    "print(f\"end: {new_count}\")\n"
   ]
  },
  {
   "cell_type": "markdown",
   "metadata": {},
   "source": [
    "#### Clean up data"
   ]
  },
  {
   "cell_type": "code",
   "execution_count": null,
   "metadata": {},
   "outputs": [],
   "source": [
    "airbnb_data[\"month_count\"] = np.nan\n",
    "\n",
    "unique_ids = sorted(airbnb_data.id.unique())\n",
    "\n",
    "for unique_id in tqdm(unique_ids):\n",
    "    sub_data = airbnb_data[airbnb_data.id == unique_id]\n",
    "\n",
    "    cur_count = len(sub_data)\n",
    "   \n",
    "    cur_type = sub_data.property_type.iloc[0]\n",
    "    cur_neighbourhood = sub_data.neighbourhood.iloc[0]\n",
    " \n",
    "    cur_review_count = sub_data.number_of_reviews.iloc[0]\n",
    "    cur_review_score = sub_data.review_scores_rating.iloc[0]\n",
    "    \n",
    "    cur_latitude = np.mean(sub_data.latitude.mode())\n",
    "    cur_longitude = np.mean(sub_data.longitude.mode())\n",
    "    \n",
    "    assert len(sub_data.latitude.unique()) <= len(sub_data.latitude)\n",
    "    assert len(sub_data.longitude.unique()) <= len(sub_data.longitude)\n",
    "    \n",
    "    cur_rental_dict = {\n",
    "        \"property_type\": cur_type,\n",
    "        \"latitude\": cur_latitude,\n",
    "        \"longitude\": cur_longitude,\n",
    "        \"month_count\": cur_count,\n",
    "        \"neighbourhood\": cur_neighbourhood,\n",
    "        \"number_of_reviews\": cur_review_count,\n",
    "        \"review_scores_rating\": cur_review_score\n",
    "    }\n",
    "    \n",
    "    for cur_key, cur_value in cur_rental_dict.items():\n",
    "        airbnb_data.loc[airbnb_data.id == unique_id, cur_key] = cur_value\n",
    "   \n",
    "airbnb_data.dropna(subset=[\"review_scores_rating\"], inplace=True)\n",
    "\n",
    "airbnb_data.sort_values([\"neighbourhood_group\", \"month_count\", \"id\", \"date\"], ascending=False, inplace=True)\n",
    "\n",
    "airbnb_data"
   ]
  },
  {
   "cell_type": "markdown",
   "metadata": {},
   "source": [
    "### Add new columns"
   ]
  },
  {
   "cell_type": "code",
   "execution_count": null,
   "metadata": {},
   "outputs": [],
   "source": [
    "airbnb_data[\"log_reviews\"] = np.log10(airbnb_data.number_of_reviews)\n",
    "airbnb_data[\"log_price\"] = np.log10(airbnb_data.price)\n",
    "\n",
    "airbnb_data[\"years_since_2015\"] = airbnb_data.year - 2015\n",
    "airbnb_data[\"years_since_2015_squared\"] = airbnb_data.years_since_2015 ** 2\n",
    "\n",
    "airbnb_data[\"bedrooms_per_bathrooms\"] = airbnb_data.bedrooms / airbnb_data.bathrooms\n",
    "airbnb_data[\"log_beds_per_bedrooms\"] = np.log10( airbnb_data.beds / airbnb_data.bedrooms )\n",
    "\n",
    "airbnb_data[\"log_beds_per_bedrooms_squared\"] = airbnb_data.beds_per_bedrooms ** 2\n",
    "airbnb_data[\"accommodates_squared\"] = airbnb_data.accommodates ** 2\n",
    "airbnb_data[\"month_squared\"] = airbnb_data.month ** 2\n",
    "\n",
    "airbnb_data[\"is_summer\"] = False\n",
    "airbnb_data[\"is_winter\"] = False\n",
    "\n",
    "airbnb_data.loc[airbnb_data.month.isin([1,2,11,12]), \"is_winter\"] = True\n",
    "airbnb_data.loc[airbnb_data.month.isin([6,7,8,9]), \"is_summer\"] = True\n",
    "\n",
    "airbnb_data[\"is_january\"] = airbnb_data.month == 1\n",
    "airbnb_data[\"is_february\"] = airbnb_data.month == 2\n",
    "airbnb_data[\"is_march\"] = airbnb_data.month == 3\n",
    "airbnb_data[\"is_april\"] = airbnb_data.month == 4\n",
    "airbnb_data[\"is_may\"] = airbnb_data.month == 5\n",
    "airbnb_data[\"is_june\"] = airbnb_data.month == 6\n",
    "# airbnb_data[\"is_july\"] = airbnb_data.month == 7\n",
    "airbnb_data[\"is_august\"] = airbnb_data.month == 8\n",
    "airbnb_data[\"is_september\"] = airbnb_data.month == 9\n",
    "airbnb_data[\"is_october\"] = airbnb_data.month == 10\n",
    "airbnb_data[\"is_november\"] = airbnb_data.month == 11\n",
    "airbnb_data[\"is_december\"] = airbnb_data.month == 12\n"
   ]
  },
  {
   "cell_type": "markdown",
   "metadata": {},
   "source": [
    "### Finalize initial dataset"
   ]
  },
  {
   "cell_type": "code",
   "execution_count": null,
   "metadata": {},
   "outputs": [],
   "source": [
    "airbnb_data.sort_index(axis=1, inplace=True)\n",
    "airbnb_data.reset_index(drop=True, inplace=True)\n",
    "\n",
    "reordered_columns = [\n",
    "    \"id\", \"neighbourhood_group\", \"neighbourhood\", \n",
    "    \"price\", \"number_of_reviews\", \"review_scores_rating\", \n",
    "    \"property_type\", \"month_count\", \"date\", \"year\"\n",
    "]\n",
    "\n",
    "data_columns = airbnb_data.columns.tolist()\n",
    "for reordered_column in reversed(reordered_columns):\n",
    "    data_columns.insert(0, data_columns.pop(data_columns.index(reordered_column)))\n",
    "    airbnb_data = airbnb_data.reindex(columns=data_columns)\n",
    "\n",
    "backup_data_2 = airbnb_data.copy()\n"
   ]
  },
  {
   "cell_type": "markdown",
   "metadata": {},
   "source": [
    "### Print database summaries"
   ]
  },
  {
   "cell_type": "code",
   "execution_count": null,
   "metadata": {},
   "outputs": [],
   "source": [
    "airbnb_data = backup_data_2.copy()\n"
   ]
  },
  {
   "cell_type": "code",
   "execution_count": null,
   "metadata": {},
   "outputs": [],
   "source": [
    "list(airbnb_data.columns)\n"
   ]
  },
  {
   "cell_type": "code",
   "execution_count": null,
   "metadata": {},
   "outputs": [],
   "source": [
    "unique_ids = sorted(airbnb_data.id.unique())\n",
    "len(unique_ids)\n"
   ]
  },
  {
   "cell_type": "code",
   "execution_count": null,
   "metadata": {},
   "outputs": [],
   "source": [
    "airbnb_data.describe()\n"
   ]
  },
  {
   "cell_type": "code",
   "execution_count": null,
   "metadata": {},
   "outputs": [],
   "source": [
    "airbnb_data.info()\n"
   ]
  },
  {
   "cell_type": "markdown",
   "metadata": {},
   "source": [
    "### Plot useful information"
   ]
  },
  {
   "cell_type": "code",
   "execution_count": null,
   "metadata": {},
   "outputs": [],
   "source": [
    "%matplotlib inline\n",
    "\n",
    "cur_latitudes = [cur_item[0] for cur_item in airbnb_data.groupby(\"id\").latitude.unique()]\n",
    "cur_longitudes = [cur_item[0] for cur_item in airbnb_data.groupby(\"id\").longitude.unique()]\n",
    "\n",
    "plt.scatter(cur_longitudes, cur_latitudes,alpha=0.01);\n",
    "plt.axes().set_aspect('equal', 'datalim')\n",
    "\n",
    "plt.xlabel(\"longitude\")\n",
    "plt.ylabel(\"latitude\")\n"
   ]
  },
  {
   "cell_type": "code",
   "execution_count": null,
   "metadata": {},
   "outputs": [],
   "source": [
    "def rental_plot(id_index, borough):\n",
    "    cur_id = airbnb_data[airbnb_data.neighbourhood_group == borough].id.unique()[id_index]\n",
    "    \n",
    "    rental_rows = airbnb_data[\n",
    "        (airbnb_data.id == cur_id) & \n",
    "        (airbnb_data.neighbourhood_group == borough)\n",
    "    ]\n",
    "    \n",
    "    cur_x = [ \n",
    "        datetime.datetime(year=year, month=month, day=1) \n",
    "        for (year, month) in zip(rental_rows.year, rental_rows.month) \n",
    "    ]\n",
    "    \n",
    "    cur_y = rental_rows.price\n",
    "    \n",
    "    plt.plot(cur_x, cur_y)\n",
    "    plt.scatter(cur_x, cur_y)\n",
    "    \n",
    "    plt.ylim(0,1.1*cur_y.max())\n",
    "    "
   ]
  },
  {
   "cell_type": "code",
   "execution_count": null,
   "metadata": {},
   "outputs": [],
   "source": [
    "%matplotlib inline\n",
    "\n",
    "interact(\n",
    "    rental_plot, \n",
    "    borough=fixed(\"Manhattan\"), \n",
    "    id_index=widgets.IntSlider(\n",
    "        min=0, step=1, value=0, \n",
    "        max=len(airbnb_data[airbnb_data.neighbourhood_group == \"Manhattan\"].id.unique())-1\n",
    "    )\n",
    ");\n"
   ]
  },
  {
   "cell_type": "code",
   "execution_count": null,
   "metadata": {},
   "outputs": [],
   "source": [
    "%matplotlib inline\n",
    "\n",
    "interact(\n",
    "    rental_plot, \n",
    "    borough=fixed(\"Brooklyn\"), \n",
    "    id_index=widgets.IntSlider(\n",
    "        min=0, step=1, value=0, \n",
    "        max=len(airbnb_data[airbnb_data.neighbourhood_group == \"Brooklyn\"].id.unique())-1\n",
    "    )\n",
    ");\n"
   ]
  },
  {
   "cell_type": "code",
   "execution_count": null,
   "metadata": {},
   "outputs": [],
   "source": [
    "%matplotlib notebook\n",
    "\n",
    "plt.subplot(3,4,1)\n",
    "plt.hist(airbnb_data.log_price);\n",
    "plt.title(\"log price\")\n",
    "plt.yticks([], [])\n",
    "\n",
    "plt.subplot(3,4,2)\n",
    "plt.hist(airbnb_data.log_reviews);\n",
    "plt.title(\"log reviews\")\n",
    "plt.yticks([], [])\n",
    "\n",
    "plt.subplot(3,4,3)\n",
    "plt.hist(airbnb_data.month_count);\n",
    "plt.title(\"month count\")\n",
    "plt.yticks([], [])\n",
    "\n",
    "plt.subplot(3,4,4)\n",
    "plt.hist(airbnb_data.year);\n",
    "plt.title(\"year\")\n",
    "plt.yticks([], [])\n",
    "\n",
    "plt.subplot(3,4,5)\n",
    "plt.hist(airbnb_data.bathrooms);\n",
    "plt.ylabel(\"bathrooms\")\n",
    "plt.yticks([], [])\n",
    "\n",
    "plt.subplot(3,4,6)\n",
    "plt.hist(airbnb_data.bedrooms);\n",
    "plt.ylabel(\"bedrooms\")\n",
    "plt.yticks([], [])\n",
    "\n",
    "plt.subplot(3,4,7)\n",
    "plt.hist(airbnb_data.beds);\n",
    "plt.ylabel(\"beds\")\n",
    "plt.yticks([], [])\n",
    "\n",
    "plt.subplot(3,4,8)\n",
    "plt.hist(airbnb_data.month);\n",
    "plt.ylabel(\"month\")\n",
    "plt.yticks([], [])\n",
    "\n",
    "plt.subplot(3,4,9)\n",
    "plt.hist(airbnb_data.log_beds_per_bedrooms);\n",
    "plt.xlabel(\"log_beds_per_rooms\")\n",
    "plt.yticks([], [])\n",
    "\n",
    "plt.subplot(3,4,10)\n",
    "plt.hist(airbnb_data.bedrooms_per_bathrooms);\n",
    "plt.xlabel(\"bed_per_bath\")\n",
    "plt.yticks([], [])\n",
    "\n",
    "plt.subplot(3,4,11)\n",
    "plt.hist(airbnb_data.latitude);\n",
    "plt.xlabel(\"latitude\")\n",
    "plt.yticks([], [])\n",
    "\n",
    "plt.subplot(3,4,12)\n",
    "plt.hist(airbnb_data.longitude);\n",
    "plt.xlabel(\"longitude\")\n",
    "plt.yticks([], []);\n"
   ]
  },
  {
   "cell_type": "code",
   "execution_count": null,
   "metadata": {},
   "outputs": [],
   "source": []
  }
 ],
 "metadata": {
  "kernelspec": {
   "display_name": "Python 3",
   "language": "python",
   "name": "python3"
  },
  "language_info": {
   "codemirror_mode": {
    "name": "ipython",
    "version": 3
   },
   "file_extension": ".py",
   "mimetype": "text/x-python",
   "name": "python",
   "nbconvert_exporter": "python",
   "pygments_lexer": "ipython3",
   "version": "3.7.4"
  }
 },
 "nbformat": 4,
 "nbformat_minor": 2
}
