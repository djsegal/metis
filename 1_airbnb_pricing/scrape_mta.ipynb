{
 "cells": [
  {
   "cell_type": "code",
   "execution_count": 146,
   "metadata": {},
   "outputs": [],
   "source": [
    "import numpy as np\n",
    "import pandas as pd\n",
    "import re"
   ]
  },
  {
   "cell_type": "code",
   "execution_count": 155,
   "metadata": {},
   "outputs": [
    {
     "data": {
      "text/html": [
       "<div>\n",
       "<style scoped>\n",
       "    .dataframe tbody tr th:only-of-type {\n",
       "        vertical-align: middle;\n",
       "    }\n",
       "\n",
       "    .dataframe tbody tr th {\n",
       "        vertical-align: top;\n",
       "    }\n",
       "\n",
       "    .dataframe thead th {\n",
       "        text-align: right;\n",
       "    }\n",
       "</style>\n",
       "<table border=\"1\" class=\"dataframe\">\n",
       "  <thead>\n",
       "    <tr style=\"text-align: right;\">\n",
       "      <th></th>\n",
       "      <th>name</th>\n",
       "      <th>line</th>\n",
       "      <th>latitude</th>\n",
       "      <th>longitude</th>\n",
       "    </tr>\n",
       "  </thead>\n",
       "  <tbody>\n",
       "    <tr>\n",
       "      <td>0</td>\n",
       "      <td>Birchall Ave &amp; Sagamore St at NW corner</td>\n",
       "      <td>2-5</td>\n",
       "      <td>40.84916900104506</td>\n",
       "      <td>-73.86835600032798</td>\n",
       "    </tr>\n",
       "    <tr>\n",
       "      <td>1</td>\n",
       "      <td>Birchall Ave &amp; Sagamore St at NE corner</td>\n",
       "      <td>2-5</td>\n",
       "      <td>40.84912800131844</td>\n",
       "      <td>-73.86821300022677</td>\n",
       "    </tr>\n",
       "    <tr>\n",
       "      <td>2</td>\n",
       "      <td>Morris Park Ave &amp; 180th St at NW corner</td>\n",
       "      <td>2-5</td>\n",
       "      <td>40.84122300105249</td>\n",
       "      <td>-73.87349900050798</td>\n",
       "    </tr>\n",
       "    <tr>\n",
       "      <td>3</td>\n",
       "      <td>Morris Park Ave &amp; 180th St at NW corner</td>\n",
       "      <td>2-5</td>\n",
       "      <td>40.84145300067447</td>\n",
       "      <td>-73.8728919997833</td>\n",
       "    </tr>\n",
       "    <tr>\n",
       "      <td>4</td>\n",
       "      <td>Boston Rd &amp; 178th St at SW corner</td>\n",
       "      <td>2-5</td>\n",
       "      <td>40.84081500075867</td>\n",
       "      <td>-73.87962300013866</td>\n",
       "    </tr>\n",
       "    <tr>\n",
       "      <td>...</td>\n",
       "      <td>...</td>\n",
       "      <td>...</td>\n",
       "      <td>...</td>\n",
       "      <td>...</td>\n",
       "    </tr>\n",
       "    <tr>\n",
       "      <td>1923</td>\n",
       "      <td>2nd Ave &amp; bet 83rd &amp; 84th St</td>\n",
       "      <td>Q</td>\n",
       "      <td>40.77618770946792</td>\n",
       "      <td>-73.95281423699555</td>\n",
       "    </tr>\n",
       "    <tr>\n",
       "      <td>1924</td>\n",
       "      <td>2nd Ave &amp; 96th St at SW corner</td>\n",
       "      <td>Q</td>\n",
       "      <td>40.784098884955554</td>\n",
       "      <td>-73.94747299691045</td>\n",
       "    </tr>\n",
       "    <tr>\n",
       "      <td>1925</td>\n",
       "      <td>2nd Ave &amp; 95th St at NW corner</td>\n",
       "      <td>Q</td>\n",
       "      <td>40.783916088309326</td>\n",
       "      <td>-73.94761889814153</td>\n",
       "    </tr>\n",
       "    <tr>\n",
       "      <td>1926</td>\n",
       "      <td>2nd Ave &amp; 94th St at NE corner</td>\n",
       "      <td>Q</td>\n",
       "      <td>40.78292438898596</td>\n",
       "      <td>-73.94772938539093</td>\n",
       "    </tr>\n",
       "    <tr>\n",
       "      <td>1927</td>\n",
       "      <td>2nd Ave &amp; 94th St at SW corner</td>\n",
       "      <td>Q</td>\n",
       "      <td>40.78296690878563</td>\n",
       "      <td>-73.94823792460468</td>\n",
       "    </tr>\n",
       "  </tbody>\n",
       "</table>\n",
       "<p>1928 rows × 4 columns</p>\n",
       "</div>"
      ],
      "text/plain": [
       "                                         name line            latitude  \\\n",
       "0     Birchall Ave & Sagamore St at NW corner  2-5   40.84916900104506   \n",
       "1     Birchall Ave & Sagamore St at NE corner  2-5   40.84912800131844   \n",
       "2     Morris Park Ave & 180th St at NW corner  2-5   40.84122300105249   \n",
       "3     Morris Park Ave & 180th St at NW corner  2-5   40.84145300067447   \n",
       "4           Boston Rd & 178th St at SW corner  2-5   40.84081500075867   \n",
       "...                                       ...  ...                 ...   \n",
       "1923             2nd Ave & bet 83rd & 84th St    Q   40.77618770946792   \n",
       "1924           2nd Ave & 96th St at SW corner    Q  40.784098884955554   \n",
       "1925           2nd Ave & 95th St at NW corner    Q  40.783916088309326   \n",
       "1926           2nd Ave & 94th St at NE corner    Q   40.78292438898596   \n",
       "1927           2nd Ave & 94th St at SW corner    Q   40.78296690878563   \n",
       "\n",
       "               longitude  \n",
       "0     -73.86835600032798  \n",
       "1     -73.86821300022677  \n",
       "2     -73.87349900050798  \n",
       "3      -73.8728919997833  \n",
       "4     -73.87962300013866  \n",
       "...                  ...  \n",
       "1923  -73.95281423699555  \n",
       "1924  -73.94747299691045  \n",
       "1925  -73.94761889814153  \n",
       "1926  -73.94772938539093  \n",
       "1927  -73.94823792460468  \n",
       "\n",
       "[1928 rows x 4 columns]"
      ]
     },
     "execution_count": 155,
     "metadata": {},
     "output_type": "execute_result"
    }
   ],
   "source": [
    "mta_data = pd.read_csv(\"data/subway.csv\")\n",
    "\n",
    "mta_data.columns = map(str.lower, mta_data.columns)\n",
    "\n",
    "mta_data.drop(columns=[\"objectid\", \"url\"], inplace=True)\n",
    "\n",
    "cur_lon, cur_lat = list(zip(*[ \n",
    "    re.search(\"(?<=\\()[^)]*(?=\\))\", cur_geom).group(0).split() for cur_geom in mta_data.the_geom \n",
    "]))\n",
    "\n",
    "mta_data[\"latitude\"] = cur_lat\n",
    "mta_data[\"longitude\"] = cur_lon\n",
    "\n",
    "mta_data.drop(columns=[\"the_geom\"], inplace=True)\n",
    "\n",
    "mta_data\n"
   ]
  },
  {
   "cell_type": "code",
   "execution_count": 156,
   "metadata": {},
   "outputs": [
    {
     "data": {
      "text/plain": [
       "23"
      ]
     },
     "execution_count": 156,
     "metadata": {},
     "output_type": "execute_result"
    }
   ],
   "source": [
    "all_lines = set()\n",
    "\n",
    "for cur_str in mta_data.line.unique():\n",
    "    all_lines.update(cur_str.upper().replace(\" \", \"\").split(\"-\"))\n",
    "\n",
    "all_lines = [\n",
    "    cur_line for cur_line in all_lines if len(cur_line) == 1\n",
    "]\n",
    "# cur_lines = [ cur_str for cur_str in sorted(np.unique([ cur_str for cur_str in list(cur_lines)])) if len(cur_str) == 1 ]\n",
    "\n",
    "# print(cur_lines)\n",
    "\n",
    "all_lines.sort()\n",
    "\n",
    "len(all_lines)"
   ]
  },
  {
   "cell_type": "code",
   "execution_count": 157,
   "metadata": {},
   "outputs": [],
   "source": [
    "work_lines = [\n",
    "    cur_line.replace(\" \", \"\").upper().split(\"-\") for cur_line in mta_data.line\n",
    "]\n",
    "\n",
    "for cur_index, cur_line_list in enumerate(work_lines):\n",
    "    work_lines[cur_index] = [ \n",
    "        cur_line for cur_line in cur_line_list if cur_line in all_lines \n",
    "    ]\n",
    "  "
   ]
  },
  {
   "cell_type": "code",
   "execution_count": 160,
   "metadata": {},
   "outputs": [],
   "source": [
    "mta_data[\"lines\"] = work_lines\n",
    "\n",
    "mta_data.drop(columns=[\"line\"], inplace=True)\n"
   ]
  },
  {
   "cell_type": "code",
   "execution_count": 163,
   "metadata": {},
   "outputs": [],
   "source": [
    "mta_data.to_pickle(\"./data/pickles/mta_data.pkl\")\n"
   ]
  }
 ],
 "metadata": {
  "kernelspec": {
   "display_name": "Python 3",
   "language": "python",
   "name": "python3"
  },
  "language_info": {
   "codemirror_mode": {
    "name": "ipython",
    "version": 3
   },
   "file_extension": ".py",
   "mimetype": "text/x-python",
   "name": "python",
   "nbconvert_exporter": "python",
   "pygments_lexer": "ipython3",
   "version": "3.7.4"
  }
 },
 "nbformat": 4,
 "nbformat_minor": 2
}
