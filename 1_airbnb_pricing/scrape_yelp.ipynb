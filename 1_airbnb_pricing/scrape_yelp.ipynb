{
 "cells": [
  {
   "cell_type": "code",
   "execution_count": 189,
   "metadata": {},
   "outputs": [],
   "source": [
    "from yelpapi import YelpAPI\n",
    "\n",
    "import datetime\n",
    "from dateutil import relativedelta\n",
    "\n",
    "import numpy as np\n",
    "import pandas as pd\n",
    "\n",
    "import itertools"
   ]
  },
  {
   "cell_type": "code",
   "execution_count": 238,
   "metadata": {},
   "outputs": [],
   "source": [
    "api_key = \"\"\n",
    "yelp_api = YelpAPI(api_key)\n"
   ]
  },
  {
   "cell_type": "code",
   "execution_count": 150,
   "metadata": {},
   "outputs": [],
   "source": [
    "simple_category_list = [\n",
    "    \"whiskeybars\",\n",
    "    \"tikibars\",\n",
    "    \"pubs\",\n",
    "    \"lounges\",\n",
    "    \"beerbar\",\n",
    "    \"divebars\",\n",
    "    \"speakeasies\",\n",
    "]\n",
    "\n",
    "complex_category_list = [\n",
    "    \"bars\",\n",
    "    \"cocktailbars\",\n",
    "]"
   ]
  },
  {
   "cell_type": "code",
   "execution_count": 128,
   "metadata": {},
   "outputs": [
    {
     "name": "stdout",
     "output_type": "stream",
     "text": [
      "whiskeybars, 39\n",
      "tikibars, 17\n",
      "pubs, 403\n",
      "lounges, 658\n",
      "beerbar, 212\n",
      "divebars, 165\n",
      "speakeasies, 28\n"
     ]
    }
   ],
   "source": [
    "simple_businesses = []\n",
    "\n",
    "for category in simple_category_list:\n",
    "    work_businesses = []\n",
    "    \n",
    "    cur_offset = 0\n",
    "    \n",
    "    while True:\n",
    "        search_results = yelp_api.search_query(\n",
    "            categories=category,\n",
    "            location=\"nyc\",\n",
    "            sort_by='rating',\n",
    "            limit=50,\n",
    "            offset=cur_offset\n",
    "        )\n",
    "        \n",
    "        new_businesses = search_results[\"businesses\"]\n",
    "        \n",
    "        if len(new_businesses) == 0: break\n",
    "        \n",
    "        work_businesses.extend(new_businesses)\n",
    "        cur_offset += 50\n",
    "    \n",
    "    assert len(work_businesses) == search_results[\"total\"]\n",
    "    simple_businesses.extend(work_businesses)\n",
    "        \n",
    "    print(f\"{category}, {search_results['total']}\")\n"
   ]
  },
  {
   "cell_type": "code",
   "execution_count": 169,
   "metadata": {},
   "outputs": [],
   "source": [
    "work_time = datetime.datetime.now()\n",
    "work_time += datetime.timedelta(days=1)  \n",
    "work_time = work_time.replace(hour=0, minute=0)\n",
    "\n",
    "open_at = work_time.strftime(\"%s\")\n"
   ]
  },
  {
   "cell_type": "code",
   "execution_count": 170,
   "metadata": {},
   "outputs": [
    {
     "name": "stdout",
     "output_type": "stream",
     "text": [
      "bars - 1, 538\n",
      "bars - 2, 2900\n",
      "bars - 2, 940\n",
      "bars - 3, 484\n",
      "bars - 4, 60\n",
      "cocktailbars - 1, 23\n",
      "cocktailbars - 2, 645\n",
      "cocktailbars - 3, 153\n",
      "cocktailbars - 4, 18\n"
     ]
    }
   ],
   "source": [
    "complex_businesses = []\n",
    "\n",
    "for category in complex_category_list:\n",
    "    for price in range(4):\n",
    "        work_businesses = []\n",
    "\n",
    "        cur_offset = 0\n",
    "\n",
    "        while True:\n",
    "            if cur_offset + 50 > 1000: break\n",
    "                \n",
    "            search_results = yelp_api.search_query(\n",
    "                categories=category,\n",
    "                location=\"nyc\",\n",
    "                sort_by='rating',\n",
    "                limit=50,\n",
    "                offset=cur_offset,\n",
    "                price=str(price+1)\n",
    "            )\n",
    "            \n",
    "            new_businesses = search_results[\"businesses\"]\n",
    "            if len(new_businesses) == 0: break\n",
    "\n",
    "            work_businesses.extend(new_businesses)\n",
    "            cur_offset += 50\n",
    "\n",
    "        assert len(work_businesses) == np.min([1000,search_results[\"total\"]])\n",
    "        complex_businesses.extend(work_businesses)\n",
    "        \n",
    "        print(f\"{category} - {price+1}, {search_results['total']}\")\n",
    "              \n",
    "        if search_results[\"total\"] > 1000:\n",
    "\n",
    "            work_businesses = []\n",
    "\n",
    "            cur_offset = 0\n",
    "\n",
    "            while True:\n",
    "                if cur_offset + 50 > 1000: break\n",
    "\n",
    "                search_results = yelp_api.search_query(\n",
    "                    categories=category,\n",
    "                    location=\"nyc\",\n",
    "                    sort_by='rating',\n",
    "                    limit=50,\n",
    "                    offset=cur_offset,\n",
    "                    price=str(price+1),\n",
    "                    open_at=open_at\n",
    "                )\n",
    "              \n",
    "                new_businesses = search_results[\"businesses\"]\n",
    "                if len(new_businesses) == 0: break\n",
    "\n",
    "                work_businesses.extend(new_businesses)\n",
    "                cur_offset += 50\n",
    "\n",
    "            assert len(work_businesses) == np.min([1000,search_results[\"total\"]])\n",
    "            complex_businesses.extend(work_businesses)\n",
    "\n",
    "            print(f\"{category} - {price+1}, {search_results['total']}\")\n",
    "                  "
   ]
  },
  {
   "cell_type": "code",
   "execution_count": 221,
   "metadata": {},
   "outputs": [],
   "source": [
    "class Business():\n",
    "\n",
    "    def __init__(self, name, latitude, longitude, review_count, rating):\n",
    "        self.name = name\n",
    "        self.latitude = latitude\n",
    "        self.longitude = longitude\n",
    "        self.review_count = review_count\n",
    "        self.rating = rating\n",
    "        "
   ]
  },
  {
   "cell_type": "code",
   "execution_count": 223,
   "metadata": {},
   "outputs": [],
   "source": [
    "business_list = [ \n",
    "    Business(\n",
    "        cur_business[\"name\"], *cur_business[\"coordinates\"].values(),\n",
    "        cur_business[\"review_count\"], cur_business[\"rating\"]\n",
    "    ) for cur_business in itertools.chain(\n",
    "        simple_businesses, complex_businesses\n",
    "    ) \n",
    "]\n"
   ]
  },
  {
   "cell_type": "code",
   "execution_count": 235,
   "metadata": {},
   "outputs": [],
   "source": [
    "business_data = pd.DataFrame.from_records(\n",
    "    [ cur_business.__dict__ for cur_business in business_list ]\n",
    ")\n",
    "\n",
    "business_data.drop_duplicates(inplace=True)\n",
    "\n",
    "business_data.sort_values(by=[\"rating\", \"review_count\"], ascending=False, inplace=True)\n",
    "\n",
    "business_data.reset_index(drop=True, inplace=True)\n"
   ]
  },
  {
   "cell_type": "code",
   "execution_count": 236,
   "metadata": {},
   "outputs": [],
   "source": [
    "business_data.to_pickle(\"./data/pickles/business_data.pkl\")\n"
   ]
  },
  {
   "cell_type": "code",
   "execution_count": null,
   "metadata": {},
   "outputs": [],
   "source": []
  }
 ],
 "metadata": {
  "kernelspec": {
   "display_name": "Python 3",
   "language": "python",
   "name": "python3"
  },
  "language_info": {
   "codemirror_mode": {
    "name": "ipython",
    "version": 3
   },
   "file_extension": ".py",
   "mimetype": "text/x-python",
   "name": "python",
   "nbconvert_exporter": "python",
   "pygments_lexer": "ipython3",
   "version": "3.7.4"
  }
 },
 "nbformat": 4,
 "nbformat_minor": 2
}
