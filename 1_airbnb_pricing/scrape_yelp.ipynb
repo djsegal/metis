{
 "cells": [
  {
   "cell_type": "code",
   "execution_count": 2,
   "metadata": {},
   "outputs": [],
   "source": [
    "from yelpapi import YelpAPI\n",
    "\n",
    "import datetime\n",
    "from dateutil import relativedelta\n",
    "\n",
    "import numpy as np\n",
    "import pandas as pd\n",
    "\n",
    "import itertools"
   ]
  },
  {
   "cell_type": "code",
   "execution_count": 3,
   "metadata": {},
   "outputs": [],
   "source": [
    "api_key = \"X8EDSDndI9422jYtVNksXn629QaCF8exW01ioeybfEEuESu4sFHA99dBMJPMj2SZ6WKj3jA-SV6zVDrkVa8jr9ank1YN3z5Otk5EV4IUBmVW_LkP2XYL8i7pn4MDXHYx\"\n",
    "yelp_api = YelpAPI(api_key)\n"
   ]
  },
  {
   "cell_type": "code",
   "execution_count": 27,
   "metadata": {},
   "outputs": [],
   "source": [
    "simple_category_list = [\n",
    "    \"whiskeybars\",\n",
    "    \"tikibars\",\n",
    "    \"pubs\",\n",
    "    \"lounges\",\n",
    "    \"beerbar\",\n",
    "    \"divebars\",\n",
    "    \"speakeasies\",\n",
    "    \"bars\",\n",
    "    \"cocktailbars\",\n",
    "]"
   ]
  },
  {
   "cell_type": "code",
   "execution_count": 110,
   "metadata": {},
   "outputs": [
    {
     "data": {
      "text/plain": [
       "1570998452"
      ]
     },
     "execution_count": 110,
     "metadata": {},
     "output_type": "execute_result"
    }
   ],
   "source": [
    "from datetime import datetime\n",
    "import calendar\n",
    "\n",
    "d = datetime.now()\n",
    "d.replace(day=d.day+2,hour=2,minute=30)\n",
    "open_at = calendar.timegm(d.utctimetuple())\n",
    "\n",
    "open_at"
   ]
  },
  {
   "cell_type": "code",
   "execution_count": 111,
   "metadata": {},
   "outputs": [],
   "source": [
    "import time"
   ]
  },
  {
   "cell_type": "code",
   "execution_count": 112,
   "metadata": {},
   "outputs": [
    {
     "name": "stdout",
     "output_type": "stream",
     "text": [
      "whiskeybars - 2, 0\n",
      "tikibars - 2, 0\n",
      "pubs - 2, 4\n",
      "lounges - 2, 2\n",
      "beerbar - 2, 2\n",
      "divebars - 2, 8\n",
      "speakeasies - 2, 0\n",
      "bars - 2, 50\n",
      "cocktailbars - 2, 11\n"
     ]
    }
   ],
   "source": [
    "complex_businesses = []\n",
    "\n",
    "for category in simple_category_list:\n",
    "    time.sleep(0.2)\n",
    "\n",
    "    work_businesses = []\n",
    "\n",
    "    cur_offset = 0\n",
    "\n",
    "    while True:\n",
    "        if cur_offset + 50 > 1000: break\n",
    "\n",
    "        search_results = yelp_api.search_query(\n",
    "            categories=category,\n",
    "            sort_by='rating',\n",
    "            limit=50,\n",
    "            offset=cur_offset,\n",
    "            location=\"566 Guerrero St, San Francisco, CA 94110\",\n",
    "            radius=1000,\n",
    "            open_at=open_at\n",
    "        )\n",
    "\n",
    "        new_businesses = search_results[\"businesses\"]\n",
    "        if len(new_businesses) == 0: break\n",
    "\n",
    "        work_businesses.extend(new_businesses)\n",
    "        cur_offset += 50\n",
    "\n",
    "    assert len(work_businesses) == np.min([1000,search_results[\"total\"]])\n",
    "    complex_businesses.extend(work_businesses)\n",
    "\n",
    "    print(f\"{category} - {price+1}, {search_results['total']}\")\n",
    "                  "
   ]
  },
  {
   "cell_type": "code",
   "execution_count": 113,
   "metadata": {},
   "outputs": [],
   "source": [
    "class Business():\n",
    "\n",
    "    def __init__(self, name, latitude, longitude, review_count, rating):\n",
    "        self.name = name\n",
    "        self.latitude = latitude\n",
    "        self.longitude = longitude\n",
    "        self.review_count = review_count\n",
    "        self.rating = rating\n",
    "        "
   ]
  },
  {
   "cell_type": "code",
   "execution_count": 114,
   "metadata": {},
   "outputs": [],
   "source": [
    "business_list = [ \n",
    "    Business(\n",
    "        cur_business[\"name\"], *cur_business[\"coordinates\"].values(),\n",
    "        cur_business[\"review_count\"], cur_business[\"rating\"]\n",
    "    ) for cur_business in itertools.chain(\n",
    "        complex_businesses\n",
    "    ) \n",
    "]\n"
   ]
  },
  {
   "cell_type": "code",
   "execution_count": 115,
   "metadata": {},
   "outputs": [],
   "source": [
    "business_data = pd.DataFrame.from_records(\n",
    "    [ cur_business.__dict__ for cur_business in business_list ]\n",
    ")\n",
    "\n",
    "business_data.drop_duplicates(inplace=True)\n",
    "\n",
    "business_data.sort_values(by=[\"rating\", \"review_count\"], ascending=False, inplace=True)\n",
    "\n",
    "business_data.reset_index(drop=True, inplace=True)\n"
   ]
  },
  {
   "cell_type": "code",
   "execution_count": 116,
   "metadata": {},
   "outputs": [
    {
     "data": {
      "text/plain": [
       "[\"Al's Deli\",\n",
       " \"Alba Ray's\",\n",
       " 'Barrel Proof',\n",
       " 'Bear Vs Bull',\n",
       " 'Burma Love',\n",
       " 'Canela Bistro & Wine Bar',\n",
       " 'Cava 22',\n",
       " 'Curio',\n",
       " 'Dancing Yak',\n",
       " 'Delirium',\n",
       " 'El Techo',\n",
       " 'Elixir',\n",
       " 'Fig & Thistle Market',\n",
       " 'Flying Pig Bistro Pub',\n",
       " 'Foreign Cinema',\n",
       " 'Gestalt',\n",
       " 'Giordano Bros',\n",
       " 'Hi Tops',\n",
       " 'Il Casaro Pizzeria & Mozzarella Bar - Castro',\n",
       " 'Last Call Bar',\n",
       " 'Laszlo',\n",
       " 'Latin American Club',\n",
       " 'Little Star Pizza',\n",
       " 'Lucky 13',\n",
       " \"Manny's\",\n",
       " 'Mission Bowling Club',\n",
       " 'Mission Cheese',\n",
       " 'PRAIRIE',\n",
       " 'Phoenix Irish Bar',\n",
       " 'Pilsner Inn',\n",
       " 'Pizzeria Delfina - Mission',\n",
       " 'Pork Store Cafe',\n",
       " 'Skylark',\n",
       " 'Starbelly',\n",
       " 'Tacolicious',\n",
       " 'Teeth',\n",
       " 'The 500 Club',\n",
       " 'The Brew Coop',\n",
       " 'The Crafty Fox Ale House',\n",
       " 'The Detour',\n",
       " 'The Liberties',\n",
       " \"The Monk's Kettle\",\n",
       " 'The Office',\n",
       " 'The Revolution Cafe',\n",
       " 'The Sycamore',\n",
       " 'Thieves Tavern',\n",
       " 'Uptown',\n",
       " 'Urban Putt',\n",
       " 'Woods Cervecería',\n",
       " 'Zeitgeist']"
      ]
     },
     "execution_count": 116,
     "metadata": {},
     "output_type": "execute_result"
    }
   ],
   "source": [
    "dd = business_data.copy()\n",
    "# dd = dd[dd.review_count > 80]\n",
    "# dd = dd[dd.rating > 4]\n",
    "sorted(dd.name.tolist())\n",
    "# np.log10(dd[\"review_count\"]).hist()"
   ]
  },
  {
   "cell_type": "code",
   "execution_count": 236,
   "metadata": {},
   "outputs": [],
   "source": [
    "business_data.to_pickle(\"./data/pickles/business_data.pkl\")\n"
   ]
  },
  {
   "cell_type": "code",
   "execution_count": null,
   "metadata": {},
   "outputs": [],
   "source": []
  }
 ],
 "metadata": {
  "kernelspec": {
   "display_name": "Python 3",
   "language": "python",
   "name": "python3"
  },
  "language_info": {
   "codemirror_mode": {
    "name": "ipython",
    "version": 3
   },
   "file_extension": ".py",
   "mimetype": "text/x-python",
   "name": "python",
   "nbconvert_exporter": "python",
   "pygments_lexer": "ipython3",
   "version": "3.7.4"
  }
 },
 "nbformat": 4,
 "nbformat_minor": 2
}
