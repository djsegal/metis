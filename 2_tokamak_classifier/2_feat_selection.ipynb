{
 "cells": [
  {
   "cell_type": "code",
   "execution_count": 1,
   "metadata": {},
   "outputs": [],
   "source": [
    "import pandas as pd\n",
    "import numpy as np\n",
    "import matplotlib.pyplot as plt\n",
    "\n",
    "from ipywidgets import interact, interactive, fixed, interact_manual\n",
    "import ipywidgets as widgets\n",
    "\n",
    "from math import ceil, floor\n",
    "\n",
    "from sklearn.model_selection import train_test_split\n",
    "from sklearn.linear_model import RidgeCV, LassoCV, ElasticNetCV, LogisticRegression\n",
    "from sklearn.preprocessing import StandardScaler, PolynomialFeatures\n",
    "\n",
    "from collections import defaultdict\n",
    "from tqdm.auto import tqdm\n",
    "\n",
    "import random\n",
    "from sklearn.ensemble import RandomForestClassifier\n",
    "\n",
    "import pandas_profiling\n",
    "import warnings\n",
    "\n",
    "from collections import Counter\n",
    "from sklearn.svm import LinearSVC\n",
    "\n",
    "from sklearn.model_selection import GridSearchCV"
   ]
  },
  {
   "cell_type": "code",
   "execution_count": 2,
   "metadata": {},
   "outputs": [],
   "source": [
    "tokamak_data = pd.read_pickle(\"./final.pkl\")\n"
   ]
  },
  {
   "cell_type": "code",
   "execution_count": 3,
   "metadata": {},
   "outputs": [
    {
     "data": {
      "text/plain": [
       "['tok', 'is_good', 'standard', 'walmat_c']"
      ]
     },
     "execution_count": 3,
     "metadata": {},
     "output_type": "execute_result"
    }
   ],
   "source": [
    "skipped_columns = [\"tok\", \"is_good\", \"standard\" , \"walmat_c\"]\n",
    "\n",
    "skipped_columns"
   ]
  },
  {
   "cell_type": "code",
   "execution_count": 4,
   "metadata": {},
   "outputs": [
    {
     "data": {
      "text/plain": [
       "Index(['_abs_bt_2', '_abs_bt_2_abs_ip', '_abs_bt_2_epsilon',\n",
       "       '_abs_bt_2_inv_abs_ip', '_abs_bt_2_inv_epsilon', '_abs_bt_2_inv_nel',\n",
       "       '_abs_bt_2_inv_pressure', '_abs_bt_2_inv_rgeo', '_abs_bt_2_inv_tev',\n",
       "       '_abs_bt_2_inv_vol',\n",
       "       ...\n",
       "       'walmat_in', 'walmat_ss', 'wfaniic', 'wmhd', 'wth', 'wtot',\n",
       "       'zero_delta', 'zero_log_tauc92', 'zero_log_tauc93', 'zero_wfaniic'],\n",
       "      dtype='object', length=996)"
      ]
     },
     "execution_count": 4,
     "metadata": {},
     "output_type": "execute_result"
    }
   ],
   "source": [
    "tokamak_data.columns"
   ]
  },
  {
   "cell_type": "code",
   "execution_count": 5,
   "metadata": {},
   "outputs": [
    {
     "name": "stdout",
     "output_type": "stream",
     "text": [
      "JET 1.0\n",
      "ASDEX 2.0\n",
      "AUG 1.9592476489028212\n",
      "CMOD 8.720930232558139\n",
      "D3D 2.535496957403651\n",
      "JFT2M 1.8867924528301887\n",
      "JT60U 2.808988764044944\n",
      "TCV 4.761904761904762\n",
      "TDEV 7.5\n",
      "NSTX 7.142857142857143\n",
      "PBXM 1.893939393939394\n",
      "PDX 3.4965034965034967\n",
      "TFTR 4.8076923076923075\n"
     ]
    }
   ],
   "source": [
    "cur_data = tokamak_data.copy()\n",
    "\n",
    "desired_dict = {\n",
    "    'JET': 3144,\n",
    "    'ASDEX': 1250,\n",
    "    'AUG': 1250,\n",
    "    'CMOD': 750,\n",
    "    'D3D': 1250,\n",
    "    'JFT2M': 1000,\n",
    "    'JT60U': 250,\n",
    "    'TCV': 100,\n",
    "    'TDEV': 75,\n",
    "    'NSTX': 50,\n",
    "    'PBXM': 500,\n",
    "    'PDX': 500,\n",
    "    'TFTR': 500\n",
    "}\n",
    "\n",
    "tok_dict = {}\n",
    "\n",
    "for cur_key in desired_dict.keys():\n",
    "    tok_dict[cur_key] = np.sum(tokamak_data.tok == cur_key)\n",
    "\n",
    "for cur_key, cur_value in desired_dict.items():\n",
    "    print(cur_key, cur_value / tok_dict[cur_key])\n",
    "\n",
    "for cur_key, cur_value in desired_dict.items():\n",
    "    in_rows = cur_data[cur_data.tok == cur_key].copy()\n",
    "    in_count = len(in_rows)\n",
    "\n",
    "    cur_data = cur_data.append(in_rows.sample(cur_value % in_count))\n",
    "    if cur_value < 2 * in_count: continue     \n",
    "\n",
    "    for cur_times in range(floor(cur_value/in_count)-1):\n",
    "        cur_data = cur_data.append(in_rows.copy())\n"
   ]
  },
  {
   "cell_type": "code",
   "execution_count": 6,
   "metadata": {},
   "outputs": [],
   "source": [
    "all_corr = tokamak_data.corr()"
   ]
  },
  {
   "cell_type": "code",
   "execution_count": 7,
   "metadata": {},
   "outputs": [
    {
     "data": {
      "text/plain": [
       "20"
      ]
     },
     "execution_count": 7,
     "metadata": {},
     "output_type": "execute_result"
    }
   ],
   "source": [
    "for cur_col in tokamak_data.columns:\n",
    "    if cur_col in skipped_columns : continue\n",
    "    if np.abs(all_corr[cur_col][\"is_good\"]) > 1e-2 : continue\n",
    "    skipped_columns.append(cur_col)\n",
    "    \n",
    "len(skipped_columns)"
   ]
  },
  {
   "cell_type": "code",
   "execution_count": 8,
   "metadata": {},
   "outputs": [
    {
     "data": {
      "application/vnd.jupyter.widget-view+json": {
       "model_id": "01f3a50ba89b48358f6e5b10daf4eb5e",
       "version_major": 2,
       "version_minor": 0
      },
      "text/plain": [
       "HBox(children=(IntProgress(value=0, max=996), HTML(value='')))"
      ]
     },
     "metadata": {},
     "output_type": "display_data"
    },
    {
     "name": "stdout",
     "output_type": "stream",
     "text": [
      "\n"
     ]
    },
    {
     "data": {
      "text/plain": [
       "531"
      ]
     },
     "execution_count": 8,
     "metadata": {},
     "output_type": "execute_result"
    }
   ],
   "source": [
    "for cur_index, cur_col in enumerate(tqdm(tokamak_data.columns)):\n",
    "    if cur_col in skipped_columns : continue\n",
    "    for other_col in tokamak_data.columns[0:cur_index]:\n",
    "        if other_col in skipped_columns : continue\n",
    "        \n",
    "        assert all_corr[cur_col][other_col] == all_corr[other_col][cur_col]\n",
    "        if np.abs(all_corr[cur_col][other_col]) < 0.99 : continue\n",
    "            \n",
    "        if np.abs(all_corr[cur_col][\"is_good\"]) > np.abs(all_corr[other_col][\"is_good\"]):\n",
    "            skipped_columns.append(cur_col)\n",
    "        else:\n",
    "            skipped_columns.append(other_col)\n",
    "        break\n",
    "   \n",
    "len(skipped_columns)"
   ]
  },
  {
   "cell_type": "code",
   "execution_count": 9,
   "metadata": {},
   "outputs": [],
   "source": [
    "tmp_columns = [\n",
    "  work_col for work_col in cur_data.columns if work_col not in skipped_columns\n",
    "]\n",
    "\n",
    "cur_X = cur_data[tmp_columns]\n",
    "cur_y = cur_data[\"is_good\"]\n",
    "\n",
    "scaler = StandardScaler().fit(cur_X)\n",
    "cur_X = pd.DataFrame(scaler.transform(cur_X), columns=cur_X.columns)\n"
   ]
  },
  {
   "cell_type": "code",
   "execution_count": 10,
   "metadata": {},
   "outputs": [
    {
     "data": {
      "text/plain": [
       "RandomForestClassifier(bootstrap=True, class_weight=None, criterion='gini',\n",
       "                       max_depth=None, max_features='auto', max_leaf_nodes=None,\n",
       "                       min_impurity_decrease=0.0, min_impurity_split=None,\n",
       "                       min_samples_leaf=1, min_samples_split=2,\n",
       "                       min_weight_fraction_leaf=0.0, n_estimators=10000,\n",
       "                       n_jobs=-1, oob_score=False, random_state=0, verbose=0,\n",
       "                       warm_start=False)"
      ]
     },
     "execution_count": 10,
     "metadata": {},
     "output_type": "execute_result"
    }
   ],
   "source": [
    "cur_clf = RandomForestClassifier(n_estimators=10000, random_state=0, n_jobs=-1)\n",
    "cur_clf.fit(cur_X, cur_y)\n"
   ]
  },
  {
   "cell_type": "code",
   "execution_count": 11,
   "metadata": {},
   "outputs": [
    {
     "name": "stdout",
     "output_type": "stream",
     "text": [
      "prad : 0.014394738381617131\n",
      "_pressure_rgeo_vol : 0.00922429954227121\n",
      "_inv_abs_bt_inv_pressure_inv_vol : 0.009204016467752256\n",
      "q95 : 0.009048744755298639\n",
      "log_inv_q95 : 0.008924060406044395\n",
      "inv_q95 : 0.0088926641694427\n",
      "_inv_pressure_inv_rgeo_2 : 0.007897110370144152\n",
      "_rgeo_tev_vol : 0.00783383835212216\n",
      "_inv_epsilon_inv_rgeo_inv_tev : 0.007662079946921427\n",
      "_inv_rgeo_inv_tev_inv_vol : 0.0075154354223034205\n",
      "_rgeo_2_tev : 0.0074964299305910614\n",
      "_pressure_tev_vol : 0.007484882459964529\n",
      "_inv_abs_ip_inv_tev_2 : 0.007129217099192277\n",
      "_inv_abs_bt_inv_rgeo_inv_tev : 0.007017990973480651\n",
      "delta : 0.0061642078325764744\n",
      "_inv_rgeo_inv_tev : 0.006117610391297016\n",
      "_inv_abs_bt_inv_tev_inv_vol : 0.006060794622784743\n",
      "pnbi : 0.006003886737372808\n",
      "_inv_pressure_inv_rgeo_nel : 0.005719620138219985\n",
      "tauth : 0.005509277681752673\n",
      "inv_tauth : 0.005424980082137503\n",
      "log_inv_tauth : 0.005418732917221812\n",
      "_epsilon_inv_abs_ip_inv_tev : 0.005408562827386735\n",
      "_inv_abs_ip_inv_rgeo_inv_tev : 0.005342195267381596\n",
      "_abs_ip_inv_epsilon_rgeo : 0.00534133615828474\n",
      "_inv_abs_bt_2_nel : 0.005323338276893555\n",
      "pinj : 0.005224682059717201\n",
      "tautot : 0.0052045475994646215\n",
      "inv_tautot : 0.005171900244943075\n",
      "_inv_abs_ip_pressure_vol : 0.00502671599972232\n",
      "_inv_abs_ip_inv_pressure_nel : 0.004831886585709376\n",
      "pohm : 0.004722420503675061\n",
      "log_pl : 0.004457072421821505\n",
      "pl : 0.004438980047841214\n",
      "inv_pl : 0.004421755595720279\n",
      "_rgeo_tev_2 : 0.004142056115570486\n",
      "_inv_epsilon_2_inv_tev : 0.004118297185637147\n",
      "inv_time : 0.00410371271172558\n",
      "log_time : 0.004099805995242189\n",
      "_abs_ip_inv_abs_bt_inv_epsilon : 0.004085404633486004\n",
      "_abs_bt_2_vol : 0.004074327894619803\n",
      "_nel_rgeo_vol : 0.004070629979572538\n",
      "_abs_bt_2_inv_abs_ip : 0.004029407679319101\n",
      "_inv_epsilon_2_rgeo : 0.004007345147602731\n",
      "_inv_abs_ip_inv_pressure_inv_vol : 0.004002856587887104\n",
      "inv_wmhd : 0.003985064172755349\n",
      "_abs_bt_epsilon_inv_rgeo : 0.003971191207120098\n",
      "_abs_ip_inv_abs_bt_rgeo : 0.0039697363105323236\n",
      "time : 0.003966525419769529\n",
      "wmhd : 0.0039528078066139284\n",
      "_inv_tev_nel_vol : 0.003912540665623722\n",
      "_epsilon_inv_abs_ip_inv_vol : 0.0038904185285658518\n",
      "_inv_rgeo_pressure_vol : 0.0038809394351791452\n",
      "_epsilon_inv_rgeo : 0.0038377535746469695\n",
      "log_inv_kappaa : 0.003834550137766331\n",
      "_inv_abs_ip_inv_vol_tev : 0.0038143129320720916\n",
      "_inv_abs_bt_pressure_vol : 0.0038089424533799955\n",
      "_inv_abs_ip_tev_vol : 0.0038060222931946383\n",
      "log_wmhd : 0.0037685704276965216\n",
      "_inv_abs_bt_rgeo : 0.003758063099561299\n",
      "kappaa : 0.0036999742787289115\n",
      "_inv_abs_bt_nel_rgeo : 0.0036734446591392437\n",
      "_inv_abs_bt_inv_epsilon_2 : 0.0036517350449646177\n",
      "_inv_abs_bt_2_rgeo : 0.0036410877812787547\n",
      "_abs_bt_inv_abs_ip_rgeo : 0.0035846504818855484\n",
      "_inv_abs_bt_inv_nel_inv_vol : 0.003584042429477779\n",
      "abs_bt : 0.003579901075119212\n",
      "_nel_rgeo_2 : 0.0035776799432120873\n",
      "wtot : 0.0035773377854655597\n",
      "_epsilon_inv_abs_bt_2 : 0.003569430305988057\n",
      "wth : 0.0035337370263135654\n",
      "inv_abs_bt : 0.0035337103578387684\n",
      "_inv_epsilon_rgeo_2 : 0.0035276548940637643\n",
      "_inv_tev_pressure_vol : 0.0035165922454532712\n",
      "_abs_ip_inv_abs_bt : 0.003515851739449686\n",
      "_epsilon_tev : 0.003503118485575458\n",
      "inv_wth : 0.0035019002821287952\n",
      "inv_bt : 0.003479466948288331\n",
      "_abs_bt_2 : 0.003478861008165635\n",
      "_abs_bt_vol : 0.003476701205061918\n",
      "_inv_epsilon_inv_rgeo_2 : 0.0034527111571267238\n",
      "bt : 0.0034189275749674456\n",
      "_abs_ip_epsilon_inv_vol : 0.003374730663264989\n",
      "ip : 0.0033703917175523486\n",
      "_abs_ip_inv_abs_bt_inv_vol : 0.003355371803449133\n",
      "_abs_bt_epsilon_rgeo : 0.0033546792486579425\n",
      "_abs_bt_rgeo_vol : 0.0033490928644591368\n",
      "_inv_epsilon_inv_vol_rgeo : 0.0033183062121860058\n",
      "_inv_abs_bt_inv_rgeo_vol : 0.0033114231881346307\n",
      "_inv_epsilon_rgeo_vol : 0.003310977923492494\n",
      "_inv_epsilon_2_vol : 0.003307266625578318\n",
      "inv_kappa : 0.0032536707933222423\n",
      "_inv_abs_ip_inv_rgeo_tev : 0.003245491672333413\n",
      "inv_vol : 0.003238993729016743\n",
      "_inv_epsilon_inv_tev_2 : 0.003233488703129343\n",
      "vol : 0.003211858929166544\n",
      "kappa : 0.0032054749139987506\n",
      "_abs_ip_inv_abs_bt_inv_tev : 0.003194646141347037\n",
      "_inv_abs_bt_inv_epsilon : 0.003186607455782177\n",
      "abs_pohm : 0.003176730141019627\n",
      "_abs_bt_epsilon_inv_nel : 0.003174856590499723\n",
      "_inv_abs_bt_2_vol : 0.0031414774329729532\n",
      "_abs_ip_epsilon_inv_abs_bt : 0.0031266337397890926\n",
      "_inv_abs_bt_nel_tev : 0.0031160663372743944\n",
      "_inv_abs_bt_2_inv_epsilon : 0.003100117127664662\n",
      "_inv_abs_ip_inv_epsilon_inv_rgeo : 0.003088867355616264\n",
      "betmhd : 0.003077484541233428\n",
      "_inv_epsilon_2_inv_rgeo : 0.0030631540037651863\n",
      "inv_betmhd : 0.0030382498651269157\n",
      "inv_epsilon : 0.003026467150754654\n",
      "log_beili2 : 0.003023064705767\n",
      "log_betmhd : 0.003022755150917698\n",
      "inv_ip : 0.0030162134735837068\n",
      "epsilon : 0.0030026640494062494\n",
      "_inv_abs_bt_inv_abs_ip_inv_rgeo : 0.0030018110314828732\n",
      "inv_beili2 : 0.002974433194673219\n",
      "_inv_abs_bt_inv_vol_tev : 0.002972123298095259\n",
      "_inv_abs_bt_2_inv_nel : 0.0029394327476120804\n",
      "abs_ip : 0.0029219131594954723\n",
      "_inv_abs_bt_inv_epsilon_inv_pressure : 0.002914489585074112\n",
      "beili2 : 0.002909045950597703\n",
      "_inv_abs_ip_2_inv_tev : 0.002907726913408173\n",
      "inv_abs_ip : 0.0028790018174563426\n",
      "_inv_abs_ip_2_rgeo : 0.0028704495756821033\n",
      "_epsilon_inv_abs_bt : 0.0028681721114627917\n",
      "_abs_ip_inv_epsilon_inv_vol : 0.0028675659595831507\n",
      "_rgeo_3 : 0.0028464245790009914\n",
      "_abs_bt_inv_abs_ip_2 : 0.0028360080077567567\n",
      "rgeo : 0.0028185041684252927\n",
      "_abs_bt_inv_abs_ip_inv_tev : 0.002810804326610007\n",
      "amin : 0.0028021843711022844\n",
      "_inv_abs_bt_tev_vol : 0.002773665807642179\n",
      "inv_rgeo : 0.002770126062708701\n",
      "_inv_abs_ip_vol : 0.002746080882453991\n",
      "_inv_pressure_2_inv_vol : 0.0027370577489995375\n",
      "_abs_bt_2_rgeo : 0.002724989457543148\n",
      "_inv_abs_ip_rgeo_vol : 0.002722292791261279\n",
      "inv_amin : 0.0026776898060684403\n",
      "log_amin : 0.002672522218097746\n",
      "_abs_ip_inv_rgeo_2 : 0.0026579093094776006\n",
      "_inv_abs_ip_inv_tev_vol : 0.0026577655045816255\n",
      "_abs_bt_2_inv_pressure : 0.0025983551044889363\n",
      "_inv_abs_bt_inv_rgeo_tev : 0.0025748796169221388\n",
      "_inv_epsilon_inv_nel_tev : 0.0025628660431598993\n",
      "_abs_bt_rgeo_2 : 0.002556501900363311\n",
      "_abs_bt_inv_rgeo_2 : 0.0025369712998964708\n",
      "_inv_abs_bt_pressure_tev : 0.002533335610682074\n",
      "_inv_abs_ip_inv_epsilon_rgeo : 0.00252524797128246\n",
      "_epsilon_2_inv_abs_ip : 0.0025231294805760874\n",
      "_abs_bt_abs_ip_inv_vol : 0.002510773423460043\n",
      "_abs_ip_epsilon_2 : 0.0025054072416606037\n",
      "log_inv_greenwald : 0.002500827000350069\n",
      "_abs_ip_inv_vol_rgeo : 0.0024940035822449383\n",
      "_inv_abs_bt_nel_vol : 0.0024682687175542704\n",
      "_epsilon_inv_abs_bt_inv_rgeo : 0.0024599001664125553\n",
      "_inv_pressure_tev_2 : 0.002444504894748539\n",
      "_epsilon_inv_abs_bt_rgeo : 0.0024364762990000573\n",
      "inv_greenwald : 0.0024361827589537673\n",
      "greenwald : 0.0024248759948962335\n",
      "_imp_prad_tok_pbxm : 0.0024061320770906785\n",
      "_inv_abs_ip_2_vol : 0.0023976444224829275\n",
      "_inv_abs_bt_2_inv_pressure : 0.0023821583987866574\n",
      "_abs_ip_inv_epsilon_inv_tev : 0.002380110036275979\n",
      "_epsilon_2_inv_abs_bt : 0.0023561398081051173\n",
      "_abs_bt_inv_pressure_tev : 0.002344794533598633\n",
      "_inv_abs_bt_2_tev : 0.0023375049361393217\n",
      "_abs_bt_2_abs_ip : 0.002336728319752561\n",
      "_inv_abs_ip_2_nel : 0.002336342363546604\n",
      "_inv_abs_bt_inv_abs_ip_rgeo : 0.0023314603164817684\n",
      "_abs_ip_2_inv_tev : 0.0023281883102828894\n",
      "_abs_ip_inv_epsilon : 0.0023013867659077186\n",
      "_inv_abs_bt_inv_epsilon_tev : 0.0022963874559798004\n",
      "_abs_ip_inv_epsilon_inv_rgeo : 0.002281227841028107\n",
      "_abs_ip_inv_nel_rgeo : 0.00226344712578815\n",
      "_inv_abs_ip_tev : 0.002260271887251295\n",
      "_inv_abs_bt_rgeo_tev : 0.002257133393987075\n",
      "_inv_epsilon_rgeo_tev : 0.0022384087284908314\n",
      "_abs_bt_epsilon_nel : 0.0022285552212045357\n",
      "_inv_abs_ip_nel_vol : 0.0022260466079764155\n",
      "_inv_abs_ip_nel_rgeo : 0.0022173003711277468\n",
      "_pressure_rgeo_tev : 0.0022166573505702286\n",
      "_inv_abs_bt_inv_rgeo : 0.0022165358905407526\n",
      "_inv_abs_bt_inv_abs_ip_inv_epsilon : 0.0022004147924759828\n",
      "_inv_epsilon_inv_tev_nel : 0.0021814269142475273\n",
      "_abs_bt_inv_tev : 0.0021793263848149886\n",
      "_abs_bt_inv_pressure_inv_rgeo : 0.0021757941321105955\n",
      "_inv_abs_bt_inv_nel_inv_tev : 0.0021734825181913917\n",
      "_inv_abs_ip_inv_tev_pressure : 0.0021567648083254992\n",
      "_epsilon_inv_abs_bt_tev : 0.00215512124055961\n",
      "_inv_nel_inv_tev_pressure : 0.002147574885779173\n",
      "_inv_nel_tev : 0.0021371290172520086\n",
      "imp_tauth : 0.002134125551501407\n",
      "_abs_bt_inv_tev_nel : 0.002126233124703597\n",
      "_abs_ip_inv_abs_bt_inv_nel : 0.0021185223095635634\n",
      "_inv_abs_bt_2_inv_tev : 0.002113732035506557\n",
      "_inv_abs_bt_tev_2 : 0.002110474902763798\n",
      "_inv_tev_2_nel : 0.0020908434900524836\n",
      "_abs_bt_abs_ip_inv_nel : 0.0020904094289111506\n",
      "_inv_abs_bt_inv_pressure_tev : 0.0020870991686363365\n",
      "_inv_epsilon_2_inv_nel : 0.002081668827864395\n",
      "_inv_nel_2_pressure : 0.002077606141718529\n",
      "_abs_bt_epsilon_inv_vol : 0.002072031945566217\n",
      "_inv_abs_ip_inv_tev_nel : 0.0020530494180488125\n",
      "_epsilon_inv_abs_bt_inv_abs_ip : 0.002009409829951437\n",
      "_inv_vol_tev : 0.002007894691554847\n",
      "_inv_epsilon_2_nel : 0.0019795601637362784\n",
      "_inv_abs_ip_2_pressure : 0.00195581538120834\n",
      "_inv_abs_ip_inv_vol_pressure : 0.0019439149924449478\n",
      "_abs_ip_inv_abs_bt_pressure : 0.0019392963236027313\n",
      "_inv_abs_ip_nel : 0.0019363404189324156\n",
      "_inv_rgeo_tev_2 : 0.0019319062321779047\n",
      "_inv_tev_vol : 0.0019302614069033979\n",
      "_inv_abs_ip_rgeo_tev : 0.001925449223622142\n",
      "_inv_epsilon_inv_pressure_tev : 0.001905758795511193\n",
      "_inv_tev_inv_vol_nel : 0.0018941096897614037\n",
      "_abs_ip_inv_pressure_nel : 0.0018925254599913887\n",
      "_inv_abs_bt_inv_abs_ip_tev : 0.001875957126487752\n",
      "_inv_epsilon_inv_pressure_nel : 0.0018674112787132127\n",
      "_epsilon_inv_abs_ip_nel : 0.0018669596593751457\n",
      "_inv_epsilon_inv_tev_pressure : 0.0018660912266885393\n",
      "_inv_abs_ip_pressure_rgeo : 0.0018649746614739487\n",
      "_inv_abs_ip_tev_2 : 0.0018630215186409569\n",
      "_abs_bt_pressure_rgeo : 0.0018583101847276249\n",
      "_abs_ip_epsilon_inv_pressure : 0.0018570210629298464\n",
      "_inv_tev_nel_2 : 0.0018418580441048745\n",
      "_inv_vol_rgeo_tev : 0.001835205111746962\n",
      "_inv_abs_bt_inv_tev_nel : 0.0018326342374278698\n",
      "_inv_abs_bt_inv_pressure : 0.001830870826294658\n",
      "_inv_abs_bt_nel : 0.0018158669456218247\n",
      "_abs_ip_inv_rgeo_tev : 0.001811953064033453\n",
      "_inv_pressure_inv_rgeo_tev : 0.0018050211144941585\n",
      "_inv_epsilon_nel : 0.0017909668652315313\n",
      "_inv_abs_bt_nel_pressure : 0.0017856631274619657\n",
      "_inv_abs_ip_pressure_tev : 0.001780231361097007\n",
      "_epsilon_inv_vol_tev : 0.0017703867107247706\n",
      "_inv_abs_bt_inv_nel : 0.0017626827354709944\n",
      "_abs_bt_inv_rgeo_tev : 0.001761812673000557\n",
      "_inv_abs_bt_inv_nel_pressure : 0.0017501180395301907\n",
      "_inv_abs_ip_nel_2 : 0.001749909492635693\n",
      "_inv_abs_bt_inv_abs_ip_pressure : 0.0017472768421963897\n",
      "_abs_bt_inv_nel_2 : 0.0017403120594679607\n",
      "_inv_abs_bt_inv_tev_vol : 0.0017391754691512523\n",
      "_inv_abs_ip_nel_tev : 0.0017335564658518315\n",
      "_inv_rgeo_2_tev : 0.0017202712723567962\n",
      "_abs_ip_inv_abs_bt_inv_pressure : 0.0017096743298938872\n",
      "_inv_vol_tev_2 : 0.0017035536016071049\n",
      "_inv_epsilon_inv_rgeo_tev : 0.001702503949264842\n",
      "_inv_epsilon_nel_rgeo : 0.0016959698268116472\n",
      "_inv_vol_nel_rgeo : 0.0016777501723176655\n",
      "_epsilon_inv_abs_bt_nel : 0.0016737238706273987\n",
      "_inv_abs_ip_nel_pressure : 0.0016715635200607254\n",
      "_inv_rgeo_tev : 0.0016586515058914304\n",
      "nev : 0.0016540405983159867\n",
      "_inv_nel_rgeo_tev : 0.0016490286686939367\n",
      "_abs_bt_inv_nel_rgeo : 0.0016367204352790274\n",
      "_inv_rgeo_nel_vol : 0.0016197384278741137\n",
      "_inv_epsilon_2_tev : 0.0015935602071939473\n",
      "log_nev : 0.0015825027440339921\n",
      "_inv_abs_ip_pressure : 0.0015804085486097557\n",
      "_inv_epsilon_inv_tev_rgeo : 0.0015666031722692342\n",
      "_inv_abs_bt_inv_epsilon_inv_tev : 0.0015544332477085698\n",
      "inv_meff : 0.0015486154988485067\n",
      "log_inv_meff : 0.0015482230463468843\n",
      "_abs_bt_inv_abs_ip_inv_nel : 0.0015471259282448442\n",
      "_inv_epsilon_inv_nel : 0.0015300443888141275\n",
      "meff : 0.001526685351925521\n",
      "_nel_tev : 0.0015248315096300928\n",
      "_inv_abs_bt_inv_nel_vol : 0.0015195341665897983\n",
      "_inv_rgeo_nel_tev : 0.0015149666919041542\n",
      "_abs_bt_nel_rgeo : 0.0015124008586568968\n",
      "_inv_abs_bt_inv_abs_ip_inv_tev : 0.001510630080169986\n",
      "_inv_abs_bt_inv_pressure_nel : 0.0015048143345973897\n",
      "_inv_pressure_nel_rgeo : 0.0014997678208022865\n",
      "_abs_ip_inv_rgeo_pressure : 0.0014969443992540014\n",
      "_nel_2_vol : 0.0014869247061516495\n",
      "_nel_pressure_rgeo : 0.0014773248102115722\n",
      "_epsilon_inv_tev_2 : 0.001475529771761424\n",
      "_inv_abs_ip_inv_rgeo_pressure : 0.0014750789686454931\n",
      "_epsilon_inv_tev : 0.0014743942441634657\n",
      "_inv_abs_bt_pressure : 0.0014725072244249535\n",
      "_inv_epsilon_inv_nel_pressure : 0.001472313886464971\n",
      "_epsilon_inv_nel_2 : 0.0014642498125655556\n",
      "_inv_epsilon_inv_nel_vol : 0.0014623150495245158\n",
      "_inv_vol_pressure_tev : 0.00146180162570142\n",
      "_inv_abs_ip_inv_nel_vol : 0.0014616363284452782\n",
      "_inv_abs_bt_inv_pressure_rgeo : 0.001450570517828962\n",
      "_epsilon_inv_abs_bt_inv_nel : 0.0014481344283154686\n",
      "_nel_pressure_vol : 0.0014456509853124095\n",
      "_inv_nel_2_inv_tev : 0.0014390646821083905\n",
      "_abs_bt_inv_epsilon_tev : 0.0014334216796430166\n",
      "_abs_ip_inv_tev_nel : 0.0014325225297139735\n",
      "_inv_tev_nel_pressure : 0.0014263945000551877\n",
      "_inv_abs_bt_inv_vol_pressure : 0.0014240093546251322\n",
      "inv_tev : 0.0014232898068024951\n",
      "_abs_ip_inv_tev_pressure : 0.0014211361810187774\n",
      "_inv_abs_bt_inv_nel_inv_pressure : 0.0014193672410975698\n",
      "_nel_rgeo_tev : 0.0014052249240032173\n",
      "_epsilon_inv_abs_ip_pressure : 0.0014030006063560454\n",
      "_inv_epsilon_inv_rgeo_nel : 0.0014000730132494997\n",
      "_inv_vol_nel_tev : 0.0013960621743822476\n",
      "_inv_abs_ip_2_inv_nel : 0.0013879024086734678\n",
      "_inv_vol_nel_2 : 0.0013871336375167857\n",
      "_inv_pressure_nel : 0.0013869887473915805\n",
      "_inv_abs_bt_inv_abs_ip_inv_nel : 0.001374348614135431\n",
      "_inv_epsilon_inv_nel_inv_tev : 0.0013702149814968654\n",
      "_inv_abs_bt_inv_tev : 0.0013637165239293529\n",
      "_inv_nel_pressure_tev : 0.0013566991842327088\n",
      "_inv_abs_bt_inv_tev_2 : 0.0013554188875436034\n",
      "_nel_2_pressure : 0.0013534736705230815\n",
      "_inv_rgeo_nel_pressure : 0.001347083060958684\n",
      "_inv_epsilon_2_inv_pressure : 0.0013440598290010261\n",
      "_inv_nel_2_inv_rgeo : 0.0013373839688365762\n",
      "_nel_tev_2 : 0.001336631826726494\n",
      "_inv_abs_bt_inv_pressure_inv_tev : 0.001335664495101238\n",
      "tev : 0.0013121610334097718\n",
      "_inv_abs_ip_inv_nel_inv_pressure : 0.0013093723668956593\n",
      "log_tev : 0.0013092192528688547\n",
      "_inv_nel_inv_rgeo : 0.001304565305829546\n",
      "_inv_epsilon_inv_pressure_inv_rgeo : 0.0013018561831195884\n",
      "_inv_abs_bt_inv_abs_ip_inv_pressure : 0.0012999348670515714\n",
      "_nel_pressure : 0.0012884108516358894\n",
      "_epsilon_inv_nel_inv_tev : 0.001285538540979432\n",
      "_inv_abs_ip_inv_nel_inv_tev : 0.0012766565232188354\n",
      "_inv_pressure_rgeo_tev : 0.0012761623887278858\n",
      "_inv_abs_ip_inv_pressure_2 : 0.0012735103975249544\n",
      "_epsilon_inv_abs_ip_inv_nel : 0.0012715209605861373\n",
      "_inv_abs_ip_pressure_2 : 0.0012672975093653354\n",
      "_inv_abs_ip_inv_pressure : 0.0012662675671129293\n",
      "_epsilon_inv_nel_inv_pressure : 0.0012563739224215693\n",
      "_inv_abs_bt_inv_pressure_vol : 0.001245664911437331\n",
      "_inv_abs_ip_inv_nel : 0.0012433962104054844\n",
      "_inv_abs_ip_inv_nel_rgeo : 0.0012324990948341917\n",
      "_inv_vol_nel_pressure : 0.0012249049425349942\n",
      "_epsilon_nel_rgeo : 0.0012238974477404093\n",
      "_epsilon_inv_abs_ip_inv_pressure : 0.0012220819938868449\n",
      "_abs_bt_inv_epsilon_pressure : 0.001217960252229364\n",
      "_imp_tauth_tok_aug : 0.001217414411618798\n",
      "_inv_epsilon_inv_nel_2 : 0.0012167001076246202\n",
      "_inv_abs_bt_inv_nel_2 : 0.0012100155206800735\n",
      "_abs_ip_nel_2 : 0.0012099998688141068\n",
      "imp_wth : 0.0012081277843344774\n",
      "_inv_epsilon_inv_nel_inv_pressure : 0.0011934294820791598\n",
      "_inv_abs_ip_2_inv_pressure : 0.001192722343563527\n",
      "_inv_epsilon_inv_pressure_inv_tev : 0.001182794800951796\n",
      "_inv_nel_2_rgeo : 0.001177033411370869\n",
      "_inv_abs_bt_inv_rgeo_pressure : 0.0011758264815158708\n",
      "_inv_nel_inv_pressure_2 : 0.0011694674912752845\n",
      "_inv_abs_bt_inv_pressure_2 : 0.0011689918929003354\n",
      "_abs_bt_inv_epsilon_inv_pressure : 0.001167092280795218\n",
      "_inv_vol_pressure_rgeo : 0.0011618622773151676\n",
      "_inv_rgeo_pressure_tev : 0.001161855130320882\n",
      "_epsilon_inv_rgeo_nel : 0.001161031305137033\n",
      "_inv_nel_rgeo_2 : 0.001141744609468245\n",
      "_inv_epsilon_inv_pressure_vol : 0.0011353417024591173\n",
      "_inv_nel_3 : 0.0011265889951726105\n",
      "_inv_rgeo_nel : 0.00112447372724121\n",
      "_inv_tev_pressure_2 : 0.0011010690956338716\n",
      "_nel_pressure_tev : 0.0010925377244007228\n",
      "_inv_abs_bt_pressure_2 : 0.0010808696720893958\n"
     ]
    },
    {
     "name": "stdout",
     "output_type": "stream",
     "text": [
      "359\n"
     ]
    }
   ],
   "source": [
    "feat_labels = cur_X.columns\n",
    "beat_val = 7.5 * np.max(cur_clf.feature_importances_) / 100\n",
    "cur_count = 0\n",
    "\n",
    "for feature in reversed(sorted(zip(cur_clf.feature_importances_, feat_labels))):\n",
    "    feat, importance = list(reversed(feature))\n",
    "    assert importance >= 0\n",
    "    if importance <= beat_val : continue\n",
    "    cur_count += 1\n",
    "    print(feat, \":\", importance)\n",
    "   \n",
    "for feature in reversed(sorted(zip(cur_clf.feature_importances_, feat_labels))):\n",
    "    feat, importance = list(reversed(feature))\n",
    "    assert importance >= 0\n",
    "    if importance > beat_val : continue\n",
    "    skipped_columns.append(feat)\n",
    "    \n",
    "print(cur_count)\n"
   ]
  },
  {
   "cell_type": "code",
   "execution_count": 12,
   "metadata": {},
   "outputs": [],
   "source": [
    "tmp_columns = [\n",
    "  work_col for work_col in cur_data.columns if work_col not in skipped_columns\n",
    "]\n",
    "\n",
    "cur_X = cur_data[tmp_columns]\n",
    "cur_y = cur_data[\"is_good\"]\n",
    "\n",
    "scaler = StandardScaler().fit(cur_X)\n",
    "cur_X = pd.DataFrame(scaler.transform(cur_X), columns=cur_X.columns)\n"
   ]
  },
  {
   "cell_type": "code",
   "execution_count": 13,
   "metadata": {
    "scrolled": true
   },
   "outputs": [
    {
     "name": "stdout",
     "output_type": "stream",
     "text": [
      "[LibLinear]"
     ]
    },
    {
     "name": "stderr",
     "output_type": "stream",
     "text": [
      "/usr/local/lib/python3.7/site-packages/sklearn/svm/base.py:929: ConvergenceWarning: Liblinear failed to converge, increase the number of iterations.\n",
      "  \"the number of iterations.\", ConvergenceWarning)\n"
     ]
    },
    {
     "name": "stdout",
     "output_type": "stream",
     "text": [
      "[LibLinear]"
     ]
    },
    {
     "name": "stderr",
     "output_type": "stream",
     "text": [
      "/usr/local/lib/python3.7/site-packages/sklearn/svm/base.py:929: ConvergenceWarning: Liblinear failed to converge, increase the number of iterations.\n",
      "  \"the number of iterations.\", ConvergenceWarning)\n"
     ]
    },
    {
     "name": "stdout",
     "output_type": "stream",
     "text": [
      "[LibLinear]"
     ]
    },
    {
     "name": "stderr",
     "output_type": "stream",
     "text": [
      "/usr/local/lib/python3.7/site-packages/sklearn/svm/base.py:929: ConvergenceWarning: Liblinear failed to converge, increase the number of iterations.\n",
      "  \"the number of iterations.\", ConvergenceWarning)\n"
     ]
    },
    {
     "name": "stdout",
     "output_type": "stream",
     "text": [
      "[LibLinear]"
     ]
    },
    {
     "name": "stderr",
     "output_type": "stream",
     "text": [
      "/usr/local/lib/python3.7/site-packages/sklearn/svm/base.py:929: ConvergenceWarning: Liblinear failed to converge, increase the number of iterations.\n",
      "  \"the number of iterations.\", ConvergenceWarning)\n"
     ]
    },
    {
     "name": "stdout",
     "output_type": "stream",
     "text": [
      "[LibLinear]"
     ]
    },
    {
     "name": "stderr",
     "output_type": "stream",
     "text": [
      "/usr/local/lib/python3.7/site-packages/sklearn/svm/base.py:929: ConvergenceWarning: Liblinear failed to converge, increase the number of iterations.\n",
      "  \"the number of iterations.\", ConvergenceWarning)\n"
     ]
    },
    {
     "data": {
      "text/plain": [
       "GridSearchCV(cv=4, error_score='raise-deprecating',\n",
       "             estimator=LinearSVC(C=5, class_weight=None, dual=False,\n",
       "                                 fit_intercept=True, intercept_scaling=1,\n",
       "                                 loss='squared_hinge', max_iter=10000,\n",
       "                                 multi_class='ovr', penalty='l1',\n",
       "                                 random_state=None, tol=0.0001, verbose=True),\n",
       "             iid='warn', n_jobs=None, param_grid={}, pre_dispatch='2*n_jobs',\n",
       "             refit=True, return_train_score=False, scoring=None, verbose=0)"
      ]
     },
     "execution_count": 13,
     "metadata": {},
     "output_type": "execute_result"
    }
   ],
   "source": [
    "tuned_parameters = {}\n",
    "svc_clf = GridSearchCV(LinearSVC(C=5, penalty=\"l1\", dual=False, max_iter=10000, verbose=True), tuned_parameters, cv=4)\n",
    "svc_clf.fit(cur_X, cur_y)\n"
   ]
  },
  {
   "cell_type": "code",
   "execution_count": 14,
   "metadata": {},
   "outputs": [
    {
     "data": {
      "text/plain": [
       "257"
      ]
     },
     "execution_count": 14,
     "metadata": {},
     "output_type": "execute_result"
    }
   ],
   "source": [
    "first_pass_columns = cur_X.columns[np.where(np.abs(svc_clf.best_estimator_.coef_) > 1e-5)[1]]\n",
    "len(first_pass_columns)\n"
   ]
  },
  {
   "cell_type": "code",
   "execution_count": 15,
   "metadata": {},
   "outputs": [],
   "source": [
    "cur_X = cur_data[first_pass_columns]\n",
    "cur_y = cur_data[\"is_good\"]\n",
    "\n",
    "scaler = StandardScaler().fit(cur_X)\n",
    "cur_X = pd.DataFrame(scaler.transform(cur_X), columns=cur_X.columns)\n"
   ]
  },
  {
   "cell_type": "code",
   "execution_count": 16,
   "metadata": {},
   "outputs": [
    {
     "name": "stderr",
     "output_type": "stream",
     "text": [
      "[Parallel(n_jobs=-1)]: Using backend LokyBackend with 8 concurrent workers.\n",
      "[Parallel(n_jobs=-1)]: Done   1 out of   1 | elapsed:  1.2min finished\n",
      "[Parallel(n_jobs=-1)]: Using backend LokyBackend with 8 concurrent workers.\n",
      "[Parallel(n_jobs=-1)]: Done   1 out of   1 | elapsed:  2.3min finished\n",
      "[Parallel(n_jobs=-1)]: Using backend LokyBackend with 8 concurrent workers.\n",
      "[Parallel(n_jobs=-1)]: Done   1 out of   1 | elapsed:  1.6min finished\n",
      "[Parallel(n_jobs=-1)]: Using backend LokyBackend with 8 concurrent workers.\n",
      "[Parallel(n_jobs=-1)]: Done   1 out of   1 | elapsed:  2.7min finished\n",
      "[Parallel(n_jobs=-1)]: Using backend ThreadingBackend with 8 concurrent workers.\n"
     ]
    },
    {
     "name": "stdout",
     "output_type": "stream",
     "text": [
      "convergence after 4988 epochs took 162 seconds\n"
     ]
    },
    {
     "name": "stderr",
     "output_type": "stream",
     "text": [
      "[Parallel(n_jobs=-1)]: Done   1 out of   1 | elapsed:  2.7min finished\n"
     ]
    },
    {
     "data": {
      "text/plain": [
       "GridSearchCV(cv=4, error_score='raise-deprecating',\n",
       "             estimator=LogisticRegression(C=1, class_weight=None, dual=False,\n",
       "                                          fit_intercept=True,\n",
       "                                          intercept_scaling=1, l1_ratio=None,\n",
       "                                          max_iter=10000, multi_class='warn',\n",
       "                                          n_jobs=-1, penalty='l1',\n",
       "                                          random_state=None, solver='saga',\n",
       "                                          tol=0.0001, verbose=True,\n",
       "                                          warm_start=False),\n",
       "             iid='warn', n_jobs=None, param_grid={}, pre_dispatch='2*n_jobs',\n",
       "             refit=True, return_train_score=False, scoring=None, verbose=0)"
      ]
     },
     "execution_count": 16,
     "metadata": {},
     "output_type": "execute_result"
    }
   ],
   "source": [
    "tuned_parameters = {}\n",
    "log_clf = GridSearchCV(LogisticRegression(penalty='l1', C=1, solver='saga', max_iter=10000, verbose=True, n_jobs=-1), tuned_parameters, cv=4)\n",
    "log_clf.fit(cur_X, cur_y)\n"
   ]
  },
  {
   "cell_type": "code",
   "execution_count": 17,
   "metadata": {},
   "outputs": [
    {
     "data": {
      "text/plain": [
       "93"
      ]
     },
     "execution_count": 17,
     "metadata": {},
     "output_type": "execute_result"
    }
   ],
   "source": [
    "second_pass_columns = cur_X.columns[np.where(np.abs(log_clf.best_estimator_.coef_) > 1e-5)[1]]\n",
    "len(second_pass_columns)\n"
   ]
  },
  {
   "cell_type": "code",
   "execution_count": 18,
   "metadata": {},
   "outputs": [],
   "source": [
    "cur_X = cur_data[second_pass_columns]\n",
    "cur_y = cur_data[\"is_good\"]\n",
    "\n",
    "scaler = StandardScaler().fit(cur_X)\n",
    "cur_X = pd.DataFrame(scaler.transform(cur_X), columns=cur_X.columns)\n"
   ]
  },
  {
   "cell_type": "code",
   "execution_count": 19,
   "metadata": {},
   "outputs": [
    {
     "name": "stdout",
     "output_type": "stream",
     "text": [
      "[LibLinear]"
     ]
    },
    {
     "name": "stderr",
     "output_type": "stream",
     "text": [
      "/usr/local/lib/python3.7/site-packages/sklearn/svm/base.py:929: ConvergenceWarning: Liblinear failed to converge, increase the number of iterations.\n",
      "  \"the number of iterations.\", ConvergenceWarning)\n"
     ]
    },
    {
     "name": "stdout",
     "output_type": "stream",
     "text": [
      "[LibLinear]"
     ]
    },
    {
     "name": "stderr",
     "output_type": "stream",
     "text": [
      "/usr/local/lib/python3.7/site-packages/sklearn/svm/base.py:929: ConvergenceWarning: Liblinear failed to converge, increase the number of iterations.\n",
      "  \"the number of iterations.\", ConvergenceWarning)\n"
     ]
    },
    {
     "name": "stdout",
     "output_type": "stream",
     "text": [
      "[LibLinear]"
     ]
    },
    {
     "name": "stderr",
     "output_type": "stream",
     "text": [
      "/usr/local/lib/python3.7/site-packages/sklearn/svm/base.py:929: ConvergenceWarning: Liblinear failed to converge, increase the number of iterations.\n",
      "  \"the number of iterations.\", ConvergenceWarning)\n"
     ]
    },
    {
     "name": "stdout",
     "output_type": "stream",
     "text": [
      "[LibLinear]"
     ]
    },
    {
     "name": "stderr",
     "output_type": "stream",
     "text": [
      "/usr/local/lib/python3.7/site-packages/sklearn/svm/base.py:929: ConvergenceWarning: Liblinear failed to converge, increase the number of iterations.\n",
      "  \"the number of iterations.\", ConvergenceWarning)\n"
     ]
    },
    {
     "name": "stdout",
     "output_type": "stream",
     "text": [
      "[LibLinear]"
     ]
    },
    {
     "name": "stderr",
     "output_type": "stream",
     "text": [
      "/usr/local/lib/python3.7/site-packages/sklearn/svm/base.py:929: ConvergenceWarning: Liblinear failed to converge, increase the number of iterations.\n",
      "  \"the number of iterations.\", ConvergenceWarning)\n"
     ]
    },
    {
     "data": {
      "text/plain": [
       "GridSearchCV(cv=4, error_score='raise-deprecating',\n",
       "             estimator=LinearSVC(C=0.75, class_weight=None, dual=False,\n",
       "                                 fit_intercept=True, intercept_scaling=1,\n",
       "                                 loss='squared_hinge', max_iter=25000,\n",
       "                                 multi_class='ovr', penalty='l1',\n",
       "                                 random_state=None, tol=0.0001, verbose=True),\n",
       "             iid='warn', n_jobs=None, param_grid={}, pre_dispatch='2*n_jobs',\n",
       "             refit=True, return_train_score=False, scoring=None, verbose=0)"
      ]
     },
     "execution_count": 19,
     "metadata": {},
     "output_type": "execute_result"
    }
   ],
   "source": [
    "tuned_parameters = {}\n",
    "svc_clf = GridSearchCV(LinearSVC(C=0.75, penalty=\"l1\", dual=False, max_iter=25000, verbose=True), tuned_parameters, cv=4)\n",
    "svc_clf.fit(cur_X, cur_y)\n"
   ]
  },
  {
   "cell_type": "code",
   "execution_count": 20,
   "metadata": {},
   "outputs": [
    {
     "data": {
      "text/plain": [
       "76"
      ]
     },
     "execution_count": 20,
     "metadata": {},
     "output_type": "execute_result"
    }
   ],
   "source": [
    "third_pass_columns = cur_X.columns[np.where(np.abs(svc_clf.best_estimator_.coef_) > 1e-5)[1]]\n",
    "len(third_pass_columns)\n"
   ]
  },
  {
   "cell_type": "code",
   "execution_count": 21,
   "metadata": {},
   "outputs": [],
   "source": [
    "cur_X = cur_data[third_pass_columns]\n",
    "cur_y = cur_data[\"is_good\"]\n",
    "\n",
    "scaler = StandardScaler().fit(cur_X)\n",
    "cur_X = pd.DataFrame(scaler.transform(cur_X), columns=cur_X.columns)\n"
   ]
  },
  {
   "cell_type": "code",
   "execution_count": 22,
   "metadata": {},
   "outputs": [
    {
     "name": "stderr",
     "output_type": "stream",
     "text": [
      "[Parallel(n_jobs=-1)]: Using backend LokyBackend with 8 concurrent workers.\n",
      "[Parallel(n_jobs=-1)]: Done   1 out of   1 | elapsed:   14.1s finished\n",
      "[Parallel(n_jobs=-1)]: Using backend LokyBackend with 8 concurrent workers.\n",
      "[Parallel(n_jobs=-1)]: Done   1 out of   1 | elapsed:   26.3s finished\n",
      "[Parallel(n_jobs=-1)]: Using backend LokyBackend with 8 concurrent workers.\n",
      "[Parallel(n_jobs=-1)]: Done   1 out of   1 | elapsed:   10.6s finished\n",
      "[Parallel(n_jobs=-1)]: Using backend LokyBackend with 8 concurrent workers.\n",
      "[Parallel(n_jobs=-1)]: Done   1 out of   1 | elapsed:   13.8s finished\n",
      "[Parallel(n_jobs=-1)]: Using backend ThreadingBackend with 8 concurrent workers.\n"
     ]
    },
    {
     "name": "stdout",
     "output_type": "stream",
     "text": [
      "convergence after 2180 epochs took 22 seconds\n"
     ]
    },
    {
     "name": "stderr",
     "output_type": "stream",
     "text": [
      "[Parallel(n_jobs=-1)]: Done   1 out of   1 | elapsed:   22.3s finished\n"
     ]
    },
    {
     "data": {
      "text/plain": [
       "GridSearchCV(cv=4, error_score='raise-deprecating',\n",
       "             estimator=LogisticRegression(C=0.25, class_weight=None, dual=False,\n",
       "                                          fit_intercept=True,\n",
       "                                          intercept_scaling=1, l1_ratio=None,\n",
       "                                          max_iter=10000, multi_class='warn',\n",
       "                                          n_jobs=-1, penalty='l1',\n",
       "                                          random_state=None, solver='saga',\n",
       "                                          tol=0.0001, verbose=True,\n",
       "                                          warm_start=False),\n",
       "             iid='warn', n_jobs=None, param_grid={}, pre_dispatch='2*n_jobs',\n",
       "             refit=True, return_train_score=False, scoring=None, verbose=0)"
      ]
     },
     "execution_count": 22,
     "metadata": {},
     "output_type": "execute_result"
    }
   ],
   "source": [
    "tuned_parameters = {}\n",
    "log_clf = GridSearchCV(LogisticRegression(penalty='l1', C=0.25, solver='saga', max_iter=10000, verbose=True, n_jobs=-1), tuned_parameters, cv=4)\n",
    "log_clf.fit(cur_X, cur_y)\n"
   ]
  },
  {
   "cell_type": "code",
   "execution_count": 23,
   "metadata": {},
   "outputs": [
    {
     "data": {
      "text/plain": [
       "53"
      ]
     },
     "execution_count": 23,
     "metadata": {},
     "output_type": "execute_result"
    }
   ],
   "source": [
    "fourth_pass_columns = cur_X.columns[np.where(np.abs(log_clf.best_estimator_.coef_) > 1e-5)[1]]\n",
    "len(fourth_pass_columns)\n"
   ]
  },
  {
   "cell_type": "code",
   "execution_count": 24,
   "metadata": {},
   "outputs": [],
   "source": [
    "cur_X = cur_data[fourth_pass_columns]\n",
    "cur_y = cur_data[\"is_good\"]\n",
    "\n",
    "scaler = StandardScaler().fit(cur_X)\n",
    "cur_X = pd.DataFrame(scaler.transform(cur_X), columns=cur_X.columns)\n"
   ]
  },
  {
   "cell_type": "code",
   "execution_count": 25,
   "metadata": {},
   "outputs": [
    {
     "data": {
      "text/plain": [
       "RandomForestClassifier(bootstrap=True, class_weight=None, criterion='gini',\n",
       "                       max_depth=None, max_features='auto', max_leaf_nodes=None,\n",
       "                       min_impurity_decrease=0.0, min_impurity_split=None,\n",
       "                       min_samples_leaf=1, min_samples_split=2,\n",
       "                       min_weight_fraction_leaf=0.0, n_estimators=10000,\n",
       "                       n_jobs=-1, oob_score=False, random_state=0, verbose=0,\n",
       "                       warm_start=False)"
      ]
     },
     "execution_count": 25,
     "metadata": {},
     "output_type": "execute_result"
    }
   ],
   "source": [
    "cur_clf = RandomForestClassifier(n_estimators=10000, random_state=0, n_jobs=-1)\n",
    "cur_clf.fit(cur_X, cur_y)\n"
   ]
  },
  {
   "cell_type": "code",
   "execution_count": 26,
   "metadata": {},
   "outputs": [
    {
     "data": {
      "image/png": "[encoded data removed]",
      "text/plain": [
       "<Figure size 432x288 with 1 Axes>"
      ]
     },
     "metadata": {
      "needs_background": "light"
     },
     "output_type": "display_data"
    }
   ],
   "source": [
    "features = fourth_pass_columns\n",
    "importances = cur_clf.feature_importances_\n",
    "indices = reversed(np.argsort(importances))\n",
    "\n",
    "count = 0\n",
    "new_indices = []\n",
    "names = []\n",
    "for index in indices:\n",
    "    if len(new_indices) >= 12 : break\n",
    "        \n",
    "    name = features[index]\n",
    "    if name.startswith(\"_\") : \n",
    "        new_indices.append(index)\n",
    "        name = name.replace(\"abs_\", \"\")[1:]\n",
    "        names.append(name)\n",
    "        continue\n",
    "    name = name.replace(\"inv_\", \"\")\n",
    "    name = name.replace(\"log_\", \"\")\n",
    "    \n",
    "    if name in names : continue\n",
    "    names.append(name)\n",
    "    \n",
    "    new_indices.append(index)\n",
    "  \n",
    "indices = list(reversed(new_indices))\n",
    "names = reversed(names)\n",
    "\n",
    "plt.title('Feature Importances (Random Forests)')\n",
    "plt.barh(range(len(indices)), importances[indices], color='b', align='center')\n",
    "plt.yticks(range(len(indices)), names)\n",
    "plt.xlabel('')\n",
    "plt.show()"
   ]
  },
  {
   "cell_type": "code",
   "execution_count": 27,
   "metadata": {},
   "outputs": [],
   "source": [
    "def plot_1(ax):\n",
    "    plt.sca(ax)\n",
    "    \n",
    "    features = fourth_pass_columns\n",
    "    importances = log_clf.best_estimator_.coef_[0][np.where(np.abs(log_clf.best_estimator_.coef_) > 1e-5)[1]]\n",
    "    indices = reversed(np.argsort(np.abs(importances)))\n",
    "\n",
    "    count = 0\n",
    "    new_indices = []\n",
    "    names = []\n",
    "    for index in indices:\n",
    "        if len(new_indices) >= 12 : break\n",
    "\n",
    "        name = features[index]\n",
    "        if name.startswith(\"_\") : \n",
    "            new_indices.append(index)\n",
    "            name = name.replace(\"abs_\", \"\")[1:]\n",
    "            names.append(name)\n",
    "            continue\n",
    "        name = name.replace(\"inv_\", \"\")\n",
    "        name = name.replace(\"log_\", \"\")\n",
    "\n",
    "        if name in names : continue\n",
    "        names.append(name)\n",
    "\n",
    "        new_indices.append(index)\n",
    "\n",
    "    indices = list(reversed(new_indices))\n",
    "    names = list(reversed(names))\n",
    "\n",
    "    importances = importances[indices]\n",
    "    indices = list(reversed(np.argsort((importances))))\n",
    "\n",
    "    names = [names[i] for i in indices]\n",
    "\n",
    "    # features = fourth_pass_columns\n",
    "    # importances = log_clf.best_estimator_.coef_[0][np.where(np.abs(log_clf.best_estimator_.coef_) > 1e-5)[1]]\n",
    "    # indices = reversed(np.argsort(np.abs(importances)))\n",
    "\n",
    "    plt.title('Logistic Features')\n",
    "    plt.barh(range(len(indices)), importances[indices], color='b', align='center')\n",
    "    plt.yticks(range(len(indices)), names)\n",
    "    plt.xlabel('')"
   ]
  },
  {
   "cell_type": "code",
   "execution_count": 28,
   "metadata": {},
   "outputs": [
    {
     "name": "stdout",
     "output_type": "stream",
     "text": [
      "[LibLinear]"
     ]
    },
    {
     "name": "stderr",
     "output_type": "stream",
     "text": [
      "/usr/local/lib/python3.7/site-packages/sklearn/svm/base.py:929: ConvergenceWarning: Liblinear failed to converge, increase the number of iterations.\n",
      "  \"the number of iterations.\", ConvergenceWarning)\n"
     ]
    },
    {
     "name": "stdout",
     "output_type": "stream",
     "text": [
      "[LibLinear]"
     ]
    },
    {
     "name": "stderr",
     "output_type": "stream",
     "text": [
      "/usr/local/lib/python3.7/site-packages/sklearn/svm/base.py:929: ConvergenceWarning: Liblinear failed to converge, increase the number of iterations.\n",
      "  \"the number of iterations.\", ConvergenceWarning)\n"
     ]
    },
    {
     "name": "stdout",
     "output_type": "stream",
     "text": [
      "[LibLinear]"
     ]
    },
    {
     "name": "stderr",
     "output_type": "stream",
     "text": [
      "/usr/local/lib/python3.7/site-packages/sklearn/svm/base.py:929: ConvergenceWarning: Liblinear failed to converge, increase the number of iterations.\n",
      "  \"the number of iterations.\", ConvergenceWarning)\n"
     ]
    },
    {
     "name": "stdout",
     "output_type": "stream",
     "text": [
      "[LibLinear]"
     ]
    },
    {
     "name": "stderr",
     "output_type": "stream",
     "text": [
      "/usr/local/lib/python3.7/site-packages/sklearn/svm/base.py:929: ConvergenceWarning: Liblinear failed to converge, increase the number of iterations.\n",
      "  \"the number of iterations.\", ConvergenceWarning)\n"
     ]
    },
    {
     "name": "stdout",
     "output_type": "stream",
     "text": [
      "[LibLinear]"
     ]
    },
    {
     "name": "stderr",
     "output_type": "stream",
     "text": [
      "/usr/local/lib/python3.7/site-packages/sklearn/svm/base.py:929: ConvergenceWarning: Liblinear failed to converge, increase the number of iterations.\n",
      "  \"the number of iterations.\", ConvergenceWarning)\n"
     ]
    },
    {
     "data": {
      "text/plain": [
       "GridSearchCV(cv=4, error_score='raise-deprecating',\n",
       "             estimator=LinearSVC(C=10, class_weight=None, dual=False,\n",
       "                                 fit_intercept=True, intercept_scaling=1,\n",
       "                                 loss='squared_hinge', max_iter=10000,\n",
       "                                 multi_class='ovr', penalty='l1',\n",
       "                                 random_state=None, tol=0.0001, verbose=True),\n",
       "             iid='warn', n_jobs=None, param_grid={}, pre_dispatch='2*n_jobs',\n",
       "             refit=True, return_train_score=False, scoring=None, verbose=0)"
      ]
     },
     "execution_count": 28,
     "metadata": {},
     "output_type": "execute_result"
    }
   ],
   "source": [
    "cur_X = cur_data[fourth_pass_columns]\n",
    "cur_y = cur_data[\"is_good\"]\n",
    "\n",
    "scaler = StandardScaler().fit(cur_X)\n",
    "cur_X = pd.DataFrame(scaler.transform(cur_X), columns=cur_X.columns)\n",
    "\n",
    "tuned_parameters = {}\n",
    "svc_clf = GridSearchCV(LinearSVC(C=10, penalty=\"l1\", dual=False, max_iter=10000, verbose=True), tuned_parameters, cv=4)\n",
    "svc_clf.fit(cur_X, cur_y)\n"
   ]
  },
  {
   "cell_type": "code",
   "execution_count": 29,
   "metadata": {},
   "outputs": [],
   "source": [
    "def plot_2(ax):\n",
    "    plt.sca(ax)\n",
    "    \n",
    "    fifth_pass_columns = cur_X.columns[np.where(np.abs(svc_clf.best_estimator_.coef_) > 1e-5)[1]]\n",
    "\n",
    "    features = fifth_pass_columns\n",
    "    importances = svc_clf.best_estimator_.coef_[0][np.where(np.abs(svc_clf.best_estimator_.coef_) > 1e-5)[1]]\n",
    "    indices = reversed(np.argsort(np.abs(importances)))\n",
    "\n",
    "    count = 0\n",
    "    new_indices = []\n",
    "    names = []\n",
    "    for index in indices:\n",
    "        if len(new_indices) >= 12 : break\n",
    "\n",
    "        name = features[index]\n",
    "        if name.startswith(\"_\") : \n",
    "            new_indices.append(index)\n",
    "            name = name.replace(\"abs_\", \"\")[1:]\n",
    "            names.append(name)\n",
    "            continue\n",
    "        name = name.replace(\"inv_\", \"\")\n",
    "        name = name.replace(\"log_\", \"\")\n",
    "\n",
    "        if name in names : continue\n",
    "        names.append(name)\n",
    "\n",
    "        new_indices.append(index)\n",
    "\n",
    "    indices = list(reversed(new_indices))\n",
    "    names = list(reversed(names))\n",
    "\n",
    "    importances = importances[indices]\n",
    "    indices = list(reversed(np.argsort((importances))))\n",
    "\n",
    "    names = [names[i] for i in indices]\n",
    "\n",
    "    # features = fourth_pass_columns\n",
    "    # importances = log_clf.best_estimator_.coef_[0][np.where(np.abs(log_clf.best_estimator_.coef_) > 1e-5)[1]]\n",
    "    # indices = reversed(np.argsort(np.abs(importances)))\n",
    "\n",
    "    plt.title('SVM Features')\n",
    "    plt.barh(range(len(indices)), importances[indices], color='b', align='center')\n",
    "    plt.yticks(range(len(indices)), names)\n",
    "    plt.xlabel('')\n"
   ]
  },
  {
   "cell_type": "code",
   "execution_count": 30,
   "metadata": {},
   "outputs": [
    {
     "data": {
      "image/png": "[encoded data removed]",
      "text/plain": [
       "<Figure size 864x432 with 2 Axes>"
      ]
     },
     "metadata": {
      "needs_background": "light"
     },
     "output_type": "display_data"
    }
   ],
   "source": [
    "plt.figure(figsize=(12,6))\n",
    "ax = plt.subplot(1,2,1)\n",
    "plot_1(ax)\n",
    "ax = plt.subplot(1,2,2)\n",
    "ax.yaxis.set_label_position(\"right\")\n",
    "ax.yaxis.tick_right()\n",
    "plot_2(ax)"
   ]
  },
  {
   "cell_type": "code",
   "execution_count": 31,
   "metadata": {},
   "outputs": [
    {
     "data": {
      "text/plain": [
       "['_abs_bt_epsilon_inv_nel',\n",
       " '_abs_bt_inv_abs_ip_rgeo',\n",
       " '_imp_prad_tok_pbxm',\n",
       " '_inv_abs_bt_inv_rgeo_pressure',\n",
       " '_inv_abs_bt_inv_tev_nel',\n",
       " '_inv_abs_bt_nel',\n",
       " '_inv_abs_ip_rgeo_tev',\n",
       " 'abs_pohm',\n",
       " 'beili2',\n",
       " 'betmhd',\n",
       " 'bt',\n",
       " 'delta',\n",
       " 'epsilon',\n",
       " 'greenwald',\n",
       " 'imp_tauth',\n",
       " 'inv_abs_bt',\n",
       " 'inv_abs_ip',\n",
       " 'inv_amin',\n",
       " 'inv_betmhd',\n",
       " 'inv_bt',\n",
       " 'inv_greenwald',\n",
       " 'inv_ip',\n",
       " 'inv_kappa',\n",
       " 'inv_meff',\n",
       " 'inv_pl',\n",
       " 'inv_q95',\n",
       " 'inv_rgeo',\n",
       " 'inv_tauth',\n",
       " 'inv_tautot',\n",
       " 'inv_tev',\n",
       " 'inv_time',\n",
       " 'inv_vol',\n",
       " 'inv_wmhd',\n",
       " 'inv_wth',\n",
       " 'kappa',\n",
       " 'log_betmhd',\n",
       " 'log_inv_kappaa',\n",
       " 'log_pl',\n",
       " 'log_time',\n",
       " 'log_wmhd',\n",
       " 'meff',\n",
       " 'pinj',\n",
       " 'pl',\n",
       " 'pnbi',\n",
       " 'prad',\n",
       " 'q95',\n",
       " 'rgeo',\n",
       " 'tauth',\n",
       " 'tautot',\n",
       " 'time',\n",
       " 'wmhd',\n",
       " 'wth',\n",
       " 'wtot']"
      ]
     },
     "execution_count": 31,
     "metadata": {},
     "output_type": "execute_result"
    }
   ],
   "source": [
    "list(fourth_pass_columns)"
   ]
  },
  {
   "cell_type": "code",
   "execution_count": null,
   "metadata": {},
   "outputs": [],
   "source": []
  }
 ],
 "metadata": {
  "kernelspec": {
   "display_name": "Python 3",
   "language": "python",
   "name": "python3"
  },
  "language_info": {
   "codemirror_mode": {
    "name": "ipython",
    "version": 3
   },
   "file_extension": ".py",
   "mimetype": "text/x-python",
   "name": "python",
   "nbconvert_exporter": "python",
   "pygments_lexer": "ipython3",
   "version": "3.7.4"
  }
 },
 "nbformat": 4,
 "nbformat_minor": 2
}
