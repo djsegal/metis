{
 "cells": [
  {
   "cell_type": "code",
   "execution_count": 1,
   "metadata": {},
   "outputs": [],
   "source": [
    "import pandas as pd\n",
    "import numpy as np\n",
    "import matplotlib.pyplot as plt\n",
    "\n",
    "from ipywidgets import interact, interactive, fixed, interact_manual\n",
    "import ipywidgets as widgets\n",
    "\n",
    "from math import ceil, floor\n",
    "\n",
    "from sklearn.model_selection import train_test_split\n",
    "from sklearn.linear_model import RidgeCV, LassoCV, ElasticNetCV\n",
    "from sklearn.preprocessing import StandardScaler, PolynomialFeatures\n",
    "\n",
    "from collections import defaultdict\n",
    "from tqdm.auto import tqdm\n",
    "\n",
    "import random\n",
    "from sklearn.ensemble import RandomForestClassifier\n",
    "\n",
    "import pandas_profiling\n",
    "import warnings\n",
    "\n",
    "from collections import Counter\n"
   ]
  },
  {
   "cell_type": "code",
   "execution_count": 2,
   "metadata": {},
   "outputs": [],
   "source": [
    "%load_ext autoreload\n",
    "%autoreload 2"
   ]
  },
  {
   "cell_type": "code",
   "execution_count": 3,
   "metadata": {},
   "outputs": [],
   "source": [
    "from load_tokamaks import load_tokamaks\n",
    "from expand_columns import expand_columns\n",
    "from remove_columns import remove_columns\n",
    "from impute_values import impute_values, _impute_complex_value\n",
    "# from one_hot import one_hot"
   ]
  },
  {
   "cell_type": "code",
   "execution_count": 568,
   "metadata": {},
   "outputs": [],
   "source": [
    "cur_lists = [\n",
    "    ['JET', 3144, 3144, '1986 - 2002', \"JET\", \"51.652\", \"-1.266\"],\n",
    "    ['ASDEX', 625, 1250, '1982 - 1990', \"Max Planck\", \"48.141111\", \"11.582222\"],\n",
    "    ['AUG', 638, 1250, '1994 - 2002', \"Max Planck\", \"48.141111\", \"11.582222\"],\n",
    "    ['CMOD', 87, 750, '1996 - 1998', \"MIT\", \"42.36\", \"-71.092\"],\n",
    "    ['D3D', 510, 1250, '1987 - 1999', \"San Diego\", \"32.893461\", \"-117.234556\"],\n",
    "    ['JFT2M', 530, 1000, '1986 - 1994', \"Naka\", \"36.442694\", \"140.595861\"],\n",
    "    ['JT60U', 89, 250, '1994 - 2001',  \"Naka\", \"36.442694\", \"140.595861\"],\n",
    "    ['TCV', 21, 100, '1995 - 1997', \"Switzerland\", \"46.520278\", \"6.565556\"],\n",
    "    ['TDEV', 10, 75, '1998 - 1998', \"Montreal\", \"45.508889\", \"-73.561667\"],\n",
    "    ['NSTX', 7, 50, '2002 - 2002', \"PPPL\", \"40.348825\", \"-74.602183\"],\n",
    "    ['PBXM', 264, 500, '1989 - 1989', \"PPPL\", \"40.348825\", \"-74.602183\"],\n",
    "    ['PDX', 143, 500, '1983 - 1983', \"PPPL\", \"40.348825\", \"-74.602183\"],\n",
    "    ['TFTR', 104, 500, '1989 - 1994',  \"PPPL\", \"40.348825\", \"-74.602183\"]\n",
    "]"
   ]
  },
  {
   "cell_type": "code",
   "execution_count": 600,
   "metadata": {},
   "outputs": [
    {
     "data": {
      "text/plain": [
       "{'\"JET\"': {'all': 3144,\n",
       "  'lat': '51.652',\n",
       "  'lon': '-1.266',\n",
       "  'jet': 1,\n",
       "  'tar': 3144},\n",
       " '\"Max Planck\"': {'all': 1263,\n",
       "  'lat': '48.141111',\n",
       "  'lon': '11.582222',\n",
       "  'jet': 0,\n",
       "  'tar': 2500},\n",
       " '\"MIT\"': {'all': 86, 'lat': '42.36', 'lon': '-71.092', 'jet': 0, 'tar': 750},\n",
       " '\"San Diego\"': {'all': 493,\n",
       "  'lat': '32.893461',\n",
       "  'lon': '-117.234556',\n",
       "  'jet': 0,\n",
       "  'tar': 1250},\n",
       " '\"Naka\"': {'all': 619,\n",
       "  'lat': '36.442694',\n",
       "  'lon': '140.595861',\n",
       "  'jet': 0,\n",
       "  'tar': 1250},\n",
       " '\"Switzerland\"': {'all': 21,\n",
       "  'lat': '46.520278',\n",
       "  'lon': '6.565556',\n",
       "  'jet': 0,\n",
       "  'tar': 100},\n",
       " '\"Montreal\"': {'all': 10,\n",
       "  'lat': '45.508889',\n",
       "  'lon': '-73.561667',\n",
       "  'jet': 0,\n",
       "  'tar': 75},\n",
       " '\"PPPL\"': {'all': 518,\n",
       "  'lat': '40.348825',\n",
       "  'lon': '-74.602183',\n",
       "  'jet': 0,\n",
       "  'tar': 1550}}"
      ]
     },
     "execution_count": 600,
     "metadata": {},
     "output_type": "execute_result"
    }
   ],
   "source": [
    "gg = defaultdict(int)\n",
    "bb = defaultdict(int)\n",
    "dd = defaultdict(int)\n",
    "la = defaultdict(int)\n",
    "lo = defaultdict(int)\n",
    "tt = defaultdict(int)\n",
    "ta = defaultdict(int)\n",
    "\n",
    "for cur_item in list(map(lambda xx: [xx[0], xx[2], xx[-3], xx[-2], xx[-1]], cur_lists)):\n",
    "    item_dict = dict(tokamak_data[tokamak_data[\"tok\"] == cur_item[0]].is_good.value_counts())\n",
    "\n",
    "    dd[cur_item[-3]] += np.sum(list(item_dict.values()))\n",
    "    if True in item_dict : gg[cur_item[-3]] += item_dict[True]\n",
    "    if False in item_dict : bb[cur_item[-3]] += item_dict[False]\n",
    "        \n",
    "    la[cur_item[-3]] = cur_item[-2]\n",
    "    lo[cur_item[-3]] = cur_item[-1]\n",
    "    \n",
    "    if cur_item[0] == \"JET\" : tt[cur_item[-3]] += 1\n",
    "    ta[cur_item[-3]] += cur_item[1]\n",
    "        \n",
    "work_table = pd.DataFrame([gg,bb,dd, la, lo, tt, ta])\n",
    "work_table.columns = map(lambda x: f'\"{x}\"', work_table.columns)\n",
    "\n",
    "work_table = pd.DataFrame.transpose(work_table)\n",
    "work_table.columns = [\"good\", \"bad\", \"all\", \"lat\", \"lon\", \"jet\", \"tar\"]\n",
    "\n",
    "work_table.fillna(0, inplace=True)\n",
    "\n",
    "pd.DataFrame.transpose(work_table.drop(columns=[\"good\",'bad'])).to_dict()\n",
    "# print(str(work_table.drop(columns=[\"good\",'bad'])))\n",
    "# # print(dict(gg))\n",
    "# # print(dict(bb))\n",
    "# # print(dict(dd))\n",
    "# # for kk, vv in dd.items():\n",
    "# #     print(f\"'{kk}'\", \"\", vv)"
   ]
  },
  {
   "cell_type": "code",
   "execution_count": 588,
   "metadata": {},
   "outputs": [
    {
     "data": {
      "text/html": [
       "<div>\n",
       "<style scoped>\n",
       "    .dataframe tbody tr th:only-of-type {\n",
       "        vertical-align: middle;\n",
       "    }\n",
       "\n",
       "    .dataframe tbody tr th {\n",
       "        vertical-align: top;\n",
       "    }\n",
       "\n",
       "    .dataframe thead th {\n",
       "        text-align: right;\n",
       "    }\n",
       "</style>\n",
       "<table border=\"1\" class=\"dataframe\">\n",
       "  <thead>\n",
       "    <tr style=\"text-align: right;\">\n",
       "      <th></th>\n",
       "      <th>Good</th>\n",
       "      <th>Bad</th>\n",
       "    </tr>\n",
       "  </thead>\n",
       "  <tbody>\n",
       "    <tr>\n",
       "      <td>JET</td>\n",
       "      <td>1434</td>\n",
       "      <td>1710</td>\n",
       "    </tr>\n",
       "    <tr>\n",
       "      <td>Else</td>\n",
       "      <td>2097</td>\n",
       "      <td>913</td>\n",
       "    </tr>\n",
       "  </tbody>\n",
       "</table>\n",
       "</div>"
      ],
      "text/plain": [
       "      Good   Bad\n",
       "JET   1434  1710\n",
       "Else  2097   913"
      ]
     },
     "execution_count": 588,
     "metadata": {},
     "output_type": "execute_result"
    }
   ],
   "source": [
    "gbd = {}\n",
    "\n",
    "jet_data = dict(tokamak_data[tokamak_data.tok == \"JET\"].is_good.value_counts())\n",
    "else_data = dict(tokamak_data[tokamak_data.tok != \"JET\"].is_good.value_counts())\n",
    "\n",
    "pd.DataFrame([\n",
    "    [jet_data[True],jet_data[False]],\n",
    "    [else_data[True],else_data[False]]\n",
    "], columns=[\"Good\", \"Bad\"], index=[\"JET\", \"Else\"])"
   ]
  },
  {
   "cell_type": "code",
   "execution_count": 4,
   "metadata": {
    "scrolled": false
   },
   "outputs": [
    {
     "name": "stdout",
     "output_type": "stream",
     "text": [
      "13 Tokamaks\n",
      "['AUG', 638, '1994 - 2002']\n",
      "['TDEV', 10, '1998 - 1998']\n",
      "['PDX', 143, '1983 - 1983']\n",
      "['D3D', 510, '1987 - 1999']\n",
      "['JFT2M', 530, '1986 - 1994']\n",
      "['TCV', 21, '1995 - 1997']\n",
      "['TFTR', 104, '1989 - 1994']\n",
      "['CMOD', 87, '1996 - 1998']\n",
      "['NSTX', 7, '2002 - 2002']\n",
      "['PBXM', 264, '1989 - 1989']\n",
      "['ASDEX', 625, '1982 - 1990']\n",
      "['JET', 3144, '1986 - 2002']\n",
      "['JT60U', 89, '1994 - 2001']\n",
      "\n",
      "       good   bad\n",
      "jet    1434  1710\n",
      "else   2106   922\n",
      "total  3540  2632\n"
     ]
    }
   ],
   "source": [
    "tokamak_data = load_tokamaks()\n"
   ]
  },
  {
   "cell_type": "code",
   "execution_count": 390,
   "metadata": {},
   "outputs": [
    {
     "data": {
      "text/plain": [
       "Index(['_abs_bt_2', '_abs_bt_2_abs_ip', '_abs_bt_2_epsilon',\n",
       "       '_abs_bt_2_inv_abs_ip', '_abs_bt_2_inv_epsilon', '_abs_bt_2_inv_nel',\n",
       "       '_abs_bt_2_inv_rgeo', '_abs_bt_2_inv_vol', '_abs_bt_2_nel',\n",
       "       '_abs_bt_2_rgeo',\n",
       "       ...\n",
       "       '_inv_abs_bt_inv_pressure_nel', '_inv_abs_ip_inv_pressure_tev',\n",
       "       '_inv_rgeo_inv_tev_2', '_inv_abs_bt_pressure_2', '_inv_abs_bt_tev_vol',\n",
       "       '_pressure_2_rgeo', 'zero_log_inv_tauc92', 'zero_log_inv_tauc93',\n",
       "       'zero_pecrhc', 'zero_wfaniic'],\n",
       "      dtype='object', length=1002)"
      ]
     },
     "execution_count": 390,
     "metadata": {},
     "output_type": "execute_result"
    }
   ],
   "source": [
    "tokamak_data.columns"
   ]
  },
  {
   "cell_type": "code",
   "execution_count": 394,
   "metadata": {},
   "outputs": [
    {
     "name": "stdout",
     "output_type": "stream",
     "text": [
      "_abs_bt_inv_vol_2\n",
      "_abs_bt_vol_2\n",
      "_abs_ip_inv_vol_2\n",
      "_abs_ip_vol_2\n",
      "_epsilon_inv_vol_2\n",
      "_epsilon_vol_2\n",
      "_inv_abs_bt_inv_vol_2\n",
      "_inv_abs_bt_vol_2\n",
      "_inv_abs_ip_inv_vol_2\n",
      "_inv_abs_ip_vol_2\n",
      "_inv_epsilon_inv_vol_2\n",
      "_inv_epsilon_vol_2\n",
      "_inv_nel_inv_vol_2\n",
      "_inv_nel_vol_2\n",
      "_inv_rgeo_inv_vol_2\n",
      "_inv_rgeo_vol_2\n",
      "_inv_vol_2\n",
      "_inv_vol_2_nel\n",
      "_inv_vol_2_rgeo\n",
      "_inv_vol_3\n",
      "_nel_vol_2\n",
      "_rgeo_vol_2\n",
      "_vol_2\n",
      "_vol_3\n",
      "_pressure_vol_2\n",
      "_inv_pressure_inv_vol_2\n",
      "_inv_vol_2_tev\n",
      "_tev_vol_2\n",
      "_inv_tev_inv_vol_2\n",
      "_inv_tev_vol_2\n",
      "_inv_vol_2_pressure\n",
      "_inv_pressure_vol_2\n"
     ]
    }
   ],
   "source": [
    "for cur_index, this_col in enumerate(tokamak_data.columns):\n",
    "    if \"_vol_2\" in this_col or \"_vol_3\" in this_col:\n",
    "        print(this_col)\n",
    "#     else:\n",
    "#         print(this_col)\n"
   ]
  },
  {
   "cell_type": "code",
   "execution_count": 396,
   "metadata": {},
   "outputs": [
    {
     "data": {
      "text/html": [
       "<div>\n",
       "<style scoped>\n",
       "    .dataframe tbody tr th:only-of-type {\n",
       "        vertical-align: middle;\n",
       "    }\n",
       "\n",
       "    .dataframe tbody tr th {\n",
       "        vertical-align: top;\n",
       "    }\n",
       "\n",
       "    .dataframe thead th {\n",
       "        text-align: right;\n",
       "    }\n",
       "</style>\n",
       "<table border=\"1\" class=\"dataframe\">\n",
       "  <thead>\n",
       "    <tr style=\"text-align: right;\">\n",
       "      <th></th>\n",
       "      <th>_abs_bt_2</th>\n",
       "      <th>_abs_bt_2_abs_ip</th>\n",
       "      <th>_abs_bt_2_epsilon</th>\n",
       "      <th>_abs_bt_2_inv_abs_ip</th>\n",
       "      <th>_abs_bt_2_inv_epsilon</th>\n",
       "      <th>_abs_bt_2_inv_nel</th>\n",
       "      <th>_abs_bt_2_inv_pressure</th>\n",
       "      <th>_abs_bt_2_inv_rgeo</th>\n",
       "      <th>_abs_bt_2_inv_tev</th>\n",
       "      <th>_abs_bt_2_inv_vol</th>\n",
       "      <th>...</th>\n",
       "      <th>wfaniic</th>\n",
       "      <th>wmhd</th>\n",
       "      <th>wth</th>\n",
       "      <th>wtot</th>\n",
       "      <th>zero_delta</th>\n",
       "      <th>zero_log_tauc92</th>\n",
       "      <th>zero_log_tauc93</th>\n",
       "      <th>zero_pecrhc</th>\n",
       "      <th>zero_picrhc</th>\n",
       "      <th>zero_wfaniic</th>\n",
       "    </tr>\n",
       "  </thead>\n",
       "  <tbody>\n",
       "    <tr>\n",
       "      <td>4</td>\n",
       "      <td>4.862025</td>\n",
       "      <td>1.448883e+06</td>\n",
       "      <td>1.163965</td>\n",
       "      <td>0.000016</td>\n",
       "      <td>20.309270</td>\n",
       "      <td>1.328422e-19</td>\n",
       "      <td>1.384501e-22</td>\n",
       "      <td>2.863383</td>\n",
       "      <td>0.003960</td>\n",
       "      <td>0.892115</td>\n",
       "      <td>...</td>\n",
       "      <td>0.000000</td>\n",
       "      <td>127400.0</td>\n",
       "      <td>80110.0</td>\n",
       "      <td>103500.0</td>\n",
       "      <td>True</td>\n",
       "      <td>False</td>\n",
       "      <td>False</td>\n",
       "      <td>True</td>\n",
       "      <td>True</td>\n",
       "      <td>True</td>\n",
       "    </tr>\n",
       "    <tr>\n",
       "      <td>5</td>\n",
       "      <td>4.862025</td>\n",
       "      <td>1.438673e+06</td>\n",
       "      <td>1.177046</td>\n",
       "      <td>0.000016</td>\n",
       "      <td>20.083566</td>\n",
       "      <td>1.282856e-19</td>\n",
       "      <td>1.222681e-22</td>\n",
       "      <td>2.870145</td>\n",
       "      <td>0.003692</td>\n",
       "      <td>0.886907</td>\n",
       "      <td>...</td>\n",
       "      <td>0.000000</td>\n",
       "      <td>141100.0</td>\n",
       "      <td>95370.0</td>\n",
       "      <td>119600.0</td>\n",
       "      <td>True</td>\n",
       "      <td>False</td>\n",
       "      <td>False</td>\n",
       "      <td>True</td>\n",
       "      <td>True</td>\n",
       "      <td>True</td>\n",
       "    </tr>\n",
       "    <tr>\n",
       "      <td>6</td>\n",
       "      <td>4.862025</td>\n",
       "      <td>1.435270e+06</td>\n",
       "      <td>1.187501</td>\n",
       "      <td>0.000016</td>\n",
       "      <td>19.906759</td>\n",
       "      <td>1.303492e-19</td>\n",
       "      <td>1.222064e-22</td>\n",
       "      <td>2.887188</td>\n",
       "      <td>0.003593</td>\n",
       "      <td>0.889178</td>\n",
       "      <td>...</td>\n",
       "      <td>0.000000</td>\n",
       "      <td>144500.0</td>\n",
       "      <td>99230.0</td>\n",
       "      <td>124400.0</td>\n",
       "      <td>True</td>\n",
       "      <td>False</td>\n",
       "      <td>False</td>\n",
       "      <td>True</td>\n",
       "      <td>True</td>\n",
       "      <td>True</td>\n",
       "    </tr>\n",
       "    <tr>\n",
       "      <td>11</td>\n",
       "      <td>4.862025</td>\n",
       "      <td>1.444508e+06</td>\n",
       "      <td>1.161085</td>\n",
       "      <td>0.000016</td>\n",
       "      <td>20.359655</td>\n",
       "      <td>1.425814e-19</td>\n",
       "      <td>1.429192e-22</td>\n",
       "      <td>2.871840</td>\n",
       "      <td>0.004045</td>\n",
       "      <td>0.899542</td>\n",
       "      <td>...</td>\n",
       "      <td>0.000000</td>\n",
       "      <td>117000.0</td>\n",
       "      <td>72170.0</td>\n",
       "      <td>95840.0</td>\n",
       "      <td>True</td>\n",
       "      <td>False</td>\n",
       "      <td>False</td>\n",
       "      <td>True</td>\n",
       "      <td>True</td>\n",
       "      <td>True</td>\n",
       "    </tr>\n",
       "    <tr>\n",
       "      <td>12</td>\n",
       "      <td>4.862025</td>\n",
       "      <td>1.438673e+06</td>\n",
       "      <td>1.178316</td>\n",
       "      <td>0.000016</td>\n",
       "      <td>20.061926</td>\n",
       "      <td>1.286250e-19</td>\n",
       "      <td>1.159510e-22</td>\n",
       "      <td>2.871840</td>\n",
       "      <td>0.003571</td>\n",
       "      <td>0.886907</td>\n",
       "      <td>...</td>\n",
       "      <td>0.000000</td>\n",
       "      <td>141600.0</td>\n",
       "      <td>96200.0</td>\n",
       "      <td>120700.0</td>\n",
       "      <td>True</td>\n",
       "      <td>False</td>\n",
       "      <td>False</td>\n",
       "      <td>True</td>\n",
       "      <td>True</td>\n",
       "      <td>True</td>\n",
       "    </tr>\n",
       "    <tr>\n",
       "      <td>...</td>\n",
       "      <td>...</td>\n",
       "      <td>...</td>\n",
       "      <td>...</td>\n",
       "      <td>...</td>\n",
       "      <td>...</td>\n",
       "      <td>...</td>\n",
       "      <td>...</td>\n",
       "      <td>...</td>\n",
       "      <td>...</td>\n",
       "      <td>...</td>\n",
       "      <td>...</td>\n",
       "      <td>...</td>\n",
       "      <td>...</td>\n",
       "      <td>...</td>\n",
       "      <td>...</td>\n",
       "      <td>...</td>\n",
       "      <td>...</td>\n",
       "      <td>...</td>\n",
       "      <td>...</td>\n",
       "      <td>...</td>\n",
       "      <td>...</td>\n",
       "    </tr>\n",
       "    <tr>\n",
       "      <td>10371</td>\n",
       "      <td>8.708401</td>\n",
       "      <td>2.720504e+07</td>\n",
       "      <td>3.286758</td>\n",
       "      <td>0.000003</td>\n",
       "      <td>23.073268</td>\n",
       "      <td>3.769871e-19</td>\n",
       "      <td>1.654143e-22</td>\n",
       "      <td>3.015374</td>\n",
       "      <td>0.003639</td>\n",
       "      <td>0.078032</td>\n",
       "      <td>...</td>\n",
       "      <td>0.985708</td>\n",
       "      <td>3550000.0</td>\n",
       "      <td>2100000.0</td>\n",
       "      <td>3629000.0</td>\n",
       "      <td>False</td>\n",
       "      <td>True</td>\n",
       "      <td>True</td>\n",
       "      <td>True</td>\n",
       "      <td>False</td>\n",
       "      <td>False</td>\n",
       "    </tr>\n",
       "    <tr>\n",
       "      <td>10375</td>\n",
       "      <td>8.737936</td>\n",
       "      <td>2.742838e+07</td>\n",
       "      <td>3.293739</td>\n",
       "      <td>0.000003</td>\n",
       "      <td>23.180805</td>\n",
       "      <td>2.982231e-19</td>\n",
       "      <td>1.368724e-22</td>\n",
       "      <td>3.024554</td>\n",
       "      <td>0.003901</td>\n",
       "      <td>0.078367</td>\n",
       "      <td>...</td>\n",
       "      <td>0.985708</td>\n",
       "      <td>3838000.0</td>\n",
       "      <td>2369000.0</td>\n",
       "      <td>3847000.0</td>\n",
       "      <td>False</td>\n",
       "      <td>True</td>\n",
       "      <td>True</td>\n",
       "      <td>True</td>\n",
       "      <td>False</td>\n",
       "      <td>False</td>\n",
       "    </tr>\n",
       "    <tr>\n",
       "      <td>10376</td>\n",
       "      <td>8.655364</td>\n",
       "      <td>2.690953e+07</td>\n",
       "      <td>3.259580</td>\n",
       "      <td>0.000003</td>\n",
       "      <td>22.983125</td>\n",
       "      <td>2.934022e-19</td>\n",
       "      <td>1.372051e-22</td>\n",
       "      <td>2.987699</td>\n",
       "      <td>0.003869</td>\n",
       "      <td>0.077418</td>\n",
       "      <td>...</td>\n",
       "      <td>0.985708</td>\n",
       "      <td>3971000.0</td>\n",
       "      <td>2416000.0</td>\n",
       "      <td>4009000.0</td>\n",
       "      <td>False</td>\n",
       "      <td>True</td>\n",
       "      <td>True</td>\n",
       "      <td>True</td>\n",
       "      <td>False</td>\n",
       "      <td>False</td>\n",
       "    </tr>\n",
       "    <tr>\n",
       "      <td>10377</td>\n",
       "      <td>8.625969</td>\n",
       "      <td>2.693890e+07</td>\n",
       "      <td>3.244412</td>\n",
       "      <td>0.000003</td>\n",
       "      <td>22.933998</td>\n",
       "      <td>3.091745e-19</td>\n",
       "      <td>1.328918e-22</td>\n",
       "      <td>2.976525</td>\n",
       "      <td>0.003575</td>\n",
       "      <td>0.077224</td>\n",
       "      <td>...</td>\n",
       "      <td>0.985708</td>\n",
       "      <td>4218000.0</td>\n",
       "      <td>2542000.0</td>\n",
       "      <td>4295000.0</td>\n",
       "      <td>False</td>\n",
       "      <td>True</td>\n",
       "      <td>True</td>\n",
       "      <td>True</td>\n",
       "      <td>False</td>\n",
       "      <td>False</td>\n",
       "    </tr>\n",
       "    <tr>\n",
       "      <td>10381</td>\n",
       "      <td>8.755681</td>\n",
       "      <td>2.752786e+07</td>\n",
       "      <td>3.309927</td>\n",
       "      <td>0.000003</td>\n",
       "      <td>23.161224</td>\n",
       "      <td>3.354667e-19</td>\n",
       "      <td>1.260881e-22</td>\n",
       "      <td>3.033847</td>\n",
       "      <td>0.002988</td>\n",
       "      <td>0.078526</td>\n",
       "      <td>...</td>\n",
       "      <td>0.985708</td>\n",
       "      <td>4262000.0</td>\n",
       "      <td>2569000.0</td>\n",
       "      <td>4320000.0</td>\n",
       "      <td>False</td>\n",
       "      <td>True</td>\n",
       "      <td>True</td>\n",
       "      <td>True</td>\n",
       "      <td>False</td>\n",
       "      <td>False</td>\n",
       "    </tr>\n",
       "  </tbody>\n",
       "</table>\n",
       "<p>6154 rows × 970 columns</p>\n",
       "</div>"
      ],
      "text/plain": [
       "       _abs_bt_2  _abs_bt_2_abs_ip  _abs_bt_2_epsilon  _abs_bt_2_inv_abs_ip  \\\n",
       "4       4.862025      1.448883e+06           1.163965              0.000016   \n",
       "5       4.862025      1.438673e+06           1.177046              0.000016   \n",
       "6       4.862025      1.435270e+06           1.187501              0.000016   \n",
       "11      4.862025      1.444508e+06           1.161085              0.000016   \n",
       "12      4.862025      1.438673e+06           1.178316              0.000016   \n",
       "...          ...               ...                ...                   ...   \n",
       "10371   8.708401      2.720504e+07           3.286758              0.000003   \n",
       "10375   8.737936      2.742838e+07           3.293739              0.000003   \n",
       "10376   8.655364      2.690953e+07           3.259580              0.000003   \n",
       "10377   8.625969      2.693890e+07           3.244412              0.000003   \n",
       "10381   8.755681      2.752786e+07           3.309927              0.000003   \n",
       "\n",
       "       _abs_bt_2_inv_epsilon  _abs_bt_2_inv_nel  _abs_bt_2_inv_pressure  \\\n",
       "4                  20.309270       1.328422e-19            1.384501e-22   \n",
       "5                  20.083566       1.282856e-19            1.222681e-22   \n",
       "6                  19.906759       1.303492e-19            1.222064e-22   \n",
       "11                 20.359655       1.425814e-19            1.429192e-22   \n",
       "12                 20.061926       1.286250e-19            1.159510e-22   \n",
       "...                      ...                ...                     ...   \n",
       "10371              23.073268       3.769871e-19            1.654143e-22   \n",
       "10375              23.180805       2.982231e-19            1.368724e-22   \n",
       "10376              22.983125       2.934022e-19            1.372051e-22   \n",
       "10377              22.933998       3.091745e-19            1.328918e-22   \n",
       "10381              23.161224       3.354667e-19            1.260881e-22   \n",
       "\n",
       "       _abs_bt_2_inv_rgeo  _abs_bt_2_inv_tev  _abs_bt_2_inv_vol  ...  \\\n",
       "4                2.863383           0.003960           0.892115  ...   \n",
       "5                2.870145           0.003692           0.886907  ...   \n",
       "6                2.887188           0.003593           0.889178  ...   \n",
       "11               2.871840           0.004045           0.899542  ...   \n",
       "12               2.871840           0.003571           0.886907  ...   \n",
       "...                   ...                ...                ...  ...   \n",
       "10371            3.015374           0.003639           0.078032  ...   \n",
       "10375            3.024554           0.003901           0.078367  ...   \n",
       "10376            2.987699           0.003869           0.077418  ...   \n",
       "10377            2.976525           0.003575           0.077224  ...   \n",
       "10381            3.033847           0.002988           0.078526  ...   \n",
       "\n",
       "        wfaniic       wmhd        wth       wtot  zero_delta  zero_log_tauc92  \\\n",
       "4      0.000000   127400.0    80110.0   103500.0        True            False   \n",
       "5      0.000000   141100.0    95370.0   119600.0        True            False   \n",
       "6      0.000000   144500.0    99230.0   124400.0        True            False   \n",
       "11     0.000000   117000.0    72170.0    95840.0        True            False   \n",
       "12     0.000000   141600.0    96200.0   120700.0        True            False   \n",
       "...         ...        ...        ...        ...         ...              ...   \n",
       "10371  0.985708  3550000.0  2100000.0  3629000.0       False             True   \n",
       "10375  0.985708  3838000.0  2369000.0  3847000.0       False             True   \n",
       "10376  0.985708  3971000.0  2416000.0  4009000.0       False             True   \n",
       "10377  0.985708  4218000.0  2542000.0  4295000.0       False             True   \n",
       "10381  0.985708  4262000.0  2569000.0  4320000.0       False             True   \n",
       "\n",
       "       zero_log_tauc93  zero_pecrhc  zero_picrhc  zero_wfaniic  \n",
       "4                False         True         True          True  \n",
       "5                False         True         True          True  \n",
       "6                False         True         True          True  \n",
       "11               False         True         True          True  \n",
       "12               False         True         True          True  \n",
       "...                ...          ...          ...           ...  \n",
       "10371             True         True        False         False  \n",
       "10375             True         True        False         False  \n",
       "10376             True         True        False         False  \n",
       "10377             True         True        False         False  \n",
       "10381             True         True        False         False  \n",
       "\n",
       "[6154 rows x 970 columns]"
      ]
     },
     "execution_count": 396,
     "metadata": {},
     "output_type": "execute_result"
    }
   ],
   "source": [
    "tokamak_data"
   ]
  },
  {
   "cell_type": "code",
   "execution_count": 405,
   "metadata": {},
   "outputs": [
    {
     "data": {
      "text/plain": [
       "Index(['_abs_bt_2', '_abs_bt_2_abs_ip', '_abs_bt_2_epsilon',\n",
       "       '_abs_bt_2_inv_abs_ip', '_abs_bt_2_inv_epsilon', '_abs_bt_2_inv_nel',\n",
       "       '_abs_bt_2_inv_pressure', '_abs_bt_2_inv_rgeo', '_abs_bt_2_inv_tev',\n",
       "       '_abs_bt_2_inv_vol',\n",
       "       ...\n",
       "       'zero__imp_wtot_tok_d3d', 'zero__imp_wtot_tok_jet',\n",
       "       'zero__imp_wtot_tok_jft2m', 'zero__imp_wtot_tok_jt60u',\n",
       "       'zero__imp_wtot_tok_nstx', 'zero__imp_wtot_tok_pbxm',\n",
       "       'zero__imp_wtot_tok_pdx', 'zero__imp_wtot_tok_tcv',\n",
       "       'zero__imp_wtot_tok_tdev', 'zero__imp_wtot_tok_tftr'],\n",
       "      dtype='object', length=1492)"
      ]
     },
     "execution_count": 405,
     "metadata": {},
     "output_type": "execute_result"
    }
   ],
   "source": [
    "tokamak_data.columns"
   ]
  },
  {
   "cell_type": "code",
   "execution_count": 433,
   "metadata": {},
   "outputs": [],
   "source": [
    "from booleanize import booleanize"
   ]
  },
  {
   "cell_type": "code",
   "execution_count": 434,
   "metadata": {},
   "outputs": [
    {
     "name": "stdout",
     "output_type": "stream",
     "text": [
      "1258\n",
      "1258\n",
      "1228\n",
      "1228\n"
     ]
    }
   ],
   "source": [
    "print(len(tokamak_data.columns))\n",
    "booleanize(tokamak_data)\n",
    "expand_columns(tokamak_data)\n",
    "print(len(tokamak_data.columns))\n",
    "remove_columns(tokamak_data)\n",
    "print(len(tokamak_data.columns))\n",
    "tokamak_data.sort_index(axis=1, inplace=True)\n",
    "print(len(tokamak_data.columns))"
   ]
  },
  {
   "cell_type": "code",
   "execution_count": 6,
   "metadata": {},
   "outputs": [],
   "source": [
    "import pprint\n",
    "pp = pprint.PrettyPrinter()"
   ]
  },
  {
   "cell_type": "code",
   "execution_count": 7,
   "metadata": {},
   "outputs": [
    {
     "name": "stdout",
     "output_type": "stream",
     "text": [
      "(3, 6, 9, 10, 17, 28, 28, 77, 85, 89, 97, 109, 245, 321, 377, 393, 446, 698)\n",
      "('pohm', 'nel', 'pnbi', 'pecrhc', 'pl', 'betmhd', 'wmhd', 'wtot', 'tautot', 'wth', 'tauth', 'wfani', 'q95', 'picrhc', 'prad', 'wfaniic', 'tev', 'nev')\n",
      "pohm AUG.............\n",
      "************************\n",
      "overfit (lin / tok): ['pohm', 'AUG', 0.6400063372365173, 0.5519075682689121]\n",
      "************************\n",
      ".........\n",
      "************************\n",
      "overfit (lin / all): ['pohm', 'AUG', 0.5781193646448559, 0.48523583175333385]\n",
      "************************\n",
      "\n",
      "pohm AUG 0.5519075682689121\n",
      "['auxheat_ic', 'beili2', 'divmat_c', 'elmtype_type_i', 'inv_amin', 'inv_bt', 'inv_ip', 'inv_kappaa', 'inv_time', 'ip', 'is_good', 'kappa', 'meff', 'pinj', 'rgeo', 'inv_beili2']\n",
      "nel JET..........................\n",
      "************************\n",
      "overfit (log / all): ['nel', 'JET', 0.6976342063180999, 0.42898339914181005]\n",
      "************************\n",
      "\n",
      "nel JET 0.5656672424930094\n",
      "['abs_bt', 'abs_ip', 'amin', 'auxheat_ic', 'auxheat_nb', 'beili2', 'bt', 'config_dn', 'config_sn', 'delta', 'divmat_be', 'divmat_c', 'elmtype_type_i', 'elmtype_type_iii', 'inv_amin', 'inv_bt', 'inv_kappa', 'inv_karea', 'inv_pgasa', 'inv_pgasz', 'inv_rgeo', 'inv_time', 'is_good', 'kappaa', 'limmat_be', 'log_bt', 'log_ip', 'meff', 'pgasz', 'phase_gelm', 'phase_selm', 'pinj', 'pos_bt', 'pos_ip', 'standard', 'vol', 'walmat_c', 'zero_log_tauc92', 'inv_beili2', 'zero_log_inv_tauc92']\n",
      "pnbi JET......................\n",
      "pnbi JET 0.8946507752015602\n",
      "['abs_ip', 'auxheat_ic', 'auxheat_nb', 'beili2', 'bt', 'config_dn', 'config_sn', 'delta', 'divmat_be', 'elmtype_none', 'elmtype_type_i', 'elmtype_type_iii', 'inv_amin', 'inv_bt', 'inv_ip', 'inv_kappaa', 'inv_meff', 'inv_pgasa', 'inv_pgasz', 'is_good', 'kappa', 'limmat_be', 'log_bt', 'meff', 'pgasa', 'pgasz', 'phase_gelm', 'pinj', 'pos_ip', 'standard', 'time', 'walmat_c', 'inv_beili2', 'zero_log_inv_tauc92']\n",
      "pecrhc D3D........\n",
      "************************\n",
      "overfit (lin / all): ['pecrhc', 'D3D', 0.9486557135642139, 0.0]\n",
      "************************\n",
      "\n",
      "pl AUG...........\n",
      "************************\n",
      "overfit (lin / tok): ['pl', 'AUG', 0.7415478709250654, 0.5960953218502147]\n",
      "************************\n",
      ".....................\n",
      "************************\n",
      "overfit (log / tok): ['pl', 'AUG', 0.7979612466125675, 0.6157930399070785]\n",
      "************************\n",
      ".............\n",
      "************************\n",
      "overfit (log / all): ['pl', 'AUG', 0.8885864163864383, 0.7214961041001727]\n",
      "************************\n",
      "\n",
      "pl AUG 0.747460988450073\n",
      "['abs_ip', 'amin', 'auxheat_ic', 'auxheat_nb', 'bt', 'config_dn', 'delta', 'divmat_be', 'divmat_ti', 'elmtype_none', 'elmtype_type_i', 'elmtype_type_iii', 'inv_meff', 'inv_pgasz', 'is_good', 'limmat_be', 'limmat_c', 'log_ip', 'phase_gelm', 'pinj', 'tauc92', 'tok_aug', 'tok_cmod', 'tok_d3d', 'tok_jft2m', 'tok_nstx', 'tok_tcv', 'tok_tftr', 'walmat_c', 'inv_beili2', 'log_inv_beili2']\n",
      "pl D3D..................\n",
      "************************\n",
      "overfit (lin / all): ['pl', 'D3D', 0.8248204945046715, 0.9155505324503344]\n",
      "************************\n",
      "........................\n",
      "pl D3D 0.9736678396044866\n",
      "['abs_ip', 'auxheat_nb', 'config_dn', 'config_sn', 'delta', 'elmtype_none', 'inv_kappa', 'inv_pgasa', 'inv_time', 'ip', 'is_good', 'log_bt', 'phase_gelm', 'pinj', 'rgeo', 'standard', 'time', 'vol', 'imp_nev']\n",
      "pl JET..................\n",
      "************************\n",
      "overfit (lin / all): ['pl', 'JET', 0.8306688118350389, 0.7195916310549262]\n",
      "************************\n",
      "..................\n",
      "************************\n",
      "overfit (log / all): ['pl', 'JET', 0.9236131337318864, 0.7697835745501003]\n",
      "************************\n",
      "\n",
      "pl JET 0.8105463184795378\n",
      "['abs_bt', 'abs_ip', 'amin', 'auxheat_ic', 'auxheat_nb', 'beili2', 'bt', 'config_dn', 'config_sn', 'delta', 'divmat_be', 'divmat_c', 'elmtype_none', 'elmtype_type_i', 'elmtype_type_iii', 'inv_ip', 'inv_kappa', 'inv_kappaa', 'inv_meff', 'inv_pgasa', 'inv_pgasz', 'inv_time', 'ip', 'is_good', 'karea', 'limmat_be', 'log_bt', 'log_inv_tauc92', 'meff', 'pgasa', 'pgasz', 'phase_selm', 'pinj', 'pos_bt', 'standard', 'tauc92', 'time', 'walmat_c', 'zero_log_tauc92', 'inv_beili2']\n",
      "betmhd JET.....................................\n",
      "betmhd JET 0.9794025995799764\n",
      "['abs_bt', 'amin', 'auxheat_ic', 'auxheat_nb', 'beili2', 'bt', 'config_sn', 'delta', 'divmat_be', 'elmtype_none', 'elmtype_type_i', 'elmtype_type_iii', 'inv_bt', 'inv_kappa', 'inv_meff', 'inv_pgasa', 'inv_pgasz', 'inv_rgeo', 'ip', 'is_good', 'kappa', 'kappaa', 'limmat_be', 'log_bt', 'log_ip', 'phase_selm', 'pinj', 'time', 'walmat_c', 'zero_log_tauc92', 'inv_beili2']\n",
      "wmhd JET.........................................\n",
      "wmhd JET 0.9878050083057658\n",
      "['abs_bt', 'amin', 'auxheat_ic', 'auxheat_nb', 'beili2', 'bt', 'config_sn', 'delta', 'divmat_be', 'elmtype_type_i', 'elmtype_type_iii', 'inv_bt', 'inv_kappa', 'inv_kappaa', 'inv_meff', 'inv_pgasz', 'inv_rgeo', 'ip', 'is_good', 'limmat_be', 'log_bt', 'log_ip', 'pgasz', 'phase_selm', 'time', 'vol', 'walmat_c', 'inv_beili2', 'zero_log_inv_tauc92']\n",
      "wtot AUG.......................\n",
      "************************\n",
      "overfit (lin / all): ['wtot', 'AUG', 0.9427274857501594, 0.36258609496393446]\n",
      "************************\n",
      "...................\n",
      "wtot AUG 0.9942063085427225\n",
      "['auxheat_ic', 'beili2', 'inv_ip', 'inv_kappa', 'inv_time', 'ip', 'log_bt', 'log_inv_pgasa', 'log_ip', 'phase_gelm', 'rgeo', 'vol', 'inv_beili2']\n",
      "wtot JET...................\n",
      "************************\n",
      "overfit (lin / all): ['wtot', 'JET', 0.8812799348096111, 0.6964768978746072]\n",
      "************************\n",
      ".......................\n",
      "wtot JET 0.9785872253417882\n",
      "['abs_bt', 'amin', 'auxheat_nb', 'bt', 'config_dn', 'config_sn', 'delta', 'divmat_be', 'elmtype_type_i', 'elmtype_type_iii', 'inv_bt', 'inv_ip', 'ip', 'is_good', 'kappa', 'karea', 'limmat_be', 'log_ip', 'log_tauc92', 'meff', 'pgasz', 'phase_selm', 'pinj', 'rgeo', 'standard', 'time', 'walmat_c', 'inv_beili2', 'log_inv_beili2', 'zero_log_inv_tauc92']\n",
      "tautot AUG....................\n",
      "************************\n",
      "overfit (lin / all): ['tautot', 'AUG', 0.9115598659927535, 0.5613941415892845]\n",
      "************************\n",
      "..........\n",
      "************************\n",
      "overfit (log / tok): ['tautot', 'AUG', 0.7119997525393748, 0.5801171453425589]\n",
      "************************\n",
      "..........\n",
      "************************\n",
      "overfit (log / all): ['tautot', 'AUG', 0.9515377784650406, 0.5892917166810705]\n",
      "************************\n",
      "\n",
      "tautot AUG 0.6472759172071283\n",
      "['auxheat_ic', 'delta', 'inv_amin', 'inv_bt', 'inv_pgasa', 'is_good', 'log_ip', 'phase_selm', 'pinj', 'time', 'inv_beili2']\n",
      "tautot D3D...........\n",
      "************************\n",
      "overfit (lin / tok): ['tautot', 'D3D', 0.7609415253176272, 0.6622046299288032]\n",
      "************************\n",
      "............\n",
      "************************\n",
      "overfit (lin / all): ['tautot', 'D3D', 0.8982416482825852, 0.617564173048637]\n",
      "************************\n",
      "...................\n",
      "************************\n",
      "overfit (log / all): ['tautot', 'D3D', 0.9487624512307123, 0.7652801485078082]\n",
      "************************\n",
      "\n",
      "tautot D3D 0.8326882055468865\n",
      "['auxheat_nb', 'config_dn', 'elmtype_none', 'inv_bt', 'inv_kappa', 'inv_rgeo', 'inv_time', 'ip', 'is_good', 'log_ip', 'log_pgasa', 'meff', 'pgasa', 'phase_selm', 'pinj', 'standard', 'imp_nev', 'inv_beili2', 'log_inv_beili2']\n",
      "tautot JET......................\n",
      "************************\n",
      "overfit (lin / all): ['tautot', 'JET', 0.8769041937347862, 0.7163607198738562]\n",
      "************************\n",
      "..................\n",
      "************************\n",
      "overfit (log / all): ['tautot', 'JET', 0.9672030182434967, 0.8415191102233733]\n",
      "************************\n",
      "\n",
      "tautot JET 0.8445453349273425\n",
      "['abs_bt', 'amin', 'auxheat_ic', 'auxheat_nb', 'beili2', 'bt', 'config_dn', 'delta', 'divmat_be', 'divmat_c', 'elmtype_none', 'elmtype_type_i', 'elmtype_type_iii', 'inv_kappaa', 'inv_meff', 'inv_pgasa', 'inv_pgasz', 'inv_rgeo', 'inv_tauc92', 'inv_time', 'inv_vol', 'is_good', 'limmat_be', 'log_bt', 'log_inv_tauc92', 'log_ip', 'log_tauc92', 'meff', 'pgasa', 'pgasz', 'phase_selm', 'pinj', 'pos_bt', 'pos_ip', 'standard', 'tauc92', 'time', 'zero_log_tauc92', 'inv_beili2', 'zero_log_inv_tauc92']\n",
      "wth AUG..................\n",
      "************************\n",
      "overfit (lin / all): ['wth', 'AUG', 0.9276342841683344, 0.40521589310169404]\n",
      "************************\n",
      "....................\n",
      "wth AUG 0.9729850516531875\n",
      "['auxheat_ic', 'inv_kappaa', 'inv_time', 'ip', 'is_good', 'kappa', 'log_bt', 'log_inv_pgasa', 'log_ip', 'pinj', 'rgeo', 'inv_beili2']\n"
     ]
    },
    {
     "name": "stdout",
     "output_type": "stream",
     "text": [
      "wth D3D....................\n",
      "************************\n",
      "overfit (lin / all): ['wth', 'D3D', 0.9266739238136554, 0.8408200737825533]\n",
      "************************\n",
      ".....................\n",
      "wth D3D 0.9863016554249712\n",
      "['abs_bt', 'amin', 'auxheat_ic', 'config_sn', 'delta', 'inv_kappaa', 'is_good', 'log_inv_pgasa', 'log_ip', 'meff', 'phase_gelm', 'phase_selm', 'pinj', 'standard', 'time', 'imp_nev', 'inv_beili2', 'log_inv_beili2']\n",
      "wth JET.....................\n",
      "************************\n",
      "overfit (lin / all): ['wth', 'JET', 0.9295155614261449, 0.8178307479935858]\n",
      "************************\n",
      ".......................\n",
      "************************\n",
      "overfit (log / all): ['wth', 'JET', 0.9944626255541327, 0.9438807510516188]\n",
      "************************\n",
      "\n",
      "wth JET 0.9438807510516188\n",
      "['abs_bt', 'auxheat_ic', 'auxheat_nb', 'beili2', 'config_dn', 'delta', 'divmat_ti', 'dwhc', 'elmtype_type_i', 'elmtype_type_iii', 'inv_bt', 'inv_pgasz', 'inv_rgeo', 'inv_time', 'karea', 'limmat_c', 'log_ip', 'pgasz', 'phase_gelm', 'phase_selm', 'pinj', 'rgeo', 'standard', 'tauc92', 'time', 'tok_aug', 'tok_jft2m', 'tok_jt60u', 'tok_nstx', 'tok_pbxm', 'tok_pdx', 'tok_tftr', 'vol', 'walmat_c', 'imp_beili2', 'imp_wfani', 'inv_beili2', 'zero_log_inv_tauc92']\n",
      "tauth AUG............\n",
      "************************\n",
      "overfit (lin / tok): ['tauth', 'AUG', 0.706909239091028, 0.6246189590981321]\n",
      "************************\n",
      "............\n",
      "************************\n",
      "overfit (lin / all): ['tauth', 'AUG', 0.8929757801105362, 0.46886724120208956]\n",
      "************************\n",
      "...........\n",
      "************************\n",
      "overfit (log / tok): ['tauth', 'AUG', 0.7490321465740448, 0.6948587975654079]\n",
      "************************\n",
      "........\n",
      "************************\n",
      "overfit (log / all): ['tauth', 'AUG', 0.9410806931033363, 0.7248089090730587]\n",
      "************************\n",
      "\n",
      "tauth AUG 0.7248089090730587\n",
      "['auxheat_ic', 'auxheat_nb', 'beili2', 'bt', 'config_dn', 'delta', 'divmat_be', 'divmat_ti', 'dwhc', 'elmtype_none', 'elmtype_type_i', 'elmtype_type_iii', 'inv_bt', 'inv_kappaa', 'inv_meff', 'inv_pgasz', 'inv_time', 'is_good', 'limmat_be', 'log_amin', 'log_bt', 'log_inv_amin', 'log_ip', 'meff', 'pgasz', 'phase_gelm', 'pinj', 'pos_ip', 'standard', 'tauc92', 'tok_cmod', 'tok_d3d', 'tok_jft2m', 'tok_nstx', 'tok_pbxm', 'tok_pdx', 'tok_tcv', 'tok_tdev', 'tok_tftr', 'zero_log_tauc92', 'imp_tev', 'inv_beili2', 'zero_log_inv_tauc92']\n",
      "tauth D3D....................\n",
      "************************\n",
      "overfit (lin / all): ['tauth', 'D3D', 0.8818899609480877, 0.5772677083499891]\n",
      "************************\n",
      ".....................\n",
      "************************\n",
      "overfit (log / all): ['tauth', 'D3D', 0.9268611610469786, 0.7390025131664394]\n",
      "************************\n",
      "\n",
      "tauth D3D 0.8767751021174474\n",
      "['auxheat_nb', 'config_dn', 'elmtype_none', 'is_good', 'log_ip', 'meff', 'phase_selm', 'pinj', 'rgeo', 'standard', 'inv_beili2']\n",
      "tauth JET....................\n",
      "************************\n",
      "overfit (lin / all): ['tauth', 'JET', 0.8586254083583602, 0.7020709593887098]\n",
      "************************\n",
      ".....................\n",
      "************************\n",
      "overfit (log / all): ['tauth', 'JET', 0.9533038807976552, 0.7996723058381205]\n",
      "************************\n",
      "\n",
      "tauth JET 0.8102425773039938\n",
      "['abs_bt', 'auxheat_ic', 'auxheat_nb', 'beili2', 'bt', 'config_dn', 'delta', 'divmat_be', 'divmat_c', 'elmtype_none', 'elmtype_type_i', 'elmtype_type_iii', 'inv_ip', 'inv_kappa', 'inv_karea', 'inv_meff', 'inv_pgasa', 'inv_pgasz', 'inv_rgeo', 'inv_tauc92', 'inv_time', 'inv_vol', 'is_good', 'kappaa', 'limmat_be', 'log_bt', 'log_ip', 'meff', 'pgasa', 'pgasz', 'phase_selm', 'pinj', 'pos_ip', 'standard', 'tauc92', 'time', 'vol', 'walmat_c', 'zero_log_tauc92', 'inv_beili2', 'zero_log_inv_tauc92']\n",
      "wfani AUG.....................\n",
      "************************\n",
      "overfit (lin / all): ['wfani', 'AUG', 0.9223651131454329, 0.36836632279401305]\n",
      "************************\n",
      "\n",
      "wfani AUG 0.6110099720449801\n",
      "['abs_bt', 'auxheat_ic', 'delta', 'elmtype_type_i', 'inv_amin', 'inv_ip', 'inv_meff', 'inv_time', 'is_good', 'kappa', 'pinj', 'log_inv_beili2']\n",
      "wfani D3D..........\n",
      "************************\n",
      "overfit (lin / tok): ['wfani', 'D3D', 0.2363823475001685, 0.1515357913208996]\n",
      "************************\n",
      ".......\n",
      "************************\n",
      "overfit (lin / all): ['wfani', 'D3D', 0.9123623936838414, 0.11668491116321666]\n",
      "************************\n",
      "\n",
      "wfani D3D 0.1515357913208996\n",
      "['beili2', 'config_dn', 'elmtype_none', 'inv_ip', 'ip', 'log_inv_time', 'phase_selm', 'pinj', 'standard', 'vol', 'imp_tev']\n",
      "wfani JET....................\n",
      "wfani JET 0.9460879395819408\n",
      "['abs_bt', 'amin', 'auxheat_ic', 'auxheat_nb', 'beili2', 'bt', 'config_dn', 'config_sn', 'delta', 'divmat_be', 'elmtype_type_i', 'elmtype_type_iii', 'inv_ip', 'inv_karea', 'inv_meff', 'inv_pgasa', 'inv_pgasz', 'inv_time', 'kappa', 'kappaa', 'limmat_be', 'log_ip', 'log_tauc92', 'meff', 'phase_selm', 'pinj', 'pos_ip', 'rgeo', 'standard', 'tauc92', 'walmat_c', 'inv_beili2']\n",
      "q95 JET...................\n",
      "************************\n",
      "overfit (lin / all): ['q95', 'JET', 0.9056874235123762, 0.8532297214624496]\n",
      "************************\n",
      ".......................\n",
      "q95 JET 0.9664924787931797\n",
      "['abs_bt', 'auxheat_ic', 'auxheat_nb', 'beili2', 'config_dn', 'config_sn', 'delta', 'divmat_be', 'divmat_c', 'elmtype_type_i', 'elmtype_type_iii', 'inv_amin', 'inv_bt', 'inv_kappaa', 'inv_meff', 'inv_pgasa', 'inv_pgasz', 'inv_time', 'ip', 'kappaa', 'limmat_be', 'log_bt', 'log_ip', 'meff', 'pgasa', 'phase_gelm', 'pinj', 'pos_bt', 'rgeo', 'time', 'vol', 'walmat_c', 'inv_beili2']\n",
      "picrhc JET.........................\n",
      "************************\n",
      "overfit (lin / all): ['picrhc', 'JET', 0.5039430455800528, 0.5793597722790038]\n",
      "************************\n",
      "\n",
      "picrhc JET 0.7960762868268946\n",
      "['abs_bt', 'auxheat_ic', 'auxheat_nb', 'beili2', 'bt', 'delta', 'divmat_be', 'divmat_c', 'elmtype_type_i', 'elmtype_type_iii', 'inv_ip', 'inv_kappa', 'inv_pgasa', 'inv_pgasz', 'inv_tauc92', 'inv_vol', 'ip', 'is_good', 'karea', 'limmat_be', 'log_bt', 'log_inv_tauc92', 'meff', 'pgasa', 'pgasz', 'phase_selm', 'pinj', 'rgeo', 'tauc92', 'time', 'vol']\n",
      "prad AUG.....................\n",
      "************************\n",
      "overfit (lin / all): ['prad', 'AUG', 0.5528060422156615, 0.6421652746460864]\n",
      "************************\n",
      "\n",
      "prad AUG 0.8172556357372184\n",
      "['abs_ip', 'amin', 'auxheat_ic', 'delta', 'divmat_c', 'elmtype_type_i', 'inv_amin', 'inv_bt', 'inv_ip', 'inv_kappaa', 'inv_pgasa', 'inv_time', 'ip', 'is_good', 'kappa', 'karea', 'pinj', 'time', 'inv_beili2', 'log_inv_beili2']\n",
      "prad D3D.........\n",
      "************************\n",
      "overfit (lin / tok): ['prad', 'D3D', 0.634678450717552, 0.689140846046959]\n",
      "************************\n",
      "........\n",
      "************************\n",
      "overfit (lin / all): ['prad', 'D3D', 0.606636373800882, 0.4017626734627169]\n",
      "************************\n",
      "\n",
      "prad D3D 0.689140846046959\n",
      "['abs_ip', 'auxheat_nb', 'delta', 'inv_kappaa', 'inv_pgasa', 'inv_vol', 'ip', 'pinj']\n",
      "prad JFT2M..........\n",
      "************************\n",
      "overfit (lin / tok): ['prad', 'JFT2M', 0.5886777919739637, 0.6520995871513927]\n",
      "************************\n",
      "........\n",
      "************************\n",
      "overfit (lin / all): ['prad', 'JFT2M', 0.6638382795621318, 0.3983961102025645]\n",
      "************************\n",
      "\n",
      "prad JFT2M 0.6520995871513927\n",
      "['abs_ip', 'elmtype_none', 'inv_meff', 'ip', 'is_good', 'kappa', 'pinj', 'standard', 'time', 'inv_beili2']\n",
      "prad CMOD...........\n",
      "************************\n",
      "overfit (lin / tok): ['prad', 'CMOD', 0.3614073058864141, 0.19926986068164443]\n",
      "************************\n",
      "..........\n",
      "prad CMOD 0.19926986068164443\n",
      "['abs_ip', 'amin', 'inv_time', 'rgeo']\n",
      "prad PBXM................\n",
      "************************\n",
      "overfit (lin / all): ['prad', 'PBXM', 0.6768571297407697, 0.1590681407227511]\n",
      "************************\n",
      "\n",
      "prad PBXM 0.6737563377693048\n",
      "['abs_bt', 'abs_ip', 'amin', 'beili2', 'delta', 'elmtype_none', 'inv_amin', 'inv_bt', 'inv_kappa', 'inv_rgeo', 'inv_time', 'is_good', 'phase_selm', 'pinj', 'standard', 'time', 'inv_beili2']\n",
      "prad JET.....................\n",
      "************************\n",
      "overfit (lin / all): ['prad', 'JET', 0.5684363994892996, 0.3689514652359467]\n",
      "************************\n",
      "\n",
      "prad JET 0.467167155810922\n",
      "['abs_bt', 'abs_ip', 'amin', 'auxheat_ic', 'beili2', 'bt', 'config_sn', 'delta', 'divmat_be', 'elmtype_none', 'elmtype_type_i', 'inv_pgasa', 'inv_tauc92', 'inv_time', 'is_good', 'karea', 'limmat_be', 'log_bt', 'meff', 'pgasa', 'pgasz', 'phase_selm', 'pinj', 'pos_bt', 'pos_ip', 'standard', 'walmat_c', 'log_inv_beili2']\n"
     ]
    },
    {
     "name": "stdout",
     "output_type": "stream",
     "text": [
      "wfaniic AUG........\n",
      "************************\n",
      "overfit (lin / all): ['wfaniic', 'AUG', 0.990591086340149, 0.0]\n",
      "************************\n",
      "\n",
      "wfaniic D3D........\n",
      "************************\n",
      "overfit (lin / all): ['wfaniic', 'D3D', 0.9908652359459853, 0.0]\n",
      "************************\n",
      "\n",
      "wfaniic JET................\n",
      "wfaniic JET 0.997787175095167\n",
      "['auxheat_ic', 'auxheat_nb', 'tok_cmod', 'walmat_c']\n",
      "tev CMOD.........\n",
      "************************\n",
      "overfit (lin / tok): ['tev', 'CMOD', 0.6333502540011411, 0.39429927011780164]\n",
      "************************\n",
      "........\n",
      "************************\n",
      "overfit (lin / all): ['tev', 'CMOD', 0.7823541870579556, 0.32919314763658314]\n",
      "************************\n",
      ".........\n",
      "************************\n",
      "overfit (log / tok): ['tev', 'CMOD', 0.527313202222782, 0.40419502991391687]\n",
      "************************\n",
      "...........\n",
      "************************\n",
      "overfit (log / all): ['tev', 'CMOD', 0.7720678548479623, 0.05937063203247961]\n",
      "************************\n",
      "\n",
      "tev CMOD 0.40419502991391687\n",
      "['inv_ip', 'inv_time', 'rgeo', 'inv_beili2']\n",
      "tev ASDEX..............\n",
      "************************\n",
      "overfit (lin / all): ['tev', 'ASDEX', 0.5569241942215083, 0.01971864254670752]\n",
      "************************\n",
      "..........\n",
      "************************\n",
      "overfit (log / tok): ['tev', 'ASDEX', 0.3629861134004635, 0.23664391204772262]\n",
      "************************\n",
      "..........\n",
      "tev ASDEX 0.6998740299483428\n",
      "['abs_bt', 'auxheat_nb', 'divmat_c', 'divmat_ti', 'elmtype_none', 'elmtype_type_iii', 'inv_bt', 'inv_pgasa', 'inv_pgasz', 'ip', 'is_good', 'limmat_be', 'log_ip', 'pgasz', 'pinj', 'standard', 'tok_aug', 'tok_cmod', 'tok_d3d', 'tok_jft2m', 'tok_jt60u', 'tok_nstx', 'tok_pdx', 'tok_tcv', 'walmat_c', 'zero_log_tauc92', 'imp_beili2', 'imp_tev', 'imp_wfani', 'inv_beili2']\n",
      "tev JET....................\n",
      "************************\n",
      "overfit (lin / all): ['tev', 'JET', 0.5017647982361666, 0.4415110096314426]\n",
      "************************\n",
      "....................\n",
      "************************\n",
      "overfit (log / all): ['tev', 'JET', 0.7397167265710411, 0.663713191639684]\n",
      "************************\n",
      "\n",
      "tev JET 0.7227615613712449\n",
      "['amin', 'auxheat_ic', 'auxheat_nb', 'beili2', 'bt', 'config_sn', 'delta', 'elmtype_type_i', 'elmtype_type_iii', 'inv_ip', 'inv_karea', 'inv_pgasa', 'inv_time', 'ip', 'is_good', 'kappa', 'kappaa', 'log_bt', 'log_inv_tauc92', 'meff', 'pgasz', 'phase_gelm', 'pinj', 'standard', 'time', 'vol', 'walmat_c', 'inv_beili2']\n",
      "nev AUG...........\n",
      "************************\n",
      "overfit (log / tok): ['nev', 'AUG', 0.7598573437285165, 0.6746642538778228]\n",
      "************************\n",
      "..........\n",
      "************************\n",
      "overfit (log / all): ['nev', 'AUG', 0.7493599275870912, 0.6474893532219019]\n",
      "************************\n",
      "\n",
      "nev AUG 0.6746642538778228\n",
      "['abs_bt', 'auxheat_ic', 'bt', 'delta', 'elmtype_type_i', 'inv_ip', 'inv_kappa', 'inv_vol', 'is_good', 'phase_gelm', 'pinj', 'time', 'inv_beili2']\n",
      "nev JFT2M......................\n",
      "************************\n",
      "overfit (log / all): ['nev', 'JFT2M', 0.5585109319650601, 0.49607407676339255]\n",
      "************************\n",
      "\n",
      "nev JFT2M 0.7855702459802566\n",
      "['inv_bt', 'inv_kappa', 'inv_meff', 'inv_time', 'is_good', 'log_inv_meff', 'log_ip', 'phase_selm', 'vol', 'inv_beili2']\n",
      "nev ASDEX.......................\n",
      "************************\n",
      "overfit (log / all): ['nev', 'ASDEX', 0.6383640959959132, 0.26151336669824965]\n",
      "************************\n",
      "\n",
      "nev ASDEX 0.3938275421729126\n",
      "['abs_bt', 'config_dn', 'divmat_c', 'dwhc', 'inv_ip', 'inv_meff', 'is_good', 'log_inv_meff', 'phase_gelm', 'pinj', 'tauc92', 'time', 'vol', 'inv_beili2']\n",
      "nev JET..............\n",
      "************************\n",
      "overfit (log / tok): ['nev', 'JET', 0.5550013870864692, 0.5018240550097118]\n",
      "************************\n",
      "........\n",
      "************************\n",
      "overfit (log / all): ['nev', 'JET', 0.6731268970652124, 0.40062226626538733]\n",
      "************************\n",
      "\n",
      "nev JET 0.5018240550097118\n",
      "['abs_bt', 'abs_ip', 'amin', 'auxheat_nb', 'beili2', 'bt', 'config_dn', 'config_sn', 'delta', 'divmat_be', 'divmat_c', 'elmtype_type_i', 'elmtype_type_iii', 'inv_amin', 'inv_bt', 'inv_kappa', 'inv_karea', 'inv_pgasz', 'inv_rgeo', 'inv_tauc92', 'inv_time', 'is_good', 'kappaa', 'limmat_be', 'log_bt', 'log_ip', 'meff', 'pgasa', 'phase_selm', 'pinj', 'pos_bt', 'pos_ip', 'standard', 'time', 'vol', 'inv_beili2']\n"
     ]
    }
   ],
   "source": [
    "warnings.filterwarnings('ignore')\n",
    "answers = impute_values(tokamak_data)\n",
    "warnings.resetwarnings()"
   ]
  },
  {
   "cell_type": "code",
   "execution_count": 8,
   "metadata": {},
   "outputs": [
    {
     "data": {
      "text/plain": [
       "2"
      ]
     },
     "execution_count": 8,
     "metadata": {},
     "output_type": "execute_result"
    }
   ],
   "source": [
    "1+1"
   ]
  },
  {
   "cell_type": "code",
   "execution_count": 9,
   "metadata": {},
   "outputs": [
    {
     "name": "stdout",
     "output_type": "stream",
     "text": [
      "pnbi JET\n",
      ".......pl D3D\n",
      "........betmhd JET\n",
      "......wmhd JET\n",
      ".......wtot AUG\n",
      "......wtot JET\n",
      "......wth AUG\n",
      "......wth D3D\n",
      "......wth JET\n",
      "."
     ]
    },
    {
     "name": "stderr",
     "output_type": "stream",
     "text": [
      "/usr/local/lib/python3.7/site-packages/sklearn/model_selection/_search.py:814: DeprecationWarning: The default of the `iid` parameter will change from True to False in version 0.22 and will be removed in 0.24. This will change numeric results when test-set sizes are unequal.\n",
      "  DeprecationWarning)\n"
     ]
    },
    {
     "name": "stdout",
     "output_type": "stream",
     "text": [
      ".......\n",
      "************************\n",
      "overfit (log / all): ['wth', 'JET', 0.9943750254720691, 0.9415537491163922]\n",
      "************************\n",
      "tauth D3D\n",
      "......wfani JET\n",
      "........q95 JET\n",
      "......wfaniic JET\n",
      "......"
     ]
    }
   ],
   "source": [
    "abridged_dict = {}\n",
    "cur_threshold = 0.85\n",
    "\n",
    "for cur_key, cur_value in answers.items():\n",
    "    cur_col, cur_tok, use_log, use_all = cur_key\n",
    "    cur_score, cur_columns = cur_value\n",
    "    if cur_score < cur_threshold : continue\n",
    "        \n",
    "    if cur_col not in abridged_dict: abridged_dict[cur_col] = {}\n",
    "\n",
    "    if cur_tok not in abridged_dict[cur_col]:\n",
    "        abridged_dict[cur_col][cur_tok] = (cur_score, use_log, use_all, cur_columns)\n",
    "        continue\n",
    "        \n",
    "    if cur_score < abridged_dict[cur_col][cur_tok][0] : continue\n",
    "    abridged_dict[cur_col][cur_tok] = (cur_score, use_log, use_all, cur_columns)\n",
    "\n",
    "for cur_col, cur_value in abridged_dict.items():\n",
    "    for cur_tok, cur_sub_value in cur_value.items():\n",
    "        best_key = cur_sub_value[1:3]\n",
    "        best_columns = cur_sub_value[-1]\n",
    "        \n",
    "        print(cur_col, cur_tok)\n",
    "        try:\n",
    "            work_result = _impute_complex_value(\n",
    "                tokamak_data, best_columns, cur_col,\n",
    "                cur_tok, *best_key, True, cur_threshold\n",
    "            )\n",
    "        except:\n",
    "            continue\n",
    "            \n",
    "        if work_result == False : continue\n",
    "        assert np.abs( work_result[0] - cur_sub_value[0] ) < 0.05"
   ]
  },
  {
   "cell_type": "code",
   "execution_count": 10,
   "metadata": {},
   "outputs": [
    {
     "name": "stdout",
     "output_type": "stream",
     "text": [
      "(3, 6, 10, 12, 54, 85, 97, 105, 321, 377, 446, 698)\n",
      "('pohm', 'nel', 'pecrhc', 'pl', 'wfaniic', 'tautot', 'tauth', 'wfani', 'picrhc', 'prad', 'tev', 'nev')\n",
      "pohm AUG...............\n",
      "************************\n",
      "overfit (lin / tok): ['pohm', 'AUG', 0.7010532684043504, 0.6308617153235605]\n",
      "************************\n",
      ".............\n",
      "pohm AUG 0.6308617153235605\n",
      "['abs_bt', 'amin', 'auxheat_ic', 'beili2', 'betmhd', 'delta', 'elmtype_type_i', 'inv_amin', 'inv_ip', 'inv_rgeo', 'inv_time', 'is_good', 'kappa', 'log_bt', 'log_ip', 'meff', 'pinj', 'pnbi', 'q95', 'time', 'wth', 'wtot', 'inv_beili2', 'imp_wth', 'inv_q95']\n",
      "nel JET...........................\n",
      "************************\n",
      "overfit (log / all): ['nel', 'JET', 0.8032700614286553, 0.7186205132931178]\n",
      "************************\n",
      "\n",
      "nel JET 0.8331819662110889\n",
      "['auxheat_ic', 'auxheat_nb', 'beili2', 'betmhd', 'bt', 'config_dn', 'config_sn', 'delta', 'elmtype_type_iii', 'inv_karea', 'inv_pgasz', 'inv_time', 'inv_vol', 'is_good', 'kappa', 'limmat_be', 'log_inv_pgasa', 'log_inv_tauc92', 'log_ip', 'log_pgasa', 'log_tauc92', 'pgasa', 'pgasz', 'phase_gelm', 'phase_selm', 'pinj', 'pnbi', 'pos_bt', 'pos_ip', 'rgeo', 'standard', 'tauc92', 'time', 'vol', 'walmat_c', 'wmhd', 'wth', 'wtot', 'zero_log_tauc92', 'imp_betmhd', 'imp_wfani', 'inv_beili2', 'zero_log_inv_tauc92', 'imp_wtot', 'imp_q95', 'imp_wfaniic', 'log_inv_betmhd', 'log_inv_q95', 'inv_wmhd', 'log_inv_wmhd', 'log_inv_wth']\n",
      "pecrhc D3D........\n",
      "************************\n",
      "overfit (lin / all): ['pecrhc', 'D3D', 0.9486557135642139, 0.0]\n",
      "************************\n",
      "\n",
      "pl AUG.................\n",
      "************************\n",
      "overfit (lin / all): ['pl', 'AUG', 0.9043095275795437, 0.9728600399393819]\n",
      "************************\n",
      ".....................\n",
      "************************\n",
      "overfit (log / all): ['pl', 'AUG', 0.91303997135349, 0.8386671875945435]\n",
      "************************\n",
      "\n",
      "pl AUG 0.9931733199254652\n",
      "['auxheat_ic', 'elmtype_type_i', 'inv_kappa', 'inv_time', 'is_good', 'meff', 'pinj', 'pnbi', 'inv_beili2', 'imp_wtot', 'inv_q95']\n",
      "pl JET.............................................\n",
      "************************\n",
      "overfit (log / all): ['pl', 'JET', 0.9406647290535273, 0.8204464354091019]\n",
      "************************\n",
      "\n",
      "pl JET 0.87200453313233\n",
      "['abs_bt', 'abs_ip', 'auxheat_ic', 'auxheat_nb', 'beili2', 'bt', 'config_dn', 'delta', 'divmat_be', 'divmat_c', 'elmtype_none', 'elmtype_type_iii', 'inv_meff', 'inv_pgasa', 'inv_pgasz', 'inv_rgeo', 'inv_tauc92', 'inv_time', 'ip', 'is_good', 'kappa', 'limmat_be', 'log_bt', 'log_inv_tauc92', 'pgasz', 'phase_selm', 'pinj', 'pnbi', 'pos_bt', 'standard', 'tauc92', 'time', 'wmhd', 'wth', 'zero_log_tauc92', 'imp_betmhd', 'imp_wfani', 'imp_wmhd', 'inv_beili2', 'zero_log_inv_tauc92', 'imp_wtot', 'imp_q95', 'inv_q95', 'log_inv_wmhd', 'inv_wth']\n",
      "wfaniic AUG........\n",
      "************************\n",
      "overfit (lin / all): ['wfaniic', 'AUG', 0.9958724465124004, 0.0]\n",
      "************************\n",
      "\n",
      "wfaniic D3D........\n",
      "************************\n",
      "overfit (lin / all): ['wfaniic', 'D3D', 0.9958288278802807, 0.0]\n",
      "************************\n",
      "\n",
      "tautot AUG..................\n",
      "************************\n",
      "overfit (lin / all): ['tautot', 'AUG', 0.9033768971129218, 0.6384248815941291]\n",
      "************************\n",
      ".......................\n",
      "************************\n",
      "overfit (log / all): ['tautot', 'AUG', 0.9681077136528893, 0.8855279322388516]\n",
      "************************\n",
      "\n",
      "tautot AUG 0.9148099846720423\n",
      "['abs_bt', 'auxheat_ic', 'beili2', 'elmtype_type_i', 'inv_ip', 'inv_kappaa', 'inv_time', 'kappa', 'meff', 'pinj', 'pnbi', 'wtot']\n",
      "tautot D3D...................\n",
      "************************\n",
      "overfit (lin / all): ['tautot', 'D3D', 0.9018081145627944, 0.6480462922540133]\n",
      "************************\n",
      "..........\n",
      "************************\n",
      "overfit (log / tok): ['tautot', 'D3D', 0.883831234302882, 0.8040112714344406]\n",
      "************************\n",
      "...........\n",
      "************************\n",
      "overfit (log / all): ['tautot', 'D3D', 0.9521587302566609, 0.7359362297713183]\n",
      "************************\n",
      "\n",
      "tautot D3D 0.8040112714344406\n",
      "['auxheat_ic', 'beili2', 'config_sn', 'elmtype_none', 'inv_bt', 'inv_ip', 'inv_rgeo', 'inv_time', 'meff', 'pgasa', 'pnbi', 'q95', 'standard', 'wmhd', 'imp_nev', 'inv_q95']\n",
      "tautot JET.......................\n",
      "************************\n",
      "overfit (lin / all): ['tautot', 'JET', 0.8878346773873851, 0.7411752177653319]\n",
      "************************\n",
      "........................\n",
      "************************\n",
      "overfit (log / all): ['tautot', 'JET', 0.9733484358717017, 0.8698074706072791]\n",
      "************************\n",
      "\n",
      "tautot JET 0.8698074706072791\n",
      "['abs_bt', 'amin', 'auxheat_ic', 'auxheat_nb', 'bt', 'config_dn', 'delta', 'divmat_be', 'dwhc', 'elmtype_none', 'elmtype_type_i', 'elmtype_type_iii', 'inv_bt', 'inv_meff', 'inv_pgasz', 'ip', 'is_good', 'limmat_be', 'log_amin', 'log_inv_vol', 'log_ip', 'log_rgeo', 'log_vol', 'pgasa', 'pgasz', 'phase_selm', 'pinj', 'pnbi', 'pos_ip', 'standard', 'tauc92', 'tok_aug', 'tok_jft2m', 'tok_nstx', 'tok_pdx', 'tok_tdev', 'tok_tftr', 'wmhd', 'wth', 'wtot', 'imp_beili2', 'imp_tev', 'inv_beili2', 'imp_wth', 'imp_q95', 'imp_wfaniic', 'inv_betmhd', 'inv_wmhd', 'inv_wth', 'log_inv_wth']\n",
      "tauth AUG...................\n",
      "************************\n",
      "overfit (lin / all): ['tauth', 'AUG', 0.9149448871815535, 0.6765708036702518]\n",
      "************************\n",
      "......................\n",
      "************************\n",
      "overfit (log / all): ['tauth', 'AUG', 0.9621489847637984, 0.8825647356153352]\n",
      "************************\n",
      "\n",
      "tauth AUG 0.9072400524446492\n",
      "['abs_bt', 'auxheat_ic', 'bt', 'elmtype_type_i', 'inv_ip', 'inv_pgasa', 'inv_rgeo', 'kappa', 'phase_gelm', 'pinj', 'pnbi', 'wth', 'wtot']\n",
      "tauth D3D...........\n",
      "************************\n",
      "overfit (lin / tok): ['tauth', 'D3D', 0.7572982212507465, 0.836437836375712]\n",
      "************************\n",
      "...........\n",
      "************************\n",
      "overfit (lin / all): ['tauth', 'D3D', 0.8942926730504873, 0.7107701034939882]\n",
      "************************\n",
      ".............\n",
      "************************\n",
      "overfit (log / tok): ['tauth', 'D3D', 0.9104413121257795, 0.8328999089155948]\n",
      "************************\n",
      ".............\n",
      "************************\n",
      "overfit (log / all): ['tauth', 'D3D', 0.9412690186802033, 0.7115614651831105]\n",
      "************************\n",
      "\n",
      "tauth D3D 0.836437836375712\n",
      "['elmtype_none', 'inv_bt', 'inv_karea', 'inv_rgeo', 'is_good', 'meff', 'pnbi', 'q95', 'wmhd', 'log_inv_wth']\n",
      "tauth JET..........................\n",
      "************************\n",
      "overfit (lin / all): ['tauth', 'JET', 0.8828641506627886, 0.7454420663375101]\n",
      "************************\n",
      "..........................\n",
      "************************\n",
      "overfit (log / all): ['tauth', 'JET', 0.9643906347651469, 0.8500681893267882]\n",
      "************************\n",
      "\n",
      "tauth JET 0.8674426798377396\n",
      "['abs_bt', 'auxheat_ic', 'auxheat_nb', 'beili2', 'bt', 'config_dn', 'delta', 'divmat_be', 'divmat_c', 'elmtype_none', 'elmtype_type_i', 'inv_ip', 'inv_kappaa', 'inv_meff', 'inv_pgasa', 'inv_pgasz', 'inv_rgeo', 'inv_tauc92', 'inv_time', 'is_good', 'karea', 'limmat_be', 'log_bt', 'log_inv_tauc92', 'log_ip', 'log_tauc92', 'meff', 'pgasa', 'pgasz', 'phase_selm', 'pnbi', 'pos_bt', 'pos_ip', 'q95', 'standard', 'tauc92', 'time', 'wmhd', 'zero_log_tauc92', 'imp_betmhd', 'zero_log_inv_tauc92', 'imp_q95', 'imp_wfaniic', 'inv_q95', 'log_inv_wmhd', 'inv_wth', 'log_inv_wth', 'inv_wtot']\n",
      "wfani AUG.......................\n",
      "************************\n",
      "overfit (lin / all): ['wfani', 'AUG', 0.9225694348688267, 0.6043805811333484]\n",
      "************************\n",
      "\n",
      "wfani AUG 0.800195321448923\n",
      "['abs_bt', 'abs_ip', 'auxheat_ic', 'beili2', 'betmhd', 'bt', 'delta', 'elmtype_none', 'elmtype_type_i', 'inv_amin', 'inv_bt', 'inv_kappa', 'inv_meff', 'inv_time', 'inv_vol', 'ip', 'is_good', 'log_inv_meff', 'log_inv_time', 'log_ip', 'log_meff', 'pinj', 'pnbi', 'rgeo', 'wmhd', 'wth', 'wtot', 'inv_beili2', 'imp_wth', 'inv_betmhd', 'inv_q95', 'log_inv_q95', 'log_inv_wth', 'log_inv_wtot']\n",
      "wfani D3D..............\n",
      "************************\n",
      "overfit (lin / tok): ['wfani', 'D3D', 0.3362515832238846, 0.4743378866564587]\n",
      "************************\n",
      "...........\n",
      "************************\n",
      "overfit (lin / all): ['wfani', 'D3D', 0.9454476232064608, 0.2535631585359902]\n",
      "************************\n",
      "\n",
      "wfani D3D 0.4743378866564587\n",
      "['abs_ip', 'amin', 'config_dn', 'elmtype_none', 'inv_ip', 'inv_pgasa', 'inv_vol', 'is_good', 'log_inv_time', 'log_pgasa', 'pinj', 'pnbi', 'standard', 'wmhd', 'wth', 'wtot', 'imp_tev', 'log_inv_beili2', 'imp_pl', 'inv_betmhd', 'inv_q95', 'log_inv_wth']\n"
     ]
    },
    {
     "name": "stdout",
     "output_type": "stream",
     "text": [
      "picrhc JET........................\n",
      "picrhc JET 0.8104068052785587\n",
      "['abs_ip', 'auxheat_ic', 'auxheat_nb', 'beili2', 'delta', 'divmat_be', 'elmtype_type_i', 'elmtype_type_iii', 'inv_kappa', 'inv_pgasz', 'inv_tauc92', 'is_good', 'limmat_be', 'log_bt', 'log_inv_karea', 'log_inv_meff', 'log_inv_time', 'log_karea', 'log_meff', 'log_time', 'pgasz', 'phase_selm', 'pinj', 'pnbi', 'pos_ip', 'q95', 'rgeo', 'walmat_c', 'wth', 'imp_wfani', 'imp_wtot', 'imp_q95', 'inv_wmhd']\n",
      "prad AUG...................\n",
      "************************\n",
      "overfit (lin / all): ['prad', 'AUG', 0.5672354585812207, 0.4830454804712445]\n",
      "************************\n",
      "\n",
      "prad AUG 0.84953123318441\n",
      "['abs_bt', 'amin', 'auxheat_ic', 'betmhd', 'delta', 'divmat_c', 'elmtype_type_i', 'inv_amin', 'inv_bt', 'inv_ip', 'inv_kappaa', 'inv_time', 'ip', 'is_good', 'kappa', 'kappaa', 'karea', 'log_inv_pgasa', 'meff', 'pgasa', 'pinj', 'pnbi', 'rgeo', 'time', 'wth', 'wtot', 'log_inv_beili2', 'imp_wtot', 'inv_q95', 'inv_wmhd', 'log_inv_wth']\n",
      "prad D3D.....................\n",
      "************************\n",
      "overfit (lin / all): ['prad', 'D3D', 0.6918474310698679, 0.6055381470217677]\n",
      "************************\n",
      "\n",
      "prad D3D 0.7471946154400844\n",
      "['amin', 'delta', 'inv_bt', 'inv_ip', 'inv_kappa', 'inv_pgasa', 'is_good', 'log_inv_pgasa', 'meff', 'pgasa', 'phase_gelm', 'phase_selm', 'pnbi', 'standard', 'wmhd', 'wth', 'wtot', 'inv_beili2', 'inv_wmhd']\n",
      "prad JFT2M...........\n",
      "************************\n",
      "overfit (lin / tok): ['prad', 'JFT2M', 0.7492396996386683, 0.6960878345432867]\n",
      "************************\n",
      "........\n",
      "prad JFT2M 0.6960878345432867\n",
      "['abs_ip', 'beili2', 'delta', 'elmtype_none', 'inv_bt', 'inv_kappa', 'inv_time', 'inv_vol', 'is_good', 'karea', 'log_inv_meff', 'pnbi', 'rgeo', 'standard', 'time', 'wmhd', 'wth', 'inv_beili2', 'log_inv_q95', 'inv_wmhd', 'inv_wth']\n",
      "prad CMOD..........\n",
      "************************\n",
      "overfit (lin / tok): ['prad', 'CMOD', 0.40679844872101667, 0.18995392749378703]\n",
      "************************\n",
      "...........\n",
      "prad CMOD 0.18995392749378703\n",
      "['abs_ip', 'delta', 'inv_rgeo', 'karea']\n",
      "prad PBXM..................\n",
      "************************\n",
      "overfit (lin / all): ['prad', 'PBXM', 0.6761840229420261, 0.26335032752265153]\n",
      "************************\n",
      "\n",
      "prad PBXM 0.8171943266205868\n",
      "['amin', 'beili2', 'betmhd', 'delta', 'inv_amin', 'inv_bt', 'inv_kappa', 'inv_kappaa', 'inv_time', 'is_good', 'karea', 'log_ip', 'phase_selm', 'pinj', 'pnbi', 'q95', 'standard', 'time', 'wmhd', 'wth', 'inv_beili2', 'inv_betmhd']\n",
      "prad JET.......................\n",
      "************************\n",
      "overfit (lin / all): ['prad', 'JET', 0.558966816455271, 0.37006297915087855]\n",
      "************************\n",
      "\n",
      "prad JET 0.5727032335121855\n",
      "['abs_bt', 'abs_ip', 'auxheat_ic', 'auxheat_nb', 'beili2', 'betmhd', 'bt', 'config_dn', 'delta', 'divmat_be', 'elmtype_none', 'elmtype_type_i', 'elmtype_type_iii', 'inv_amin', 'inv_bt', 'inv_kappaa', 'inv_karea', 'inv_meff', 'inv_pgasa', 'inv_pgasz', 'inv_rgeo', 'ip', 'is_good', 'kappa', 'karea', 'limmat_be', 'log_ip', 'meff', 'pgasa', 'pgasz', 'phase_selm', 'pinj', 'pnbi', 'pos_bt', 'q95', 'standard', 'time', 'walmat_c', 'wmhd', 'wth', 'wtot', 'imp_wfani', 'inv_beili2', 'imp_wtot', 'imp_q95', 'imp_wfaniic', 'inv_betmhd', 'inv_q95', 'log_inv_wmhd', 'inv_wth', 'log_inv_wtot']\n",
      "tev CMOD............\n",
      "************************\n",
      "overfit (lin / tok): ['tev', 'CMOD', 0.6028149065133197, 0.42467291975392163]\n",
      "************************\n",
      "...........\n",
      "************************\n",
      "overfit (lin / all): ['tev', 'CMOD', 0.8525319435302569, 0.637525236047978]\n",
      "************************\n",
      "..........\n",
      "************************\n",
      "overfit (log / tok): ['tev', 'CMOD', 0.46245810700966344, 0.30733586950919656]\n",
      "************************\n",
      "..............\n",
      "************************\n",
      "overfit (log / all): ['tev', 'CMOD', 0.8196631157966778, 0.5446050503281478]\n",
      "************************\n",
      "\n",
      "tev CMOD 0.637525236047978\n",
      "['abs_ip', 'bt', 'delta', 'divmat_be', 'divmat_c', 'divmat_ss', 'elmtype_none', 'elmtype_type_iii', 'inv_bt', 'inv_kappaa', 'inv_time', 'ip', 'is_good', 'karea', 'limmat_be', 'meff', 'pgasz', 'phase_gelm', 'pinj', 'pnbi', 'q95', 'tauc92', 'tok_aug', 'tok_jft2m', 'tok_jt60u', 'tok_nstx', 'tok_tcv', 'tok_tdev', 'tok_tftr', 'walmat_c', 'wmhd', 'wth', 'wtot', 'imp_beili2', 'imp_betmhd', 'inv_beili2', 'imp_pnbi', 'imp_wtot', 'imp_q95', 'imp_wfaniic', 'log_inv_betmhd', 'inv_wth', 'log_inv_wtot']\n",
      "tev ASDEX........................\n",
      "************************\n",
      "overfit (log / tok): ['tev', 'ASDEX', 0.2852947156457113, 0.7479795036729529]\n",
      "************************\n",
      "...............\n",
      "************************\n",
      "overfit (log / all): ['tev', 'ASDEX', 0.7848986298300982, 0.2135309887259189]\n",
      "************************\n",
      "\n",
      "tev ASDEX 0.7479795036729529\n",
      "['betmhd', 'divmat_c', 'rgeo', 'standard', 'wmhd']\n",
      "tev JET...........................................\n",
      "************************\n",
      "overfit (log / all): ['tev', 'JET', 0.7104509568054939, 0.5740616793187381]\n",
      "************************\n",
      "\n",
      "tev JET 0.7928879996765112\n",
      "['abs_bt', 'auxheat_nb', 'betmhd', 'config_sn', 'delta', 'divmat_be', 'divmat_c', 'elmtype_type_iii', 'inv_karea', 'inv_pgasz', 'inv_time', 'inv_vol', 'is_good', 'kappa', 'kappaa', 'limmat_be', 'log_bt', 'log_inv_tauc92', 'log_ip', 'pgasa', 'pgasz', 'phase_gelm', 'pinj', 'pnbi', 'pos_bt', 'pos_ip', 'q95', 'standard', 'tauc92', 'time', 'vol', 'walmat_c', 'wth', 'wtot', 'imp_betmhd', 'imp_wfani', 'inv_beili2', 'log_inv_beili2', 'imp_pnbi', 'imp_q95', 'imp_wfaniic', 'inv_betmhd', 'inv_q95', 'log_inv_wth', 'inv_wtot']\n",
      "nev AUG.............\n",
      "************************\n",
      "overfit (log / tok): ['nev', 'AUG', 0.8316817787321467, 0.7590950674450895]\n",
      "************************\n",
      "............\n",
      "************************\n",
      "overfit (log / all): ['nev', 'AUG', 0.8794489478732428, 0.6779172108120628]\n",
      "************************\n",
      "\n",
      "nev AUG 0.7590950674450895\n",
      "['auxheat_ic', 'beili2', 'betmhd', 'delta', 'elmtype_type_i', 'inv_ip', 'inv_kappaa', 'is_good', 'kappa', 'pinj', 'pnbi', 'rgeo', 'time', 'vol', 'wth', 'wtot', 'inv_q95', 'inv_wtot']\n",
      "nev JFT2M..........................\n",
      "nev JFT2M 0.9103427248855672\n",
      "['abs_bt', 'beili2', 'betmhd', 'config_dn', 'delta', 'elmtype_none', 'inv_ip', 'inv_kappaa', 'is_good', 'kappa', 'log_inv_meff', 'phase_selm', 'pinj', 'pnbi', 'time', 'vol', 'wmhd', 'wth', 'inv_betmhd']\n",
      "nev ASDEX........................\n",
      "************************\n",
      "overfit (log / all): ['nev', 'ASDEX', 0.8156246293308224, 0.6374656484158954]\n",
      "************************\n",
      "\n",
      "nev ASDEX 0.8730439853883483\n",
      "['abs_bt', 'betmhd', 'bt', 'config_dn', 'divmat_c', 'dwhc', 'elmtype_none', 'inv_meff', 'inv_rgeo', 'inv_time', 'inv_vol', 'is_good', 'log_inv_meff', 'pnbi', 'q95', 'wth', 'wtot', 'inv_beili2', 'inv_betmhd', 'log_inv_wth', 'inv_wtot']\n",
      "nev JET..........................\n",
      "************************\n",
      "overfit (log / all): ['nev', 'JET', 0.6857790204619696, 0.41950820227999563]\n",
      "************************\n",
      "\n",
      "nev JET 0.7673149822856596\n",
      "['auxheat_ic', 'auxheat_nb', 'beili2', 'config_dn', 'config_sn', 'elmtype_type_iii', 'inv_bt', 'inv_karea', 'inv_pgasz', 'inv_time', 'inv_vol', 'is_good', 'kappa', 'limmat_be', 'log_inv_tauc92', 'log_ip', 'pgasa', 'pgasz', 'phase_selm', 'pinj', 'pnbi', 'pos_ip', 'q95', 'rgeo', 'standard', 'walmat_c', 'wth', 'wtot', 'imp_betmhd', 'imp_wfani', 'inv_beili2', 'imp_wtot', 'imp_q95', 'imp_wfaniic', 'inv_betmhd', 'log_inv_betmhd', 'log_inv_q95', 'inv_wmhd', 'log_inv_wth']\n"
     ]
    }
   ],
   "source": [
    "warnings.filterwarnings('ignore')\n",
    "answers = impute_values(tokamak_data)\n",
    "warnings.resetwarnings()"
   ]
  },
  {
   "cell_type": "code",
   "execution_count": 22,
   "metadata": {
    "scrolled": true
   },
   "outputs": [
    {
     "name": "stdout",
     "output_type": "stream",
     "text": [
      "pohm AUG\n",
      "✘tauth D3D\n",
      "✘prad JFT2M\n",
      "✘nev AUG\n",
      "✘nev JET\n",
      "✘tev CMOD\n",
      "......✓tev ASDEX\n",
      "."
     ]
    },
    {
     "name": "stderr",
     "output_type": "stream",
     "text": [
      "/usr/local/lib/python3.7/site-packages/sklearn/model_selection/_search.py:814: DeprecationWarning: The default of the `iid` parameter will change from True to False in version 0.22 and will be removed in 0.24. This will change numeric results when test-set sizes are unequal.\n",
      "  DeprecationWarning)\n"
     ]
    },
    {
     "name": "stdout",
     "output_type": "stream",
     "text": [
      ".....✓tev JET\n",
      "✘"
     ]
    }
   ],
   "source": [
    "abridged_dict = {}\n",
    "cur_threshold = 0.8\n",
    "\n",
    "for cur_key, cur_value in answers.items():\n",
    "    cur_col, cur_tok, use_log, use_all = cur_key\n",
    "    cur_score, cur_columns = cur_value\n",
    "    if cur_score < cur_threshold : continue\n",
    "        \n",
    "    if cur_col not in abridged_dict: abridged_dict[cur_col] = {}\n",
    "\n",
    "    if cur_tok not in abridged_dict[cur_col]:\n",
    "        abridged_dict[cur_col][cur_tok] = (cur_score, use_log, use_all, cur_columns)\n",
    "        continue\n",
    "        \n",
    "    if cur_score < abridged_dict[cur_col][cur_tok][0] : continue\n",
    "    abridged_dict[cur_col][cur_tok] = (cur_score, use_log, use_all, cur_columns)\n",
    "\n",
    "for cur_col, cur_value in abridged_dict.items():\n",
    "    for cur_tok, cur_sub_value in cur_value.items():\n",
    "        best_key = cur_sub_value[1:3]\n",
    "        best_columns = cur_sub_value[-1]\n",
    "        \n",
    "        print(cur_col, cur_tok)\n",
    "        try:\n",
    "            work_result = _impute_complex_value(\n",
    "                tokamak_data, best_columns, cur_col,\n",
    "                cur_tok, *best_key, True, cur_threshold\n",
    "            )\n",
    "        except:\n",
    "            print(\"✘\", end=\"\")\n",
    "            continue\n",
    "            \n",
    "        print(\"✓\", end=\"\")\n",
    "        "
   ]
  },
  {
   "cell_type": "code",
   "execution_count": 24,
   "metadata": {},
   "outputs": [
    {
     "name": "stdout",
     "output_type": "stream",
     "text": [
      "170\n"
     ]
    }
   ],
   "source": [
    "expand_columns(tokamak_data)\n",
    "remove_columns(tokamak_data)\n",
    "tokamak_data.sort_index(axis=1, inplace=True)\n",
    "\n",
    "print(len(tokamak_data.columns))"
   ]
  },
  {
   "cell_type": "code",
   "execution_count": 25,
   "metadata": {},
   "outputs": [
    {
     "name": "stdout",
     "output_type": "stream",
     "text": [
      "(10, 54, 105, 317, 358)\n",
      "('pecrhc', 'wfaniic', 'wfani', 'prad', 'tev')\n",
      "pecrhc D3D........\n",
      "************************\n",
      "overfit (lin / all): ['pecrhc', 'D3D', 0.9486557135642139, 0.0]\n",
      "************************\n",
      "\n",
      "wfaniic AUG........\n",
      "************************\n",
      "overfit (lin / all): ['wfaniic', 'AUG', 0.9960692558781721, 0.0]\n",
      "************************\n",
      "\n",
      "wfaniic D3D........\n",
      "************************\n",
      "overfit (lin / all): ['wfaniic', 'D3D', 0.9960496990120327, 0.0]\n",
      "************************\n",
      "\n",
      "wfani AUG...............\n",
      "************************\n",
      "overfit (lin / tok): ['wfani', 'AUG', 0.8572361480449259, 0.7579495265156866]\n",
      "************************\n",
      "........\n",
      "************************\n",
      "overfit (lin / all): ['wfani', 'AUG', 0.9660971440606911, 0.7665023995527399]\n",
      "************************\n",
      "\n",
      "wfani AUG 0.7665023995527399\n",
      "['abs_bt', 'auxheat_nb', 'beili2', 'betmhd', 'bt', 'divmat_ti', 'elmtype_type_iii', 'imp_nel', 'imp_pnbi', 'imp_tauth', 'imp_wmhd', 'inv_amin', 'inv_tautot', 'is_good', 'log_inv_nel', 'log_inv_nev', 'log_nel', 'pinj', 'pnbi', 'pohm', 'q95', 'standard', 'tauth', 'tok_asdex', 'tok_d3d', 'tok_jft2m', 'tok_jt60u', 'tok_pdx', 'tok_tdev', 'tok_tftr', 'walmat_ss', 'wth']\n",
      "wfani D3D........................\n",
      "************************\n",
      "overfit (lin / all): ['wfani', 'D3D', 0.9584214999871875, 0.0708957081414231]\n",
      "************************\n",
      "\n",
      "wfani D3D 0.26417644181226363\n",
      "['abs_pohm', 'config_dn', 'elmtype_none', 'imp_tev', 'inv_nel', 'log_inv_nev', 'pinj', 'pohm', 'standard', 'tautot', 'time']\n",
      "prad D3D........................\n",
      "************************\n",
      "overfit (lin / all): ['prad', 'D3D', 0.8092880184844568, 0.5064934443342624]\n",
      "************************\n",
      "\n",
      "prad D3D 0.7265068232075345\n",
      "['abs_ip', 'auxheat_nb', 'inv_ip', 'inv_pgasa', 'inv_vol', 'ip', 'log_inv_nel', 'log_inv_pgasa', 'meff', 'pgasa', 'phase_gelm', 'pl', 'rgeo', 'tautot', 'time', 'wth']\n",
      "prad CMOD...........\n",
      "************************\n",
      "overfit (lin / tok): ['prad', 'CMOD', 0.637881284292557, 0.48555963330374763]\n",
      "************************\n",
      "...............\n",
      "************************\n",
      "overfit (lin / all): ['prad', 'CMOD', 0.786789330612079, 0.3899256012506003]\n",
      "************************\n",
      "\n",
      "prad CMOD 0.48555963330374763\n",
      "['abs_pohm', 'delta', 'elmtype_none', 'inv_pl', 'inv_rgeo', 'karea', 'nev', 'phase_selm', 'pohm']\n",
      "prad PBXM..........\n",
      "************************\n",
      "overfit (lin / tok): ['prad', 'PBXM', 0.796476057414815, 0.7343975478573729]\n",
      "************************\n",
      "...........\n",
      "************************\n",
      "overfit (lin / all): ['prad', 'PBXM', 0.7251735194273583, 0.37189469865378005]\n",
      "************************\n",
      "\n",
      "prad PBXM 0.7343975478573729\n",
      "['abs_pohm', 'beili2', 'delta', 'inv_beili2', 'inv_bt', 'inv_kappa', 'inv_nel', 'inv_time', 'inv_wth', 'is_good', 'karea', 'log_inv_tauth', 'pohm', 'pos_pohm', 'rgeo', 'standard']\n",
      "prad JET...........................\n",
      "************************\n",
      "overfit (lin / all): ['prad', 'JET', 0.6427586253130111, 0.4820738265696842]\n",
      "************************\n",
      "\n",
      "prad JET 0.7251844797384955\n",
      "['abs_ip', 'auxheat_nb', 'betmhd', 'config_sn', 'delta', 'divmat_be', 'elmtype_type_i', 'elmtype_type_iii', 'imp_betmhd', 'imp_picrhc', 'imp_tauth', 'imp_tev', 'imp_wmhd', 'inv_amin', 'inv_betmhd', 'inv_kappaa', 'inv_nel', 'inv_nev', 'inv_pgasa', 'inv_pgasz', 'inv_tauth', 'inv_time', 'inv_wmhd', 'is_good', 'karea', 'log_inv_nev', 'log_inv_tauc92', 'log_inv_tautot', 'log_ip', 'meff', 'phase_selm', 'picrhc', 'pinj', 'pl', 'pnbi', 'pohm', 'rgeo', 'standard', 'walmat_c', 'wmhd', 'wtot']\n",
      "tev CMOD.........\n",
      "************************\n",
      "overfit (lin / tok): ['tev', 'CMOD', 0.8841989290241968, 0.6196764569037874]\n",
      "************************\n",
      ".........\n",
      "************************\n",
      "overfit (lin / all): ['tev', 'CMOD', 0.8667577547578211, 0.8059774850057373]\n",
      "************************\n",
      "..........\n",
      "************************\n",
      "overfit (log / tok): ['tev', 'CMOD', 0.7236053585027773, 0.8749687152063558]\n",
      "************************\n",
      "........\n",
      "************************\n",
      "overfit (log / all): ['tev', 'CMOD', 0.8628295654597431, 0.41118491019018666]\n",
      "************************\n",
      "\n",
      "tev CMOD 0.8749687152063558\n",
      "['log_inv_wth', 'nev', 'pl', 'rgeo']\n",
      "tev ASDEX...........................\n",
      "************************\n",
      "overfit (log / tok): ['tev', 'ASDEX', 0.304528725099221, 0.8276497151517715]\n",
      "************************\n",
      "...............\n",
      "************************\n",
      "overfit (log / all): ['tev', 'ASDEX', 0.5373682857987852, 0.21869424008360586]\n",
      "************************\n",
      "\n",
      "tev ASDEX 0.8276497151517715\n",
      "['divmat_c', 'inv_tauth', 'rgeo', 'standard', 'wtot']\n"
     ]
    }
   ],
   "source": [
    "warnings.filterwarnings('ignore')\n",
    "answers = impute_values(tokamak_data)\n",
    "warnings.resetwarnings()"
   ]
  },
  {
   "cell_type": "code",
   "execution_count": 18,
   "metadata": {
    "scrolled": false
   },
   "outputs": [
    {
     "name": "stdout",
     "output_type": "stream",
     "text": [
      "(3, 5, 10, 54, 105, 364, 365, 446)\n",
      "('pohm', 'tauth', 'pecrhc', 'wfaniic', 'wfani', 'prad', 'nev', 'tev')\n",
      "pohm AUG........................\n",
      "************************\n",
      "overfit (lin / all): ['pohm', 'AUG', 0.7504361072043076, 0.6946251833579544]\n",
      "************************\n",
      "\n",
      "pohm AUG 0.8323269997939705\n",
      "['abs_ip', 'beili2', 'bt', 'delta', 'inv_amin', 'inv_karea', 'is_good', 'kappa', 'nel', 'pgasa', 'phase_gelm', 'picrhc', 'pinj', 'pl', 'pnbi', 'q95', 'rgeo', 'tautot', 'time', 'wtot', 'imp_prad', 'inv_beili2', 'imp_wth', 'inv_betmhd', 'inv_q95', 'imp_tauth', 'inv_nel', 'inv_tautot']\n",
      "tauth D3D...........................................\n",
      "tauth D3D 0.9998247069713567\n",
      "['abs_bt', 'auxheat_ic', 'inv_kappaa', 'is_good', 'meff', 'phase_selm', 'pl', 'pnbi', 'wth', 'imp_nev', 'inv_beili2', 'log_inv_wth', 'inv_nel', 'inv_pl', 'log_inv_pl', 'inv_tautot', 'log_inv_tautot']\n",
      "pecrhc D3D........\n",
      "************************\n",
      "overfit (lin / all): ['pecrhc', 'D3D', 0.9486557135642139, 0.0]\n",
      "************************\n",
      "\n",
      "wfaniic AUG........\n",
      "************************\n",
      "overfit (lin / all): ['wfaniic', 'AUG', 0.9960692558781721, 0.0]\n",
      "************************\n",
      "\n",
      "wfaniic D3D........\n",
      "************************\n",
      "overfit (lin / all): ['wfaniic', 'D3D', 0.9960496990120327, 0.0]\n",
      "************************\n",
      "\n",
      "wfani AUG...........\n",
      "************************\n",
      "overfit (lin / tok): ['wfani', 'AUG', 0.8400962822437086, 0.7262186142399965]\n",
      "************************\n",
      ".........\n",
      "************************\n",
      "overfit (lin / all): ['wfani', 'AUG', 0.9660705752989331, 0.7725104238040389]\n",
      "************************\n",
      "\n",
      "wfani AUG 0.7725104238040389\n",
      "['abs_bt', 'auxheat_nb', 'beili2', 'betmhd', 'bt', 'divmat_ti', 'elmtype_type_iii', 'inv_amin', 'is_good', 'pinj', 'q95', 'standard', 'tok_asdex', 'tok_d3d', 'tok_jft2m', 'tok_jt60u', 'tok_pdx', 'tok_tdev', 'tok_tftr', 'walmat_ss', 'wth', 'imp_wmhd', 'log_inv_beili2', 'imp_pnbi', 'imp_q95', 'imp_nel', 'imp_tauth', 'log_inv_nel', 'inv_tautot']\n",
      "wfani D3D........\n",
      "************************\n",
      "overfit (lin / tok): ['wfani', 'D3D', 0.2555902729669708, 0.1893317073811488]\n",
      "************************\n",
      "...........\n",
      "************************\n",
      "overfit (lin / all): ['wfani', 'D3D', 0.9442281681729902, 0.18914425669731993]\n",
      "************************\n",
      "\n",
      "wfani D3D 0.1893317073811488\n",
      "['amin', 'config_dn', 'elmtype_none', 'log_inv_time', 'pinj', 'standard', 'tautot', 'imp_tev', 'imp_wth', 'inv_q95', 'inv_nel']\n",
      "prad D3D...................\n",
      "************************\n",
      "overfit (lin / all): ['prad', 'D3D', 0.8064502920693952, 0.726048899807307]\n",
      "************************\n",
      "\n",
      "prad D3D 0.7470959645445616\n",
      "['abs_ip', 'auxheat_nb', 'delta', 'inv_ip', 'inv_kappaa', 'inv_pgasa', 'ip', 'meff', 'pgasa', 'phase_gelm', 'pl', 'tautot', 'time', 'vol', 'wth', 'log_inv_nel']\n",
      "prad JFT2M.................\n",
      "************************\n",
      "overfit (lin / all): ['prad', 'JFT2M', 0.7460245139597417, 0.57726608520678]\n",
      "************************\n",
      "\n",
      "prad JFT2M 0.8244395839350414\n",
      "['abs_bt', 'beili2', 'bt', 'delta', 'elmtype_none', 'inv_kappa', 'inv_meff', 'inv_time', 'inv_vol', 'is_good', 'kappaa', 'log_inv_meff', 'nel', 'pl', 'pnbi', 'rgeo', 'standard', 'tautot', 'time', 'wth', 'imp_nev', 'inv_beili2', 'inv_betmhd', 'log_inv_q95', 'log_inv_wmhd', 'inv_nel']\n",
      "prad CMOD..........\n",
      "************************\n",
      "overfit (lin / tok): ['prad', 'CMOD', 0.651427615460227, 0.3634161723032763]\n",
      "************************\n",
      "...........\n",
      "************************\n",
      "overfit (lin / all): ['prad', 'CMOD', 0.8369492583696176, 0.324914790043071]\n",
      "************************\n",
      "\n",
      "prad CMOD 0.3634161723032763\n",
      "['delta', 'elmtype_none', 'inv_karea', 'inv_rgeo', 'picrhc', 'log_inv_beili2', 'inv_pl']\n",
      "prad PBXM..............\n",
      "************************\n",
      "overfit (lin / tok): ['prad', 'PBXM', 0.7937591669311536, 0.7078078684425009]\n",
      "************************\n",
      "........\n",
      "************************\n",
      "overfit (lin / all): ['prad', 'PBXM', 0.8055243076692663, 0.5756174357465049]\n",
      "************************\n",
      "\n",
      "prad PBXM 0.7078078684425009\n",
      "['beili2', 'delta', 'inv_bt', 'inv_kappa', 'inv_time', 'log_ip', 'phase_selm', 'pinj', 'pnbi', 'q95', 'rgeo', 'standard', 'wmhd', 'wth', 'inv_beili2', 'inv_wth', 'log_inv_pl']\n",
      "prad JET........................\n",
      "************************\n",
      "overfit (lin / all): ['prad', 'JET', 0.6162003194631763, 0.43818808074192483]\n",
      "************************\n",
      "\n",
      "prad JET 0.7314111084967079\n",
      "['abs_bt', 'auxheat_nb', 'betmhd', 'config_dn', 'config_sn', 'delta', 'divmat_be', 'elmtype_type_i', 'elmtype_type_iii', 'inv_amin', 'inv_pgasa', 'inv_time', 'is_good', 'karea', 'log_inv_tauc92', 'log_ip', 'meff', 'pgasz', 'phase_gelm', 'picrhc', 'pinj', 'pl', 'pnbi', 'q95', 'rgeo', 'standard', 'tautot', 'walmat_c', 'wmhd', 'wtot', 'imp_betmhd', 'inv_beili2', 'imp_wtot', 'inv_wmhd', 'imp_tautot', 'imp_picrhc', 'inv_nel', 'log_inv_nel', 'inv_pl', 'log_inv_tautot']\n",
      "nev AUG...................\n",
      "nev AUG 0.9406873722115632\n",
      "['bt', 'nel', 'walmat_ss', 'log_inv_nel']\n",
      "nev JET........................\n",
      "nev JET 0.9517180091797538\n",
      "['abs_bt', 'auxheat_nb', 'elmtype_none', 'inv_pgasz', 'inv_tauc92', 'kappa', 'log_inv_tauc92', 'pgasz', 'standard', 'imp_pnbi', 'imp_wtot', 'log_inv_nel']\n",
      "tev CMOD...................\n",
      "************************\n",
      "overfit (lin / all): ['tev', 'CMOD', 0.8510174807014637, 0.5946406983888661]\n",
      "************************\n",
      "...................\n",
      "************************\n",
      "overfit (log / all): ['tev', 'CMOD', 0.7611696422399434, 0.24486872239594681]\n",
      "************************\n",
      "\n",
      "tev CMOD 0.8004939267773725\n",
      "['inv_kappa', 'nel', 'pl', 'rgeo', 'wth', 'log_inv_betmhd']\n",
      "tev ASDEX..................................\n",
      "************************\n",
      "overfit (log / all): ['tev', 'ASDEX', 0.7168067561428821, 0.8111725653430426]\n",
      "************************\n",
      "\n",
      "tev ASDEX 0.8111725653430426\n",
      "['divmat_c', 'ip', 'log_bt', 'standard', 'tok_aug', 'tok_jft2m', 'tok_pdx', 'wmhd', 'log_inv_wth', 'log_inv_nel']\n",
      "tev JET.....................................\n",
      "************************\n",
      "overfit (log / tok): ['tev', 'JET', 0.8665827344257407, 0.456492250621946]\n",
      "************************\n",
      "........\n",
      "tev JET 0.8667275294901059\n",
      "['config_sn', 'divmat_be', 'inv_amin', 'inv_pgasa', 'inv_pgasz', 'is_good', 'kappa', 'limmat_be', 'log_bt', 'picrhc', 'pinj', 'q95', 'wmhd', 'imp_betmhd', 'inv_beili2', 'zero_log_inv_tauc92', 'imp_q95', 'inv_betmhd', 'log_inv_wtot', 'inv_nel', 'log_inv_nel', 'inv_tautot']\n"
     ]
    }
   ],
   "source": [
    "warnings.filterwarnings('ignore')\n",
    "answers = impute_values(tokamak_data)\n",
    "warnings.resetwarnings()"
   ]
  },
  {
   "cell_type": "code",
   "execution_count": 191,
   "metadata": {},
   "outputs": [
    {
     "name": "stdout",
     "output_type": "stream",
     "text": [
      "wfani AUG\n",
      "✘prad D3D\n",
      ".......✓prad PBXM\n",
      "✘prad JET\n",
      ".......✓tev CMOD\n",
      "✘tev ASDEX\n",
      "......✓"
     ]
    },
    {
     "name": "stderr",
     "output_type": "stream",
     "text": [
      "/usr/local/lib/python3.7/site-packages/sklearn/model_selection/_search.py:814: DeprecationWarning: The default of the `iid` parameter will change from True to False in version 0.22 and will be removed in 0.24. This will change numeric results when test-set sizes are unequal.\n",
      "  DeprecationWarning)\n"
     ]
    }
   ],
   "source": [
    "abridged_dict = {}\n",
    "cur_threshold = 0.7\n",
    "\n",
    "for cur_key, cur_value in answers.items():\n",
    "    cur_col, cur_tok, use_log, use_all = cur_key\n",
    "    cur_score, cur_columns = cur_value\n",
    "    if cur_score < cur_threshold : continue\n",
    "        \n",
    "    if cur_col not in abridged_dict: abridged_dict[cur_col] = {}\n",
    "\n",
    "    if cur_tok not in abridged_dict[cur_col]:\n",
    "        abridged_dict[cur_col][cur_tok] = (cur_score, use_log, use_all, cur_columns)\n",
    "        continue\n",
    "        \n",
    "    if cur_score < abridged_dict[cur_col][cur_tok][0] : continue\n",
    "    abridged_dict[cur_col][cur_tok] = (cur_score, use_log, use_all, cur_columns)\n",
    "\n",
    "for cur_col, cur_value in abridged_dict.items():\n",
    "    for cur_tok, cur_sub_value in cur_value.items():\n",
    "        best_key = cur_sub_value[1:3]\n",
    "        best_columns = cur_sub_value[-1]\n",
    "        \n",
    "        print(cur_col, cur_tok)\n",
    "        try:\n",
    "            work_result = _impute_complex_value(\n",
    "                tokamak_data, best_columns, cur_col,\n",
    "                cur_tok, *best_key, True, cur_threshold\n",
    "            )\n",
    "        except:\n",
    "            print(\"✘\", end=\"\")\n",
    "            continue\n",
    "            \n",
    "        print(\"✓\", end=\"\")\n",
    "        "
   ]
  },
  {
   "cell_type": "code",
   "execution_count": null,
   "metadata": {},
   "outputs": [],
   "source": []
  },
  {
   "cell_type": "code",
   "execution_count": 268,
   "metadata": {},
   "outputs": [
    {
     "name": "stdout",
     "output_type": "stream",
     "text": [
      ".................................................................................................................................................\n",
      "************************\n",
      "overfit (log / tok): ['tev', 'ASDEX', 0.4785429100921379, 0.10516650555611762]\n",
      "************************\n",
      ".."
     ]
    },
    {
     "ename": "KeyboardInterrupt",
     "evalue": "",
     "output_type": "error",
     "traceback": [
      "\u001b[0;31m---------------------------------------------------------------------------\u001b[0m",
      "\u001b[0;31mKeyboardInterrupt\u001b[0m                         Traceback (most recent call last)",
      "\u001b[0;32m<ipython-input-268-91860d8d54e2>\u001b[0m in \u001b[0;36m<module>\u001b[0;34m\u001b[0m\n\u001b[1;32m      1\u001b[0m \u001b[0mwarnings\u001b[0m\u001b[0;34m.\u001b[0m\u001b[0mfilterwarnings\u001b[0m\u001b[0;34m(\u001b[0m\u001b[0;34m'ignore'\u001b[0m\u001b[0;34m)\u001b[0m\u001b[0;34m\u001b[0m\u001b[0;34m\u001b[0m\u001b[0m\n\u001b[0;32m----> 2\u001b[0;31m \u001b[0manswers\u001b[0m \u001b[0;34m=\u001b[0m \u001b[0mimpute_values\u001b[0m\u001b[0;34m(\u001b[0m\u001b[0mtokamak_data\u001b[0m\u001b[0;34m)\u001b[0m\u001b[0;34m\u001b[0m\u001b[0;34m\u001b[0m\u001b[0m\n\u001b[0m\u001b[1;32m      3\u001b[0m \u001b[0mwarnings\u001b[0m\u001b[0;34m.\u001b[0m\u001b[0mresetwarnings\u001b[0m\u001b[0;34m(\u001b[0m\u001b[0;34m)\u001b[0m\u001b[0;34m\u001b[0m\u001b[0;34m\u001b[0m\u001b[0m\n",
      "\u001b[0;32m~/code/metis_projects/2_tokamak_classifier/impute_values.py\u001b[0m in \u001b[0;36mimpute_values\u001b[0;34m(tokamak_data)\u001b[0m\n\u001b[1;32m     39\u001b[0m     work_result = _impute_complex_value(\n\u001b[1;32m     40\u001b[0m       \u001b[0mtokamak_data\u001b[0m\u001b[0;34m,\u001b[0m \u001b[0mtmp_list\u001b[0m\u001b[0;34m,\u001b[0m \u001b[0mcur_col\u001b[0m\u001b[0;34m,\u001b[0m \u001b[0mcur_tok\u001b[0m\u001b[0;34m,\u001b[0m\u001b[0;34m\u001b[0m\u001b[0;34m\u001b[0m\u001b[0m\n\u001b[0;32m---> 41\u001b[0;31m       \u001b[0;32mTrue\u001b[0m\u001b[0;34m,\u001b[0m \u001b[0;32mFalse\u001b[0m\u001b[0;34m,\u001b[0m \u001b[0;32mFalse\u001b[0m\u001b[0;34m,\u001b[0m \u001b[0;36m0.0\u001b[0m\u001b[0;34m,\u001b[0m \u001b[0;32mTrue\u001b[0m\u001b[0;34m\u001b[0m\u001b[0;34m\u001b[0m\u001b[0m\n\u001b[0m\u001b[1;32m     42\u001b[0m     )\n\u001b[1;32m     43\u001b[0m \u001b[0;34m\u001b[0m\u001b[0m\n",
      "\u001b[0;32m~/code/metis_projects/2_tokamak_classifier/impute_values.py\u001b[0m in \u001b[0;36m_impute_complex_value\u001b[0;34m(tokamak_data, full_columns, cur_col, cur_tok, use_log, use_all, mutate_data, cur_threshold, do_prune)\u001b[0m\n\u001b[1;32m    249\u001b[0m \u001b[0;34m\u001b[0m\u001b[0m\n\u001b[1;32m    250\u001b[0m     \u001b[0mcur_cv\u001b[0m \u001b[0;34m=\u001b[0m \u001b[0mLassoCV\u001b[0m\u001b[0;34m(\u001b[0m\u001b[0mcv\u001b[0m\u001b[0;34m=\u001b[0m\u001b[0;36m3\u001b[0m\u001b[0;34m,\u001b[0m \u001b[0mn_alphas\u001b[0m\u001b[0;34m=\u001b[0m\u001b[0;36m256\u001b[0m\u001b[0;34m,\u001b[0m \u001b[0mmax_iter\u001b[0m\u001b[0;34m=\u001b[0m\u001b[0;36m100000\u001b[0m\u001b[0;34m,\u001b[0m \u001b[0mtol\u001b[0m\u001b[0;34m=\u001b[0m\u001b[0;36m1e-6\u001b[0m\u001b[0;34m,\u001b[0m \u001b[0mn_jobs\u001b[0m\u001b[0;34m=\u001b[0m\u001b[0;34m-\u001b[0m\u001b[0;36m1\u001b[0m\u001b[0;34m)\u001b[0m\u001b[0;34m\u001b[0m\u001b[0;34m\u001b[0m\u001b[0m\n\u001b[0;32m--> 251\u001b[0;31m     \u001b[0mcur_cv\u001b[0m\u001b[0;34m.\u001b[0m\u001b[0mfit\u001b[0m\u001b[0;34m(\u001b[0m\u001b[0mX_train\u001b[0m\u001b[0;34m,\u001b[0m \u001b[0my_train\u001b[0m\u001b[0;34m)\u001b[0m\u001b[0;34m\u001b[0m\u001b[0;34m\u001b[0m\u001b[0m\n\u001b[0m\u001b[1;32m    252\u001b[0m \u001b[0;34m\u001b[0m\u001b[0m\n\u001b[1;32m    253\u001b[0m     \u001b[0;32mif\u001b[0m \u001b[0mcur_cv\u001b[0m\u001b[0;34m.\u001b[0m\u001b[0mdual_gap_\u001b[0m \u001b[0;34m>\u001b[0m \u001b[0;36m1e30\u001b[0m\u001b[0;34m:\u001b[0m\u001b[0;34m\u001b[0m\u001b[0;34m\u001b[0m\u001b[0m\n",
      "\u001b[0;32m/usr/local/lib/python3.7/site-packages/sklearn/linear_model/coordinate_descent.py\u001b[0m in \u001b[0;36mfit\u001b[0;34m(self, X, y)\u001b[0m\n\u001b[1;32m   1193\u001b[0m                 for train, test in folds)\n\u001b[1;32m   1194\u001b[0m         mse_paths = Parallel(n_jobs=self.n_jobs, verbose=self.verbose,\n\u001b[0;32m-> 1195\u001b[0;31m                              **_joblib_parallel_args(prefer=\"threads\"))(jobs)\n\u001b[0m\u001b[1;32m   1196\u001b[0m         \u001b[0mmse_paths\u001b[0m \u001b[0;34m=\u001b[0m \u001b[0mnp\u001b[0m\u001b[0;34m.\u001b[0m\u001b[0mreshape\u001b[0m\u001b[0;34m(\u001b[0m\u001b[0mmse_paths\u001b[0m\u001b[0;34m,\u001b[0m \u001b[0;34m(\u001b[0m\u001b[0mn_l1_ratio\u001b[0m\u001b[0;34m,\u001b[0m \u001b[0mlen\u001b[0m\u001b[0;34m(\u001b[0m\u001b[0mfolds\u001b[0m\u001b[0;34m)\u001b[0m\u001b[0;34m,\u001b[0m \u001b[0;34m-\u001b[0m\u001b[0;36m1\u001b[0m\u001b[0;34m)\u001b[0m\u001b[0;34m)\u001b[0m\u001b[0;34m\u001b[0m\u001b[0;34m\u001b[0m\u001b[0m\n\u001b[1;32m   1197\u001b[0m         \u001b[0mmean_mse\u001b[0m \u001b[0;34m=\u001b[0m \u001b[0mnp\u001b[0m\u001b[0;34m.\u001b[0m\u001b[0mmean\u001b[0m\u001b[0;34m(\u001b[0m\u001b[0mmse_paths\u001b[0m\u001b[0;34m,\u001b[0m \u001b[0maxis\u001b[0m\u001b[0;34m=\u001b[0m\u001b[0;36m1\u001b[0m\u001b[0;34m)\u001b[0m\u001b[0;34m\u001b[0m\u001b[0;34m\u001b[0m\u001b[0m\n",
      "\u001b[0;32m/usr/local/lib/python3.7/site-packages/joblib/parallel.py\u001b[0m in \u001b[0;36m__call__\u001b[0;34m(self, iterable)\u001b[0m\n\u001b[1;32m   1014\u001b[0m \u001b[0;34m\u001b[0m\u001b[0m\n\u001b[1;32m   1015\u001b[0m             \u001b[0;32mwith\u001b[0m \u001b[0mself\u001b[0m\u001b[0;34m.\u001b[0m\u001b[0m_backend\u001b[0m\u001b[0;34m.\u001b[0m\u001b[0mretrieval_context\u001b[0m\u001b[0;34m(\u001b[0m\u001b[0;34m)\u001b[0m\u001b[0;34m:\u001b[0m\u001b[0;34m\u001b[0m\u001b[0;34m\u001b[0m\u001b[0m\n\u001b[0;32m-> 1016\u001b[0;31m                 \u001b[0mself\u001b[0m\u001b[0;34m.\u001b[0m\u001b[0mretrieve\u001b[0m\u001b[0;34m(\u001b[0m\u001b[0;34m)\u001b[0m\u001b[0;34m\u001b[0m\u001b[0;34m\u001b[0m\u001b[0m\n\u001b[0m\u001b[1;32m   1017\u001b[0m             \u001b[0;31m# Make sure that we get a last message telling us we are done\u001b[0m\u001b[0;34m\u001b[0m\u001b[0;34m\u001b[0m\u001b[0;34m\u001b[0m\u001b[0m\n\u001b[1;32m   1018\u001b[0m             \u001b[0melapsed_time\u001b[0m \u001b[0;34m=\u001b[0m \u001b[0mtime\u001b[0m\u001b[0;34m.\u001b[0m\u001b[0mtime\u001b[0m\u001b[0;34m(\u001b[0m\u001b[0;34m)\u001b[0m \u001b[0;34m-\u001b[0m \u001b[0mself\u001b[0m\u001b[0;34m.\u001b[0m\u001b[0m_start_time\u001b[0m\u001b[0;34m\u001b[0m\u001b[0;34m\u001b[0m\u001b[0m\n",
      "\u001b[0;32m/usr/local/lib/python3.7/site-packages/joblib/parallel.py\u001b[0m in \u001b[0;36mretrieve\u001b[0;34m(self)\u001b[0m\n\u001b[1;32m    906\u001b[0m             \u001b[0;32mtry\u001b[0m\u001b[0;34m:\u001b[0m\u001b[0;34m\u001b[0m\u001b[0;34m\u001b[0m\u001b[0m\n\u001b[1;32m    907\u001b[0m                 \u001b[0;32mif\u001b[0m \u001b[0mgetattr\u001b[0m\u001b[0;34m(\u001b[0m\u001b[0mself\u001b[0m\u001b[0;34m.\u001b[0m\u001b[0m_backend\u001b[0m\u001b[0;34m,\u001b[0m \u001b[0;34m'supports_timeout'\u001b[0m\u001b[0;34m,\u001b[0m \u001b[0;32mFalse\u001b[0m\u001b[0;34m)\u001b[0m\u001b[0;34m:\u001b[0m\u001b[0;34m\u001b[0m\u001b[0;34m\u001b[0m\u001b[0m\n\u001b[0;32m--> 908\u001b[0;31m                     \u001b[0mself\u001b[0m\u001b[0;34m.\u001b[0m\u001b[0m_output\u001b[0m\u001b[0;34m.\u001b[0m\u001b[0mextend\u001b[0m\u001b[0;34m(\u001b[0m\u001b[0mjob\u001b[0m\u001b[0;34m.\u001b[0m\u001b[0mget\u001b[0m\u001b[0;34m(\u001b[0m\u001b[0mtimeout\u001b[0m\u001b[0;34m=\u001b[0m\u001b[0mself\u001b[0m\u001b[0;34m.\u001b[0m\u001b[0mtimeout\u001b[0m\u001b[0;34m)\u001b[0m\u001b[0;34m)\u001b[0m\u001b[0;34m\u001b[0m\u001b[0;34m\u001b[0m\u001b[0m\n\u001b[0m\u001b[1;32m    909\u001b[0m                 \u001b[0;32melse\u001b[0m\u001b[0;34m:\u001b[0m\u001b[0;34m\u001b[0m\u001b[0;34m\u001b[0m\u001b[0m\n\u001b[1;32m    910\u001b[0m                     \u001b[0mself\u001b[0m\u001b[0;34m.\u001b[0m\u001b[0m_output\u001b[0m\u001b[0;34m.\u001b[0m\u001b[0mextend\u001b[0m\u001b[0;34m(\u001b[0m\u001b[0mjob\u001b[0m\u001b[0;34m.\u001b[0m\u001b[0mget\u001b[0m\u001b[0;34m(\u001b[0m\u001b[0;34m)\u001b[0m\u001b[0;34m)\u001b[0m\u001b[0;34m\u001b[0m\u001b[0;34m\u001b[0m\u001b[0m\n",
      "\u001b[0;32m/usr/local/Cellar/python/3.7.4_1/Frameworks/Python.framework/Versions/3.7/lib/python3.7/multiprocessing/pool.py\u001b[0m in \u001b[0;36mget\u001b[0;34m(self, timeout)\u001b[0m\n\u001b[1;32m    649\u001b[0m \u001b[0;34m\u001b[0m\u001b[0m\n\u001b[1;32m    650\u001b[0m     \u001b[0;32mdef\u001b[0m \u001b[0mget\u001b[0m\u001b[0;34m(\u001b[0m\u001b[0mself\u001b[0m\u001b[0;34m,\u001b[0m \u001b[0mtimeout\u001b[0m\u001b[0;34m=\u001b[0m\u001b[0;32mNone\u001b[0m\u001b[0;34m)\u001b[0m\u001b[0;34m:\u001b[0m\u001b[0;34m\u001b[0m\u001b[0;34m\u001b[0m\u001b[0m\n\u001b[0;32m--> 651\u001b[0;31m         \u001b[0mself\u001b[0m\u001b[0;34m.\u001b[0m\u001b[0mwait\u001b[0m\u001b[0;34m(\u001b[0m\u001b[0mtimeout\u001b[0m\u001b[0;34m)\u001b[0m\u001b[0;34m\u001b[0m\u001b[0;34m\u001b[0m\u001b[0m\n\u001b[0m\u001b[1;32m    652\u001b[0m         \u001b[0;32mif\u001b[0m \u001b[0;32mnot\u001b[0m \u001b[0mself\u001b[0m\u001b[0;34m.\u001b[0m\u001b[0mready\u001b[0m\u001b[0;34m(\u001b[0m\u001b[0;34m)\u001b[0m\u001b[0;34m:\u001b[0m\u001b[0;34m\u001b[0m\u001b[0;34m\u001b[0m\u001b[0m\n\u001b[1;32m    653\u001b[0m             \u001b[0;32mraise\u001b[0m \u001b[0mTimeoutError\u001b[0m\u001b[0;34m\u001b[0m\u001b[0;34m\u001b[0m\u001b[0m\n",
      "\u001b[0;32m/usr/local/Cellar/python/3.7.4_1/Frameworks/Python.framework/Versions/3.7/lib/python3.7/multiprocessing/pool.py\u001b[0m in \u001b[0;36mwait\u001b[0;34m(self, timeout)\u001b[0m\n\u001b[1;32m    646\u001b[0m \u001b[0;34m\u001b[0m\u001b[0m\n\u001b[1;32m    647\u001b[0m     \u001b[0;32mdef\u001b[0m \u001b[0mwait\u001b[0m\u001b[0;34m(\u001b[0m\u001b[0mself\u001b[0m\u001b[0;34m,\u001b[0m \u001b[0mtimeout\u001b[0m\u001b[0;34m=\u001b[0m\u001b[0;32mNone\u001b[0m\u001b[0;34m)\u001b[0m\u001b[0;34m:\u001b[0m\u001b[0;34m\u001b[0m\u001b[0;34m\u001b[0m\u001b[0m\n\u001b[0;32m--> 648\u001b[0;31m         \u001b[0mself\u001b[0m\u001b[0;34m.\u001b[0m\u001b[0m_event\u001b[0m\u001b[0;34m.\u001b[0m\u001b[0mwait\u001b[0m\u001b[0;34m(\u001b[0m\u001b[0mtimeout\u001b[0m\u001b[0;34m)\u001b[0m\u001b[0;34m\u001b[0m\u001b[0;34m\u001b[0m\u001b[0m\n\u001b[0m\u001b[1;32m    649\u001b[0m \u001b[0;34m\u001b[0m\u001b[0m\n\u001b[1;32m    650\u001b[0m     \u001b[0;32mdef\u001b[0m \u001b[0mget\u001b[0m\u001b[0;34m(\u001b[0m\u001b[0mself\u001b[0m\u001b[0;34m,\u001b[0m \u001b[0mtimeout\u001b[0m\u001b[0;34m=\u001b[0m\u001b[0;32mNone\u001b[0m\u001b[0;34m)\u001b[0m\u001b[0;34m:\u001b[0m\u001b[0;34m\u001b[0m\u001b[0;34m\u001b[0m\u001b[0m\n",
      "\u001b[0;32m/usr/local/Cellar/python/3.7.4_1/Frameworks/Python.framework/Versions/3.7/lib/python3.7/threading.py\u001b[0m in \u001b[0;36mwait\u001b[0;34m(self, timeout)\u001b[0m\n\u001b[1;32m    550\u001b[0m             \u001b[0msignaled\u001b[0m \u001b[0;34m=\u001b[0m \u001b[0mself\u001b[0m\u001b[0;34m.\u001b[0m\u001b[0m_flag\u001b[0m\u001b[0;34m\u001b[0m\u001b[0;34m\u001b[0m\u001b[0m\n\u001b[1;32m    551\u001b[0m             \u001b[0;32mif\u001b[0m \u001b[0;32mnot\u001b[0m \u001b[0msignaled\u001b[0m\u001b[0;34m:\u001b[0m\u001b[0;34m\u001b[0m\u001b[0;34m\u001b[0m\u001b[0m\n\u001b[0;32m--> 552\u001b[0;31m                 \u001b[0msignaled\u001b[0m \u001b[0;34m=\u001b[0m \u001b[0mself\u001b[0m\u001b[0;34m.\u001b[0m\u001b[0m_cond\u001b[0m\u001b[0;34m.\u001b[0m\u001b[0mwait\u001b[0m\u001b[0;34m(\u001b[0m\u001b[0mtimeout\u001b[0m\u001b[0;34m)\u001b[0m\u001b[0;34m\u001b[0m\u001b[0;34m\u001b[0m\u001b[0m\n\u001b[0m\u001b[1;32m    553\u001b[0m             \u001b[0;32mreturn\u001b[0m \u001b[0msignaled\u001b[0m\u001b[0;34m\u001b[0m\u001b[0;34m\u001b[0m\u001b[0m\n\u001b[1;32m    554\u001b[0m \u001b[0;34m\u001b[0m\u001b[0m\n",
      "\u001b[0;32m/usr/local/Cellar/python/3.7.4_1/Frameworks/Python.framework/Versions/3.7/lib/python3.7/threading.py\u001b[0m in \u001b[0;36mwait\u001b[0;34m(self, timeout)\u001b[0m\n\u001b[1;32m    294\u001b[0m         \u001b[0;32mtry\u001b[0m\u001b[0;34m:\u001b[0m    \u001b[0;31m# restore state no matter what (e.g., KeyboardInterrupt)\u001b[0m\u001b[0;34m\u001b[0m\u001b[0;34m\u001b[0m\u001b[0m\n\u001b[1;32m    295\u001b[0m             \u001b[0;32mif\u001b[0m \u001b[0mtimeout\u001b[0m \u001b[0;32mis\u001b[0m \u001b[0;32mNone\u001b[0m\u001b[0;34m:\u001b[0m\u001b[0;34m\u001b[0m\u001b[0;34m\u001b[0m\u001b[0m\n\u001b[0;32m--> 296\u001b[0;31m                 \u001b[0mwaiter\u001b[0m\u001b[0;34m.\u001b[0m\u001b[0macquire\u001b[0m\u001b[0;34m(\u001b[0m\u001b[0;34m)\u001b[0m\u001b[0;34m\u001b[0m\u001b[0;34m\u001b[0m\u001b[0m\n\u001b[0m\u001b[1;32m    297\u001b[0m                 \u001b[0mgotit\u001b[0m \u001b[0;34m=\u001b[0m \u001b[0;32mTrue\u001b[0m\u001b[0;34m\u001b[0m\u001b[0;34m\u001b[0m\u001b[0m\n\u001b[1;32m    298\u001b[0m             \u001b[0;32melse\u001b[0m\u001b[0;34m:\u001b[0m\u001b[0;34m\u001b[0m\u001b[0;34m\u001b[0m\u001b[0m\n",
      "\u001b[0;31mKeyboardInterrupt\u001b[0m: "
     ]
    }
   ],
   "source": [
    "warnings.filterwarnings('ignore')\n",
    "answers = impute_values(tokamak_data)\n",
    "warnings.resetwarnings()"
   ]
  },
  {
   "cell_type": "code",
   "execution_count": 193,
   "metadata": {},
   "outputs": [
    {
     "data": {
      "text/plain": [
       "Series([], Name: prad, dtype: float64)"
      ]
     },
     "execution_count": 193,
     "metadata": {},
     "output_type": "execute_result"
    }
   ],
   "source": [
    "tokamak_data[tokamak_data.prad.isnull() & (tokamak_data.tok == \"JET\")].prad"
   ]
  },
  {
   "cell_type": "code",
   "execution_count": 312,
   "metadata": {},
   "outputs": [
    {
     "data": {
      "text/plain": [
       "0"
      ]
     },
     "execution_count": 312,
     "metadata": {},
     "output_type": "execute_result"
    }
   ],
   "source": [
    "np.sum(tokamak_data.tev.isnull())"
   ]
  },
  {
   "cell_type": "code",
   "execution_count": 313,
   "metadata": {},
   "outputs": [],
   "source": [
    "tokamak_data[\"epsilon\"] = tokamak_data.amin / tokamak_data.rgeo\n",
    "tokamak_data[\"greenwald\"] = tokamak_data.nel * ( tokamak_data.amin ** 2 ) / tokamak_data.abs_ip\n",
    "tokamak_data[\"pressure\"] = tokamak_data.nev * tokamak_data.tev\n",
    "\n",
    "expand_columns(tokamak_data)\n",
    "remove_columns(tokamak_data)\n",
    "tokamak_data.sort_index(axis=1, inplace=True)\n"
   ]
  },
  {
   "cell_type": "code",
   "execution_count": 456,
   "metadata": {},
   "outputs": [
    {
     "data": {
      "text/plain": [
       "['abs_bt', 'abs_ip', 'epsilon', 'nel', 'pressure', 'rgeo', 'tev', 'vol']"
      ]
     },
     "execution_count": 456,
     "metadata": {},
     "output_type": "execute_result"
    }
   ],
   "source": [
    "poly_cols = [\n",
    "    \"nel\", \"abs_ip\", \"rgeo\", \"abs_bt\", \n",
    "    \"tev\", \"epsilon\", \"pressure\", \"vol\"\n",
    "]\n",
    "\n",
    "for cur_col in poly_cols.copy():\n",
    "    work_data = None\n",
    "    try:\n",
    "        work_data = tokamak_data[cur_col]\n",
    "    except:\n",
    "        poly_cols.remove(cur_col)\n",
    "        continue\n",
    "        \n",
    "    if np.sum(work_data.isnull()) > 0 :\n",
    "        poly_cols.remove(cur_col)\n",
    "        continue\n",
    "        \n",
    "    assert all(work_data > 0)\n",
    "\n",
    "poly_cols.sort()\n",
    "\n",
    "poly_cols"
   ]
  },
  {
   "cell_type": "code",
   "execution_count": 198,
   "metadata": {},
   "outputs": [],
   "source": [
    "def expand_poly(n):\n",
    "    cur_output = _expand_poly([], 0, n)\n",
    "    cur_set = set(list(map(tuple,cur_output)))\n",
    "\n",
    "    for sub_set in cur_set.copy():\n",
    "        for cur_index, work_value in enumerate(sub_set):\n",
    "            did_remove = False\n",
    "\n",
    "            for that_value in sub_set[cur_index+1:]:\n",
    "                this_value = work_value\n",
    "\n",
    "                if this_value.startswith(\"inv_\"):\n",
    "                    this_value = this_value.replace(\"inv_\", \"\")\n",
    "                elif that_value.startswith(\"inv_\"):\n",
    "                    that_value = that_value.replace(\"inv_\", \"\")\n",
    "                else:\n",
    "                    continue\n",
    "\n",
    "                if this_value != that_value: continue\n",
    "\n",
    "                did_remove = True\n",
    "                cur_set.remove(sub_set)\n",
    "                break\n",
    "\n",
    "            if did_remove : break\n",
    "\n",
    "    return cur_set\n",
    "    \n",
    "def _expand_poly(in_vec, i, stop):\n",
    "    out_vec = []\n",
    "    if i >= stop: return [sorted(in_vec)]\n",
    "    \n",
    "    for cur_col in poly_cols:\n",
    "        tmp_vec = in_vec.copy()\n",
    "        tmp_vec.append(cur_col)\n",
    "        out_vec.extend(_expand_poly(tmp_vec, i+1, stop))\n",
    "\n",
    "    for tmp_col in poly_cols:\n",
    "        cur_col = f\"inv_{tmp_col}\"\n",
    "        tmp_vec = in_vec.copy()\n",
    "        tmp_vec.append(cur_col)\n",
    "        out_vec.extend(_expand_poly(tmp_vec, i+1, stop))\n",
    "        \n",
    "    return sorted(out_vec)\n",
    "  "
   ]
  },
  {
   "cell_type": "code",
   "execution_count": 457,
   "metadata": {},
   "outputs": [],
   "source": [
    "for sub_set in expand_poly(2).union(expand_poly(3)):\n",
    "    work_col = tokamak_data[sub_set[0]].copy()\n",
    "    for work_index in sub_set[1:]:\n",
    "        work_col *= tokamak_data[work_index]\n",
    "    \n",
    "    cur_counter = Counter(sub_set)\n",
    "    \n",
    "    cur_name = \"\"\n",
    "    for cur_key in sorted(list(cur_counter.keys())):\n",
    "        cur_name += f\"_{cur_key}\"\n",
    "        cur_value = cur_counter[cur_key]\n",
    "        \n",
    "        if cur_value == 1 : continue\n",
    "        cur_name += f\"_{cur_value}\"\n",
    "        \n",
    "    tokamak_data[cur_name] = np.log10(work_col)\n",
    "#     \n",
    "    \n",
    "#     print(\"_\".join(sub_set))"
   ]
  },
  {
   "cell_type": "code",
   "execution_count": 316,
   "metadata": {},
   "outputs": [
    {
     "name": "stdout",
     "output_type": "stream",
     "text": [
      "1003\n",
      "999\n"
     ]
    }
   ],
   "source": [
    "print(len(tokamak_data.columns))\n",
    "\n",
    "expand_columns(tokamak_data)\n",
    "remove_columns(tokamak_data)\n",
    "# tokamak_data.sort_index(axis=1, inplace=True)\n",
    "\n",
    "print(len(tokamak_data.columns))"
   ]
  },
  {
   "cell_type": "code",
   "execution_count": 474,
   "metadata": {},
   "outputs": [
    {
     "data": {
      "text/plain": [
       "JET      3144\n",
       "AUG       638\n",
       "ASDEX     625\n",
       "JFT2M     530\n",
       "D3D       493\n",
       "PBXM      264\n",
       "PDX       143\n",
       "TFTR      104\n",
       "JT60U      89\n",
       "CMOD       86\n",
       "TCV        21\n",
       "TDEV       10\n",
       "NSTX        7\n",
       "Name: tok, dtype: int64"
      ]
     },
     "execution_count": 474,
     "metadata": {},
     "output_type": "execute_result"
    }
   ],
   "source": [
    "tokamak_data.tok.value_counts()"
   ]
  },
  {
   "cell_type": "code",
   "execution_count": 472,
   "metadata": {},
   "outputs": [
    {
     "data": {
      "text/plain": [
       "996"
      ]
     },
     "execution_count": 472,
     "metadata": {},
     "output_type": "execute_result"
    }
   ],
   "source": [
    "len(tokamak_data.columns)"
   ]
  },
  {
   "cell_type": "code",
   "execution_count": 469,
   "metadata": {},
   "outputs": [
    {
     "data": {
      "text/plain": [
       "array([-2.5, -1.5, -0.5,  0.5,  1.5,  2.5])"
      ]
     },
     "execution_count": 469,
     "metadata": {},
     "output_type": "execute_result"
    }
   ],
   "source": [
    "np.array(cur_sides) - 3.5"
   ]
  },
  {
   "cell_type": "code",
   "execution_count": 465,
   "metadata": {},
   "outputs": [
    {
     "name": "stdout",
     "output_type": "stream",
     "text": [
      "1 3.5 [1, 2, 3, 4, 5, 6] 5 0\n",
      "2 3.5 [1, 2, 3, 4, 5, 6] 4 1\n",
      "3 3.5 [1, 2, 3, 4, 5, 6] 3 2\n",
      "4 3.5 [1, 2, 3, 4, 5, 6] 2 3\n",
      "5 3.5 [1, 2, 3, 4, 5, 6] 1 4\n",
      "6 3.5 [1, 2, 3, 4, 5, 6] 0 5\n"
     ]
    }
   ],
   "source": [
    "cur_sides = [ 1 , 2 , 3 , 4 , 5 , 6 ]\n",
    "\n",
    "for cur_side in cur_sides:\n",
    "    tmp_sides = [ tmp_side for tmp_side in cur_sides.copy() ]\n",
    "    higher = np.sum([ tmp_side > cur_side for tmp_side in tmp_sides ])\n",
    "    lower = np.sum([ tmp_side < cur_side for tmp_side in tmp_sides ])\n",
    "    print(cur_side, np.mean(tmp_sides), tmp_sides, higher, lower)"
   ]
  },
  {
   "cell_type": "code",
   "execution_count": 459,
   "metadata": {
    "scrolled": true
   },
   "outputs": [
    {
     "name": "stdout",
     "output_type": "stream",
     "text": [
      "1032\n",
      "1242\n",
      "996\n",
      "996\n"
     ]
    }
   ],
   "source": [
    "print(len(tokamak_data.columns))\n",
    "\n",
    "expand_columns(tokamak_data)\n",
    "print(len(tokamak_data.columns))\n",
    "remove_columns(tokamak_data)\n",
    "print(len(tokamak_data.columns))\n",
    "tokamak_data.sort_index(axis=1, inplace=True)\n",
    "\n",
    "print(len(tokamak_data.columns))"
   ]
  },
  {
   "cell_type": "code",
   "execution_count": 452,
   "metadata": {},
   "outputs": [
    {
     "name": "stdout",
     "output_type": "stream",
     "text": [
      "_imp_beili2_tok_asdex\n",
      "_imp_beili2_tok_aug\n",
      "_imp_beili2_tok_cmod\n",
      "_imp_beili2_tok_d3d\n",
      "_imp_beili2_tok_jet\n",
      "_imp_beili2_tok_jft2m\n",
      "_imp_beili2_tok_nstx\n",
      "_imp_beili2_tok_pbxm\n",
      "_imp_beili2_tok_pdx\n",
      "_imp_beili2_tok_tcv\n",
      "_imp_beili2_tok_tdev\n",
      "_imp_beili2_tok_tftr\n",
      "_imp_betmhd_tok_asdex\n",
      "_imp_betmhd_tok_aug\n",
      "_imp_betmhd_tok_cmod\n",
      "_imp_betmhd_tok_d3d\n",
      "_imp_betmhd_tok_jft2m\n",
      "_imp_betmhd_tok_nstx\n",
      "_imp_betmhd_tok_pbxm\n",
      "_imp_betmhd_tok_pdx\n",
      "_imp_betmhd_tok_tcv\n",
      "_imp_betmhd_tok_tdev\n",
      "_imp_betmhd_tok_tftr\n",
      "_imp_nel_tok_asdex\n",
      "_imp_nel_tok_aug\n",
      "_imp_nel_tok_cmod\n",
      "_imp_nel_tok_d3d\n",
      "_imp_nel_tok_jft2m\n",
      "_imp_nel_tok_jt60u\n",
      "_imp_nel_tok_nstx\n",
      "_imp_nel_tok_pbxm\n",
      "_imp_nel_tok_pdx\n",
      "_imp_nel_tok_tcv\n",
      "_imp_nel_tok_tdev\n",
      "_imp_nel_tok_tftr\n",
      "_imp_nev_tok_cmod\n",
      "_imp_nev_tok_jt60u\n",
      "_imp_nev_tok_nstx\n",
      "_imp_nev_tok_tdev\n",
      "_imp_nev_tok_tftr\n",
      "_imp_picrhc_tok_asdex\n",
      "_imp_picrhc_tok_aug\n",
      "_imp_picrhc_tok_cmod\n",
      "_imp_picrhc_tok_d3d\n",
      "_imp_picrhc_tok_jft2m\n",
      "_imp_picrhc_tok_jt60u\n",
      "_imp_picrhc_tok_nstx\n",
      "_imp_picrhc_tok_pbxm\n",
      "_imp_picrhc_tok_pdx\n",
      "_imp_picrhc_tok_tcv\n",
      "_imp_picrhc_tok_tdev\n",
      "_imp_picrhc_tok_tftr\n",
      "_imp_pl_tok_asdex\n",
      "_imp_pl_tok_cmod\n",
      "_imp_pl_tok_jft2m\n",
      "_imp_pl_tok_jt60u\n",
      "_imp_pl_tok_nstx\n",
      "_imp_pl_tok_pbxm\n",
      "_imp_pl_tok_pdx\n",
      "_imp_pl_tok_tcv\n",
      "_imp_pl_tok_tdev\n",
      "_imp_pl_tok_tftr\n",
      "_imp_pnbi_tok_asdex\n",
      "_imp_pnbi_tok_aug\n",
      "_imp_pnbi_tok_cmod\n",
      "_imp_pnbi_tok_d3d\n",
      "_imp_pnbi_tok_jft2m\n",
      "_imp_pnbi_tok_jt60u\n",
      "_imp_pnbi_tok_nstx\n",
      "_imp_pnbi_tok_pbxm\n",
      "_imp_pnbi_tok_pdx\n",
      "_imp_pnbi_tok_tcv\n",
      "_imp_pnbi_tok_tdev\n",
      "_imp_pnbi_tok_tftr\n",
      "_imp_pohm_tok_asdex\n",
      "_imp_pohm_tok_cmod\n",
      "_imp_pohm_tok_d3d\n",
      "_imp_pohm_tok_jet\n",
      "_imp_pohm_tok_jft2m\n",
      "_imp_pohm_tok_jt60u\n",
      "_imp_pohm_tok_nstx\n",
      "_imp_pohm_tok_pbxm\n",
      "_imp_pohm_tok_pdx\n",
      "_imp_pohm_tok_tcv\n",
      "_imp_pohm_tok_tdev\n",
      "_imp_pohm_tok_tftr\n",
      "_imp_prad_tok_asdex\n",
      "_imp_prad_tok_cmod\n",
      "_imp_prad_tok_tdev\n",
      "_imp_q95_tok_asdex\n",
      "_imp_q95_tok_aug\n",
      "_imp_q95_tok_cmod\n",
      "_imp_q95_tok_d3d\n",
      "_imp_q95_tok_jft2m\n",
      "_imp_q95_tok_jt60u\n",
      "_imp_q95_tok_nstx\n",
      "_imp_q95_tok_pbxm\n",
      "_imp_q95_tok_pdx\n",
      "_imp_q95_tok_tcv\n",
      "_imp_q95_tok_tdev\n",
      "_imp_q95_tok_tftr\n",
      "_imp_tauth_tok_asdex\n",
      "_imp_tauth_tok_cmod\n",
      "_imp_tauth_tok_jft2m\n",
      "_imp_tauth_tok_jt60u\n",
      "_imp_tauth_tok_nstx\n",
      "_imp_tauth_tok_pbxm\n",
      "_imp_tauth_tok_pdx\n",
      "_imp_tauth_tok_tcv\n",
      "_imp_tauth_tok_tdev\n",
      "_imp_tauth_tok_tftr\n",
      "_imp_tautot_tok_asdex\n",
      "_imp_tautot_tok_cmod\n",
      "_imp_tautot_tok_jft2m\n",
      "_imp_tautot_tok_jt60u\n",
      "_imp_tautot_tok_nstx\n",
      "_imp_tautot_tok_pbxm\n",
      "_imp_tautot_tok_pdx\n",
      "_imp_tautot_tok_tcv\n",
      "_imp_tautot_tok_tdev\n",
      "_imp_tautot_tok_tftr\n",
      "_imp_tev_tok_jt60u\n",
      "_imp_tev_tok_nstx\n",
      "_imp_tev_tok_pbxm\n",
      "_imp_tev_tok_pdx\n",
      "_imp_tev_tok_tdev\n",
      "_imp_tev_tok_tftr\n",
      "_imp_wfani_tok_asdex\n",
      "_imp_wfani_tok_cmod\n",
      "_imp_wfani_tok_d3d\n",
      "_imp_wfani_tok_jft2m\n",
      "_imp_wfani_tok_nstx\n",
      "_imp_wfani_tok_pbxm\n",
      "_imp_wfani_tok_pdx\n",
      "_imp_wfani_tok_tcv\n",
      "_imp_wfani_tok_tdev\n",
      "_imp_wfani_tok_tftr\n",
      "_imp_wfaniic_tok_asdex\n",
      "_imp_wfaniic_tok_cmod\n",
      "_imp_wfaniic_tok_d3d\n",
      "_imp_wfaniic_tok_jft2m\n",
      "_imp_wfaniic_tok_jt60u\n",
      "_imp_wfaniic_tok_nstx\n",
      "_imp_wfaniic_tok_pbxm\n",
      "_imp_wfaniic_tok_pdx\n",
      "_imp_wfaniic_tok_tcv\n",
      "_imp_wfaniic_tok_tdev\n",
      "_imp_wfaniic_tok_tftr\n",
      "_imp_wmhd_tok_asdex\n",
      "_imp_wmhd_tok_aug\n",
      "_imp_wmhd_tok_cmod\n",
      "_imp_wmhd_tok_d3d\n",
      "_imp_wmhd_tok_jft2m\n",
      "_imp_wmhd_tok_nstx\n",
      "_imp_wmhd_tok_pbxm\n",
      "_imp_wmhd_tok_pdx\n",
      "_imp_wmhd_tok_tcv\n",
      "_imp_wmhd_tok_tdev\n",
      "_imp_wmhd_tok_tftr\n",
      "_imp_wth_tok_asdex\n",
      "_imp_wth_tok_cmod\n",
      "_imp_wth_tok_jft2m\n",
      "_imp_wth_tok_jt60u\n",
      "_imp_wth_tok_nstx\n",
      "_imp_wth_tok_pbxm\n",
      "_imp_wth_tok_pdx\n",
      "_imp_wth_tok_tcv\n",
      "_imp_wth_tok_tdev\n",
      "_imp_wth_tok_tftr\n",
      "_imp_wtot_tok_asdex\n",
      "_imp_wtot_tok_cmod\n",
      "_imp_wtot_tok_d3d\n",
      "_imp_wtot_tok_jft2m\n",
      "_imp_wtot_tok_jt60u\n",
      "_imp_wtot_tok_nstx\n",
      "_imp_wtot_tok_pbxm\n",
      "_imp_wtot_tok_pdx\n",
      "_imp_wtot_tok_tcv\n",
      "_imp_wtot_tok_tdev\n",
      "_imp_wtot_tok_tftr\n"
     ]
    }
   ],
   "source": [
    "for col in tokamak_data.columns:\n",
    "    if len(tokamak_data[col].value_counts()) > 1 : continue\n",
    "    print(col)"
   ]
  },
  {
   "cell_type": "code",
   "execution_count": 458,
   "metadata": {},
   "outputs": [
    {
     "data": {
      "application/vnd.jupyter.widget-view+json": {
       "model_id": "8ce057b6e41c4193afcca9dc259cbc7c",
       "version_major": 2,
       "version_minor": 0
      },
      "text/plain": [
       "interactive(children=(Select(description='cur_col', options=('tok', '---- numeric ----', '_abs_bt_2', '_abs_bt…"
      ]
     },
     "metadata": {},
     "output_type": "display_data"
    },
    {
     "data": {
      "text/plain": [
       "<function __main__.custom_plot(cur_col, use_log)>"
      ]
     },
     "execution_count": 458,
     "metadata": {},
     "output_type": "execute_result"
    }
   ],
   "source": [
    "bool_cols = []\n",
    "numeric_cols = []\n",
    "other_cols = []\n",
    "\n",
    "for cur_col in tokamak_data.columns:\n",
    "    if tokamak_data[cur_col].dtype == bool:\n",
    "        bool_cols.append(cur_col)\n",
    "    elif tokamak_data[cur_col].dtype == int:\n",
    "        numeric_cols.append(cur_col)\n",
    "    elif tokamak_data[cur_col].dtype == float:\n",
    "        numeric_cols.append(cur_col)\n",
    "    else:\n",
    "        other_cols.append(cur_col)\n",
    " \n",
    "def bool_plot(cur_col):\n",
    "    cur_vec = tokamak_data[cur_col]\n",
    "    cur_key, cur_value = zip(*cur_vec.value_counts().to_dict().items())\n",
    "    plt.barh(list(map(str,cur_key)), cur_value)\n",
    "\n",
    "def numeric_plot(cur_col):\n",
    "#     plt.subplot(1,2,1)\n",
    "    tokamak_data[tokamak_data[cur_col] != 0][cur_col].hist()\n",
    "#     plt.subplot(1,2,2)\n",
    "#     tokamak_data[tokamak_data[cur_col] != 0][cur_col].hist(alpha=0.2)\n",
    "#     tokamak_data[tokamak_data[cur_col] == 0][cur_col].hist()\n",
    "    \n",
    "def custom_plot(cur_col, use_log):\n",
    "    if cur_col in bool_cols: \n",
    "        bool_plot(cur_col)\n",
    "    elif cur_col in numeric_cols: \n",
    "        numeric_plot(cur_col)\n",
    "    else:\n",
    "        cur_vec = tokamak_data[cur_col]\n",
    "        plt.barh(*zip(*cur_vec.value_counts().to_dict().items()))\n",
    "    \n",
    "    plt.title(cur_col)\n",
    "    if use_log: plt.xscale(\"log\")\n",
    "\n",
    "#         \n",
    "#         return\n",
    "\n",
    "interact(\n",
    "    custom_plot,\n",
    "    use_log = True,\n",
    "    cur_col = widgets.Select(\n",
    "        options=[*other_cols, \"---- numeric ----\", *numeric_cols, \"---- boolean ----\", *bool_cols]\n",
    "    )\n",
    ")"
   ]
  },
  {
   "cell_type": "code",
   "execution_count": 454,
   "metadata": {},
   "outputs": [],
   "source": [
    "drop_columns = []\n",
    "\n",
    "for col in tokamak_data.columns:\n",
    "      if len(tokamak_data[col].value_counts()) > 1 : continue\n",
    "      drop_columns.append(col)\n",
    "\n",
    "tokamak_data.drop(columns=drop_columns, inplace=True)"
   ]
  },
  {
   "cell_type": "code",
   "execution_count": 441,
   "metadata": {},
   "outputs": [],
   "source": [
    "drop_columns = []\n",
    "\n",
    "for cur_index, this_col in enumerate(tokamak_data.columns):\n",
    "  if any(tokamak_data[this_col].isnull()) : continue\n",
    "  if not tokamak_data[this_col].dtype == bool : continue\n",
    "\n",
    "  for that_col in tokamak_data.columns[0:cur_index]:\n",
    "    if not tokamak_data[that_col].dtype == bool : continue\n",
    "    if not all(tokamak_data[this_col] == ~tokamak_data[that_col]) : continue\n",
    "\n",
    "    if len(this_col) > len(that_col):\n",
    "      drop_columns.append(this_col)\n",
    "    else:\n",
    "      drop_columns.append(that_col)\n",
    "    break\n",
    "\n",
    "tokamak_data.drop(columns=drop_columns, inplace=True)"
   ]
  },
  {
   "cell_type": "code",
   "execution_count": 443,
   "metadata": {},
   "outputs": [
    {
     "ename": "KeyError",
     "evalue": "'zero_tok_pdx'",
     "output_type": "error",
     "traceback": [
      "\u001b[0;31m---------------------------------------------------------------------------\u001b[0m",
      "\u001b[0;31mKeyError\u001b[0m                                  Traceback (most recent call last)",
      "\u001b[0;32m/usr/local/lib/python3.7/site-packages/pandas/core/indexes/base.py\u001b[0m in \u001b[0;36mget_loc\u001b[0;34m(self, key, method, tolerance)\u001b[0m\n\u001b[1;32m   2896\u001b[0m             \u001b[0;32mtry\u001b[0m\u001b[0;34m:\u001b[0m\u001b[0;34m\u001b[0m\u001b[0;34m\u001b[0m\u001b[0m\n\u001b[0;32m-> 2897\u001b[0;31m                 \u001b[0;32mreturn\u001b[0m \u001b[0mself\u001b[0m\u001b[0;34m.\u001b[0m\u001b[0m_engine\u001b[0m\u001b[0;34m.\u001b[0m\u001b[0mget_loc\u001b[0m\u001b[0;34m(\u001b[0m\u001b[0mkey\u001b[0m\u001b[0;34m)\u001b[0m\u001b[0;34m\u001b[0m\u001b[0;34m\u001b[0m\u001b[0m\n\u001b[0m\u001b[1;32m   2898\u001b[0m             \u001b[0;32mexcept\u001b[0m \u001b[0mKeyError\u001b[0m\u001b[0;34m:\u001b[0m\u001b[0;34m\u001b[0m\u001b[0;34m\u001b[0m\u001b[0m\n",
      "\u001b[0;32mpandas/_libs/index.pyx\u001b[0m in \u001b[0;36mpandas._libs.index.IndexEngine.get_loc\u001b[0;34m()\u001b[0m\n",
      "\u001b[0;32mpandas/_libs/index.pyx\u001b[0m in \u001b[0;36mpandas._libs.index.IndexEngine.get_loc\u001b[0;34m()\u001b[0m\n",
      "\u001b[0;32mpandas/_libs/hashtable_class_helper.pxi\u001b[0m in \u001b[0;36mpandas._libs.hashtable.PyObjectHashTable.get_item\u001b[0;34m()\u001b[0m\n",
      "\u001b[0;32mpandas/_libs/hashtable_class_helper.pxi\u001b[0m in \u001b[0;36mpandas._libs.hashtable.PyObjectHashTable.get_item\u001b[0;34m()\u001b[0m\n",
      "\u001b[0;31mKeyError\u001b[0m: 'zero_tok_pdx'",
      "\nDuring handling of the above exception, another exception occurred:\n",
      "\u001b[0;31mKeyError\u001b[0m                                  Traceback (most recent call last)",
      "\u001b[0;32m<ipython-input-443-722abc91136a>\u001b[0m in \u001b[0;36m<module>\u001b[0;34m\u001b[0m\n\u001b[0;32m----> 1\u001b[0;31m \u001b[0mall\u001b[0m\u001b[0;34m(\u001b[0m\u001b[0mtokamak_data\u001b[0m\u001b[0;34m[\u001b[0m\u001b[0;34m\"zero_tok_pdx\"\u001b[0m\u001b[0;34m]\u001b[0m \u001b[0;34m==\u001b[0m \u001b[0;34m~\u001b[0m\u001b[0mtokamak_data\u001b[0m\u001b[0;34m[\u001b[0m\u001b[0;34m\"tok_pdx\"\u001b[0m\u001b[0;34m]\u001b[0m\u001b[0;34m)\u001b[0m\u001b[0;34m\u001b[0m\u001b[0;34m\u001b[0m\u001b[0m\n\u001b[0m",
      "\u001b[0;32m/usr/local/lib/python3.7/site-packages/pandas/core/frame.py\u001b[0m in \u001b[0;36m__getitem__\u001b[0;34m(self, key)\u001b[0m\n\u001b[1;32m   2978\u001b[0m             \u001b[0;32mif\u001b[0m \u001b[0mself\u001b[0m\u001b[0;34m.\u001b[0m\u001b[0mcolumns\u001b[0m\u001b[0;34m.\u001b[0m\u001b[0mnlevels\u001b[0m \u001b[0;34m>\u001b[0m \u001b[0;36m1\u001b[0m\u001b[0;34m:\u001b[0m\u001b[0;34m\u001b[0m\u001b[0;34m\u001b[0m\u001b[0m\n\u001b[1;32m   2979\u001b[0m                 \u001b[0;32mreturn\u001b[0m \u001b[0mself\u001b[0m\u001b[0;34m.\u001b[0m\u001b[0m_getitem_multilevel\u001b[0m\u001b[0;34m(\u001b[0m\u001b[0mkey\u001b[0m\u001b[0;34m)\u001b[0m\u001b[0;34m\u001b[0m\u001b[0;34m\u001b[0m\u001b[0m\n\u001b[0;32m-> 2980\u001b[0;31m             \u001b[0mindexer\u001b[0m \u001b[0;34m=\u001b[0m \u001b[0mself\u001b[0m\u001b[0;34m.\u001b[0m\u001b[0mcolumns\u001b[0m\u001b[0;34m.\u001b[0m\u001b[0mget_loc\u001b[0m\u001b[0;34m(\u001b[0m\u001b[0mkey\u001b[0m\u001b[0;34m)\u001b[0m\u001b[0;34m\u001b[0m\u001b[0;34m\u001b[0m\u001b[0m\n\u001b[0m\u001b[1;32m   2981\u001b[0m             \u001b[0;32mif\u001b[0m \u001b[0mis_integer\u001b[0m\u001b[0;34m(\u001b[0m\u001b[0mindexer\u001b[0m\u001b[0;34m)\u001b[0m\u001b[0;34m:\u001b[0m\u001b[0;34m\u001b[0m\u001b[0;34m\u001b[0m\u001b[0m\n\u001b[1;32m   2982\u001b[0m                 \u001b[0mindexer\u001b[0m \u001b[0;34m=\u001b[0m \u001b[0;34m[\u001b[0m\u001b[0mindexer\u001b[0m\u001b[0;34m]\u001b[0m\u001b[0;34m\u001b[0m\u001b[0;34m\u001b[0m\u001b[0m\n",
      "\u001b[0;32m/usr/local/lib/python3.7/site-packages/pandas/core/indexes/base.py\u001b[0m in \u001b[0;36mget_loc\u001b[0;34m(self, key, method, tolerance)\u001b[0m\n\u001b[1;32m   2897\u001b[0m                 \u001b[0;32mreturn\u001b[0m \u001b[0mself\u001b[0m\u001b[0;34m.\u001b[0m\u001b[0m_engine\u001b[0m\u001b[0;34m.\u001b[0m\u001b[0mget_loc\u001b[0m\u001b[0;34m(\u001b[0m\u001b[0mkey\u001b[0m\u001b[0;34m)\u001b[0m\u001b[0;34m\u001b[0m\u001b[0;34m\u001b[0m\u001b[0m\n\u001b[1;32m   2898\u001b[0m             \u001b[0;32mexcept\u001b[0m \u001b[0mKeyError\u001b[0m\u001b[0;34m:\u001b[0m\u001b[0;34m\u001b[0m\u001b[0;34m\u001b[0m\u001b[0m\n\u001b[0;32m-> 2899\u001b[0;31m                 \u001b[0;32mreturn\u001b[0m \u001b[0mself\u001b[0m\u001b[0;34m.\u001b[0m\u001b[0m_engine\u001b[0m\u001b[0;34m.\u001b[0m\u001b[0mget_loc\u001b[0m\u001b[0;34m(\u001b[0m\u001b[0mself\u001b[0m\u001b[0;34m.\u001b[0m\u001b[0m_maybe_cast_indexer\u001b[0m\u001b[0;34m(\u001b[0m\u001b[0mkey\u001b[0m\u001b[0;34m)\u001b[0m\u001b[0;34m)\u001b[0m\u001b[0;34m\u001b[0m\u001b[0;34m\u001b[0m\u001b[0m\n\u001b[0m\u001b[1;32m   2900\u001b[0m         \u001b[0mindexer\u001b[0m \u001b[0;34m=\u001b[0m \u001b[0mself\u001b[0m\u001b[0;34m.\u001b[0m\u001b[0mget_indexer\u001b[0m\u001b[0;34m(\u001b[0m\u001b[0;34m[\u001b[0m\u001b[0mkey\u001b[0m\u001b[0;34m]\u001b[0m\u001b[0;34m,\u001b[0m \u001b[0mmethod\u001b[0m\u001b[0;34m=\u001b[0m\u001b[0mmethod\u001b[0m\u001b[0;34m,\u001b[0m \u001b[0mtolerance\u001b[0m\u001b[0;34m=\u001b[0m\u001b[0mtolerance\u001b[0m\u001b[0;34m)\u001b[0m\u001b[0;34m\u001b[0m\u001b[0;34m\u001b[0m\u001b[0m\n\u001b[1;32m   2901\u001b[0m         \u001b[0;32mif\u001b[0m \u001b[0mindexer\u001b[0m\u001b[0;34m.\u001b[0m\u001b[0mndim\u001b[0m \u001b[0;34m>\u001b[0m \u001b[0;36m1\u001b[0m \u001b[0;32mor\u001b[0m \u001b[0mindexer\u001b[0m\u001b[0;34m.\u001b[0m\u001b[0msize\u001b[0m \u001b[0;34m>\u001b[0m \u001b[0;36m1\u001b[0m\u001b[0;34m:\u001b[0m\u001b[0;34m\u001b[0m\u001b[0;34m\u001b[0m\u001b[0m\n",
      "\u001b[0;32mpandas/_libs/index.pyx\u001b[0m in \u001b[0;36mpandas._libs.index.IndexEngine.get_loc\u001b[0;34m()\u001b[0m\n",
      "\u001b[0;32mpandas/_libs/index.pyx\u001b[0m in \u001b[0;36mpandas._libs.index.IndexEngine.get_loc\u001b[0;34m()\u001b[0m\n",
      "\u001b[0;32mpandas/_libs/hashtable_class_helper.pxi\u001b[0m in \u001b[0;36mpandas._libs.hashtable.PyObjectHashTable.get_item\u001b[0;34m()\u001b[0m\n",
      "\u001b[0;32mpandas/_libs/hashtable_class_helper.pxi\u001b[0m in \u001b[0;36mpandas._libs.hashtable.PyObjectHashTable.get_item\u001b[0;34m()\u001b[0m\n",
      "\u001b[0;31mKeyError\u001b[0m: 'zero_tok_pdx'"
     ]
    }
   ],
   "source": [
    "all(tokamak_data[\"zero_tok_pdx\"] == ~tokamak_data[\"tok_pdx\"])"
   ]
  },
  {
   "cell_type": "code",
   "execution_count": 442,
   "metadata": {},
   "outputs": [
    {
     "data": {
      "text/plain": [
       "1176"
      ]
     },
     "execution_count": 442,
     "metadata": {},
     "output_type": "execute_result"
    }
   ],
   "source": [
    "len(tokamak_data.columns)"
   ]
  },
  {
   "cell_type": "code",
   "execution_count": 37,
   "metadata": {},
   "outputs": [
    {
     "name": "stdout",
     "output_type": "stream",
     "text": [
      "pecrhc 10\n",
      "prad 303\n",
      "tev 357\n",
      "wfani 50\n",
      "wfaniic 54\n"
     ]
    }
   ],
   "source": [
    "full_columns = list(tokamak_data.dropna(axis=1).columns)\n",
    "\n",
    "partial_columns = [\n",
    "    work_col for work_col in tokamak_data.columns if work_col not in full_columns\n",
    "]\n",
    "\n",
    "for cur_col in partial_columns:\n",
    "    print(cur_col, np.sum(tokamak_data[cur_col].isnull()))"
   ]
  },
  {
   "cell_type": "code",
   "execution_count": 307,
   "metadata": {},
   "outputs": [
    {
     "ename": "FileNotFoundError",
     "evalue": "[Errno 2] No such file or directory: './tel_data.pkl'",
     "output_type": "error",
     "traceback": [
      "\u001b[0;31m---------------------------------------------------------------------------\u001b[0m",
      "\u001b[0;31mFileNotFoundError\u001b[0m                         Traceback (most recent call last)",
      "\u001b[0;32m<ipython-input-307-d0febeabbaaa>\u001b[0m in \u001b[0;36m<module>\u001b[0;34m\u001b[0m\n\u001b[0;32m----> 1\u001b[0;31m \u001b[0mtokamak_data\u001b[0m \u001b[0;34m=\u001b[0m \u001b[0mpd\u001b[0m\u001b[0;34m.\u001b[0m\u001b[0mread_pickle\u001b[0m\u001b[0;34m(\u001b[0m\u001b[0;34m\"./tel_data.pkl\"\u001b[0m\u001b[0;34m)\u001b[0m\u001b[0;34m\u001b[0m\u001b[0;34m\u001b[0m\u001b[0m\n\u001b[0m",
      "\u001b[0;32m/usr/local/lib/python3.7/site-packages/pandas/io/pickle.py\u001b[0m in \u001b[0;36mread_pickle\u001b[0;34m(path, compression)\u001b[0m\n\u001b[1;32m    143\u001b[0m     \"\"\"\n\u001b[1;32m    144\u001b[0m     \u001b[0mpath\u001b[0m \u001b[0;34m=\u001b[0m \u001b[0m_stringify_path\u001b[0m\u001b[0;34m(\u001b[0m\u001b[0mpath\u001b[0m\u001b[0;34m)\u001b[0m\u001b[0;34m\u001b[0m\u001b[0;34m\u001b[0m\u001b[0m\n\u001b[0;32m--> 145\u001b[0;31m     \u001b[0mf\u001b[0m\u001b[0;34m,\u001b[0m \u001b[0mfh\u001b[0m \u001b[0;34m=\u001b[0m \u001b[0m_get_handle\u001b[0m\u001b[0;34m(\u001b[0m\u001b[0mpath\u001b[0m\u001b[0;34m,\u001b[0m \u001b[0;34m\"rb\"\u001b[0m\u001b[0;34m,\u001b[0m \u001b[0mcompression\u001b[0m\u001b[0;34m=\u001b[0m\u001b[0mcompression\u001b[0m\u001b[0;34m,\u001b[0m \u001b[0mis_text\u001b[0m\u001b[0;34m=\u001b[0m\u001b[0;32mFalse\u001b[0m\u001b[0;34m)\u001b[0m\u001b[0;34m\u001b[0m\u001b[0;34m\u001b[0m\u001b[0m\n\u001b[0m\u001b[1;32m    146\u001b[0m \u001b[0;34m\u001b[0m\u001b[0m\n\u001b[1;32m    147\u001b[0m     \u001b[0;31m# 1) try standard libary Pickle\u001b[0m\u001b[0;34m\u001b[0m\u001b[0;34m\u001b[0m\u001b[0;34m\u001b[0m\u001b[0m\n",
      "\u001b[0;32m/usr/local/lib/python3.7/site-packages/pandas/io/common.py\u001b[0m in \u001b[0;36m_get_handle\u001b[0;34m(path_or_buf, mode, encoding, compression, memory_map, is_text)\u001b[0m\n\u001b[1;32m    403\u001b[0m         \u001b[0;32melse\u001b[0m\u001b[0;34m:\u001b[0m\u001b[0;34m\u001b[0m\u001b[0;34m\u001b[0m\u001b[0m\n\u001b[1;32m    404\u001b[0m             \u001b[0;31m# Binary mode\u001b[0m\u001b[0;34m\u001b[0m\u001b[0;34m\u001b[0m\u001b[0;34m\u001b[0m\u001b[0m\n\u001b[0;32m--> 405\u001b[0;31m             \u001b[0mf\u001b[0m \u001b[0;34m=\u001b[0m \u001b[0mopen\u001b[0m\u001b[0;34m(\u001b[0m\u001b[0mpath_or_buf\u001b[0m\u001b[0;34m,\u001b[0m \u001b[0mmode\u001b[0m\u001b[0;34m)\u001b[0m\u001b[0;34m\u001b[0m\u001b[0;34m\u001b[0m\u001b[0m\n\u001b[0m\u001b[1;32m    406\u001b[0m         \u001b[0mhandles\u001b[0m\u001b[0;34m.\u001b[0m\u001b[0mappend\u001b[0m\u001b[0;34m(\u001b[0m\u001b[0mf\u001b[0m\u001b[0;34m)\u001b[0m\u001b[0;34m\u001b[0m\u001b[0;34m\u001b[0m\u001b[0m\n\u001b[1;32m    407\u001b[0m \u001b[0;34m\u001b[0m\u001b[0m\n",
      "\u001b[0;31mFileNotFoundError\u001b[0m: [Errno 2] No such file or directory: './tel_data.pkl'"
     ]
    }
   ],
   "source": [
    "tokamak_data = pd.read_pickle(\"./work_data.pkl\")"
   ]
  },
  {
   "cell_type": "code",
   "execution_count": 210,
   "metadata": {},
   "outputs": [
    {
     "data": {
      "text/html": [
       "<div>\n",
       "<style scoped>\n",
       "    .dataframe tbody tr th:only-of-type {\n",
       "        vertical-align: middle;\n",
       "    }\n",
       "\n",
       "    .dataframe tbody tr th {\n",
       "        vertical-align: top;\n",
       "    }\n",
       "\n",
       "    .dataframe thead th {\n",
       "        text-align: right;\n",
       "    }\n",
       "</style>\n",
       "<table border=\"1\" class=\"dataframe\">\n",
       "  <thead>\n",
       "    <tr style=\"text-align: right;\">\n",
       "      <th></th>\n",
       "      <th>abs_bt</th>\n",
       "      <th>abs_ip</th>\n",
       "      <th>abs_pohm</th>\n",
       "      <th>amin</th>\n",
       "      <th>auxheat_ic</th>\n",
       "      <th>auxheat_nb</th>\n",
       "      <th>beili2</th>\n",
       "      <th>betmhd</th>\n",
       "      <th>bt</th>\n",
       "      <th>config_dn</th>\n",
       "      <th>...</th>\n",
       "      <th>_inv_epsilon_2</th>\n",
       "      <th>_inv_epsilon_inv_rgeo_nel</th>\n",
       "      <th>_inv_abs_bt_inv_abs_ip_nel</th>\n",
       "      <th>_inv_nel_2_inv_rgeo</th>\n",
       "      <th>_abs_bt_rgeo_2</th>\n",
       "      <th>_inv_vol_nel_rgeo</th>\n",
       "      <th>_vol_3</th>\n",
       "      <th>_abs_ip_2_inv_nel</th>\n",
       "      <th>_epsilon_inv_abs_bt_nel</th>\n",
       "      <th>_inv_epsilon_nel_rgeo</th>\n",
       "    </tr>\n",
       "  </thead>\n",
       "  <tbody>\n",
       "    <tr>\n",
       "      <td>4</td>\n",
       "      <td>2.205</td>\n",
       "      <td>298000.0</td>\n",
       "      <td>0.0</td>\n",
       "      <td>0.4065</td>\n",
       "      <td>False</td>\n",
       "      <td>True</td>\n",
       "      <td>2.4210</td>\n",
       "      <td>0.008348</td>\n",
       "      <td>2.205</td>\n",
       "      <td>True</td>\n",
       "      <td>...</td>\n",
       "      <td>17.448346</td>\n",
       "      <td>9.003690e+19</td>\n",
       "      <td>5.570013e+13</td>\n",
       "      <td>4.396430e-40</td>\n",
       "      <td>6.357465</td>\n",
       "      <td>1.140308e+19</td>\n",
       "      <td>1.618786e+02</td>\n",
       "      <td>2.426339e-09</td>\n",
       "      <td>3.973703e+18</td>\n",
       "      <td>2.595948e+20</td>\n",
       "    </tr>\n",
       "    <tr>\n",
       "      <td>5</td>\n",
       "      <td>2.205</td>\n",
       "      <td>295900.0</td>\n",
       "      <td>68660.0</td>\n",
       "      <td>0.4101</td>\n",
       "      <td>False</td>\n",
       "      <td>True</td>\n",
       "      <td>2.6490</td>\n",
       "      <td>0.009265</td>\n",
       "      <td>2.205</td>\n",
       "      <td>True</td>\n",
       "      <td>...</td>\n",
       "      <td>17.062681</td>\n",
       "      <td>9.241648e+19</td>\n",
       "      <td>5.808790e+13</td>\n",
       "      <td>4.109682e-40</td>\n",
       "      <td>6.327547</td>\n",
       "      <td>1.171153e+19</td>\n",
       "      <td>1.647468e+02</td>\n",
       "      <td>2.310206e-09</td>\n",
       "      <td>4.161089e+18</td>\n",
       "      <td>2.652017e+20</td>\n",
       "    </tr>\n",
       "    <tr>\n",
       "      <td>6</td>\n",
       "      <td>2.205</td>\n",
       "      <td>295200.0</td>\n",
       "      <td>22960.0</td>\n",
       "      <td>0.4113</td>\n",
       "      <td>False</td>\n",
       "      <td>True</td>\n",
       "      <td>2.7200</td>\n",
       "      <td>0.009540</td>\n",
       "      <td>2.205</td>\n",
       "      <td>True</td>\n",
       "      <td>...</td>\n",
       "      <td>16.763579</td>\n",
       "      <td>9.068806e+19</td>\n",
       "      <td>5.730386e+13</td>\n",
       "      <td>4.268156e-40</td>\n",
       "      <td>6.253062</td>\n",
       "      <td>1.148742e+19</td>\n",
       "      <td>1.634879e+02</td>\n",
       "      <td>2.336275e-09</td>\n",
       "      <td>4.131587e+18</td>\n",
       "      <td>2.571783e+20</td>\n",
       "    </tr>\n",
       "    <tr>\n",
       "      <td>11</td>\n",
       "      <td>2.205</td>\n",
       "      <td>297100.0</td>\n",
       "      <td>0.0</td>\n",
       "      <td>0.4043</td>\n",
       "      <td>False</td>\n",
       "      <td>True</td>\n",
       "      <td>2.2890</td>\n",
       "      <td>0.007679</td>\n",
       "      <td>2.205</td>\n",
       "      <td>True</td>\n",
       "      <td>...</td>\n",
       "      <td>17.535027</td>\n",
       "      <td>8.434331e+19</td>\n",
       "      <td>5.205268e+13</td>\n",
       "      <td>5.079656e-40</td>\n",
       "      <td>6.320079</td>\n",
       "      <td>1.068109e+19</td>\n",
       "      <td>1.579018e+02</td>\n",
       "      <td>2.588516e-09</td>\n",
       "      <td>3.693113e+18</td>\n",
       "      <td>2.417489e+20</td>\n",
       "    </tr>\n",
       "    <tr>\n",
       "      <td>12</td>\n",
       "      <td>2.205</td>\n",
       "      <td>295900.0</td>\n",
       "      <td>31630.0</td>\n",
       "      <td>0.4103</td>\n",
       "      <td>False</td>\n",
       "      <td>True</td>\n",
       "      <td>2.6580</td>\n",
       "      <td>0.009310</td>\n",
       "      <td>2.205</td>\n",
       "      <td>True</td>\n",
       "      <td>...</td>\n",
       "      <td>17.025932</td>\n",
       "      <td>9.212771e+19</td>\n",
       "      <td>5.793463e+13</td>\n",
       "      <td>4.133895e-40</td>\n",
       "      <td>6.320079</td>\n",
       "      <td>1.167373e+19</td>\n",
       "      <td>1.647468e+02</td>\n",
       "      <td>2.316318e-09</td>\n",
       "      <td>4.154586e+18</td>\n",
       "      <td>2.640610e+20</td>\n",
       "    </tr>\n",
       "    <tr>\n",
       "      <td>...</td>\n",
       "      <td>...</td>\n",
       "      <td>...</td>\n",
       "      <td>...</td>\n",
       "      <td>...</td>\n",
       "      <td>...</td>\n",
       "      <td>...</td>\n",
       "      <td>...</td>\n",
       "      <td>...</td>\n",
       "      <td>...</td>\n",
       "      <td>...</td>\n",
       "      <td>...</td>\n",
       "      <td>...</td>\n",
       "      <td>...</td>\n",
       "      <td>...</td>\n",
       "      <td>...</td>\n",
       "      <td>...</td>\n",
       "      <td>...</td>\n",
       "      <td>...</td>\n",
       "      <td>...</td>\n",
       "      <td>...</td>\n",
       "      <td>...</td>\n",
       "    </tr>\n",
       "    <tr>\n",
       "      <td>10371</td>\n",
       "      <td>2.951</td>\n",
       "      <td>3124000.0</td>\n",
       "      <td>324500.0</td>\n",
       "      <td>1.0900</td>\n",
       "      <td>True</td>\n",
       "      <td>False</td>\n",
       "      <td>0.8532</td>\n",
       "      <td>0.006270</td>\n",
       "      <td>2.951</td>\n",
       "      <td>True</td>\n",
       "      <td>...</td>\n",
       "      <td>7.020069</td>\n",
       "      <td>2.119266e+19</td>\n",
       "      <td>2.505715e+12</td>\n",
       "      <td>6.489016e-40</td>\n",
       "      <td>24.612945</td>\n",
       "      <td>5.977849e+17</td>\n",
       "      <td>1.389929e+06</td>\n",
       "      <td>4.224838e-07</td>\n",
       "      <td>2.954419e+18</td>\n",
       "      <td>1.767583e+20</td>\n",
       "    </tr>\n",
       "    <tr>\n",
       "      <td>10375</td>\n",
       "      <td>2.956</td>\n",
       "      <td>3139000.0</td>\n",
       "      <td>119300.0</td>\n",
       "      <td>1.0890</td>\n",
       "      <td>True</td>\n",
       "      <td>False</td>\n",
       "      <td>0.8682</td>\n",
       "      <td>0.006771</td>\n",
       "      <td>2.956</td>\n",
       "      <td>True</td>\n",
       "      <td>...</td>\n",
       "      <td>7.037839</td>\n",
       "      <td>2.690542e+19</td>\n",
       "      <td>3.157707e+12</td>\n",
       "      <td>4.031969e-40</td>\n",
       "      <td>24.671725</td>\n",
       "      <td>7.591722e+17</td>\n",
       "      <td>1.386196e+06</td>\n",
       "      <td>3.362908e-07</td>\n",
       "      <td>3.736315e+18</td>\n",
       "      <td>2.245613e+20</td>\n",
       "    </tr>\n",
       "    <tr>\n",
       "      <td>10376</td>\n",
       "      <td>2.942</td>\n",
       "      <td>3109000.0</td>\n",
       "      <td>745000.0</td>\n",
       "      <td>1.0910</td>\n",
       "      <td>True</td>\n",
       "      <td>False</td>\n",
       "      <td>0.8900</td>\n",
       "      <td>0.007024</td>\n",
       "      <td>2.942</td>\n",
       "      <td>True</td>\n",
       "      <td>...</td>\n",
       "      <td>7.050948</td>\n",
       "      <td>2.703941e+19</td>\n",
       "      <td>3.225215e+12</td>\n",
       "      <td>3.966500e-40</td>\n",
       "      <td>24.691056</td>\n",
       "      <td>7.644141e+17</td>\n",
       "      <td>1.397415e+06</td>\n",
       "      <td>3.276570e-07</td>\n",
       "      <td>3.776205e+18</td>\n",
       "      <td>2.269312e+20</td>\n",
       "    </tr>\n",
       "    <tr>\n",
       "      <td>10377</td>\n",
       "      <td>2.937</td>\n",
       "      <td>3123000.0</td>\n",
       "      <td>476600.0</td>\n",
       "      <td>1.0900</td>\n",
       "      <td>True</td>\n",
       "      <td>False</td>\n",
       "      <td>0.9059</td>\n",
       "      <td>0.007478</td>\n",
       "      <td>2.937</td>\n",
       "      <td>True</td>\n",
       "      <td>...</td>\n",
       "      <td>7.068769</td>\n",
       "      <td>2.559633e+19</td>\n",
       "      <td>3.041783e+12</td>\n",
       "      <td>4.432954e-40</td>\n",
       "      <td>24.666113</td>\n",
       "      <td>7.238514e+17</td>\n",
       "      <td>1.393669e+06</td>\n",
       "      <td>3.495745e-07</td>\n",
       "      <td>3.572962e+18</td>\n",
       "      <td>2.149683e+20</td>\n",
       "    </tr>\n",
       "    <tr>\n",
       "      <td>10381</td>\n",
       "      <td>2.959</td>\n",
       "      <td>3144000.0</td>\n",
       "      <td>138500.0</td>\n",
       "      <td>1.0910</td>\n",
       "      <td>True</td>\n",
       "      <td>False</td>\n",
       "      <td>0.9098</td>\n",
       "      <td>0.007511</td>\n",
       "      <td>2.959</td>\n",
       "      <td>True</td>\n",
       "      <td>...</td>\n",
       "      <td>6.997504</td>\n",
       "      <td>2.392301e+19</td>\n",
       "      <td>2.805518e+12</td>\n",
       "      <td>5.086542e-40</td>\n",
       "      <td>24.645499</td>\n",
       "      <td>6.755570e+17</td>\n",
       "      <td>1.386196e+06</td>\n",
       "      <td>3.787255e-07</td>\n",
       "      <td>3.334448e+18</td>\n",
       "      <td>1.992546e+20</td>\n",
       "    </tr>\n",
       "  </tbody>\n",
       "</table>\n",
       "<p>6172 rows × 542 columns</p>\n",
       "</div>"
      ],
      "text/plain": [
       "       abs_bt     abs_ip  abs_pohm    amin  auxheat_ic  auxheat_nb  beili2  \\\n",
       "4       2.205   298000.0       0.0  0.4065       False        True  2.4210   \n",
       "5       2.205   295900.0   68660.0  0.4101       False        True  2.6490   \n",
       "6       2.205   295200.0   22960.0  0.4113       False        True  2.7200   \n",
       "11      2.205   297100.0       0.0  0.4043       False        True  2.2890   \n",
       "12      2.205   295900.0   31630.0  0.4103       False        True  2.6580   \n",
       "...       ...        ...       ...     ...         ...         ...     ...   \n",
       "10371   2.951  3124000.0  324500.0  1.0900        True       False  0.8532   \n",
       "10375   2.956  3139000.0  119300.0  1.0890        True       False  0.8682   \n",
       "10376   2.942  3109000.0  745000.0  1.0910        True       False  0.8900   \n",
       "10377   2.937  3123000.0  476600.0  1.0900        True       False  0.9059   \n",
       "10381   2.959  3144000.0  138500.0  1.0910        True       False  0.9098   \n",
       "\n",
       "         betmhd     bt  config_dn  ...  _inv_epsilon_2  \\\n",
       "4      0.008348  2.205       True  ...       17.448346   \n",
       "5      0.009265  2.205       True  ...       17.062681   \n",
       "6      0.009540  2.205       True  ...       16.763579   \n",
       "11     0.007679  2.205       True  ...       17.535027   \n",
       "12     0.009310  2.205       True  ...       17.025932   \n",
       "...         ...    ...        ...  ...             ...   \n",
       "10371  0.006270  2.951       True  ...        7.020069   \n",
       "10375  0.006771  2.956       True  ...        7.037839   \n",
       "10376  0.007024  2.942       True  ...        7.050948   \n",
       "10377  0.007478  2.937       True  ...        7.068769   \n",
       "10381  0.007511  2.959       True  ...        6.997504   \n",
       "\n",
       "       _inv_epsilon_inv_rgeo_nel  _inv_abs_bt_inv_abs_ip_nel  \\\n",
       "4                   9.003690e+19                5.570013e+13   \n",
       "5                   9.241648e+19                5.808790e+13   \n",
       "6                   9.068806e+19                5.730386e+13   \n",
       "11                  8.434331e+19                5.205268e+13   \n",
       "12                  9.212771e+19                5.793463e+13   \n",
       "...                          ...                         ...   \n",
       "10371               2.119266e+19                2.505715e+12   \n",
       "10375               2.690542e+19                3.157707e+12   \n",
       "10376               2.703941e+19                3.225215e+12   \n",
       "10377               2.559633e+19                3.041783e+12   \n",
       "10381               2.392301e+19                2.805518e+12   \n",
       "\n",
       "       _inv_nel_2_inv_rgeo  _abs_bt_rgeo_2  _inv_vol_nel_rgeo        _vol_3  \\\n",
       "4             4.396430e-40        6.357465       1.140308e+19  1.618786e+02   \n",
       "5             4.109682e-40        6.327547       1.171153e+19  1.647468e+02   \n",
       "6             4.268156e-40        6.253062       1.148742e+19  1.634879e+02   \n",
       "11            5.079656e-40        6.320079       1.068109e+19  1.579018e+02   \n",
       "12            4.133895e-40        6.320079       1.167373e+19  1.647468e+02   \n",
       "...                    ...             ...                ...           ...   \n",
       "10371         6.489016e-40       24.612945       5.977849e+17  1.389929e+06   \n",
       "10375         4.031969e-40       24.671725       7.591722e+17  1.386196e+06   \n",
       "10376         3.966500e-40       24.691056       7.644141e+17  1.397415e+06   \n",
       "10377         4.432954e-40       24.666113       7.238514e+17  1.393669e+06   \n",
       "10381         5.086542e-40       24.645499       6.755570e+17  1.386196e+06   \n",
       "\n",
       "       _abs_ip_2_inv_nel  _epsilon_inv_abs_bt_nel  _inv_epsilon_nel_rgeo  \n",
       "4           2.426339e-09             3.973703e+18           2.595948e+20  \n",
       "5           2.310206e-09             4.161089e+18           2.652017e+20  \n",
       "6           2.336275e-09             4.131587e+18           2.571783e+20  \n",
       "11          2.588516e-09             3.693113e+18           2.417489e+20  \n",
       "12          2.316318e-09             4.154586e+18           2.640610e+20  \n",
       "...                  ...                      ...                    ...  \n",
       "10371       4.224838e-07             2.954419e+18           1.767583e+20  \n",
       "10375       3.362908e-07             3.736315e+18           2.245613e+20  \n",
       "10376       3.276570e-07             3.776205e+18           2.269312e+20  \n",
       "10377       3.495745e-07             3.572962e+18           2.149683e+20  \n",
       "10381       3.787255e-07             3.334448e+18           1.992546e+20  \n",
       "\n",
       "[6172 rows x 542 columns]"
      ]
     },
     "execution_count": 210,
     "metadata": {},
     "output_type": "execute_result"
    }
   ],
   "source": [
    "tokamak_data"
   ]
  },
  {
   "cell_type": "code",
   "execution_count": null,
   "metadata": {},
   "outputs": [],
   "source": []
  },
  {
   "cell_type": "code",
   "execution_count": 226,
   "metadata": {},
   "outputs": [
    {
     "name": "stdout",
     "output_type": "stream",
     "text": [
      "[2, 5, 3, 4]\n"
     ]
    }
   ],
   "source": [
    "list1 = [1, 2, 3, 4, 5]  \n",
    "  \n",
    "print(random.sample(list1,4)) "
   ]
  },
  {
   "cell_type": "code",
   "execution_count": 218,
   "metadata": {},
   "outputs": [
    {
     "data": {
      "text/plain": [
       "Index(['abs_bt', 'abs_ip', 'abs_pohm', 'amin', 'auxheat_ic', 'auxheat_nb',\n",
       "       'beili2', 'betmhd', 'bt', 'config_dn',\n",
       "       ...\n",
       "       '_inv_abs_bt_inv_abs_ip_nel', '_inv_nel_2_inv_rgeo', '_abs_bt_rgeo_2',\n",
       "       '_inv_vol_nel_rgeo', '_vol_3', '_abs_ip_2_inv_nel',\n",
       "       '_epsilon_inv_abs_bt_nel', '_inv_epsilon_nel_rgeo',\n",
       "       'zero_log_inv_tauc92', 'zero_log_inv_tauc93'],\n",
       "      dtype='object', length=544)"
      ]
     },
     "execution_count": 218,
     "metadata": {},
     "output_type": "execute_result"
    }
   ],
   "source": [
    "tokamak_data.columns"
   ]
  },
  {
   "cell_type": "code",
   "execution_count": null,
   "metadata": {},
   "outputs": [],
   "source": []
  },
  {
   "cell_type": "code",
   "execution_count": 258,
   "metadata": {},
   "outputs": [
    {
     "ename": "NameError",
     "evalue": "name 'shuffle' is not defined",
     "output_type": "error",
     "traceback": [
      "\u001b[0;31m---------------------------------------------------------------------------\u001b[0m",
      "\u001b[0;31mNameError\u001b[0m                                 Traceback (most recent call last)",
      "\u001b[0;32m<ipython-input-258-b0b18f6bab09>\u001b[0m in \u001b[0;36m<module>\u001b[0;34m\u001b[0m\n\u001b[0;32m----> 1\u001b[0;31m \u001b[0mshuffle\u001b[0m\u001b[0;34m\u001b[0m\u001b[0;34m\u001b[0m\u001b[0m\n\u001b[0m",
      "\u001b[0;31mNameError\u001b[0m: name 'shuffle' is not defined"
     ]
    }
   ],
   "source": [
    "shuffle"
   ]
  },
  {
   "cell_type": "code",
   "execution_count": 293,
   "metadata": {},
   "outputs": [
    {
     "data": {
      "text/plain": [
       "array(['ASDEX'], dtype=object)"
      ]
     },
     "execution_count": 293,
     "metadata": {},
     "output_type": "execute_result"
    }
   ],
   "source": [
    "tokamak_data[tokamak_data.tev.isnull()].tok.unique()"
   ]
  },
  {
   "cell_type": "code",
   "execution_count": null,
   "metadata": {},
   "outputs": [],
   "source": [
    "tokamak_data"
   ]
  },
  {
   "cell_type": "code",
   "execution_count": null,
   "metadata": {},
   "outputs": [],
   "source": []
  },
  {
   "cell_type": "code",
   "execution_count": 380,
   "metadata": {},
   "outputs": [
    {
     "name": "stdout",
     "output_type": "stream",
     "text": [
      ".................................................................404 [0.8163785046043638, ['abs_ip', 'delta', 'elmtype_none', 'epsilon', 'imp_pl', 'inv_abs_ip', 'inv_kappaa', 'inv_nel', 'inv_pgasa', 'inv_wth', 'ip', 'log_greenwald', 'log_inv_pl', 'log_inv_time', 'log_pl', 'log_time', 'meff', 'pgasa', 'phase_gelm', 'pl', 'standard']]\n",
      "..........................................................................................................404 [0.8306206669122804, ['_epsilon_inv_abs_ip_vol', '_epsilon_vol_2', '_inv_abs_bt_inv_nel_2', '_abs_ip_nel_pressure', '_abs_ip_inv_nel_rgeo', '_epsilon_inv_nel_tev', '_abs_ip_2_inv_rgeo', 'inv_kappaa', 'standard', 'pl', 'log_time', 'meff', 'inv_pgasa', 'log_inv_pl', 'elmtype_none', 'delta', 'pgasa', 'log_inv_time']]\n",
      "....................................................................................................................................................................................................................404 [0.8853390915027285, ['_abs_ip_3', '_inv_nel_inv_vol_rgeo', '_inv_abs_ip_2_nel', '_inv_epsilon_rgeo_2', '_inv_abs_bt_2_nel', '_inv_abs_bt_inv_nel_2', '_epsilon_inv_abs_ip_vol', 'inv_kappaa', 'standard', 'pl', 'log_time', 'meff', 'inv_pgasa', 'log_inv_pl', 'elmtype_none', 'delta', 'pgasa']]\n",
      "................................................................................................................................................................................................................................................................................................................................\n",
      "************************\n",
      "overfit (log / tok): ['prad', 'D3D', 0.888690725692658, 0.7982487020937714]\n",
      "************************\n",
      "404 [0.7982487020937714, ['_abs_bt_inv_nel_inv_rgeo', '_inv_epsilon_inv_pressure_2', '_abs_bt_2_pressure', '_epsilon_2_inv_rgeo', '_inv_tev_inv_vol', '_inv_abs_bt_inv_abs_ip_2', '_inv_abs_bt_inv_nel_2', '_epsilon_inv_abs_ip_vol', '_inv_abs_bt_2_nel', 'inv_kappaa', 'standard', 'pl', '_abs_ip_nel_pressure', 'log_time', 'meff', '_inv_abs_ip_2_nel', 'inv_pgasa', 'log_inv_pl', 'imp_pl', 'elmtype_none', '_abs_ip_3', '_epsilon_vol_2', 'delta', 'phase_gelm', 'pgasa']]\n",
      ".......................................................................................................................................................................\n",
      "************************\n",
      "overfit (log / tok): ['prad', 'D3D', 0.8669769251691517, 0.797803848188945]\n",
      "************************\n",
      "404 [0.797803848188945, ['_abs_bt_2_inv_nel', '_inv_epsilon_nel_2', '_abs_ip_inv_nel_inv_tev', '_inv_abs_bt_2_inv_nel', '_inv_nel_tev_vol', 'inv_kappaa', 'standard', 'pl', 'log_time', 'meff', 'log_inv_time', '_inv_abs_ip_2_nel', 'inv_pgasa', 'log_inv_pl', 'inv_wth', 'elmtype_none', '_abs_ip_3', '_epsilon_vol_2', 'delta', 'phase_gelm', 'pgasa']]\n",
      "..............................................................................................................................................................................\n",
      "************************\n",
      "overfit (log / tok): ['prad', 'D3D', 0.8745740858462518, 0.7872538460231229]\n",
      "************************\n",
      "404 [0.7872538460231229, ['_abs_bt_inv_nel_pressure', '_inv_abs_bt_nel_2', '_inv_pressure_2_inv_tev', '_abs_bt_2_nel', '_abs_bt_inv_abs_ip_2', '_epsilon_inv_rgeo_2', '_epsilon_2_vol', '_abs_bt_nel_pressure', '_abs_bt_2_inv_nel', 'inv_kappaa', 'standard', 'pl', '_inv_abs_bt_inv_abs_ip_2', 'log_time', 'meff', '_inv_abs_ip_2_nel', 'inv_pgasa', '_inv_tev_inv_vol', 'log_inv_pl', '_abs_ip_inv_nel_inv_tev', 'imp_pl', 'log_pl', 'inv_wth', 'elmtype_none', '_abs_ip_3', 'delta', 'phase_gelm', 'pgasa', 'log_inv_time']]\n",
      "['_inv_pressure_2_inv_tev', '_inv_abs_bt_2_nel', '_epsilon_inv_abs_ip_vol', '_inv_abs_bt_inv_nel_2', '_epsilon_inv_nel_tev', '_abs_bt_2_inv_nel', 'abs_ip', '_inv_epsilon_inv_pressure_2', '_inv_epsilon_rgeo_2', '_abs_bt_inv_abs_ip_2', 'inv_nel', 'inv_kappaa', 'standard', 'pl', '_inv_abs_bt_nel_2', '_abs_ip_nel_pressure', '_inv_abs_bt_inv_abs_ip_2', '_abs_bt_2_nel', 'log_time', 'meff', 'log_inv_time', '_abs_ip_inv_nel_rgeo', '_inv_abs_ip_2_nel', 'inv_pgasa', '_inv_tev_inv_vol', '_epsilon_2_vol', 'log_inv_pl', '_epsilon_inv_rgeo_2', '_abs_ip_inv_nel_inv_tev', 'imp_pl', 'log_pl', 'inv_wth', 'elmtype_none', '_abs_ip_3', 'inv_abs_ip', '_abs_bt_inv_nel_inv_rgeo', 'log_greenwald', '_abs_bt_2_pressure', '_inv_nel_inv_vol_rgeo', '_epsilon_2_inv_rgeo', '_inv_abs_bt_2_inv_nel', '_epsilon_vol_2', 'ip', '_inv_nel_tev_vol', 'delta', '_abs_ip_2_inv_rgeo', '_abs_bt_inv_nel_pressure', 'phase_gelm', '_abs_bt_nel_pressure', 'pgasa', 'epsilon', '_inv_epsilon_nel_2']\n",
      "[0.8292856700846797, ['_inv_pressure_2_inv_tev', '_inv_abs_bt_2_nel', '_epsilon_inv_abs_ip_vol', '_inv_abs_bt_inv_nel_2', '_epsilon_inv_nel_tev', '_abs_bt_2_inv_nel', 'abs_ip', '_inv_epsilon_inv_pressure_2', '_inv_epsilon_rgeo_2', '_abs_bt_inv_abs_ip_2', 'inv_nel', 'inv_kappaa', 'standard', 'pl', '_inv_abs_bt_nel_2', '_abs_ip_nel_pressure', '_inv_abs_bt_inv_abs_ip_2', '_abs_bt_2_nel', 'log_time', 'meff', 'log_inv_time', '_abs_ip_inv_nel_rgeo', '_inv_abs_ip_2_nel', 'inv_pgasa', '_inv_tev_inv_vol', '_epsilon_2_vol', 'log_inv_pl', '_epsilon_inv_rgeo_2', '_abs_ip_inv_nel_inv_tev', 'imp_pl', 'log_pl', 'inv_wth', 'elmtype_none', '_abs_ip_3', 'inv_abs_ip', '_abs_bt_inv_nel_inv_rgeo', 'log_greenwald', '_abs_bt_2_pressure', '_inv_nel_inv_vol_rgeo', '_epsilon_2_inv_rgeo', '_inv_abs_bt_2_inv_nel', '_epsilon_vol_2', 'ip', '_inv_nel_tev_vol', 'delta', '_abs_ip_2_inv_rgeo', '_abs_bt_inv_nel_pressure', 'phase_gelm', '_abs_bt_nel_pressure', 'pgasa', 'epsilon', '_inv_epsilon_nel_2']]\n"
     ]
    }
   ],
   "source": [
    "warnings.filterwarnings('ignore')\n",
    "answers = impute_values(tokamak_data)\n",
    "warnings.resetwarnings()\n"
   ]
  },
  {
   "cell_type": "code",
   "execution_count": 387,
   "metadata": {},
   "outputs": [
    {
     "data": {
      "text/plain": [
       "0"
      ]
     },
     "execution_count": 387,
     "metadata": {},
     "output_type": "execute_result"
    }
   ],
   "source": [
    "np.sum(np.sum(tokamak_data.isnull()).values)"
   ]
  },
  {
   "cell_type": "code",
   "execution_count": 367,
   "metadata": {},
   "outputs": [
    {
     "data": {
      "text/plain": [
       "0"
      ]
     },
     "execution_count": 367,
     "metadata": {},
     "output_type": "execute_result"
    }
   ],
   "source": [
    "np.sum(tokamak_data[tokamak_data.tok == \"ASDEX\"].tev.isnull())"
   ]
  },
  {
   "cell_type": "code",
   "execution_count": 303,
   "metadata": {},
   "outputs": [
    {
     "data": {
      "text/plain": [
       "[0.7796288199890686,\n",
       " ['_inv_vol_2_nel',\n",
       "  'log_inv_betmhd',\n",
       "  '_inv_abs_bt_vol_2',\n",
       "  'picrhc',\n",
       "  '_inv_abs_ip_3',\n",
       "  '_inv_epsilon_inv_vol_nel',\n",
       "  '_abs_bt_nel_vol',\n",
       "  'inv_tauc92',\n",
       "  'inv_pgasz',\n",
       "  'inv_bt',\n",
       "  '_vol_3',\n",
       "  'tok_aug',\n",
       "  '_inv_abs_bt_inv_nel',\n",
       "  'divmat_c',\n",
       "  '_inv_nel_2_inv_rgeo',\n",
       "  'standard',\n",
       "  '_inv_abs_bt_nel_2',\n",
       "  'abs_pohm',\n",
       "  'inv_greenwald',\n",
       "  '_abs_bt_inv_epsilon_inv_nel',\n",
       "  'bt',\n",
       "  '_abs_bt_inv_epsilon_rgeo',\n",
       "  '_inv_abs_bt_nel_vol',\n",
       "  'tok_jft2m',\n",
       "  'is_good',\n",
       "  'imp_wmhd',\n",
       "  'abs_bt',\n",
       "  '_inv_abs_ip_rgeo_2',\n",
       "  'limmat_c',\n",
       "  'auxheat_nb',\n",
       "  '_abs_bt_2_inv_epsilon',\n",
       "  'tok_tcv',\n",
       "  '_inv_abs_bt_inv_epsilon_inv_nel',\n",
       "  '_inv_abs_bt_inv_abs_ip_vol',\n",
       "  'log_nel',\n",
       "  'beili2',\n",
       "  '_inv_abs_ip_inv_nel_rgeo',\n",
       "  'phase_selm',\n",
       "  'log_inv_pl',\n",
       "  '_epsilon_inv_rgeo_2',\n",
       "  'log_inv_greenwald',\n",
       "  '_inv_rgeo_vol',\n",
       "  '_epsilon_rgeo_vol',\n",
       "  'tok_tdev',\n",
       "  '_inv_abs_ip_2_inv_vol',\n",
       "  'inv_tauth',\n",
       "  '_inv_abs_ip_inv_epsilon_rgeo',\n",
       "  '_abs_bt_inv_nel_inv_rgeo',\n",
       "  'wmhd',\n",
       "  'log_greenwald',\n",
       "  'tok_nstx',\n",
       "  'log_nev',\n",
       "  '_inv_nel_2_inv_vol',\n",
       "  'divmat_ti',\n",
       "  'imp_betmhd',\n",
       "  '_abs_ip_nel_vol',\n",
       "  '_inv_epsilon_nel_rgeo',\n",
       "  '_rgeo_vol',\n",
       "  'inv_epsilon',\n",
       "  'ip',\n",
       "  '_inv_abs_bt_2_vol',\n",
       "  '_inv_epsilon_2_nel',\n",
       "  '_inv_abs_ip_nel_vol',\n",
       "  'tok_d3d',\n",
       "  'log_inv_wth']]"
      ]
     },
     "execution_count": 303,
     "metadata": {},
     "output_type": "execute_result"
    }
   ],
   "source": [
    "answers"
   ]
  },
  {
   "cell_type": "code",
   "execution_count": 402,
   "metadata": {},
   "outputs": [
    {
     "data": {
      "text/plain": [
       "0"
      ]
     },
     "execution_count": 402,
     "metadata": {},
     "output_type": "execute_result"
    }
   ],
   "source": [
    "False * False"
   ]
  },
  {
   "cell_type": "code",
   "execution_count": 399,
   "metadata": {},
   "outputs": [
    {
     "name": "stdout",
     "output_type": "stream",
     "text": [
      "6154 970\n"
     ]
    }
   ],
   "source": [
    "print(\n",
    "    len(tokamak_data),\n",
    "    len(tokamak_data.columns)\n",
    ")"
   ]
  },
  {
   "cell_type": "code",
   "execution_count": 397,
   "metadata": {},
   "outputs": [],
   "source": [
    "tokamak_data.to_pickle(\"./complete.pkl\")"
   ]
  },
  {
   "cell_type": "code",
   "execution_count": 329,
   "metadata": {},
   "outputs": [],
   "source": [
    "# tokamak_data.to_pickle(\"./tmp_data_1.pkl\")\n",
    "\n",
    "tokamak_data = pd.read_pickle(\"./tmp_data_1.pkl\")\n"
   ]
  },
  {
   "cell_type": "code",
   "execution_count": 330,
   "metadata": {},
   "outputs": [],
   "source": [
    "for cur_col in tokamak_data.columns:\n",
    "    if np.sum(tokamak_data[cur_col].isnull()) == 0 : continue\n",
    "    for cur_tok in tokamak_data.tok.unique():\n",
    "        cur_count = np.sum(tokamak_data[tokamak_data.tok == cur_tok][cur_col].isnull())\n",
    "        if cur_count == 0 : continue\n",
    "        if cur_count > 10 : continue\n",
    "           \n",
    "        tokamak_data.drop(tokamak_data[(tokamak_data.tok == cur_tok) & (tokamak_data[cur_col].isnull())].index, inplace=True)\n",
    "       "
   ]
  },
  {
   "cell_type": "code",
   "execution_count": 382,
   "metadata": {},
   "outputs": [],
   "source": [
    "for cur_col in tokamak_data.columns:\n",
    "    if np.sum(tokamak_data[cur_col].isnull()) == 0 : continue\n",
    "    for cur_tok in tokamak_data.tok.unique():\n",
    "        cur_count = np.sum(tokamak_data[tokamak_data.tok == cur_tok][cur_col].isnull())\n",
    "        if cur_count == 0 : continue\n",
    "        print(cur_col, cur_tok, cur_count)\n",
    "        "
   ]
  },
  {
   "cell_type": "code",
   "execution_count": 379,
   "metadata": {},
   "outputs": [
    {
     "data": {
      "text/plain": [
       "<matplotlib.axes._subplots.AxesSubplot at 0x127856c50>"
      ]
     },
     "execution_count": 379,
     "metadata": {},
     "output_type": "execute_result"
    },
    {
     "data": {
      "image/png": "[encoded data removed]",
      "text/plain": [
       "<Figure size 432x288 with 1 Axes>"
      ]
     },
     "metadata": {
      "needs_background": "light"
     },
     "output_type": "display_data"
    }
   ],
   "source": [
    "np.log10(tokamak_data[tokamak_data.tok == \"D3D\"].prad).hist()"
   ]
  },
  {
   "cell_type": "code",
   "execution_count": 351,
   "metadata": {},
   "outputs": [],
   "source": [
    "\n",
    "tokamak_data.loc[\n",
    "  ( tokamak_data[\"wfaniic\"].isnull() & ( tokamak_data.tok == \"AUG\" ) ),\n",
    "  \"imp_wfaniic\"\n",
    "] = True\n",
    "\n",
    "tokamak_data.loc[\n",
    "  ( tokamak_data[\"wfaniic\"].isnull() & ( tokamak_data.tok == \"AUG\" ) ),\n",
    "  \"wfaniic\"\n",
    "] = 0\n"
   ]
  },
  {
   "cell_type": "code",
   "execution_count": null,
   "metadata": {},
   "outputs": [],
   "source": []
  },
  {
   "cell_type": "code",
   "execution_count": 360,
   "metadata": {},
   "outputs": [
    {
     "data": {
      "text/plain": [
       "<matplotlib.axes._subplots.AxesSubplot at 0x12797da90>"
      ]
     },
     "execution_count": 360,
     "metadata": {},
     "output_type": "execute_result"
    },
    {
     "data": {
      "image/png": "[encoded data removed]",
      "text/plain": [
       "<Figure size 432x288 with 1 Axes>"
      ]
     },
     "metadata": {
      "needs_background": "light"
     },
     "output_type": "display_data"
    }
   ],
   "source": [
    "tokamak_data[tokamak_data.tok == \"D3D\"].wfani.hist()\n",
    "tokamak_data.wfani.hist(alpha=0.1)"
   ]
  },
  {
   "cell_type": "code",
   "execution_count": 308,
   "metadata": {},
   "outputs": [],
   "source": [
    "# tokamak_data.to_pickle(\"./tev_data.pkl\")"
   ]
  },
  {
   "cell_type": "code",
   "execution_count": 39,
   "metadata": {},
   "outputs": [],
   "source": [
    "# tokamak_data.to_pickle(\"./work_data.pkl\")"
   ]
  },
  {
   "cell_type": "code",
   "execution_count": null,
   "metadata": {
    "scrolled": true
   },
   "outputs": [],
   "source": [
    "foo_width = 7\n",
    "\n",
    "def foo(index):\n",
    "    offset = index * foo_width\n",
    "    return tokamak_data[tokamak_data.columns[offset:offset+foo_width]].sample(20)\n",
    "\n",
    "interact(foo, index=(0,floor(len(tokamak_data.columns)/foo_width)))\n"
   ]
  },
  {
   "cell_type": "code",
   "execution_count": null,
   "metadata": {
    "scrolled": false
   },
   "outputs": [],
   "source": [
    "def g(x, log):\n",
    "    dd = tokamak_data[x].copy()\n",
    "    ii = dd.copy()\n",
    "    if log: \n",
    "        dd = np.log10(dd) \n",
    "\n",
    "    dd.hist(alpha=0.5)\n",
    "    plt.ylim(0,len(tokamak_data))\n",
    "    \n",
    "    if not log: \n",
    "        dd[dd.isnull()] = 0\n",
    "        dd[dd==0].hist(alpha=0.5)\n",
    "        \n",
    "    plt.title(x)\n",
    "    plt.ylim(0,len(tokamak_data))\n",
    "    \n",
    "    print(1-len(ii[ii.isnull()])/len(ii))\n",
    "    return ii.value_counts(dropna=False)\n",
    "\n",
    "interact(g, log=False, x=widgets.Select(\n",
    "    options=sorted([cc for cc in partial_columns]),\n",
    "    rows=8\n",
    "#     description='Speed:',\n",
    "#     disabled=False,\n",
    "#     button_style='', # 'success', 'info', 'warning', 'danger' or ''\n",
    "#     tooltips=['Description of slow', 'Description of regular', 'Description of fast'],\n",
    "#     icons=['check'] * 3\n",
    "))\n",
    ";"
   ]
  },
  {
   "cell_type": "code",
   "execution_count": 238,
   "metadata": {},
   "outputs": [
    {
     "data": {
      "text/plain": [
       "{'prad': {'D3D': (0.7438067287052118,\n",
       "   False,\n",
       "   False,\n",
       "   ['delta',\n",
       "    'elmtype_none',\n",
       "    'inv_kappaa',\n",
       "    'inv_pgasa',\n",
       "    'inv_q95',\n",
       "    'log_inv_pgasa',\n",
       "    'meff',\n",
       "    'pgasa',\n",
       "    'pl',\n",
       "    'tautot',\n",
       "    'time',\n",
       "    'wth',\n",
       "    '_inv_abs_ip_inv_nel_2',\n",
       "    '_epsilon_2_vol',\n",
       "    '_abs_bt_2_inv_nel',\n",
       "    '_inv_abs_ip_2_nel',\n",
       "    '_inv_abs_bt_nel_2',\n",
       "    '_abs_bt_abs_ip_nel']),\n",
       "  'CMOD': (0.584048498326778,\n",
       "   False,\n",
       "   False,\n",
       "   ['abs_pohm',\n",
       "    'delta',\n",
       "    'elmtype_none',\n",
       "    'imp_tev',\n",
       "    'inv_pl',\n",
       "    'inv_tauth',\n",
       "    'phase_selm',\n",
       "    'picrhc',\n",
       "    'pohm',\n",
       "    '_inv_epsilon_2_vol',\n",
       "    '_epsilon_2_inv_abs_bt',\n",
       "    '_epsilon_inv_rgeo_2',\n",
       "    '_inv_abs_ip_nel_vol'])},\n",
       " 'tev': {'ASDEX': (0.7154766223684763,\n",
       "   True,\n",
       "   False,\n",
       "   ['abs_pohm',\n",
       "    'divmat_c',\n",
       "    'inv_wmhd',\n",
       "    'log_inv_wth',\n",
       "    'pohm',\n",
       "    'standard',\n",
       "    'walmat_c',\n",
       "    '_rgeo_3'])}}"
      ]
     },
     "execution_count": 238,
     "metadata": {},
     "output_type": "execute_result"
    }
   ],
   "source": [
    "abridged_dict = {}\n",
    "cur_threshold = 0.5\n",
    "\n",
    "for cur_key, cur_value in answers.items():\n",
    "    cur_col, cur_tok, use_log, use_all = cur_key\n",
    "    cur_score, cur_columns = cur_value\n",
    "    if cur_score < cur_threshold : continue\n",
    "        \n",
    "    if cur_col not in abridged_dict: abridged_dict[cur_col] = {}\n",
    "\n",
    "    if cur_tok not in abridged_dict[cur_col]:\n",
    "        abridged_dict[cur_col][cur_tok] = (cur_score, use_log, use_all, cur_columns)\n",
    "        continue\n",
    "        \n",
    "    if cur_score < abridged_dict[cur_col][cur_tok][0] : continue\n",
    "    abridged_dict[cur_col][cur_tok] = (cur_score, use_log, use_all, cur_columns)\n",
    "\n",
    "abridged_dict"
   ]
  },
  {
   "cell_type": "code",
   "execution_count": null,
   "metadata": {},
   "outputs": [],
   "source": [
    "jet_dict = {}\n",
    "\n",
    "for cur_col in partial_columns:\n",
    "    null_count = len(tokamak_data[tokamak_data[cur_col].isnull()])\n",
    "    super_good_perc = 1-null_count/len(tokamak_data)\n",
    "    \n",
    "    if super_good_perc == 1: continue\n",
    "        \n",
    "    print(\"--------\")\n",
    "    print(cur_col)\n",
    "    print([null_count, super_good_perc, \"ALL\"])\n",
    "    \n",
    "    for tok in tok_names:\n",
    "        sub_data = tokamak_data[tokamak_data.TOK == tok]\n",
    "        \n",
    "        null_count = len(sub_data[sub_data[cur_col].isnull()])\n",
    "        good_perc = 1-null_count/len(sub_data)\n",
    "\n",
    "        if null_count == 0: continue\n",
    "        assert good_perc > 0\n",
    "        \n",
    "        if good_perc < 0.15 or super_good_perc > 0.98:\n",
    "            print([111,null_count, round(super_good_perc,3), tok])\n",
    "            \n",
    "            tokamak_data.loc[\n",
    "                ( tokamak_data[cur_col].isnull() & ( tokamak_data.TOK == tok ) ),\n",
    "                \"imputed_count\"\n",
    "            ] = np.array(tokamak_data.loc[\n",
    "                ( tokamak_data[cur_col].isnull() & ( tokamak_data.TOK == tok ) )\n",
    "            ][\"imputed_count\"]) + 1\n",
    "            \n",
    "            tokamak_data.loc[\n",
    "                ( tokamak_data[cur_col].isnull() & ( tokamak_data.TOK == tok ) ),\n",
    "                cur_col\n",
    "            ] = sub_data[cur_col].dropna().median()\n",
    "            \n",
    "            continue\n",
    "            \n",
    "        assert tok == \"JET\"\n",
    "        jet_dict[cur_col] = good_perc\n"
   ]
  },
  {
   "cell_type": "code",
   "execution_count": null,
   "metadata": {},
   "outputs": [],
   "source": []
  },
  {
   "cell_type": "code",
   "execution_count": null,
   "metadata": {},
   "outputs": [],
   "source": [
    "expanded_data = tokamak_data.copy()"
   ]
  },
  {
   "cell_type": "code",
   "execution_count": null,
   "metadata": {},
   "outputs": [],
   "source": []
  },
  {
   "cell_type": "code",
   "execution_count": null,
   "metadata": {},
   "outputs": [],
   "source": [
    "expanded_data"
   ]
  },
  {
   "cell_type": "code",
   "execution_count": null,
   "metadata": {},
   "outputs": [],
   "source": [
    "expanded_data.replace([np.inf, -np.inf], np.nan, inplace=True)\n"
   ]
  },
  {
   "cell_type": "code",
   "execution_count": null,
   "metadata": {},
   "outputs": [],
   "source": [
    "expanded_data.info(verbose=True,null_counts=True)\n"
   ]
  },
  {
   "cell_type": "code",
   "execution_count": null,
   "metadata": {},
   "outputs": [],
   "source": [
    "expanded_data.columns.to_list()"
   ]
  },
  {
   "cell_type": "code",
   "execution_count": null,
   "metadata": {},
   "outputs": [],
   "source": [
    "full_columns = list(tokamak_data.dropna(axis=1).columns)\n",
    "\n",
    "partial_columns = [\n",
    "    work_col for work_col in tokamak_data.columns if work_col not in full_columns\n",
    "]\n",
    "\n",
    "[len(full_columns), len(partial_columns)]\n"
   ]
  },
  {
   "cell_type": "code",
   "execution_count": null,
   "metadata": {
    "scrolled": false
   },
   "outputs": [],
   "source": [
    "for cur_key, cur_value in reversed(sorted(jet_dict.items(), key=lambda x: x[1])):\n",
    "    jet_data = tokamak_data[~tokamak_data[cur_key].isnull() & (tokamak_data.TOK == \"JET\")]\n",
    "    jet_X = jet_data[[work_col for work_col in full_columns if work_col != \"TOK\"]]\n",
    "    jet_y = jet_data[cur_key]\n",
    "    \n",
    "    skipped_columns = [\"TOK\", \"imputed_count\"]\n",
    "    \n",
    "    attempt_count = 0\n",
    "    \n",
    "    while True:\n",
    "        tmp_jet_X = jet_X[[ \n",
    "            work_col for work_col in full_columns if work_col not in skipped_columns \n",
    "        ]]\n",
    "        \n",
    "        X_train, X_test, y_train, y_test = train_test_split(tmp_jet_X, jet_y, test_size=0.2)\n",
    "        scaler = StandardScaler().fit(X_train)\n",
    "        \n",
    "        X_train = pd.DataFrame(scaler.transform(X_train), columns=tmp_jet_X.columns)\n",
    "        X_test = pd.DataFrame(scaler.transform(X_test), columns=tmp_jet_X.columns)\n",
    "        \n",
    "        cur_cv = LassoCV(cv=3, n_alphas=256, max_iter=100000, tol=1e-6, n_jobs=-1)\n",
    "        cur_cv.fit(X_train, y_train)\n",
    "        \n",
    "        new_skipped = list(X_train.columns[np.abs(cur_cv.coef_) < 1e-6])\n",
    "        if len(new_skipped) == 0: \n",
    "            attempt_count += 1\n",
    "            if attempt_count > 5 : break\n",
    "\n",
    "        skipped_columns.extend(new_skipped)\n",
    "        \n",
    "    print(cur_key)\n",
    "    print(cur_cv.score(X_train, y_train))\n",
    "    print(cur_cv.score(X_test, y_test))\n",
    "\n",
    "    used_cols = [ \n",
    "        work_col for work_col in full_columns if work_col not in skipped_columns \n",
    "    ]\n",
    "    \n",
    "    tmp_jet_X = jet_X[used_cols]\n",
    "\n",
    "    X_train, X_test, y_train, y_test = train_test_split(tmp_jet_X, jet_y, test_size=0.2)\n",
    "    scaler = StandardScaler().fit(X_train)\n",
    "\n",
    "    X_train = pd.DataFrame(scaler.transform(X_train), columns=used_cols)\n",
    "    X_test = pd.DataFrame(scaler.transform(X_test), columns=used_cols)\n",
    "\n",
    "    cur_cv = RidgeCV(cv=3, alphas=np.logspace(-4,4,1200))\n",
    "    cur_cv.fit(X_train, y_train)\n",
    "    \n",
    "    if cur_cv.alpha_ < 1e-4:\n",
    "        print(\"????\")\n",
    "        cur_cv = LassoCV(cv=3, n_alphas=256, max_iter=100000, tol=1e-6, n_jobs=-1)\n",
    "        cur_cv.fit(X_train, y_train)\n",
    "    else:\n",
    "        assert cur_cv.alpha_ < 1e+4\n",
    "    \n",
    "    train_score = cur_cv.score(X_train, y_train)\n",
    "    test_score = cur_cv.score(X_test, y_test)\n",
    "    \n",
    "    assert np.abs(train_score - test_score) < 0.05\n",
    "    assert train_score > 0.8 or test_score > 0.8\n",
    "    \n",
    "    print(used_cols)\n",
    "    \n",
    "    in_data = tokamak_data[( tokamak_data.TOK == \"JET\" ) & tokamak_data[cur_key].isnull() ][used_cols]\n",
    "    in_data = pd.DataFrame(scaler.transform(in_data), columns=used_cols)\n",
    "    \n",
    "    tokamak_data.loc[\n",
    "        ( tokamak_data.TOK == \"JET\" ) & tokamak_data[cur_key].isnull(),\n",
    "        \"imputed_count\"\n",
    "    ] = np.array(tokamak_data[\n",
    "        ( tokamak_data.TOK == \"JET\" ) & tokamak_data[cur_key].isnull()\n",
    "    ][\"imputed_count\"]) + 1\n",
    "    \n",
    "    tokamak_data.loc[\n",
    "        ( tokamak_data.TOK == \"JET\" ) & tokamak_data[cur_key].isnull(),\n",
    "        cur_key\n",
    "    ] = cur_cv.predict(in_data)\n",
    "    \n",
    "    print(cur_key)\n",
    "    print(train_score)\n",
    "    print(test_score)\n",
    "    \n",
    "    full_columns.append(cur_key)\n"
   ]
  },
  {
   "cell_type": "code",
   "execution_count": null,
   "metadata": {},
   "outputs": [],
   "source": [
    "sorted(list(tokamak_data.TOK.value_counts().index))"
   ]
  },
  {
   "cell_type": "code",
   "execution_count": null,
   "metadata": {},
   "outputs": [],
   "source": []
  },
  {
   "cell_type": "code",
   "execution_count": null,
   "metadata": {},
   "outputs": [],
   "source": [
    "for work_col in tokamak_data.columns:\n",
    "    if work_col == \"imputed_count\": continue\n",
    "    assert len(tokamak_data[work_col].value_counts()) > 1\n",
    "    if tokamak_data[work_col].dtype != bool: continue\n",
    "    tokamak_data[work_col] = tokamak_data[work_col].astype(int)\n",
    "    "
   ]
  },
  {
   "cell_type": "code",
   "execution_count": null,
   "metadata": {},
   "outputs": [],
   "source": [
    "poly_data = tokamak_data.copy()\n"
   ]
  },
  {
   "cell_type": "code",
   "execution_count": null,
   "metadata": {},
   "outputs": [],
   "source": [
    "poly_data"
   ]
  },
  {
   "cell_type": "code",
   "execution_count": null,
   "metadata": {},
   "outputs": [],
   "source": [
    "for cur_col in poly_data.columns:\n",
    "    if cur_col == \"TOK\": continue\n",
    "    if 0 in poly_data[cur_col].values: continue\n",
    "    poly_data[f\"INV_{cur_col}\"] = 1 / poly_data[cur_col]"
   ]
  },
  {
   "cell_type": "code",
   "execution_count": null,
   "metadata": {},
   "outputs": [],
   "source": [
    "poly_data.columns = poly_data.columns.str.lower()\n",
    "poly_data.columns = poly_data.columns.str.replace(\"-\", \"_\")\n",
    "\n",
    "poly_data.replace([np.inf, -np.inf], np.nan, inplace=True)\n"
   ]
  },
  {
   "cell_type": "code",
   "execution_count": null,
   "metadata": {},
   "outputs": [],
   "source": [
    "resample_dict = {}"
   ]
  },
  {
   "cell_type": "code",
   "execution_count": null,
   "metadata": {},
   "outputs": [],
   "source": [
    "jet_count"
   ]
  },
  {
   "cell_type": "code",
   "execution_count": null,
   "metadata": {},
   "outputs": [],
   "source": [
    "tok_dict = poly_data.tok.value_counts().to_dict()\n",
    "\n",
    "jet_count = tok_dict[\"JET\"]\n",
    "\n",
    "max_count = np.max(list(tok_dict.values()))\n",
    "min_count = np.min(list(tok_dict.values()))\n",
    "\n",
    "for cur_key, cur_value in tok_dict.items():\n",
    "    if cur_key == \"JET\": continue\n",
    "    cur_value\n",
    "    \n",
    "tok_dict"
   ]
  },
  {
   "cell_type": "code",
   "execution_count": 601,
   "metadata": {},
   "outputs": [],
   "source": [
    "desired_dict = {\n",
    "    'JET': 3083,\n",
    "    'ASDEX': 1500,\n",
    "    'D3D': 1250,\n",
    "    'AUG': 1000,\n",
    "    'CMOD': 750,\n",
    "    'JFT2M': 1000,\n",
    "    'PBXM': 500,\n",
    "    'PDX': 500,\n",
    "    'TFTR': 500,\n",
    "    'JT60U': 250,\n",
    "    'TCV': 100,\n",
    "    'TDEV': 75,\n",
    "    'NSTX': 50\n",
    "}\n"
   ]
  },
  {
   "cell_type": "code",
   "execution_count": null,
   "metadata": {},
   "outputs": [],
   "source": [
    "for cur_key, cur_value in desired_dict.items():\n",
    "    in_rows = poly_data[poly_data.tok == cur_key].copy()\n",
    "    in_count = len(in_rows)\n",
    "\n",
    "    poly_data = poly_data.append(in_rows.sample(cur_value % in_count))\n",
    "    if cur_value < 2 * in_count: continue     \n",
    "\n",
    "    for cur_times in range(floor(cur_value/in_count)-1):\n",
    "        poly_data = poly_data.append(in_rows.copy())\n"
   ]
  },
  {
   "cell_type": "code",
   "execution_count": null,
   "metadata": {},
   "outputs": [],
   "source": [
    "poly_data"
   ]
  },
  {
   "cell_type": "code",
   "execution_count": null,
   "metadata": {},
   "outputs": [],
   "source": [
    "poly_X = poly_data[[cur_col for cur_col in poly_data.columns if cur_col not in [\"tok\", \"is_good\"]]]\n",
    "poly_y = poly_data[\"is_good\"]\n"
   ]
  },
  {
   "cell_type": "code",
   "execution_count": null,
   "metadata": {},
   "outputs": [],
   "source": [
    "poly_data"
   ]
  },
  {
   "cell_type": "code",
   "execution_count": null,
   "metadata": {
    "scrolled": true
   },
   "outputs": [],
   "source": [
    "poly_data.tok.value_counts()"
   ]
  },
  {
   "cell_type": "code",
   "execution_count": null,
   "metadata": {},
   "outputs": [],
   "source": []
  },
  {
   "cell_type": "code",
   "execution_count": null,
   "metadata": {},
   "outputs": [],
   "source": [
    "poly_xform = PolynomialFeatures(2)\n",
    "poly_XX = pd.DataFrame(\n",
    "    poly_xform.fit_transform(poly_X), columns=poly_xform.get_feature_names(poly_X.columns)\n",
    ")\n",
    "\n",
    "poly_XX.columns = poly_XX.columns.str.replace(\"^\", \"_\")\n",
    "poly_XX.columns = poly_XX.columns.str.replace(\" \", \"_\")"
   ]
  },
  {
   "cell_type": "code",
   "execution_count": null,
   "metadata": {},
   "outputs": [],
   "source": [
    "list(poly_XX)"
   ]
  },
  {
   "cell_type": "code",
   "execution_count": 429,
   "metadata": {},
   "outputs": [
    {
     "data": {
      "text/plain": [
       "[]"
      ]
     },
     "execution_count": 429,
     "metadata": {},
     "output_type": "execute_result"
    }
   ],
   "source": [
    "list(list(map(lambda yy: tokamak_data.columns[yy], np.where(list(map(lambda xx: xx.startswith(\"zero__imp\"), tokamak_data.columns)))))[0])\n"
   ]
  },
  {
   "cell_type": "code",
   "execution_count": 430,
   "metadata": {},
   "outputs": [],
   "source": [
    "tokamak_data.drop(columns=\n",
    "    list(list(map(lambda yy: tokamak_data.columns[yy], np.where(list(map(lambda xx: xx.startswith(\"zero__imp\"), tokamak_data.columns)))))[0])\n",
    "\n",
    ", inplace=True)"
   ]
  },
  {
   "cell_type": "code",
   "execution_count": null,
   "metadata": {},
   "outputs": [],
   "source": [
    "poly_XX.drop(columns=[\"1\"], inplace=True)\n",
    "\n",
    "drop_columns = []\n",
    "\n",
    "for cur_col in poly_XX.columns:\n",
    "    if not all(np.isclose(1,np.unique(poly_XX[cur_col].values))): continue\n",
    "    drop_columns.append(cur_col)\n",
    "    \n",
    "poly_XX.drop(columns=drop_columns, inplace=True)\n",
    "\n",
    "drop_columns = []\n"
   ]
  },
  {
   "cell_type": "code",
   "execution_count": null,
   "metadata": {},
   "outputs": [],
   "source": [
    "poly_XX"
   ]
  },
  {
   "cell_type": "code",
   "execution_count": null,
   "metadata": {},
   "outputs": [],
   "source": [
    "sub_poly_data.rgeo"
   ]
  },
  {
   "cell_type": "code",
   "execution_count": null,
   "metadata": {},
   "outputs": [],
   "source": []
  },
  {
   "cell_type": "code",
   "execution_count": null,
   "metadata": {},
   "outputs": [],
   "source": [
    "im"
   ]
  },
  {
   "cell_type": "code",
   "execution_count": null,
   "metadata": {},
   "outputs": [],
   "source": [
    "import statsmodels.api as sm"
   ]
  },
  {
   "cell_type": "code",
   "execution_count": null,
   "metadata": {},
   "outputs": [],
   "source": []
  },
  {
   "cell_type": "code",
   "execution_count": null,
   "metadata": {
    "scrolled": false
   },
   "outputs": [],
   "source": [
    "plt.figure(figsize=(10,10))\n",
    "\n",
    "cur_colors = list(map(str.strip, \"\"\"\n",
    "    #e6194B, #3cb44b, #ffe119, #4363d8, #f58231, \n",
    "    #42d4f4, #f032e6, #fabebe, #469990, \n",
    "    #9A6324, #800000, #000075, #a9a9a9\n",
    "\"\"\".split(',')))\n",
    "\n",
    "plot_dict_good = {}\n",
    "plot_dict_bad = {}\n",
    "\n",
    "jitter = 0.0085\n",
    "\n",
    "for tok_index, tok_name in enumerate(tok_names):\n",
    "    sub_poly_data = poly_data[poly_data.is_good & ( poly_data.tok == tok_name)]\n",
    "    plot_dict_good[len(sub_poly_data), tok_name] = [np.random.normal(0, jitter, len(sub_poly_data.rgeo)) + sub_poly_data.rgeo, sub_poly_data.abs_bt]\n",
    "    \n",
    "    sub_poly_data = poly_data[~poly_data.is_good & ( poly_data.tok == tok_name)]\n",
    "    plot_dict_bad[len(sub_poly_data), tok_name] = [np.random.normal(0, jitter, len(sub_poly_data.rgeo)) + sub_poly_data.rgeo, sub_poly_data.abs_bt]\n",
    "    \n",
    "labels = []\n",
    "for cur_index, cur_key in enumerate(reversed(sorted(plot_dict_good.keys()))):\n",
    "    labels.append(cur_key[1])    \n",
    "    plt.scatter(*plot_dict_good[cur_key], alpha=0.05, color=cur_colors[cur_index])\n",
    "\n",
    "for cur_index, cur_key in enumerate(reversed(sorted(plot_dict_bad.keys()))):   \n",
    "    plt.scatter(*plot_dict_bad[cur_key], alpha=0.05, color=cur_colors[cur_index], marker='x')\n",
    "\n",
    "    \n",
    "plt.xlim(0, 1.25 * np.max(poly_data.rgeo))\n",
    "plt.ylim(0, 1.25 * np.max(poly_data.abs_bt))\n",
    "plt.xlabel(\"R [m]\")\n",
    "plt.ylabel(\"B [T]\")\n",
    "\n",
    "leg = plt.legend(labels)\n",
    "for lh in leg.legendHandles: \n",
    "    lh.set_alpha(1)\n",
    "    "
   ]
  },
  {
   "cell_type": "code",
   "execution_count": null,
   "metadata": {},
   "outputs": [],
   "source": [
    "ax"
   ]
  },
  {
   "cell_type": "code",
   "execution_count": null,
   "metadata": {},
   "outputs": [],
   "source": [
    "good_dict = defaultdict(int)\n",
    "bad_dict = defaultdict(int)"
   ]
  },
  {
   "cell_type": "code",
   "execution_count": null,
   "metadata": {},
   "outputs": [],
   "source": [
    "for i in tqdm(range(400)):\n",
    "    \n",
    "    tmp_poly_X = poly_XX[[ \n",
    "        work_col for work_col in np.random.choice(poly_XX.columns, size=150, replace=False) if work_col != \"imputed_count\" \n",
    "    ]]\n",
    "    \n",
    "    scaler = StandardScaler().fit(tmp_poly_X)\n",
    "\n",
    "    tmp_poly_X = pd.DataFrame(scaler.transform(tmp_poly_X), columns=tmp_poly_X.columns)\n",
    "\n",
    "    cur_cv = LassoCV(n_jobs=-1, cv=4, n_alphas=125, max_iter=75000, tol=1e-4)\n",
    "    cur_cv.fit(tmp_poly_X, poly_y)\n",
    "\n",
    "    for cur_index, cur_col in enumerate(tmp_poly_X.columns):\n",
    "        if np.abs(cur_cv.coef_[cur_index]) < 1e-6:\n",
    "            bad_dict[cur_col] += 1\n",
    "        else:\n",
    "            good_dict[cur_col] += 1\n",
    "            "
   ]
  },
  {
   "cell_type": "code",
   "execution_count": null,
   "metadata": {
    "scrolled": true
   },
   "outputs": [],
   "source": [
    "np.max(list(good_dict.values()))"
   ]
  },
  {
   "cell_type": "code",
   "execution_count": null,
   "metadata": {},
   "outputs": [],
   "source": [
    "np.max(list(bad_dict.values()))"
   ]
  },
  {
   "cell_type": "code",
   "execution_count": null,
   "metadata": {},
   "outputs": [],
   "source": [
    "from sklearn.model_selection import StratifiedKFold"
   ]
  },
  {
   "cell_type": "code",
   "execution_count": null,
   "metadata": {},
   "outputs": [],
   "source": [
    "from sklearn.feature_selection import RFECV"
   ]
  },
  {
   "cell_type": "code",
   "execution_count": null,
   "metadata": {},
   "outputs": [],
   "source": [
    "cv = StratifiedKFold(5)\n",
    "visualizer = RFECV(RandomForestClassifier(n_estimators=125, max_depth=6), cv=cv, scoring='f1_weighted')\n",
    "\n",
    "tmp_poly_X = poly_XX.copy()\n",
    "scaler = StandardScaler().fit(tmp_poly_X)\n",
    "tmp_poly_X = pd.DataFrame(scaler.transform(tmp_poly_X), columns=tmp_poly_X.columns)\n",
    "\n",
    "visualizer.fit(tmp_poly_X, poly_y)\n",
    "visualizer.show()\n"
   ]
  },
  {
   "cell_type": "code",
   "execution_count": null,
   "metadata": {},
   "outputs": [],
   "source": [
    "[ kk for kk in good_dict.keys() if kk not in bad_dict ]"
   ]
  },
  {
   "cell_type": "code",
   "execution_count": null,
   "metadata": {},
   "outputs": [],
   "source": [
    "for cur_key, cur_value in good_dict.items():\n",
    "    if cur_value < 25: continue\n",
    "    print(cur_key)"
   ]
  },
  {
   "cell_type": "code",
   "execution_count": null,
   "metadata": {},
   "outputs": [],
   "source": []
  },
  {
   "cell_type": "code",
   "execution_count": null,
   "metadata": {},
   "outputs": [],
   "source": [
    "clf = RandomForestClassifier(n_estimators=25000, max_depth=5)"
   ]
  },
  {
   "cell_type": "code",
   "execution_count": null,
   "metadata": {},
   "outputs": [],
   "source": [
    "tmp_poly_X = poly_XX.copy()\n",
    "scaler = StandardScaler().fit(tmp_poly_X)\n",
    "tmp_poly_X = pd.DataFrame(scaler.transform(tmp_poly_X), columns=tmp_poly_X.columns)\n"
   ]
  },
  {
   "cell_type": "code",
   "execution_count": null,
   "metadata": {},
   "outputs": [],
   "source": [
    "clf.fit(tmp_poly_X, poly_y)"
   ]
  },
  {
   "cell_type": "code",
   "execution_count": null,
   "metadata": {},
   "outputs": [],
   "source": [
    "yy, xx = list(zip(*reversed(sorted(zip(clf.feature_importances_,tmp_poly_X.columns )))))\n",
    "nn = 35\n",
    "xx = xx[0:nn]\n",
    "yy = yy[0:nn]\n",
    "plt.barh(xx,yy)\n"
   ]
  },
  {
   "cell_type": "code",
   "execution_count": null,
   "metadata": {},
   "outputs": [],
   "source": []
  },
  {
   "cell_type": "code",
   "execution_count": null,
   "metadata": {},
   "outputs": [],
   "source": [
    "for cur_col in poly_XX.columns:\n",
    "    if any(poly_XX[cur_col].isnull()):\n",
    "        print(cur_col)"
   ]
  },
  {
   "cell_type": "code",
   "execution_count": null,
   "metadata": {},
   "outputs": [],
   "source": [
    "poly_XX.isnull()"
   ]
  },
  {
   "cell_type": "code",
   "execution_count": null,
   "metadata": {},
   "outputs": [],
   "source": []
  },
  {
   "cell_type": "code",
   "execution_count": null,
   "metadata": {},
   "outputs": [],
   "source": []
  },
  {
   "cell_type": "code",
   "execution_count": null,
   "metadata": {},
   "outputs": [],
   "source": []
  },
  {
   "cell_type": "code",
   "execution_count": null,
   "metadata": {},
   "outputs": [],
   "source": []
  },
  {
   "cell_type": "code",
   "execution_count": null,
   "metadata": {},
   "outputs": [],
   "source": []
  },
  {
   "cell_type": "code",
   "execution_count": null,
   "metadata": {},
   "outputs": [],
   "source": []
  }
 ],
 "metadata": {
  "kernelspec": {
   "display_name": "Python 3",
   "language": "python",
   "name": "python3"
  },
  "language_info": {
   "codemirror_mode": {
    "name": "ipython",
    "version": 3
   },
   "file_extension": ".py",
   "mimetype": "text/x-python",
   "name": "python",
   "nbconvert_exporter": "python",
   "pygments_lexer": "ipython3",
   "version": "3.7.4"
  }
 },
 "nbformat": 4,
 "nbformat_minor": 2
}
