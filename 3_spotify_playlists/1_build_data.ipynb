{
 "cells": [
  {
   "cell_type": "code",
   "execution_count": 215,
   "metadata": {},
   "outputs": [],
   "source": [
    "import pandas as pd\n",
    "from tqdm.auto import tqdm\n",
    "import numpy as np\n",
    "from slugify import slugify\n",
    "import ast\n",
    "from IPython.display import display, HTML\n",
    "import matplotlib.pyplot as plt\n",
    "import booleanize"
   ]
  },
  {
   "cell_type": "code",
   "execution_count": 2,
   "metadata": {},
   "outputs": [],
   "source": [
    "artists_df = pd.read_csv(\"data/artists.csv\", keep_default_na=False)\n",
    "tracks_df = pd.read_csv(\"data/tracks.csv\")\n",
    "playlists_df = pd.read_csv(\"data/playlists.csv\")\n",
    "\n",
    "artists_df.set_index(\"id\", inplace=True)\n",
    "tracks_df.set_index(\"slug\", inplace=True)\n",
    "playlists_df.set_index(\"slug\", inplace=True)\n"
   ]
  },
  {
   "cell_type": "code",
   "execution_count": 3,
   "metadata": {},
   "outputs": [
    {
     "name": "stdout",
     "output_type": "stream",
     "text": [
      "0\n",
      "1\n",
      "0\n"
     ]
    }
   ],
   "source": [
    "print(len(artists_df) - len(artists_df.dropna()))\n",
    "print(len(tracks_df) - len(tracks_df.dropna()))\n",
    "print(len(playlists_df) - len(playlists_df.dropna()))"
   ]
  },
  {
   "cell_type": "code",
   "execution_count": 4,
   "metadata": {},
   "outputs": [],
   "source": [
    "tracks_df.dropna(inplace=True)\n",
    "playlists_df[playlists_df.index != \"4lPN1fB7XWJr5xAVWbbHY2\"]\n",
    "artists_df.name = artists_df.name.str.strip()"
   ]
  },
  {
   "cell_type": "code",
   "execution_count": 5,
   "metadata": {},
   "outputs": [],
   "source": [
    "playlists_df[\"log_followers\"] = np.log10(1+playlists_df.followers)"
   ]
  },
  {
   "cell_type": "code",
   "execution_count": 6,
   "metadata": {},
   "outputs": [
    {
     "name": "stdout",
     "output_type": "stream",
     "text": [
      "min track [s] =  1.831\n",
      "max track [h] =  3.0\n"
     ]
    }
   ],
   "source": [
    "print(\"min track [s] = \", tracks_df.duration_ms.min() / 1000)\n",
    "print(\"max track [h] = \", tracks_df.duration_ms.max() / 1000 / 60 / 60)\n"
   ]
  },
  {
   "cell_type": "code",
   "execution_count": 7,
   "metadata": {},
   "outputs": [],
   "source": [
    "for playlist_column in playlists_df.columns:\n",
    "    assert len(artists_df[artists_df.name == playlist_column]) == 0"
   ]
  },
  {
   "cell_type": "code",
   "execution_count": 8,
   "metadata": {},
   "outputs": [],
   "source": [
    "tracks_df[\"track_artists\"] = list(\n",
    "    map(\n",
    "        lambda track_artists: list(\n",
    "            map(int,ast.literal_eval(track_artists))\n",
    "        ),\n",
    "        tracks_df[\"track_artists\"].values\n",
    "    )\n",
    ")"
   ]
  },
  {
   "cell_type": "code",
   "execution_count": 9,
   "metadata": {},
   "outputs": [],
   "source": [
    "playlists_df[\"playlist_tracks\"] = list(\n",
    "    map(\n",
    "        ast.literal_eval,\n",
    "        playlists_df[\"playlist_tracks\"].values\n",
    "    )\n",
    ")"
   ]
  },
  {
   "cell_type": "code",
   "execution_count": 11,
   "metadata": {
    "scrolled": false
   },
   "outputs": [
    {
     "data": {
      "application/vnd.jupyter.widget-view+json": {
       "model_id": "f1edd5ff51624e00ab32c00630cfa45b",
       "version_major": 2,
       "version_minor": 0
      },
      "text/plain": [
       "HBox(children=(IntProgress(value=1, bar_style='info', max=1), HTML(value='')))"
      ]
     },
     "metadata": {},
     "output_type": "display_data"
    },
    {
     "name": "stderr",
     "output_type": "stream",
     "text": [
      "/usr/local/lib/python3.7/site-packages/ipykernel_launcher.py:5: FutureWarning: \n",
      "Passing list-likes to .loc or [] with any missing label will raise\n",
      "KeyError in the future, you can use .reindex() as an alternative.\n",
      "\n",
      "See the documentation here:\n",
      "https://pandas.pydata.org/pandas-docs/stable/user_guide/indexing.html#deprecate-loc-reindex-listlike\n",
      "  \"\"\"\n"
     ]
    },
    {
     "name": "stdout",
     "output_type": "stream",
     "text": [
      "\n"
     ]
    }
   ],
   "source": [
    "playlists_artists = []\n",
    "\n",
    "for playlist in tqdm(playlists_df.itertuples()):\n",
    "    playlists_artists.append([])\n",
    "    playlist_tracks_df = tracks_df.loc[playlist.playlist_tracks].dropna()\n",
    "    \n",
    "    for track in playlist_tracks_df.itertuples():\n",
    "        track_artists_df = artists_df.loc[track.track_artists]     \n",
    "        track_artists = sorted(track_artists_df.name.to_list())\n",
    "        playlists_artists[-1].extend(track_artists)\n",
    "    \n",
    "playlists_df[\"playlist_artists\"] = playlists_artists\n",
    "    "
   ]
  },
  {
   "cell_type": "code",
   "execution_count": 31,
   "metadata": {},
   "outputs": [
    {
     "data": {
      "text/plain": [
       "slug\n",
       "7jvfS7fn7qx2HS3oMklAdw    [Lefa, Vald, Bon Entendeur, Isabelle Pierre, C...\n",
       "4IgAuc1ur86KtYZAEnD6Q3    [Talkdemonic, Lymbyc Systym, Lymbyc Systym, Ly...\n",
       "4LMlI2WnTGDqtKU8bTNGFS    [RAM, Armin van Buuren, Jennifer Rene, Chicane...\n",
       "4g4D9ayX9v2YWVx1ciKMFh    [PLÜM, Chelsea Cutler, Jeremy Zucker, filous, ...\n",
       "21iTXBzTLFliu8uQT6Espl    [Rameses B, Phaera, TheFatRat, L'Indécis, Andr...\n",
       "                                                ...                        \n",
       "5rLHlv0Avd3mgbNmMDOnXv    [Dance With the Dead, Scandroid, JAY Z, Linkin...\n",
       "1p5ZeMzXpkEHYuM8zy2j3e    [Sabaton, Black Sabbath, Rammstein, Powerwolf,...\n",
       "7DiLUwsIPRhAwEiVnCu7oU    [FM Attack, Bryce Vine, Falling In Reverse, Ou...\n",
       "1eUtArGA9QdSphQLArbvF6    [Imagine Dragons, Imagine Dragons, Adam Gontie...\n",
       "2Ytz7ABT8ffnQHo5frgSpq    [Peggy Gou, ANNA, Jon Hopkins, Peggy Gou, Pegg...\n",
       "Name: playlist_artists, Length: 8970, dtype: object"
      ]
     },
     "execution_count": 31,
     "metadata": {},
     "output_type": "execute_result"
    }
   ],
   "source": [
    "playlists_df[\"playlist_artists\"]"
   ]
  },
  {
   "cell_type": "code",
   "execution_count": 20,
   "metadata": {},
   "outputs": [
    {
     "data": {
      "text/plain": [
       "142"
      ]
     },
     "execution_count": 20,
     "metadata": {},
     "output_type": "execute_result"
    }
   ],
   "source": [
    "len(playlists_df[np.array(list(map(len,map(np.unique,playlists_df[\"playlist_artists\"])))) < 3])\n"
   ]
  },
  {
   "cell_type": "code",
   "execution_count": 22,
   "metadata": {},
   "outputs": [],
   "source": [
    "from collections import Counter"
   ]
  },
  {
   "cell_type": "code",
   "execution_count": 32,
   "metadata": {},
   "outputs": [
    {
     "data": {
      "text/plain": [
       "71247"
      ]
     },
     "execution_count": 32,
     "metadata": {},
     "output_type": "execute_result"
    }
   ],
   "source": [
    "\n",
    "artist_counter = Counter([item for sublist in playlists_artists for item in sublist])\n",
    "\n",
    "len(\n",
    "    Counter(el for el in artist_counter.elements() if artist_counter[el] < 5 )\n",
    ")"
   ]
  },
  {
   "cell_type": "code",
   "execution_count": 157,
   "metadata": {},
   "outputs": [],
   "source": [
    "ii = list(np.unique(sorted([*list(map(int,map(round,np.logspace(0,4,71)))), *list(range(35,45)), *list(range(25,35))])))\n",
    "yy = []\n",
    "\n",
    "artist_counter = Counter(\n",
    "    [item for sublist in playlists_artists for item in np.unique(sublist)]\n",
    ")\n",
    "\n",
    "for hh,jj in enumerate(ii):\n",
    "    kk = len(\n",
    "        Counter(el for el in artist_counter.elements() if artist_counter[el] >= jj )\n",
    "    )\n",
    "    \n",
    "    if kk == 0:\n",
    "        ii = ii[:hh]\n",
    "        break\n",
    "    else:\n",
    "        yy.append(kk)\n",
    "    "
   ]
  },
  {
   "cell_type": "code",
   "execution_count": 160,
   "metadata": {},
   "outputs": [
    {
     "name": "stdout",
     "output_type": "stream",
     "text": [
      "[30, 4804]\n"
     ]
    },
    {
     "data": {
      "image/png": "[encoded data removed]",
      "text/plain": [
       "<Figure size 432x288 with 1 Axes>"
      ]
     },
     "metadata": {
      "needs_background": "light"
     },
     "output_type": "display_data"
    }
   ],
   "source": [
    "plt.plot(ii,yy)\n",
    "# for zz in range(1,6):\n",
    "#     plt.plot([0,4000],[zz*1000,zz*1000],label=str(zz*1000))\n",
    "# plt.ylim(0,1.15*np.max(yy))\n",
    "\n",
    "chosen_value = 30\n",
    "\n",
    "for xx in range(len(ii)):\n",
    "    if ii[xx] >= chosen_value: break\n",
    "    \n",
    "print([ii[xx],yy[xx]])\n",
    "plt.plot([np.min(ii),np.max(ii)],[yy[xx], yy[xx]])\n",
    "plt.plot([ii[xx], ii[xx]],[np.min(yy),np.max(yy)])\n",
    "\n",
    "plt.xscale('log')\n",
    "plt.yscale('log')\n",
    "plt.ylabel(\"Artists\")\n",
    "plt.xlabel(\"Playlist Threshold\")\n",
    "plt.grid(True)"
   ]
  },
  {
   "cell_type": "code",
   "execution_count": 193,
   "metadata": {},
   "outputs": [
    {
     "data": {
      "text/plain": [
       "10"
      ]
     },
     "execution_count": 193,
     "metadata": {},
     "output_type": "execute_result"
    }
   ],
   "source": [
    "len(['name',\n",
    " 'init_year',\n",
    " 'last_year',\n",
    " 'followers',\n",
    " 'is_coding',\n",
    " 'is_programming',\n",
    " 'playlist_tracks',\n",
    " 'log_followers',\n",
    " 'playlist_artists',\n",
    " 'artist_counters'])"
   ]
  },
  {
   "cell_type": "code",
   "execution_count": 172,
   "metadata": {},
   "outputs": [],
   "source": [
    "playlists_df[\"artist_counters\"] = list(\n",
    "    map(Counter, playlists_df.playlist_artists)\n",
    ")\n"
   ]
  },
  {
   "cell_type": "code",
   "execution_count": 175,
   "metadata": {},
   "outputs": [],
   "source": [
    "for cur_key in Counter(el for el in artist_counter.elements() if artist_counter[el] >= chosen_value ).keys():\n",
    "    cur_vec = list(map(\n",
    "        lambda cur_counter: cur_counter[cur_key], \n",
    "        playlists_df.artist_counters\n",
    "    ))\n",
    "\n",
    "    playlists_df[cur_key] = cur_vec\n",
    "    "
   ]
  },
  {
   "cell_type": "code",
   "execution_count": 199,
   "metadata": {},
   "outputs": [
    {
     "data": {
      "application/vnd.jupyter.widget-view+json": {
       "model_id": "59b64289061f482cb499c300c2f52489",
       "version_major": 2,
       "version_minor": 0
      },
      "text/plain": [
       "HBox(children=(IntProgress(value=1, bar_style='info', max=1), HTML(value='')))"
      ]
     },
     "metadata": {},
     "output_type": "display_data"
    },
    {
     "name": "stdout",
     "output_type": "stream",
     "text": [
      "\n",
      "457\n"
     ]
    }
   ],
   "source": [
    "bad_playlists = []\n",
    "\n",
    "for playlist in tqdm(playlists_df.itertuples()):\n",
    "    max_val = np.max(playlist[11:])\n",
    "    cur_sum = np.sum(playlist[11:])\n",
    "    \n",
    "    if cur_sum < 3 or cur_sum == max_val :\n",
    "        bad_playlists.append(playlist[0])\n",
    "        \n",
    "print(len(bad_playlists))\n",
    "    "
   ]
  },
  {
   "cell_type": "code",
   "execution_count": 234,
   "metadata": {},
   "outputs": [],
   "source": [
    "playlists_df = playlists_df[~playlists_df.index.isin(bad_playlists)]\n",
    "\n",
    "booleanize.unbooleanize(playlists_df)\n",
    "\n",
    "playlists_df[\"norm_followers\"] = list(map(int,map(round,playlists_df.log_followers / 1.25)))\n",
    "\n",
    "cur_data = playlists_df[\n",
    "    [\n",
    "        'is_coding',\n",
    "        'is_programming',\n",
    "        'norm_followers',\n",
    "        *playlists_df.columns[10:-1]\n",
    "    ]\n",
    "]"
   ]
  },
  {
   "cell_type": "code",
   "execution_count": 220,
   "metadata": {},
   "outputs": [
    {
     "data": {
      "text/html": [
       "<div>\n",
       "<style scoped>\n",
       "    .dataframe tbody tr th:only-of-type {\n",
       "        vertical-align: middle;\n",
       "    }\n",
       "\n",
       "    .dataframe tbody tr th {\n",
       "        vertical-align: top;\n",
       "    }\n",
       "\n",
       "    .dataframe thead th {\n",
       "        text-align: right;\n",
       "    }\n",
       "</style>\n",
       "<table border=\"1\" class=\"dataframe\">\n",
       "  <thead>\n",
       "    <tr style=\"text-align: right;\">\n",
       "      <th></th>\n",
       "      <th>name</th>\n",
       "      <th>init_year</th>\n",
       "      <th>last_year</th>\n",
       "      <th>followers</th>\n",
       "      <th>is_coding</th>\n",
       "      <th>is_programming</th>\n",
       "      <th>playlist_tracks</th>\n",
       "      <th>log_followers</th>\n",
       "      <th>playlist_artists</th>\n",
       "      <th>artist_counters</th>\n",
       "      <th>...</th>\n",
       "      <th>DJ Antoine</th>\n",
       "      <th>Compuphonic</th>\n",
       "      <th>John Adams</th>\n",
       "      <th>Opia</th>\n",
       "      <th>Kings of Convenience</th>\n",
       "      <th>YUNGBLUD</th>\n",
       "      <th>Manatee Commune</th>\n",
       "      <th>Cigarettes After Sex</th>\n",
       "      <th>Modjo</th>\n",
       "      <th>The Cars</th>\n",
       "    </tr>\n",
       "    <tr>\n",
       "      <th>slug</th>\n",
       "      <th></th>\n",
       "      <th></th>\n",
       "      <th></th>\n",
       "      <th></th>\n",
       "      <th></th>\n",
       "      <th></th>\n",
       "      <th></th>\n",
       "      <th></th>\n",
       "      <th></th>\n",
       "      <th></th>\n",
       "      <th></th>\n",
       "      <th></th>\n",
       "      <th></th>\n",
       "      <th></th>\n",
       "      <th></th>\n",
       "      <th></th>\n",
       "      <th></th>\n",
       "      <th></th>\n",
       "      <th></th>\n",
       "      <th></th>\n",
       "      <th></th>\n",
       "    </tr>\n",
       "  </thead>\n",
       "  <tbody>\n",
       "    <tr>\n",
       "      <td>7jvfS7fn7qx2HS3oMklAdw</td>\n",
       "      <td>FCKNYE Festival | Lyon's lauradubarry Weekly b...</td>\n",
       "      <td>2019</td>\n",
       "      <td>2019</td>\n",
       "      <td>0</td>\n",
       "      <td>0</td>\n",
       "      <td>1</td>\n",
       "      <td>[65hdAdd1skq94ecWH4vfJI, 0xh5kFdNkx6h7K1z7XpDq...</td>\n",
       "      <td>0.000000</td>\n",
       "      <td>[Lefa, Vald, Bon Entendeur, Isabelle Pierre, C...</td>\n",
       "      <td>{'Lefa': 1, 'Vald': 1, 'Bon Entendeur': 1, 'Is...</td>\n",
       "      <td>...</td>\n",
       "      <td>0</td>\n",
       "      <td>0</td>\n",
       "      <td>0</td>\n",
       "      <td>0</td>\n",
       "      <td>0</td>\n",
       "      <td>0</td>\n",
       "      <td>0</td>\n",
       "      <td>0</td>\n",
       "      <td>0</td>\n",
       "      <td>0</td>\n",
       "    </tr>\n",
       "    <tr>\n",
       "      <td>4IgAuc1ur86KtYZAEnD6Q3</td>\n",
       "      <td>Chill Beats and Coding</td>\n",
       "      <td>2018</td>\n",
       "      <td>2019</td>\n",
       "      <td>10</td>\n",
       "      <td>1</td>\n",
       "      <td>0</td>\n",
       "      <td>[0ftLDutf9cdHvGjZBxHZoE, 0zZIYr7bxWx4RMQx5k4R3...</td>\n",
       "      <td>1.041393</td>\n",
       "      <td>[Talkdemonic, Lymbyc Systym, Lymbyc Systym, Ly...</td>\n",
       "      <td>{'Talkdemonic': 1, 'Lymbyc Systym': 3, 'The Bo...</td>\n",
       "      <td>...</td>\n",
       "      <td>0</td>\n",
       "      <td>0</td>\n",
       "      <td>0</td>\n",
       "      <td>0</td>\n",
       "      <td>0</td>\n",
       "      <td>0</td>\n",
       "      <td>0</td>\n",
       "      <td>0</td>\n",
       "      <td>0</td>\n",
       "      <td>0</td>\n",
       "    </tr>\n",
       "    <tr>\n",
       "      <td>4LMlI2WnTGDqtKU8bTNGFS</td>\n",
       "      <td>For coding</td>\n",
       "      <td>2016</td>\n",
       "      <td>2019</td>\n",
       "      <td>0</td>\n",
       "      <td>1</td>\n",
       "      <td>0</td>\n",
       "      <td>[1dsCnboVpNoYfkbbr2EaoB, 7KXoG5CPXtt4n0oiY4gPt...</td>\n",
       "      <td>0.000000</td>\n",
       "      <td>[RAM, Armin van Buuren, Jennifer Rene, Chicane...</td>\n",
       "      <td>{'RAM': 1, 'Armin van Buuren': 2, 'Jennifer Re...</td>\n",
       "      <td>...</td>\n",
       "      <td>0</td>\n",
       "      <td>0</td>\n",
       "      <td>0</td>\n",
       "      <td>0</td>\n",
       "      <td>0</td>\n",
       "      <td>0</td>\n",
       "      <td>0</td>\n",
       "      <td>0</td>\n",
       "      <td>0</td>\n",
       "      <td>0</td>\n",
       "    </tr>\n",
       "    <tr>\n",
       "      <td>4g4D9ayX9v2YWVx1ciKMFh</td>\n",
       "      <td>Coding</td>\n",
       "      <td>2019</td>\n",
       "      <td>2019</td>\n",
       "      <td>0</td>\n",
       "      <td>1</td>\n",
       "      <td>0</td>\n",
       "      <td>[3nKxX6zfFneRwrQtC8mshP, 3PMsgFdVtCeTgjzE8X9TT...</td>\n",
       "      <td>0.000000</td>\n",
       "      <td>[PLÜM, Chelsea Cutler, Jeremy Zucker, filous, ...</td>\n",
       "      <td>{'PLÜM': 1, 'Chelsea Cutler': 1, 'Jeremy Zucke...</td>\n",
       "      <td>...</td>\n",
       "      <td>0</td>\n",
       "      <td>0</td>\n",
       "      <td>0</td>\n",
       "      <td>0</td>\n",
       "      <td>0</td>\n",
       "      <td>0</td>\n",
       "      <td>0</td>\n",
       "      <td>0</td>\n",
       "      <td>0</td>\n",
       "      <td>0</td>\n",
       "    </tr>\n",
       "    <tr>\n",
       "      <td>21iTXBzTLFliu8uQT6Espl</td>\n",
       "      <td>Programming</td>\n",
       "      <td>2019</td>\n",
       "      <td>2019</td>\n",
       "      <td>0</td>\n",
       "      <td>0</td>\n",
       "      <td>1</td>\n",
       "      <td>[5ZBemWNJFt6Ne1ay2vjVJD, 4bTpPZDWettH15QgNgRWr...</td>\n",
       "      <td>0.000000</td>\n",
       "      <td>[Rameses B, Phaera, TheFatRat, L'Indécis, Andr...</td>\n",
       "      <td>{'Rameses B': 1, 'Phaera': 1, 'TheFatRat': 1, ...</td>\n",
       "      <td>...</td>\n",
       "      <td>0</td>\n",
       "      <td>0</td>\n",
       "      <td>0</td>\n",
       "      <td>0</td>\n",
       "      <td>0</td>\n",
       "      <td>0</td>\n",
       "      <td>0</td>\n",
       "      <td>0</td>\n",
       "      <td>0</td>\n",
       "      <td>0</td>\n",
       "    </tr>\n",
       "    <tr>\n",
       "      <td>...</td>\n",
       "      <td>...</td>\n",
       "      <td>...</td>\n",
       "      <td>...</td>\n",
       "      <td>...</td>\n",
       "      <td>...</td>\n",
       "      <td>...</td>\n",
       "      <td>...</td>\n",
       "      <td>...</td>\n",
       "      <td>...</td>\n",
       "      <td>...</td>\n",
       "      <td>...</td>\n",
       "      <td>...</td>\n",
       "      <td>...</td>\n",
       "      <td>...</td>\n",
       "      <td>...</td>\n",
       "      <td>...</td>\n",
       "      <td>...</td>\n",
       "      <td>...</td>\n",
       "      <td>...</td>\n",
       "      <td>...</td>\n",
       "      <td>...</td>\n",
       "    </tr>\n",
       "    <tr>\n",
       "      <td>5rLHlv0Avd3mgbNmMDOnXv</td>\n",
       "      <td>Coding</td>\n",
       "      <td>2015</td>\n",
       "      <td>2019</td>\n",
       "      <td>0</td>\n",
       "      <td>1</td>\n",
       "      <td>0</td>\n",
       "      <td>[44K1GCbNLf1NHlCaLaYONk, 65eohvrL4ttjA7EfFkQOh...</td>\n",
       "      <td>0.000000</td>\n",
       "      <td>[Dance With the Dead, Scandroid, JAY Z, Linkin...</td>\n",
       "      <td>{'Dance With the Dead': 1, 'Scandroid': 1, 'JA...</td>\n",
       "      <td>...</td>\n",
       "      <td>0</td>\n",
       "      <td>0</td>\n",
       "      <td>0</td>\n",
       "      <td>0</td>\n",
       "      <td>0</td>\n",
       "      <td>0</td>\n",
       "      <td>0</td>\n",
       "      <td>0</td>\n",
       "      <td>0</td>\n",
       "      <td>0</td>\n",
       "    </tr>\n",
       "    <tr>\n",
       "      <td>1p5ZeMzXpkEHYuM8zy2j3e</td>\n",
       "      <td>metal coding</td>\n",
       "      <td>2018</td>\n",
       "      <td>2019</td>\n",
       "      <td>0</td>\n",
       "      <td>1</td>\n",
       "      <td>0</td>\n",
       "      <td>[5jJ7sOjvPrFDXOZbeXsVxa, 1Y373MqadDRtclJNdnUXV...</td>\n",
       "      <td>0.000000</td>\n",
       "      <td>[Sabaton, Black Sabbath, Rammstein, Powerwolf,...</td>\n",
       "      <td>{'Sabaton': 1, 'Black Sabbath': 1, 'Rammstein'...</td>\n",
       "      <td>...</td>\n",
       "      <td>0</td>\n",
       "      <td>0</td>\n",
       "      <td>0</td>\n",
       "      <td>0</td>\n",
       "      <td>0</td>\n",
       "      <td>0</td>\n",
       "      <td>0</td>\n",
       "      <td>0</td>\n",
       "      <td>0</td>\n",
       "      <td>0</td>\n",
       "    </tr>\n",
       "    <tr>\n",
       "      <td>7DiLUwsIPRhAwEiVnCu7oU</td>\n",
       "      <td>Coding/Programming/Hacking</td>\n",
       "      <td>2019</td>\n",
       "      <td>2019</td>\n",
       "      <td>1</td>\n",
       "      <td>1</td>\n",
       "      <td>1</td>\n",
       "      <td>[1V0bJe9zMshw82p3Hfu1cj, 51723ybY4gFTaLXZKaq1z...</td>\n",
       "      <td>0.301030</td>\n",
       "      <td>[FM Attack, Bryce Vine, Falling In Reverse, Ou...</td>\n",
       "      <td>{'FM Attack': 1, 'Bryce Vine': 1, 'Falling In ...</td>\n",
       "      <td>...</td>\n",
       "      <td>0</td>\n",
       "      <td>0</td>\n",
       "      <td>0</td>\n",
       "      <td>0</td>\n",
       "      <td>0</td>\n",
       "      <td>0</td>\n",
       "      <td>0</td>\n",
       "      <td>0</td>\n",
       "      <td>0</td>\n",
       "      <td>0</td>\n",
       "    </tr>\n",
       "    <tr>\n",
       "      <td>1eUtArGA9QdSphQLArbvF6</td>\n",
       "      <td>Coding Accelerator</td>\n",
       "      <td>2014</td>\n",
       "      <td>2018</td>\n",
       "      <td>4</td>\n",
       "      <td>1</td>\n",
       "      <td>0</td>\n",
       "      <td>[0pqnGHJpmpxLKifKRmU6WP, 1zB4vmk8tFRmM9UULNzbL...</td>\n",
       "      <td>0.698970</td>\n",
       "      <td>[Imagine Dragons, Imagine Dragons, Adam Gontie...</td>\n",
       "      <td>{'Imagine Dragons': 3, 'Adam Gontier': 1, 'Apo...</td>\n",
       "      <td>...</td>\n",
       "      <td>0</td>\n",
       "      <td>0</td>\n",
       "      <td>0</td>\n",
       "      <td>0</td>\n",
       "      <td>0</td>\n",
       "      <td>0</td>\n",
       "      <td>0</td>\n",
       "      <td>0</td>\n",
       "      <td>0</td>\n",
       "      <td>0</td>\n",
       "    </tr>\n",
       "    <tr>\n",
       "      <td>2Ytz7ABT8ffnQHo5frgSpq</td>\n",
       "      <td>acid coding</td>\n",
       "      <td>2019</td>\n",
       "      <td>2019</td>\n",
       "      <td>2</td>\n",
       "      <td>1</td>\n",
       "      <td>0</td>\n",
       "      <td>[1GZJu6ciZ55S8Kp1s8Z5ex, 40gB8TLrDzmUDX2a5fkjg...</td>\n",
       "      <td>0.477121</td>\n",
       "      <td>[Peggy Gou, ANNA, Jon Hopkins, Peggy Gou, Pegg...</td>\n",
       "      <td>{'Peggy Gou': 3, 'ANNA': 1, 'Jon Hopkins': 1, ...</td>\n",
       "      <td>...</td>\n",
       "      <td>0</td>\n",
       "      <td>0</td>\n",
       "      <td>0</td>\n",
       "      <td>0</td>\n",
       "      <td>0</td>\n",
       "      <td>0</td>\n",
       "      <td>0</td>\n",
       "      <td>0</td>\n",
       "      <td>0</td>\n",
       "      <td>0</td>\n",
       "    </tr>\n",
       "  </tbody>\n",
       "</table>\n",
       "<p>8513 rows × 4814 columns</p>\n",
       "</div>"
      ],
      "text/plain": [
       "                                                                     name  \\\n",
       "slug                                                                        \n",
       "7jvfS7fn7qx2HS3oMklAdw  FCKNYE Festival | Lyon's lauradubarry Weekly b...   \n",
       "4IgAuc1ur86KtYZAEnD6Q3                             Chill Beats and Coding   \n",
       "4LMlI2WnTGDqtKU8bTNGFS                                         For coding   \n",
       "4g4D9ayX9v2YWVx1ciKMFh                                             Coding   \n",
       "21iTXBzTLFliu8uQT6Espl                                        Programming   \n",
       "...                                                                   ...   \n",
       "5rLHlv0Avd3mgbNmMDOnXv                                             Coding   \n",
       "1p5ZeMzXpkEHYuM8zy2j3e                                       metal coding   \n",
       "7DiLUwsIPRhAwEiVnCu7oU                         Coding/Programming/Hacking   \n",
       "1eUtArGA9QdSphQLArbvF6                                 Coding Accelerator   \n",
       "2Ytz7ABT8ffnQHo5frgSpq                                        acid coding   \n",
       "\n",
       "                        init_year  last_year  followers  is_coding  \\\n",
       "slug                                                                 \n",
       "7jvfS7fn7qx2HS3oMklAdw       2019       2019          0          0   \n",
       "4IgAuc1ur86KtYZAEnD6Q3       2018       2019         10          1   \n",
       "4LMlI2WnTGDqtKU8bTNGFS       2016       2019          0          1   \n",
       "4g4D9ayX9v2YWVx1ciKMFh       2019       2019          0          1   \n",
       "21iTXBzTLFliu8uQT6Espl       2019       2019          0          0   \n",
       "...                           ...        ...        ...        ...   \n",
       "5rLHlv0Avd3mgbNmMDOnXv       2015       2019          0          1   \n",
       "1p5ZeMzXpkEHYuM8zy2j3e       2018       2019          0          1   \n",
       "7DiLUwsIPRhAwEiVnCu7oU       2019       2019          1          1   \n",
       "1eUtArGA9QdSphQLArbvF6       2014       2018          4          1   \n",
       "2Ytz7ABT8ffnQHo5frgSpq       2019       2019          2          1   \n",
       "\n",
       "                        is_programming  \\\n",
       "slug                                     \n",
       "7jvfS7fn7qx2HS3oMklAdw               1   \n",
       "4IgAuc1ur86KtYZAEnD6Q3               0   \n",
       "4LMlI2WnTGDqtKU8bTNGFS               0   \n",
       "4g4D9ayX9v2YWVx1ciKMFh               0   \n",
       "21iTXBzTLFliu8uQT6Espl               1   \n",
       "...                                ...   \n",
       "5rLHlv0Avd3mgbNmMDOnXv               0   \n",
       "1p5ZeMzXpkEHYuM8zy2j3e               0   \n",
       "7DiLUwsIPRhAwEiVnCu7oU               1   \n",
       "1eUtArGA9QdSphQLArbvF6               0   \n",
       "2Ytz7ABT8ffnQHo5frgSpq               0   \n",
       "\n",
       "                                                          playlist_tracks  \\\n",
       "slug                                                                        \n",
       "7jvfS7fn7qx2HS3oMklAdw  [65hdAdd1skq94ecWH4vfJI, 0xh5kFdNkx6h7K1z7XpDq...   \n",
       "4IgAuc1ur86KtYZAEnD6Q3  [0ftLDutf9cdHvGjZBxHZoE, 0zZIYr7bxWx4RMQx5k4R3...   \n",
       "4LMlI2WnTGDqtKU8bTNGFS  [1dsCnboVpNoYfkbbr2EaoB, 7KXoG5CPXtt4n0oiY4gPt...   \n",
       "4g4D9ayX9v2YWVx1ciKMFh  [3nKxX6zfFneRwrQtC8mshP, 3PMsgFdVtCeTgjzE8X9TT...   \n",
       "21iTXBzTLFliu8uQT6Espl  [5ZBemWNJFt6Ne1ay2vjVJD, 4bTpPZDWettH15QgNgRWr...   \n",
       "...                                                                   ...   \n",
       "5rLHlv0Avd3mgbNmMDOnXv  [44K1GCbNLf1NHlCaLaYONk, 65eohvrL4ttjA7EfFkQOh...   \n",
       "1p5ZeMzXpkEHYuM8zy2j3e  [5jJ7sOjvPrFDXOZbeXsVxa, 1Y373MqadDRtclJNdnUXV...   \n",
       "7DiLUwsIPRhAwEiVnCu7oU  [1V0bJe9zMshw82p3Hfu1cj, 51723ybY4gFTaLXZKaq1z...   \n",
       "1eUtArGA9QdSphQLArbvF6  [0pqnGHJpmpxLKifKRmU6WP, 1zB4vmk8tFRmM9UULNzbL...   \n",
       "2Ytz7ABT8ffnQHo5frgSpq  [1GZJu6ciZ55S8Kp1s8Z5ex, 40gB8TLrDzmUDX2a5fkjg...   \n",
       "\n",
       "                        log_followers  \\\n",
       "slug                                    \n",
       "7jvfS7fn7qx2HS3oMklAdw       0.000000   \n",
       "4IgAuc1ur86KtYZAEnD6Q3       1.041393   \n",
       "4LMlI2WnTGDqtKU8bTNGFS       0.000000   \n",
       "4g4D9ayX9v2YWVx1ciKMFh       0.000000   \n",
       "21iTXBzTLFliu8uQT6Espl       0.000000   \n",
       "...                               ...   \n",
       "5rLHlv0Avd3mgbNmMDOnXv       0.000000   \n",
       "1p5ZeMzXpkEHYuM8zy2j3e       0.000000   \n",
       "7DiLUwsIPRhAwEiVnCu7oU       0.301030   \n",
       "1eUtArGA9QdSphQLArbvF6       0.698970   \n",
       "2Ytz7ABT8ffnQHo5frgSpq       0.477121   \n",
       "\n",
       "                                                         playlist_artists  \\\n",
       "slug                                                                        \n",
       "7jvfS7fn7qx2HS3oMklAdw  [Lefa, Vald, Bon Entendeur, Isabelle Pierre, C...   \n",
       "4IgAuc1ur86KtYZAEnD6Q3  [Talkdemonic, Lymbyc Systym, Lymbyc Systym, Ly...   \n",
       "4LMlI2WnTGDqtKU8bTNGFS  [RAM, Armin van Buuren, Jennifer Rene, Chicane...   \n",
       "4g4D9ayX9v2YWVx1ciKMFh  [PLÜM, Chelsea Cutler, Jeremy Zucker, filous, ...   \n",
       "21iTXBzTLFliu8uQT6Espl  [Rameses B, Phaera, TheFatRat, L'Indécis, Andr...   \n",
       "...                                                                   ...   \n",
       "5rLHlv0Avd3mgbNmMDOnXv  [Dance With the Dead, Scandroid, JAY Z, Linkin...   \n",
       "1p5ZeMzXpkEHYuM8zy2j3e  [Sabaton, Black Sabbath, Rammstein, Powerwolf,...   \n",
       "7DiLUwsIPRhAwEiVnCu7oU  [FM Attack, Bryce Vine, Falling In Reverse, Ou...   \n",
       "1eUtArGA9QdSphQLArbvF6  [Imagine Dragons, Imagine Dragons, Adam Gontie...   \n",
       "2Ytz7ABT8ffnQHo5frgSpq  [Peggy Gou, ANNA, Jon Hopkins, Peggy Gou, Pegg...   \n",
       "\n",
       "                                                          artist_counters  \\\n",
       "slug                                                                        \n",
       "7jvfS7fn7qx2HS3oMklAdw  {'Lefa': 1, 'Vald': 1, 'Bon Entendeur': 1, 'Is...   \n",
       "4IgAuc1ur86KtYZAEnD6Q3  {'Talkdemonic': 1, 'Lymbyc Systym': 3, 'The Bo...   \n",
       "4LMlI2WnTGDqtKU8bTNGFS  {'RAM': 1, 'Armin van Buuren': 2, 'Jennifer Re...   \n",
       "4g4D9ayX9v2YWVx1ciKMFh  {'PLÜM': 1, 'Chelsea Cutler': 1, 'Jeremy Zucke...   \n",
       "21iTXBzTLFliu8uQT6Espl  {'Rameses B': 1, 'Phaera': 1, 'TheFatRat': 1, ...   \n",
       "...                                                                   ...   \n",
       "5rLHlv0Avd3mgbNmMDOnXv  {'Dance With the Dead': 1, 'Scandroid': 1, 'JA...   \n",
       "1p5ZeMzXpkEHYuM8zy2j3e  {'Sabaton': 1, 'Black Sabbath': 1, 'Rammstein'...   \n",
       "7DiLUwsIPRhAwEiVnCu7oU  {'FM Attack': 1, 'Bryce Vine': 1, 'Falling In ...   \n",
       "1eUtArGA9QdSphQLArbvF6  {'Imagine Dragons': 3, 'Adam Gontier': 1, 'Apo...   \n",
       "2Ytz7ABT8ffnQHo5frgSpq  {'Peggy Gou': 3, 'ANNA': 1, 'Jon Hopkins': 1, ...   \n",
       "\n",
       "                        ...  DJ Antoine  Compuphonic  John Adams  Opia  \\\n",
       "slug                    ...                                              \n",
       "7jvfS7fn7qx2HS3oMklAdw  ...           0            0           0     0   \n",
       "4IgAuc1ur86KtYZAEnD6Q3  ...           0            0           0     0   \n",
       "4LMlI2WnTGDqtKU8bTNGFS  ...           0            0           0     0   \n",
       "4g4D9ayX9v2YWVx1ciKMFh  ...           0            0           0     0   \n",
       "21iTXBzTLFliu8uQT6Espl  ...           0            0           0     0   \n",
       "...                     ...         ...          ...         ...   ...   \n",
       "5rLHlv0Avd3mgbNmMDOnXv  ...           0            0           0     0   \n",
       "1p5ZeMzXpkEHYuM8zy2j3e  ...           0            0           0     0   \n",
       "7DiLUwsIPRhAwEiVnCu7oU  ...           0            0           0     0   \n",
       "1eUtArGA9QdSphQLArbvF6  ...           0            0           0     0   \n",
       "2Ytz7ABT8ffnQHo5frgSpq  ...           0            0           0     0   \n",
       "\n",
       "                        Kings of Convenience  YUNGBLUD  Manatee Commune  \\\n",
       "slug                                                                      \n",
       "7jvfS7fn7qx2HS3oMklAdw                     0         0                0   \n",
       "4IgAuc1ur86KtYZAEnD6Q3                     0         0                0   \n",
       "4LMlI2WnTGDqtKU8bTNGFS                     0         0                0   \n",
       "4g4D9ayX9v2YWVx1ciKMFh                     0         0                0   \n",
       "21iTXBzTLFliu8uQT6Espl                     0         0                0   \n",
       "...                                      ...       ...              ...   \n",
       "5rLHlv0Avd3mgbNmMDOnXv                     0         0                0   \n",
       "1p5ZeMzXpkEHYuM8zy2j3e                     0         0                0   \n",
       "7DiLUwsIPRhAwEiVnCu7oU                     0         0                0   \n",
       "1eUtArGA9QdSphQLArbvF6                     0         0                0   \n",
       "2Ytz7ABT8ffnQHo5frgSpq                     0         0                0   \n",
       "\n",
       "                        Cigarettes After Sex  Modjo  The Cars  \n",
       "slug                                                           \n",
       "7jvfS7fn7qx2HS3oMklAdw                     0      0         0  \n",
       "4IgAuc1ur86KtYZAEnD6Q3                     0      0         0  \n",
       "4LMlI2WnTGDqtKU8bTNGFS                     0      0         0  \n",
       "4g4D9ayX9v2YWVx1ciKMFh                     0      0         0  \n",
       "21iTXBzTLFliu8uQT6Espl                     0      0         0  \n",
       "...                                      ...    ...       ...  \n",
       "5rLHlv0Avd3mgbNmMDOnXv                     0      0         0  \n",
       "1p5ZeMzXpkEHYuM8zy2j3e                     0      0         0  \n",
       "7DiLUwsIPRhAwEiVnCu7oU                     0      0         0  \n",
       "1eUtArGA9QdSphQLArbvF6                     0      0         0  \n",
       "2Ytz7ABT8ffnQHo5frgSpq                     0      0         0  \n",
       "\n",
       "[8513 rows x 4814 columns]"
      ]
     },
     "execution_count": 220,
     "metadata": {},
     "output_type": "execute_result"
    }
   ],
   "source": [
    "playlists_df.to_pickle(\"playlist\")"
   ]
  },
  {
   "cell_type": "code",
   "execution_count": 247,
   "metadata": {},
   "outputs": [],
   "source": [
    "playlists_df[[*playlists_df.columns[0:10], \"norm_followers\"]].to_pickle(\"playlists_lookup.pkl\")"
   ]
  },
  {
   "cell_type": "code",
   "execution_count": 251,
   "metadata": {},
   "outputs": [],
   "source": [
    "artists_df.to_pickle(\"artists_lookup.pkl\")"
   ]
  },
  {
   "cell_type": "code",
   "execution_count": 253,
   "metadata": {},
   "outputs": [],
   "source": [
    "tracks_df.to_pickle(\"tracks_lookup.pkl\")"
   ]
  },
  {
   "cell_type": "code",
   "execution_count": null,
   "metadata": {},
   "outputs": [],
   "source": []
  }
 ],
 "metadata": {
  "kernelspec": {
   "display_name": "Python 3",
   "language": "python",
   "name": "python3"
  },
  "language_info": {
   "codemirror_mode": {
    "name": "ipython",
    "version": 3
   },
   "file_extension": ".py",
   "mimetype": "text/x-python",
   "name": "python",
   "nbconvert_exporter": "python",
   "pygments_lexer": "ipython3",
   "version": "3.7.4"
  }
 },
 "nbformat": 4,
 "nbformat_minor": 2
}
