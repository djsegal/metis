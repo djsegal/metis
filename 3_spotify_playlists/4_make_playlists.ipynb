{
 "cells": [
  {
   "cell_type": "code",
   "execution_count": 1,
   "metadata": {},
   "outputs": [],
   "source": [
    "import pandas as pd\n",
    "from tqdm.auto import tqdm\n",
    "import numpy as np\n",
    "from slugify import slugify\n",
    "import ast\n",
    "from IPython.display import display, HTML\n",
    "import matplotlib.pyplot as plt\n",
    "import booleanize\n",
    "from sklearn.preprocessing import StandardScaler\n",
    "\n",
    "from sklearn.decomposition import PCA\n",
    "from sklearn.metrics import accuracy_score, confusion_matrix\n",
    "from sklearn.model_selection import train_test_split\n",
    "\n",
    "import pandas as pd\n",
    "from sklearn.feature_extraction.text import CountVectorizer \n",
    "from sklearn.decomposition import TruncatedSVD\n",
    "from sklearn.decomposition import NMF\n",
    "from sklearn.metrics.pairwise import cosine_similarity\n",
    "\n",
    "from scipy.stats import hmean\n",
    "from collections import defaultdict, Counter, OrderedDict\n",
    "from copy import deepcopy\n",
    "\n",
    "import math\n",
    "from ipywidgets import interact, interactive, fixed, interact_manual\n",
    "import ipywidgets as widgets\n",
    "\n",
    "import operator\n",
    "import functools\n",
    "\n",
    "import csv\n",
    "import random \n",
    "import reorder_list\n"
   ]
  },
  {
   "cell_type": "code",
   "execution_count": 2,
   "metadata": {},
   "outputs": [],
   "source": [
    "artists = pd.read_pickle(\"H.pkl\")\n",
    "playlists = pd.DataFrame.transpose(pd.read_pickle(\"W.pkl\"))\n",
    "\n",
    "artists = pd.DataFrame.divide(artists,np.max(artists,axis=1),axis=0)\n",
    "playlists = pd.DataFrame.divide(playlists,np.max(playlists,axis=1),axis=0)\n",
    "\n",
    "artists = artists ** (3/4)\n",
    "playlists = playlists ** (2/3)\n"
   ]
  },
  {
   "cell_type": "code",
   "execution_count": 3,
   "metadata": {},
   "outputs": [],
   "source": [
    "artists_df = pd.read_pickle(\"artists_lookup.pkl\")\n",
    "playlists_df = pd.read_pickle(\"playlists_lookup.pkl\")\n",
    "\n",
    "artists_df = artists_df.reset_index().set_index('name').loc[artists.columns].reset_index().set_index('id')\n",
    "playlists_df = playlists_df.loc[playlists.columns]\n"
   ]
  },
  {
   "cell_type": "code",
   "execution_count": 4,
   "metadata": {},
   "outputs": [],
   "source": [
    "tracks_df = pd.read_pickle(\"unique_tracks.pkl\")\n"
   ]
  },
  {
   "cell_type": "code",
   "execution_count": 5,
   "metadata": {},
   "outputs": [],
   "source": [
    "# tracks_df = pd.read_pickle(\"tracks_lookup.pkl\")\n",
    "# tracks_df[\"track_playlists\"] = [ [] for _ in range(len(tracks_df)) ]\n",
    "\n",
    "# for cur_playlist_slug, track_slug_list in playlists_df[\"playlist_tracks\"].iteritems():\n",
    "#     for cur_track_slug in track_slug_list:\n",
    "#         try:\n",
    "#             tracks_df[\"track_playlists\"].loc[cur_track_slug].append(cur_playlist_slug)\n",
    "#         except:\n",
    "#             print(playlists_df.name.loc[cur_playlist_slug], cur_track_slug)\n"
   ]
  },
  {
   "cell_type": "code",
   "execution_count": 6,
   "metadata": {},
   "outputs": [],
   "source": [
    "# work_tracks = tracks_df.copy()\n",
    "\n",
    "# work_tracks[\"sort_name\"] = work_tracks.name.str.lower().str.replace(\"\\s\", \"\")\n",
    "\n",
    "# work_tracks[\"sort_track_artists\"] = work_tracks[\"track_artists\"].copy()\n",
    "\n",
    "# map(lambda work_artists: work_artists.sort(), work_tracks[\"sort_track_artists\"])\n",
    "\n",
    "# work_tracks[\"sort_track_artists\"] = list(map(tuple, work_tracks[\"sort_track_artists\"]))\n",
    "\n",
    "# work_tracks = work_tracks[work_tracks.duplicated(subset=[\"sort_name\", \"sort_track_artists\"], keep=False)].sort_values(by=\"name\")\n",
    "\n",
    "# unique_keys = set(list(map(tuple,\n",
    "#    work_tracks[[\"sort_name\", \"sort_track_artists\"]].values.tolist()\n",
    "# )))\n"
   ]
  },
  {
   "cell_type": "code",
   "execution_count": 7,
   "metadata": {},
   "outputs": [],
   "source": [
    "# for cur_name, cur_artists in tqdm(unique_keys):\n",
    "#     sub_tracks = tracks_df.loc[work_tracks[\n",
    "#         ( work_tracks.sort_name == cur_name ) &\n",
    "#         ( work_tracks.sort_track_artists == cur_artists )\n",
    "#     ].index]\n",
    "    \n",
    "#     max_index = sub_tracks.track_playlists.map(lambda work_playlist: len(work_playlist)).idxmax()\n",
    "#     new_playlists = list(set(functools.reduce(operator.concat, sub_tracks.track_playlists)))\n",
    "\n",
    "#     for work_track in sub_tracks.itertuples():\n",
    "#         work_track.track_playlists.clear()\n",
    "        \n",
    "#         if work_track.Index != max_index : continue\n",
    "#         work_track.track_playlists.extend(new_playlists)\n",
    "    \n",
    "# tracks_df.to_pickle(\"unique_tracks.pkl\")\n"
   ]
  },
  {
   "cell_type": "code",
   "execution_count": 8,
   "metadata": {},
   "outputs": [
    {
     "name": "stdout",
     "output_type": "stream",
     "text": [
      "clusters count: 75\n",
      "-------------------\n",
      "\n",
      "artists count: 4803\n",
      "playlists count: 8513\n"
     ]
    }
   ],
   "source": [
    "component_names = artists.index.tolist()\n",
    "assert component_names == playlists.index.tolist()\n",
    "\n",
    "n_clusters = len(artists.index)\n",
    "assert n_clusters == len(playlists.index)\n",
    "\n",
    "n_artists = len(artists.columns)\n",
    "n_playlists = len(playlists.columns)\n",
    "\n",
    "print(\"clusters count:\", n_clusters)\n",
    "print(\"-------------------\\n\")\n",
    "\n",
    "print(\"artists count:\", n_artists)\n",
    "print(\"playlists count:\", n_playlists)\n"
   ]
  },
  {
   "cell_type": "code",
   "execution_count": 9,
   "metadata": {},
   "outputs": [],
   "source": [
    "cur_map = {\n",
    "    1: 74, 2: 60, 3: 59, 4: 46, 5: 72, 6: 75, 7: 36, 8: 67, \n",
    "    9: 48, 10: 73, 11: 65, 12: 11, 13: 57, 14: 43, 15: 52, \n",
    "    16: 34, 17: 17, 18: 69, 19: 30, 20: 71, 21: 54, 22: 68, \n",
    "    23: 70, 24: 23, 25: 47, 26: 64, 27: 58, 28: 66, 29: 32, \n",
    "    30: 22, 31: 44, 32: 7, 33: 61, 34: 33, 35: 38, 36: 50, \n",
    "    37: 51, 38: 45, 39: 14, 40: 6, 41: 35, 42: 8, 43: 3, \n",
    "    44: 26, 45: 5, 46: 62, 47: 13, 48: 41, 49: 18, 50: 53, \n",
    "    51: 28, 52: 27, 53: 37, 54: 63, 55: 39, 56: 9, 57: 4, \n",
    "    58: 24, 59: 25, 60: 31, 61: 21, 62: 42, 63: 55, 64: 15, \n",
    "    65: 49, 66: 56, 67: 40, 68: 1, 69: 29, 70: 2, 71: 20, \n",
    "    72: 10, 73: 12, 74: 16, 75: 19\n",
    "}\n",
    "\n",
    "label_dict = {\n",
    "    1: \"house (2605, daft punk)\",\n",
    "    2: \"pop (1713, marshmello)\",\n",
    "    3: \"soundtracks (1219, hans zimmer)\",\n",
    "    5: \"downtempo (1160, air)\",\n",
    "    7: \"electronic (1083, moby)\",\n",
    "    8: \"cyberpunk (1051, perturbator)\",\n",
    "    12: \"chill (931, tycho)\",\n",
    "    14: \"abstract (887, chilly gonzales)\",\n",
    "    15: \"geeky (858, rush)\",\n",
    "    16: \"edm (844, tiesto)\",\n",
    "    17: \"dance pop (841, beyonce)\",\n",
    "    18: \"hard rock (837, metallica)\",\n",
    "    19: \"indie (835, phoenix)\",\n",
    "    21: \"hip hop (818, nas)\",\n",
    "    22: \"chillhop (816, nujabes)\",\n",
    "    23: \"metal (805, slipknot)\",\n",
    "    24: \"modern rock (796, oasis)\",\n",
    "    30: \"classic rock (709, beatles)\",\n",
    "    34: \"90s rap (685, 2pac)\",\n",
    "    37: \"ambient (611, album leaf)\",\n",
    "    39: \"drum and bass (609, griz)\",\n",
    "    40: \"pop punk (608, weezer)\",\n",
    "    42: \"dubstep (567, skrillex)\",\n",
    "    47: \"modern rap (538, drake)\",\n",
    "    51: \"classical (491, mozart)\",\n",
    "    55: \"chillwave (412, washed out)\",\n",
    "    61: \"indietronica (358, the xx)\",\n",
    "    62: \"nu jazz (345, zero 7)\"\n",
    "}\n",
    "\n",
    "label_dict = dict( \n",
    "    (f\"component_{cur_map[k]}\", v) for (k, v) in label_dict.items() \n",
    ")\n"
   ]
  },
  {
   "cell_type": "code",
   "execution_count": 10,
   "metadata": {},
   "outputs": [],
   "source": [
    "artists.rename(index=label_dict, inplace=True)\n",
    "playlists.rename(index=label_dict, inplace=True)\n",
    "\n",
    "drop_rows = [ component_name for component_name in component_names if component_name in artists.index ]\n",
    "\n",
    "artists.drop(drop_rows, inplace=True)\n",
    "playlists.drop(drop_rows, inplace=True)\n",
    "\n",
    "assert artists.index.tolist() == playlists.index.tolist()\n"
   ]
  },
  {
   "cell_type": "code",
   "execution_count": 11,
   "metadata": {},
   "outputs": [],
   "source": [
    "def flatten(cur_list):\n",
    "    return [item for sublist in cur_list for item in sublist]\n"
   ]
  },
  {
   "cell_type": "code",
   "execution_count": 12,
   "metadata": {
    "scrolled": false
   },
   "outputs": [
    {
     "name": "stdout",
     "output_type": "stream",
     "text": [
      "pop punk (608, weezer)\n"
     ]
    },
    {
     "data": {
      "application/vnd.jupyter.widget-view+json": {
       "model_id": "a9ce54df9fc2400d902e687ab7fd91ee",
       "version_major": 2,
       "version_minor": 0
      },
      "text/plain": [
       "HBox(children=(IntProgress(value=0, max=520141), HTML(value='')))"
      ]
     },
     "metadata": {},
     "output_type": "display_data"
    },
    {
     "name": "stdout",
     "output_type": "stream",
     "text": [
      "\n",
      "['7yCPwWs66K8Ba5lFuU2bcx', '6L89mwZXSOwYl76YXfX13s', '3Zwu2K0Qa5sT6teCCHPShP', '5wQnmLuC1W7ATsArWACrgW', '2TfSHkHiFO4gRztVIkggkE', '6nTiIhLmQ3FWhvrGafw2zj', '1oTo3ijRbaDAtrjJrGAPSw', '60a0Rd6pjrkxjPbaKzXjfq']\n",
      "['7yCPwWs66K8Ba5lFuU2bcx', '6L89mwZXSOwYl76YXfX13s', '3Zwu2K0Qa5sT6teCCHPShP', '5wQnmLuC1W7ATsArWACrgW', '6nTiIhLmQ3FWhvrGafw2zj', '2TfSHkHiFO4gRztVIkggkE', '1oTo3ijRbaDAtrjJrGAPSw', '60a0Rd6pjrkxjPbaKzXjfq']\n",
      "dubstep (567, skrillex)\n"
     ]
    },
    {
     "data": {
      "application/vnd.jupyter.widget-view+json": {
       "model_id": "1291d9be82194dbbb9c9a17c0ed97c3b",
       "version_major": 2,
       "version_minor": 0
      },
      "text/plain": [
       "HBox(children=(IntProgress(value=0, max=520141), HTML(value='')))"
      ]
     },
     "metadata": {},
     "output_type": "display_data"
    },
    {
     "name": "stdout",
     "output_type": "stream",
     "text": [
      "\n",
      "['6VRhkROS2SZHGlp0pxndbJ', '0QIYINh2AwmOmdu8CRYvlw', '03EuhmMsEHVFI9ytainStU', '47r2YKldN36ykegWkciO0E', '5i7fZq3chLyCHo3VeB6goD', '4rwpZEcnalkuhPyGkEdhu0', '0u2AIKDVafHwCFQ9LDnqxH', '4A7qcJp2Sg867JST1pSPJz']\n",
      "['6VRhkROS2SZHGlp0pxndbJ', '0QIYINh2AwmOmdu8CRYvlw', '03EuhmMsEHVFI9ytainStU', '47r2YKldN36ykegWkciO0E', '5i7fZq3chLyCHo3VeB6goD', '0u2AIKDVafHwCFQ9LDnqxH', '4A7qcJp2Sg867JST1pSPJz', '4rwpZEcnalkuhPyGkEdhu0']\n",
      "chill (931, tycho)\n"
     ]
    },
    {
     "data": {
      "application/vnd.jupyter.widget-view+json": {
       "model_id": "555d5f57976c4c04a71392b3bb9c42f4",
       "version_major": 2,
       "version_minor": 0
      },
      "text/plain": [
       "HBox(children=(IntProgress(value=0, max=520141), HTML(value='')))"
      ]
     },
     "metadata": {},
     "output_type": "display_data"
    },
    {
     "name": "stdout",
     "output_type": "stream",
     "text": [
      "\n",
      "['2qC1sUo8xxRRqYsaYEdDuZ', '2SPTGg9SC5MT1FwNX4IYfx', '2lJ4d8MCT6ZlDRHKJ1br14', '4IUgpL0CgSiloUOHzgd6Qe', '6koWevx9MqN6efQ6qreIbm', '7EE7jbv7Dv8ZkyWBlKhPXX', '6DsGpDGIDRv8EFGgW10T1p', '6WuZeRJ8RWPdNgtqLNqn4F']\n",
      "['2qC1sUo8xxRRqYsaYEdDuZ', '2SPTGg9SC5MT1FwNX4IYfx', '2lJ4d8MCT6ZlDRHKJ1br14', '4IUgpL0CgSiloUOHzgd6Qe', '6koWevx9MqN6efQ6qreIbm', '6DsGpDGIDRv8EFGgW10T1p', '7Cg3F9ZsZ2TYUnlza49NYh', '7EE7jbv7Dv8ZkyWBlKhPXX']\n",
      "modern rap (538, drake)\n"
     ]
    },
    {
     "data": {
      "application/vnd.jupyter.widget-view+json": {
       "model_id": "6f29959fdbd44b62a1db97aca96aee8d",
       "version_major": 2,
       "version_minor": 0
      },
      "text/plain": [
       "HBox(children=(IntProgress(value=0, max=520141), HTML(value='')))"
      ]
     },
     "metadata": {},
     "output_type": "display_data"
    },
    {
     "name": "stdout",
     "output_type": "stream",
     "text": [
      "\n",
      "['2xLMifQCjDGFmkHkpNLD9h', '3KkXRkHbMCARz0aVfEt68P', '7KXjTSCq5nL1LoYtL7XAwS', '6DCZcSspjsKoFjzjrWoCdn', '0TlLq3lA83rQOYtrqBqSct', '2IRZnDFmlqMuOrYOLnZZyc', '7dt6x5M1jzdTEt8oCbisTK', '3swc6WTsr7rl9DqQKQA55C']\n",
      "['2xLMifQCjDGFmkHkpNLD9h', '3KkXRkHbMCARz0aVfEt68P', '7KXjTSCq5nL1LoYtL7XAwS', '6DCZcSspjsKoFjzjrWoCdn', '0TlLq3lA83rQOYtrqBqSct', '2IRZnDFmlqMuOrYOLnZZyc', '7dt6x5M1jzdTEt8oCbisTK', '3swc6WTsr7rl9DqQKQA55C']\n",
      "drum and bass (609, griz)\n"
     ]
    },
    {
     "data": {
      "application/vnd.jupyter.widget-view+json": {
       "model_id": "42144f977bc848ca87b3f010e89afc40",
       "version_major": 2,
       "version_minor": 0
      },
      "text/plain": [
       "HBox(children=(IntProgress(value=0, max=520141), HTML(value='')))"
      ]
     },
     "metadata": {},
     "output_type": "display_data"
    },
    {
     "name": "stdout",
     "output_type": "stream",
     "text": [
      "\n",
      "['6ZDk3PGFkRKGgk6aSkw2T9', '2qC1sUo8xxRRqYsaYEdDuZ', '4GhRCSt1NJIK0osyhRS0H8', '0UyVE05FYhn5eNBSGgQU24', '113SF8M5L7kuEfReO3dHkB', '46rHbyVwhG444QaWb9dSyL', '6iaYyGja9GoGCIo8tdyOL6', '7fI6drw7UkODIZo0se2GeZ']\n",
      "['6ZDk3PGFkRKGgk6aSkw2T9', '2qC1sUo8xxRRqYsaYEdDuZ', '4GhRCSt1NJIK0osyhRS0H8', '0UyVE05FYhn5eNBSGgQU24', '113SF8M5L7kuEfReO3dHkB', '46rHbyVwhG444QaWb9dSyL', '6iaYyGja9GoGCIo8tdyOL6', '7fI6drw7UkODIZo0se2GeZ']\n",
      "dance pop (841, beyonce)\n"
     ]
    },
    {
     "data": {
      "application/vnd.jupyter.widget-view+json": {
       "model_id": "c0711e0fe8a94251980602b6639ce0d4",
       "version_major": 2,
       "version_minor": 0
      },
      "text/plain": [
       "HBox(children=(IntProgress(value=0, max=520141), HTML(value='')))"
      ]
     },
     "metadata": {},
     "output_type": "display_data"
    },
    {
     "name": "stdout",
     "output_type": "stream",
     "text": [
      "\n",
      "['0azC730Exh71aQlOt9Zj3y', '32OlwWuMpZ6b0aN2RZOeMS', '4lCv7b86sLynZbXhfScfm2', '7LcfRTgAVTs5pQGEQgUEzN', '5jrdCoLpJSvHHorevXBATy', '2iuZJX9X9P0GKaE93xcPjk', '15JINEqzVMv3SvJTAXAKED', '6F5c58TMEs1byxUstkzVeM']\n",
      "['0azC730Exh71aQlOt9Zj3y', '32OlwWuMpZ6b0aN2RZOeMS', '4lCv7b86sLynZbXhfScfm2', '7LcfRTgAVTs5pQGEQgUEzN', '5jrdCoLpJSvHHorevXBATy', '2iuZJX9X9P0GKaE93xcPjk', '15JINEqzVMv3SvJTAXAKED', '6F5c58TMEs1byxUstkzVeM']\n",
      "indietronica (358, the xx)\n"
     ]
    },
    {
     "data": {
      "application/vnd.jupyter.widget-view+json": {
       "model_id": "150755ea942944e6bf5c94d0abf7f155",
       "version_major": 2,
       "version_minor": 0
      },
      "text/plain": [
       "HBox(children=(IntProgress(value=0, max=520141), HTML(value='')))"
      ]
     },
     "metadata": {},
     "output_type": "display_data"
    },
    {
     "name": "stdout",
     "output_type": "stream",
     "text": [
      "\n",
      "['65gjEjrifNIm9MzuEhMoFs', '7766vcdq2TaEvZi3IVTbLe', '0AVzhaaOaGgdyXJ2orgfwC', '2MddqD0MryxIAKS03raHsz', '2u2SAHOv1yKVHpBIYSsqK1', '6mt99V7JMpSsVAncEAp4sV', '2MzHZfxtIiPr1eng9i7Cws', '7gMDfl8u2nmBoEgvOmGnUh']\n",
      "['65gjEjrifNIm9MzuEhMoFs', '7766vcdq2TaEvZi3IVTbLe', '0AVzhaaOaGgdyXJ2orgfwC', '2MddqD0MryxIAKS03raHsz', '2u2SAHOv1yKVHpBIYSsqK1', '2MzHZfxtIiPr1eng9i7Cws', '5KeyVNymqfqac1wLDseK8v', '6mt99V7JMpSsVAncEAp4sV']\n",
      "classic rock (709, beatles)\n"
     ]
    },
    {
     "data": {
      "application/vnd.jupyter.widget-view+json": {
       "model_id": "aa9f062743884376adabf74cf78cbfdc",
       "version_major": 2,
       "version_minor": 0
      },
      "text/plain": [
       "HBox(children=(IntProgress(value=0, max=520141), HTML(value='')))"
      ]
     },
     "metadata": {},
     "output_type": "display_data"
    },
    {
     "name": "stdout",
     "output_type": "stream",
     "text": [
      "\n",
      "['5T8EDUDqKcs6OSOwEsfqG7', '40riOy7x9W7GXjyGp4pjAv', '2374M0fQpWi3dLnB54qaLX', '4bHsxqR3GMrXTxEPLuK5ue', '1AhDOtG9vPSOmsWgNW0BEY', '2fuCquhmrzHpu5xcA1ci9x', '7e89621JPkKaeDSTQ3avtg', '70C4NyhjD5OZUMzvWZ3njJ']\n",
      "['5T8EDUDqKcs6OSOwEsfqG7', '40riOy7x9W7GXjyGp4pjAv', '2374M0fQpWi3dLnB54qaLX', '4bHsxqR3GMrXTxEPLuK5ue', '1AhDOtG9vPSOmsWgNW0BEY', '2fuCquhmrzHpu5xcA1ci9x', '70C4NyhjD5OZUMzvWZ3njJ', '7e89621JPkKaeDSTQ3avtg']\n",
      "modern rock (796, oasis)\n"
     ]
    },
    {
     "data": {
      "application/vnd.jupyter.widget-view+json": {
       "model_id": "a0d93a8002214dfdba9426827fe3dcf8",
       "version_major": 2,
       "version_minor": 0
      },
      "text/plain": [
       "HBox(children=(IntProgress(value=0, max=520141), HTML(value='')))"
      ]
     },
     "metadata": {},
     "output_type": "display_data"
    },
    {
     "name": "stdout",
     "output_type": "stream",
     "text": [
      "\n",
      "['5FVd6KXrgO9B3JPmC8OPst', '1f3yAtsJtY87CTmM8RLnxf', '48UPSzbZjgc449aqz8bxox', '6b2oQwSGFkzsMtQruIWm2p', '3d9DChrdc6BOeFsbrZ3Is0', '3m6KkYKdnbffMpGd9Pm9FP', '64BbK9SFKH2jk86U3dGj2P', '2x8evxqUlF0eRabbW2JBJd']\n",
      "['5FVd6KXrgO9B3JPmC8OPst', '1f3yAtsJtY87CTmM8RLnxf', '48UPSzbZjgc449aqz8bxox', '6b2oQwSGFkzsMtQruIWm2p', '3m6KkYKdnbffMpGd9Pm9FP', '3d9DChrdc6BOeFsbrZ3Is0', '2x8evxqUlF0eRabbW2JBJd', '7oK9VyNzrYvRFo7nQEYkWN']\n",
      "classical (491, mozart)\n"
     ]
    },
    {
     "data": {
      "application/vnd.jupyter.widget-view+json": {
       "model_id": "638ac94608ae46ffbaa7912a9f24f49f",
       "version_major": 2,
       "version_minor": 0
      },
      "text/plain": [
       "HBox(children=(IntProgress(value=0, max=520141), HTML(value='')))"
      ]
     },
     "metadata": {},
     "output_type": "display_data"
    },
    {
     "name": "stdout",
     "output_type": "stream",
     "text": [
      "\n",
      "['17i5jLpzndlQhbS4SrTd0B', '6MQAB3vorg90FA3tQpbYXK', '7n92QzQomRCLlciO14X0kd', '4rjnWmrSRqXVkFWdKMG3pV', '3DNRdudZ2SstnDCVKFdXxG', '2xizRhme7pYeITbH1NLLGt', '4GRDiNU8fkizXz4rDX9gS5', '0CJuLeZpCdqrqoCMXWZw8k']\n",
      "['17i5jLpzndlQhbS4SrTd0B', '6MQAB3vorg90FA3tQpbYXK', '7n92QzQomRCLlciO14X0kd', '4rjnWmrSRqXVkFWdKMG3pV', '3DNRdudZ2SstnDCVKFdXxG', '2xizRhme7pYeITbH1NLLGt', '4GRDiNU8fkizXz4rDX9gS5', '0CJuLeZpCdqrqoCMXWZw8k']\n",
      "indie (835, phoenix)\n"
     ]
    },
    {
     "data": {
      "application/vnd.jupyter.widget-view+json": {
       "model_id": "e8af0045267f44cea45d09990a42f042",
       "version_major": 2,
       "version_minor": 0
      },
      "text/plain": [
       "HBox(children=(IntProgress(value=0, max=520141), HTML(value='')))"
      ]
     },
     "metadata": {},
     "output_type": "display_data"
    },
    {
     "name": "stdout",
     "output_type": "stream",
     "text": [
      "\n",
      "['7w87IxuO7BDcJ3YUqCyMTT', '3CRDbSIZ4r5MsZ0YwxuEkn', '6jrMVRReY24qzCfe1BRrww', '6QgjcU0zLnzq5OrUoSZ3OK', '3n69hLUdIsSa1WlRmjMZlW', '6K4t31amVTZDgR3sKmwUJJ', '2ihCaVdNZmnHZWt0fvAM7B', '5FVd6KXrgO9B3JPmC8OPst']\n",
      "['7w87IxuO7BDcJ3YUqCyMTT', '3CRDbSIZ4r5MsZ0YwxuEkn', '6jrMVRReY24qzCfe1BRrww', '6QgjcU0zLnzq5OrUoSZ3OK', '3n69hLUdIsSa1WlRmjMZlW', '6K4t31amVTZDgR3sKmwUJJ', '2ihCaVdNZmnHZWt0fvAM7B', '5FVd6KXrgO9B3JPmC8OPst']\n",
      "90s rap (685, 2pac)\n"
     ]
    },
    {
     "data": {
      "application/vnd.jupyter.widget-view+json": {
       "model_id": "feaa6568212a46e1bfea4c6d4f96e877",
       "version_major": 2,
       "version_minor": 0
      },
      "text/plain": [
       "HBox(children=(IntProgress(value=0, max=520141), HTML(value='')))"
      ]
     },
     "metadata": {},
     "output_type": "display_data"
    },
    {
     "name": "stdout",
     "output_type": "stream",
     "text": [
      "\n",
      "['4xkOaSrkexMciUUogZKVTS', '6ltPEsP4edATzvinHOzvk2', '7dyluIqv7QYVTXXZiMWPHW', '4RY96Asd9IefaL3X4LOLZ8', '5Z01UMMf7V1o0MzF86s6WJ', '7lQ8MOhq6IN2w8EYcFNSUk', '20LxTsa6936zOlzTWqoPVt', '3djNBlI7xOggg7pnsOLaNm']\n",
      "['4xkOaSrkexMciUUogZKVTS', '6ltPEsP4edATzvinHOzvk2', '7dyluIqv7QYVTXXZiMWPHW', '4RY96Asd9IefaL3X4LOLZ8', '5Z01UMMf7V1o0MzF86s6WJ', '20LxTsa6936zOlzTWqoPVt', '3djNBlI7xOggg7pnsOLaNm', '7lQ8MOhq6IN2w8EYcFNSUk']\n",
      "edm (844, tiesto)\n"
     ]
    },
    {
     "data": {
      "application/vnd.jupyter.widget-view+json": {
       "model_id": "adb08bfb0f264e6f95721de57f7e8717",
       "version_major": 2,
       "version_minor": 0
      },
      "text/plain": [
       "HBox(children=(IntProgress(value=0, max=520141), HTML(value='')))"
      ]
     },
     "metadata": {},
     "output_type": "display_data"
    },
    {
     "name": "stdout",
     "output_type": "stream",
     "text": [
      "\n",
      "['1UPyhGntpIx9jGJ5UVtKVS', '0VffaI2jwQknRrxpECYHsF', '6RnkFd8Fqqgk1Uni8RgqCQ', '69zxj1EFDfAouZu9JDmQld', '7qfwcqfGOkQYtzjF4UzJHM', '0ct6r3EGTcMLPtrXHDvVjc', '4RXpgGM7A4Hg7cFBoH5KyF', '5L2l7mI8J1USMzhsmdjat9']\n",
      "['1UPyhGntpIx9jGJ5UVtKVS', '0VffaI2jwQknRrxpECYHsF', '6RnkFd8Fqqgk1Uni8RgqCQ', '69zxj1EFDfAouZu9JDmQld', '0ct6r3EGTcMLPtrXHDvVjc', '7qfwcqfGOkQYtzjF4UzJHM', '5L2l7mI8J1USMzhsmdjat9', '4RXpgGM7A4Hg7cFBoH5KyF']\n",
      "electronic (1083, moby)\n"
     ]
    },
    {
     "data": {
      "application/vnd.jupyter.widget-view+json": {
       "model_id": "241bdb5e56a44944bbd9d259dfa026a3",
       "version_major": 2,
       "version_minor": 0
      },
      "text/plain": [
       "HBox(children=(IntProgress(value=0, max=520141), HTML(value='')))"
      ]
     },
     "metadata": {},
     "output_type": "display_data"
    },
    {
     "name": "stdout",
     "output_type": "stream",
     "text": [
      "\n",
      "['5FCyoZGaN6nRod1oNDJIWZ', '6l0LbTF2V77M3LPpcOBmqX', '2wPFy7SAFnt9Nj2TipWcqb', '49BcSQZdDAKwXCv4KWLoM3', '1GTPxha6U7x9ElVxkQw3OK', '3tehrxZR8eaANHov4cEctL', '7kXmJwrZGIhDaLT9sNo3ut', '7xQYVjs4wZNdCwO0EeAWMC']\n",
      "['5FCyoZGaN6nRod1oNDJIWZ', '6l0LbTF2V77M3LPpcOBmqX', '2wPFy7SAFnt9Nj2TipWcqb', '49BcSQZdDAKwXCv4KWLoM3', '1GTPxha6U7x9ElVxkQw3OK', '7kXmJwrZGIhDaLT9sNo3ut', '7xQYVjs4wZNdCwO0EeAWMC', '3tehrxZR8eaANHov4cEctL']\n",
      "chillwave (412, washed out)\n"
     ]
    },
    {
     "data": {
      "application/vnd.jupyter.widget-view+json": {
       "model_id": "2c1c0fa336a54d0faded4e39a02dbf16",
       "version_major": 2,
       "version_minor": 0
      },
      "text/plain": [
       "HBox(children=(IntProgress(value=0, max=520141), HTML(value='')))"
      ]
     },
     "metadata": {},
     "output_type": "display_data"
    },
    {
     "name": "stdout",
     "output_type": "stream",
     "text": [
      "\n",
      "['2LTIrVBonJJLQHAjw41b28', '0BJTbkmrB2Y4E9M8qVzbYZ', '3ZGHAc7tq5CQzfK7HsobCa', '1RiuVQWyC7g7tL3niYzHKP', '1BltsyC5W3SAABdxyrDXwi', '1snNAXmmPXCn0dkF9DaPWw', '6b7z3keZ5gDJ2zBnyrke9P', '3pvMAdmkEnMjhxY6lFkawT']\n",
      "['2LTIrVBonJJLQHAjw41b28', '0BJTbkmrB2Y4E9M8qVzbYZ', '3ZGHAc7tq5CQzfK7HsobCa', '1RiuVQWyC7g7tL3niYzHKP', '1BltsyC5W3SAABdxyrDXwi', '1snNAXmmPXCn0dkF9DaPWw', '6b7z3keZ5gDJ2zBnyrke9P', '3pvMAdmkEnMjhxY6lFkawT']\n",
      "nu jazz (345, zero 7)\n"
     ]
    },
    {
     "data": {
      "application/vnd.jupyter.widget-view+json": {
       "model_id": "52c7f2089cf34c7ca0f14826cc16dc37",
       "version_major": 2,
       "version_minor": 0
      },
      "text/plain": [
       "HBox(children=(IntProgress(value=0, max=520141), HTML(value='')))"
      ]
     },
     "metadata": {},
     "output_type": "display_data"
    },
    {
     "name": "stdout",
     "output_type": "stream",
     "text": [
      "\n",
      "['3BuMIuYew5zvhp60g2fZsU', '6tEaLXZlN8b71vWV1SSsRf', '488E8BWYDCDrL6vunOAzPy', '5jaq9QBRDOUP66t3K0DlA6', '1wiwucQCEeXKVKeL63vVj1', '0BSJ1iQEmGibLCPMHGtdo7', '67Hna13dNDkZvBpTXRIaOJ', '5mf8jY9FsGCAuWwJMmKIzF']\n",
      "['3BuMIuYew5zvhp60g2fZsU', '6tEaLXZlN8b71vWV1SSsRf', '488E8BWYDCDrL6vunOAzPy', '5jaq9QBRDOUP66t3K0DlA6', '0BSJ1iQEmGibLCPMHGtdo7', '67Hna13dNDkZvBpTXRIaOJ', '1wiwucQCEeXKVKeL63vVj1', '5mf8jY9FsGCAuWwJMmKIzF']\n",
      "abstract (887, chilly gonzales)\n"
     ]
    },
    {
     "data": {
      "application/vnd.jupyter.widget-view+json": {
       "model_id": "1e2c862642c343fa82052146d35c9c90",
       "version_major": 2,
       "version_minor": 0
      },
      "text/plain": [
       "HBox(children=(IntProgress(value=0, max=520141), HTML(value='')))"
      ]
     },
     "metadata": {},
     "output_type": "display_data"
    },
    {
     "name": "stdout",
     "output_type": "stream",
     "text": [
      "\n",
      "['2lJ4d8MCT6ZlDRHKJ1br14', '1RiuVQWyC7g7tL3niYzHKP', '67NoL59qSZbk6dzmxJPvU7', '0Ip2pWYQmo8NUxKql20QPk', '5gUhWFZCwtxk78xGfAluBQ', '2ztzeB2k8jrwA6y8wCw7kk', '7Cg3F9ZsZ2TYUnlza49NYh', '2ZIaH69kaz55RM4Pjx6KXl']\n",
      "['2lJ4d8MCT6ZlDRHKJ1br14', '1RiuVQWyC7g7tL3niYzHKP', '67NoL59qSZbk6dzmxJPvU7', '0Ip2pWYQmo8NUxKql20QPk', '5gUhWFZCwtxk78xGfAluBQ', '7Cg3F9ZsZ2TYUnlza49NYh', '2ZIaH69kaz55RM4Pjx6KXl', '2ztzeB2k8jrwA6y8wCw7kk']\n",
      "ambient (611, album leaf)\n"
     ]
    },
    {
     "data": {
      "application/vnd.jupyter.widget-view+json": {
       "model_id": "39c2e23289b64ef582e8bf873c720a09",
       "version_major": 2,
       "version_minor": 0
      },
      "text/plain": [
       "HBox(children=(IntProgress(value=0, max=520141), HTML(value='')))"
      ]
     },
     "metadata": {},
     "output_type": "display_data"
    },
    {
     "name": "stdout",
     "output_type": "stream",
     "text": [
      "\n",
      "['5NdxiycRi3nP2v7RJoAJIT', '3cIG78oBauowzEbkBwWADN', '4AMeTATGlTyPaPCRzpvN47', '2GS6isvr1UVSIhvjBLX925', '5veFQvY6ooJ0rzjxO9cAkW', '4llDF3RuBQYj2nkjTCJY4w', '0vUKSQvNb3ntbuFy1h2r2O', '4Eo2MHTPX1YiVwVxOiLvXT']\n",
      "['5NdxiycRi3nP2v7RJoAJIT', '3cIG78oBauowzEbkBwWADN', '4AMeTATGlTyPaPCRzpvN47', '2GS6isvr1UVSIhvjBLX925', '5veFQvY6ooJ0rzjxO9cAkW', '4llDF3RuBQYj2nkjTCJY4w', '4Eo2MHTPX1YiVwVxOiLvXT', '0vUKSQvNb3ntbuFy1h2r2O']\n",
      "geeky (858, rush)\n"
     ]
    },
    {
     "data": {
      "application/vnd.jupyter.widget-view+json": {
       "model_id": "1aea252b4ee24b48979fd9e399928006",
       "version_major": 2,
       "version_minor": 0
      },
      "text/plain": [
       "HBox(children=(IntProgress(value=0, max=520141), HTML(value='')))"
      ]
     },
     "metadata": {},
     "output_type": "display_data"
    },
    {
     "name": "stdout",
     "output_type": "stream",
     "text": [
      "\n",
      "['4NsPgRYUdHu2Q5JRNgXYU5', '1TuopWDIuDi1553081zvuU', '2WpstnkNuH6dUnm3fVLCpU', '0d28khcov6AiegSCpG5TuT', '1OJxI8lIWRqBvouJxW1nzN', '6xwhCiWXREsAIQVZqHswVw', '0xeDaa5RD48c59YGHim78S', '6WGfFSAlpAmX9MkJISNE2z']\n",
      "['4NsPgRYUdHu2Q5JRNgXYU5', '1TuopWDIuDi1553081zvuU', '2WpstnkNuH6dUnm3fVLCpU', '0d28khcov6AiegSCpG5TuT', '1OJxI8lIWRqBvouJxW1nzN', '0xeDaa5RD48c59YGHim78S', '3kxfsdsCpFgN412fpnW85Y', '6xwhCiWXREsAIQVZqHswVw']\n",
      "hip hop (818, nas)\n"
     ]
    },
    {
     "data": {
      "application/vnd.jupyter.widget-view+json": {
       "model_id": "0ec7447c1f714b488dd9b1a9f47ed645",
       "version_major": 2,
       "version_minor": 0
      },
      "text/plain": [
       "HBox(children=(IntProgress(value=0, max=520141), HTML(value='')))"
      ]
     },
     "metadata": {},
     "output_type": "display_data"
    },
    {
     "name": "stdout",
     "output_type": "stream",
     "text": [
      "\n",
      "['6HZILIRieu8S0iqY8kIKhj', '5q6pg1kvXfT7z5MqG0KKSs', '119c93MHjrDLJTApCVGpvx', '0Puj4YlTm6xNzDDADXHMI9', '7KXjTSCq5nL1LoYtL7XAwS', '6CTG85NJI1Wm60pxTSRNwL', '67NoL59qSZbk6dzmxJPvU7', '59WN2psjkt1tyaxjspN8fp']\n",
      "['6HZILIRieu8S0iqY8kIKhj', '5q6pg1kvXfT7z5MqG0KKSs', '119c93MHjrDLJTApCVGpvx', '0Puj4YlTm6xNzDDADXHMI9', '7KXjTSCq5nL1LoYtL7XAwS', '6CTG85NJI1Wm60pxTSRNwL', '67NoL59qSZbk6dzmxJPvU7', '59WN2psjkt1tyaxjspN8fp']\n",
      "soundtracks (1219, hans zimmer)\n"
     ]
    },
    {
     "data": {
      "application/vnd.jupyter.widget-view+json": {
       "model_id": "ef41f8a0fb9844ce8d3b1ea1f299a761",
       "version_major": 2,
       "version_minor": 0
      },
      "text/plain": [
       "HBox(children=(IntProgress(value=0, max=520141), HTML(value='')))"
      ]
     },
     "metadata": {},
     "output_type": "display_data"
    },
    {
     "name": "stdout",
     "output_type": "stream",
     "text": [
      "\n",
      "['50CgC2wKmbWm4WLQKY87oP', '7fVnqLU7KEFJAXedeKafsa', '6ZFbXIJkuI1dVNWvzJzown', '2pnJ87yTVpkgtZh6Tq4vKh', '5hQGVKSgTsh7qaReZzVgtq', '3sdkizwy9pJJABWimxp6Hu', '1v0uVPU6BWcbog5BiWLWVa', '66LSGgGsvhqvnDP0inq4pw']\n",
      "['50CgC2wKmbWm4WLQKY87oP', '7fVnqLU7KEFJAXedeKafsa', '6ZFbXIJkuI1dVNWvzJzown', '2pnJ87yTVpkgtZh6Tq4vKh', '5hQGVKSgTsh7qaReZzVgtq', '3sdkizwy9pJJABWimxp6Hu', '18z7tK7u9DcDw85LYRR5Fe', '1v0uVPU6BWcbog5BiWLWVa']\n",
      "pop (1713, marshmello)\n"
     ]
    },
    {
     "data": {
      "application/vnd.jupyter.widget-view+json": {
       "model_id": "c5bc394d21d041518a5fe3e024a7c514",
       "version_major": 2,
       "version_minor": 0
      },
      "text/plain": [
       "HBox(children=(IntProgress(value=0, max=520141), HTML(value='')))"
      ]
     },
     "metadata": {},
     "output_type": "display_data"
    },
    {
     "name": "stdout",
     "output_type": "stream",
     "text": [
      "\n",
      "['6RUKPb4LETWmmr3iAEQktW', '2dpaYNEQHiRxtZbfNsse99', '3KkXRkHbMCARz0aVfEt68P', '0pqnGHJpmpxLKifKRmU6WP', '7BKLCZ1jbUBVqRi2FVlTVw', '7qiZfU4dY1lWllzX7mPBI3', '1zB4vmk8tFRmM9UULNzbLB', '7vGuf3Y35N4wmASOKLUVVU']\n",
      "['6RUKPb4LETWmmr3iAEQktW', '2dpaYNEQHiRxtZbfNsse99', '3KkXRkHbMCARz0aVfEt68P', '0pqnGHJpmpxLKifKRmU6WP', '7BKLCZ1jbUBVqRi2FVlTVw', '7qiZfU4dY1lWllzX7mPBI3', '1zB4vmk8tFRmM9UULNzbLB', '7vGuf3Y35N4wmASOKLUVVU']\n",
      "cyberpunk (1051, perturbator)\n"
     ]
    },
    {
     "data": {
      "application/vnd.jupyter.widget-view+json": {
       "model_id": "1b5f7602940a4d398ddc51516c75b015",
       "version_major": 2,
       "version_minor": 0
      },
      "text/plain": [
       "HBox(children=(IntProgress(value=0, max=520141), HTML(value='')))"
      ]
     },
     "metadata": {},
     "output_type": "display_data"
    },
    {
     "name": "stdout",
     "output_type": "stream",
     "text": [
      "\n",
      "['20ztml2STRF7Sq1UaBB6ox', '7oxnK2wg8qFv8EXyyxKDJ4', '69F2Y4CInUq7fgIsagg87r', '018SQDupRTRsl1Wolu1X0c', '1coJ1H1FiEZG93naXkOsNF', '67dA1a6OCUtLHgq9qdQ216', '10qbHF920zH5K8C8IcE5AL', '7kbLgu3ZU8wdigWyxtqOAB']\n",
      "['20ztml2STRF7Sq1UaBB6ox', '7oxnK2wg8qFv8EXyyxKDJ4', '69F2Y4CInUq7fgIsagg87r', '018SQDupRTRsl1Wolu1X0c', '1coJ1H1FiEZG93naXkOsNF', '67dA1a6OCUtLHgq9qdQ216', '7kbLgu3ZU8wdigWyxtqOAB', '10qbHF920zH5K8C8IcE5AL']\n",
      "chillhop (816, nujabes)\n"
     ]
    },
    {
     "data": {
      "application/vnd.jupyter.widget-view+json": {
       "model_id": "197faf592cb44c4c9022e87898af418c",
       "version_major": 2,
       "version_minor": 0
      },
      "text/plain": [
       "HBox(children=(IntProgress(value=0, max=520141), HTML(value='')))"
      ]
     },
     "metadata": {},
     "output_type": "display_data"
    },
    {
     "name": "stdout",
     "output_type": "stream",
     "text": [
      "\n",
      "['0thLhIqWsqqycEqFONOyhu', '1TuopWDIuDi1553081zvuU', '6O7qFEXmLQcOsV37wrgJDz', '3WS7spXVlbeC5kjePmHMQW', '53qU2K55RJgfs9F50irpB3', '2qC1sUo8xxRRqYsaYEdDuZ', '0hNduWmlWmEmuwEFcYvRu1', '2SPTGg9SC5MT1FwNX4IYfx']\n",
      "['0thLhIqWsqqycEqFONOyhu', '1TuopWDIuDi1553081zvuU', '6O7qFEXmLQcOsV37wrgJDz', '3WS7spXVlbeC5kjePmHMQW', '2qC1sUo8xxRRqYsaYEdDuZ', '53qU2K55RJgfs9F50irpB3', '0hNduWmlWmEmuwEFcYvRu1', '0kwBxSPK4vuQBfhlPGIutT']\n",
      "hard rock (837, metallica)\n"
     ]
    },
    {
     "data": {
      "application/vnd.jupyter.widget-view+json": {
       "model_id": "81751433dbfb4f4dab2135d4ae133f03",
       "version_major": 2,
       "version_minor": 0
      },
      "text/plain": [
       "HBox(children=(IntProgress(value=0, max=520141), HTML(value='')))"
      ]
     },
     "metadata": {},
     "output_type": "display_data"
    },
    {
     "name": "stdout",
     "output_type": "stream",
     "text": [
      "\n",
      "['1hKdDCpiI9mqz1jVHRKG0E', '57bgtoPSgt236HzfBOd8kj', '0bVtevEgtDIeRjCJbK3Lmv', '1AhDOtG9vPSOmsWgNW0BEY', '08mG3Y1vljYA6bvDt4Wqkj', '2zYzyRzz6pRmhPzyfMEC8s', '3ZFwuJwUpIl0GeXsvF1ELf', '6NwbeybX6TDtXlpXvnUOZC']\n",
      "['1hKdDCpiI9mqz1jVHRKG0E', '57bgtoPSgt236HzfBOd8kj', '0bVtevEgtDIeRjCJbK3Lmv', '1AhDOtG9vPSOmsWgNW0BEY', '08mG3Y1vljYA6bvDt4Wqkj', '3ZFwuJwUpIl0GeXsvF1ELf', '7o2CTH4ctstm8TNelqjb51', '2zYzyRzz6pRmhPzyfMEC8s']\n",
      "metal (805, slipknot)\n"
     ]
    },
    {
     "data": {
      "application/vnd.jupyter.widget-view+json": {
       "model_id": "9f5cc3d72fce407dbaf90c48fec771bc",
       "version_major": 2,
       "version_minor": 0
      },
      "text/plain": [
       "HBox(children=(IntProgress(value=0, max=520141), HTML(value='')))"
      ]
     },
     "metadata": {},
     "output_type": "display_data"
    },
    {
     "name": "stdout",
     "output_type": "stream",
     "text": [
      "\n",
      "['2MvIMgtWyK88OiPi0J8Dg3', '2DlHlPMa4M17kufBvI2lEN', '40rvBMQizxkIqnjPdEWY1v', '3cwDSDzTiWr5H5xMQhQ6Mx', '61mWefnWQOLf90gepjOCb3', '6wqJeItl3Vc3az4ZicSQAB', '0snQkGI5qnAmohLE7jTsTn', '0EYOdF5FCkgOJJla8DI2Md']\n",
      "['2MvIMgtWyK88OiPi0J8Dg3', '2DlHlPMa4M17kufBvI2lEN', '40rvBMQizxkIqnjPdEWY1v', '3cwDSDzTiWr5H5xMQhQ6Mx', '61mWefnWQOLf90gepjOCb3', '0snQkGI5qnAmohLE7jTsTn', '6W21LNLz9Sw7sUSNWMSHRu', '6wqJeItl3Vc3az4ZicSQAB']\n",
      "downtempo (1160, air)\n"
     ]
    },
    {
     "data": {
      "application/vnd.jupyter.widget-view+json": {
       "model_id": "433013f536c2463da4f1241534f856fd",
       "version_major": 2,
       "version_minor": 0
      },
      "text/plain": [
       "HBox(children=(IntProgress(value=0, max=520141), HTML(value='')))"
      ]
     },
     "metadata": {},
     "output_type": "display_data"
    },
    {
     "name": "stdout",
     "output_type": "stream",
     "text": [
      "\n",
      "['5Nn2Dj7OQsGL6pgQ9iIzPp', '7IuxuJBP6kwOOu1ShFzmR1', '6tEaLXZlN8b71vWV1SSsRf', '5ZrrXIYTvjXPKVQMjqaumR', '0lnfcWRREvnGtXPP2ZDeq7', '40UlFC0dIxv7lAEJaPZLnm', '56oUD9ZzgSSDFgvLHxoWyZ', '2C1nOw1nRxJaBWb9I1x05A']\n",
      "['5Nn2Dj7OQsGL6pgQ9iIzPp', '7IuxuJBP6kwOOu1ShFzmR1', '6tEaLXZlN8b71vWV1SSsRf', '5ZrrXIYTvjXPKVQMjqaumR', '0lnfcWRREvnGtXPP2ZDeq7', '40UlFC0dIxv7lAEJaPZLnm', '56oUD9ZzgSSDFgvLHxoWyZ', '2C1nOw1nRxJaBWb9I1x05A']\n",
      "house (2605, daft punk)\n"
     ]
    },
    {
     "data": {
      "application/vnd.jupyter.widget-view+json": {
       "model_id": "c993752acbad4bb5968694f3ebb71947",
       "version_major": 2,
       "version_minor": 0
      },
      "text/plain": [
       "HBox(children=(IntProgress(value=0, max=520141), HTML(value='')))"
      ]
     },
     "metadata": {},
     "output_type": "display_data"
    },
    {
     "name": "stdout",
     "output_type": "stream",
     "text": [
      "\n",
      "['2pnJ87yTVpkgtZh6Tq4vKh', '6yCNHyzseat7CeTbeGBNaa', '5VWVVSABdgccboSdrKGiZH', '5ZrrXIYTvjXPKVQMjqaumR', '08DBDmvEgY2ZTVMVH2A8lt', '72MoCPAnz0UljAVmwHHw3Y', '6c9EGVj5CaOeoKd9ecMW1U', '4ua0IepBEISCWwF8dTJvcU']\n",
      "['2pnJ87yTVpkgtZh6Tq4vKh', '6yCNHyzseat7CeTbeGBNaa', '5VWVVSABdgccboSdrKGiZH', '5ZrrXIYTvjXPKVQMjqaumR', '08DBDmvEgY2ZTVMVH2A8lt', '6c9EGVj5CaOeoKd9ecMW1U', '4ua0IepBEISCWwF8dTJvcU', '72MoCPAnz0UljAVmwHHw3Y']\n"
     ]
    }
   ],
   "source": [
    "genre_dict = dict()\n",
    "\n",
    "genre_list = artists.index.tolist()\n",
    "assert genre_list == playlists.index.tolist()\n",
    "\n",
    "artist_id_list = artists_df.index.tolist()\n",
    "\n",
    "for cur_genre in genre_list: \n",
    "    print(cur_genre)\n",
    "    \n",
    "    artist_scalars = artists.loc[cur_genre]\n",
    "    playlist_scalars = playlists.loc[cur_genre]\n",
    "    \n",
    "    cur_scores = []\n",
    "    \n",
    "    for cur_row in tqdm(tracks_df.itertuples(), total=len(tracks_df)):\n",
    "        if len(cur_row.track_playlists) == 0 :\n",
    "            cur_scores.append(0)\n",
    "            continue\n",
    "        \n",
    "        artist_scalar_list = []\n",
    "        \n",
    "        for track_artist in cur_row.track_artists:\n",
    "            if track_artist not in artist_id_list : continue   \n",
    "            artist_scalar_list.append(\n",
    "                artist_scalars[artists_df.name[track_artist]]\n",
    "            )\n",
    "            \n",
    "        if len(artist_scalar_list) == 0:\n",
    "            cur_scores.append(0)\n",
    "            continue\n",
    "            \n",
    "        cur_score = np.max(artist_scalar_list)\n",
    "\n",
    "        if cur_score < 1e-8 :\n",
    "            cur_scores.append(0)\n",
    "            continue\n",
    "            \n",
    "        followers_scalar = 1+np.log10(1+playlists_df.followers[cur_row.track_playlists])\n",
    "        \n",
    "        cur_score *= np.dot(\n",
    "            followers_scalar, playlist_scalars[cur_row.track_playlists]\n",
    "        )\n",
    "        \n",
    "        cur_scores.append(cur_score)\n",
    "\n",
    "    genre_tracks = tracks_df.loc[\n",
    "        [ tracks_df.index[i] for i in reversed(np.argsort(cur_scores)[-50000:]) ]\n",
    "    ]\n",
    "    \n",
    "    top_track_list = []\n",
    "    bot_track_list = []\n",
    "\n",
    "    top_artists = []\n",
    "    bot_artists = []\n",
    "    \n",
    "    track_times = []\n",
    "    track_dict = defaultdict(int)\n",
    "\n",
    "    for genre_track in genre_tracks.itertuples():\n",
    "        if np.sum(track_times) >= ( 4 * 3600000 ) : break \n",
    "\n",
    "        if genre_track.duration_ms < 120000 : continue\n",
    "        if genre_track.duration_ms > 720000 : continue\n",
    "\n",
    "        is_over_limit = False\n",
    "        for track_artist_id in genre_track.track_artists:\n",
    "            if track_dict[track_artist_id] < 3 : continue\n",
    "            is_over_limit = True\n",
    "\n",
    "        if is_over_limit : continue\n",
    "        for track_artist_id in genre_track.track_artists:\n",
    "            track_dict[track_artist_id] += 1\n",
    "\n",
    "        track_times.append(genre_track.duration_ms)\n",
    "\n",
    "        if len(top_track_list) >= 4:\n",
    "            bot_track_list.append(genre_track.Index)\n",
    "            bot_artists.append(genre_track.track_artists)\n",
    "            continue\n",
    "\n",
    "        has_artist = False\n",
    "        for track_artist_id in genre_track.track_artists:\n",
    "            if track_artist_id in flatten(top_artists):\n",
    "                has_artist = True\n",
    "                break\n",
    "\n",
    "        if has_artist:\n",
    "            bot_track_list.append(genre_track.Index)\n",
    "            bot_artists.append(genre_track.track_artists)\n",
    "            continue\n",
    "\n",
    "        top_track_list.append(genre_track.Index)\n",
    "        top_artists.append(genre_track.track_artists)\n",
    "\n",
    "    print(str(list(operator.concat(top_track_list, bot_track_list))[0:8]))\n",
    "    genre_dict[cur_genre] = reorder_list.reorder_by(\n",
    "        operator.concat(top_track_list, bot_track_list),\n",
    "        operator.concat(top_artists, bot_artists),\n",
    "    )\n",
    "    print(str(list(genre_dict[cur_genre])[0:8]))\n"
   ]
  },
  {
   "cell_type": "code",
   "execution_count": 14,
   "metadata": {},
   "outputs": [],
   "source": [
    "with open('genres.csv', 'w', newline='') as csvfile:\n",
    "    fieldnames = ['genre', 'tracks']\n",
    "    writer = csv.DictWriter(csvfile, fieldnames=fieldnames)\n",
    "\n",
    "    writer.writeheader()\n",
    "    for genre_name, genre_tracks in genre_dict.items():\n",
    "        writer.writerow({'genre': genre_name, 'tracks': genre_tracks})\n",
    "    "
   ]
  },
  {
   "cell_type": "code",
   "execution_count": null,
   "metadata": {},
   "outputs": [],
   "source": []
  },
  {
   "cell_type": "code",
   "execution_count": null,
   "metadata": {},
   "outputs": [],
   "source": []
  }
 ],
 "metadata": {
  "kernelspec": {
   "display_name": "Python 3",
   "language": "python",
   "name": "python3"
  },
  "language_info": {
   "codemirror_mode": {
    "name": "ipython",
    "version": 3
   },
   "file_extension": ".py",
   "mimetype": "text/x-python",
   "name": "python",
   "nbconvert_exporter": "python",
   "pygments_lexer": "ipython3",
   "version": "3.7.4"
  }
 },
 "nbformat": 4,
 "nbformat_minor": 2
}
